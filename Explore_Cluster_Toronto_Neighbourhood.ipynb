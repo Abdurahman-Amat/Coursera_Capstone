{
 "cells": [
  {
   "cell_type": "markdown",
   "metadata": {},
   "source": [
    "# Exploration and clustering of Totonto neighbourhoods  \n",
    "\n",
    "<h1>Table of contents</h1>\n",
    "\n",
    "<div class=\"alert alert-block alert-info\" style=\"margin-top: 20px\">\n",
    "    <ol>\n",
    "        <li><a href=\"#ref1\">Data Collection</a></li>\n",
    "        <li><a href=\"#ref2\">Data Exploration</a></li>\n",
    "        <li><a href=\"#ref3\">Clustering</a></li>\n",
    "    </ol>\n",
    "</div>\n",
    "<br>\n",
    "<hr>  \n",
    "\n",
    "<h2>\n",
    "<div class=\"alert alert-danger\"\" style=\"margin-top: 20px\">\n",
    "          If the map could NOT be opened, Please view the notebook via Jupyter nbviewer by <br> <a href=\"https://nbviewer.jupyter.org/github/Abdurahman-Amat/Coursera_Capstone/blob/master/Explore_Cluster_Toronto_Neighbourhood.ipynb\" target=\"_blank\">clicking here </a>, thank you!!!\n",
    "</div>\n",
    "</h2>\n"
   ]
  },
  {
   "cell_type": "markdown",
   "metadata": {},
   "source": [
    "<hr>"
   ]
  },
  {
   "cell_type": "markdown",
   "metadata": {},
   "source": [
    "<a id=\"ref1\"></a>\n",
    "# Data Collection  \n",
    "\n",
    "### Important necessary libraries to collect necessary dataset by doing web scraping and prepare the expected DataFrame"
   ]
  },
  {
   "cell_type": "code",
   "execution_count": 1,
   "metadata": {},
   "outputs": [
    {
     "name": "stdout",
     "output_type": "stream",
     "text": [
      "\n",
      "Libraries are imported.\n"
     ]
    }
   ],
   "source": [
    "import numpy as np\n",
    "from bs4 import BeautifulSoup\n",
    "import requests\n",
    "import pandas as pd\n",
    "import csv\n",
    "# Matplotlib and associated plotting modules\n",
    "import matplotlib.cm as cm\n",
    "import matplotlib.colors as colors\n",
    "#!pip install pgeocode\n",
    "import pgeocode\n",
    "from sty import fg, bg, ef, rs\n",
    "import folium # map rendering library\n",
    "# import k-means from clustering stage\n",
    "from sklearn.cluster import KMeans\n",
    "\n",
    "print('\\nLibraries are imported.')"
   ]
  },
  {
   "cell_type": "markdown",
   "metadata": {},
   "source": [
    "### Perform a little web scraping to get the data  \n",
    "I will use BeautifulSoup to scrape the given website,\n",
    "and save the scraped row data into a CSV file"
   ]
  },
  {
   "cell_type": "code",
   "execution_count": 2,
   "metadata": {},
   "outputs": [],
   "source": [
    "# To get source code of the website\n",
    "main_url = 'https://en.wikipedia.org/wiki/List_of_postal_codes_of_Canada:_M'\n",
    "r = requests.get(main_url)\n",
    "r.encoding = 'utf-8'\n",
    "soup = BeautifulSoup(r.text)\n",
    "# print(soup.prettify())\n",
    "# Noticed that expected information is located within 'table' tag\n",
    "# Therefore make my soup only with the table\n",
    "soup = soup.find('table')\n",
    "#\n",
    "# Open the CSV file\n",
    "csv_file = open('Toronto_Postcode_Borough_Neighbourhood.csv', 'w')\n",
    "# Create the CSV writer object to write contents into CSV file\n",
    "csv_writer = csv.writer(csv_file)\n",
    "for i, soup in enumerate(soup.find_all('tr')):\n",
    "    # print(soup.prettify())\n",
    "    soup_splitted = list(soup.stripped_strings)\n",
    "     # ignore those cells with 'Not assigned' entries for Borough\n",
    "    if soup_splitted[1]!='Not assigned':\n",
    "        # if 'Neighbourhood' is 'Not assigned', then assign the 'Borough' value to it\n",
    "        if soup_splitted[2]=='Not assigned':\n",
    "            csv_writer.writerow([soup_splitted[0], soup_splitted[1], soup_splitted[1]])\n",
    "        else:\n",
    "            csv_writer.writerow([soup_splitted[0], soup_splitted[1], soup_splitted[2]])\n",
    "    else:\n",
    "        pass\n",
    "# Close the CSV file\n",
    "csv_file.close()"
   ]
  },
  {
   "cell_type": "markdown",
   "metadata": {},
   "source": [
    "### Create the Pandas dataframe from above scraped row data"
   ]
  },
  {
   "cell_type": "code",
   "execution_count": 3,
   "metadata": {},
   "outputs": [
    {
     "data": {
      "text/html": [
       "<div>\n",
       "<style scoped>\n",
       "    .dataframe tbody tr th:only-of-type {\n",
       "        vertical-align: middle;\n",
       "    }\n",
       "\n",
       "    .dataframe tbody tr th {\n",
       "        vertical-align: top;\n",
       "    }\n",
       "\n",
       "    .dataframe thead th {\n",
       "        text-align: right;\n",
       "    }\n",
       "</style>\n",
       "<table border=\"1\" class=\"dataframe\">\n",
       "  <thead>\n",
       "    <tr style=\"text-align: right;\">\n",
       "      <th></th>\n",
       "      <th>Postcode</th>\n",
       "      <th>Borough</th>\n",
       "      <th>Neighbourhood</th>\n",
       "    </tr>\n",
       "  </thead>\n",
       "  <tbody>\n",
       "    <tr>\n",
       "      <th>0</th>\n",
       "      <td>M3A</td>\n",
       "      <td>North York</td>\n",
       "      <td>Parkwoods</td>\n",
       "    </tr>\n",
       "    <tr>\n",
       "      <th>1</th>\n",
       "      <td>M4A</td>\n",
       "      <td>North York</td>\n",
       "      <td>Victoria Village</td>\n",
       "    </tr>\n",
       "    <tr>\n",
       "      <th>2</th>\n",
       "      <td>M5A</td>\n",
       "      <td>Downtown Toronto</td>\n",
       "      <td>Harbourfront</td>\n",
       "    </tr>\n",
       "    <tr>\n",
       "      <th>3</th>\n",
       "      <td>M6A</td>\n",
       "      <td>North York</td>\n",
       "      <td>Lawrence Heights</td>\n",
       "    </tr>\n",
       "    <tr>\n",
       "      <th>4</th>\n",
       "      <td>M6A</td>\n",
       "      <td>North York</td>\n",
       "      <td>Lawrence Manor</td>\n",
       "    </tr>\n",
       "    <tr>\n",
       "      <th>5</th>\n",
       "      <td>M7A</td>\n",
       "      <td>Downtown Toronto</td>\n",
       "      <td>Queen's Park</td>\n",
       "    </tr>\n",
       "    <tr>\n",
       "      <th>6</th>\n",
       "      <td>M9A</td>\n",
       "      <td>Queen's Park</td>\n",
       "      <td>Queen's Park</td>\n",
       "    </tr>\n",
       "    <tr>\n",
       "      <th>7</th>\n",
       "      <td>M1B</td>\n",
       "      <td>Scarborough</td>\n",
       "      <td>Rouge</td>\n",
       "    </tr>\n",
       "    <tr>\n",
       "      <th>8</th>\n",
       "      <td>M1B</td>\n",
       "      <td>Scarborough</td>\n",
       "      <td>Malvern</td>\n",
       "    </tr>\n",
       "    <tr>\n",
       "      <th>9</th>\n",
       "      <td>M3B</td>\n",
       "      <td>North York</td>\n",
       "      <td>Don Mills North</td>\n",
       "    </tr>\n",
       "    <tr>\n",
       "      <th>10</th>\n",
       "      <td>M4B</td>\n",
       "      <td>East York</td>\n",
       "      <td>Woodbine Gardens</td>\n",
       "    </tr>\n",
       "    <tr>\n",
       "      <th>11</th>\n",
       "      <td>M4B</td>\n",
       "      <td>East York</td>\n",
       "      <td>Parkview Hill</td>\n",
       "    </tr>\n",
       "  </tbody>\n",
       "</table>\n",
       "</div>"
      ],
      "text/plain": [
       "   Postcode           Borough     Neighbourhood\n",
       "0       M3A        North York         Parkwoods\n",
       "1       M4A        North York  Victoria Village\n",
       "2       M5A  Downtown Toronto      Harbourfront\n",
       "3       M6A        North York  Lawrence Heights\n",
       "4       M6A        North York    Lawrence Manor\n",
       "5       M7A  Downtown Toronto      Queen's Park\n",
       "6       M9A      Queen's Park      Queen's Park\n",
       "7       M1B       Scarborough             Rouge\n",
       "8       M1B       Scarborough           Malvern\n",
       "9       M3B        North York   Don Mills North\n",
       "10      M4B         East York  Woodbine Gardens\n",
       "11      M4B         East York     Parkview Hill"
      ]
     },
     "execution_count": 3,
     "metadata": {},
     "output_type": "execute_result"
    }
   ],
   "source": [
    "# Define the dataframe from the above collected 'csv' file\n",
    "df = pd.read_csv('Toronto_Postcode_Borough_Neighbourhood.csv')\n",
    "# Look at first few entries\n",
    "df.head(12)"
   ]
  },
  {
   "cell_type": "markdown",
   "metadata": {},
   "source": [
    "Check how many entries we have"
   ]
  },
  {
   "cell_type": "code",
   "execution_count": 4,
   "metadata": {},
   "outputs": [
    {
     "data": {
      "text/plain": [
       "(210, 3)"
      ]
     },
     "execution_count": 4,
     "metadata": {},
     "output_type": "execute_result"
    }
   ],
   "source": [
    "df.shape"
   ]
  },
  {
   "cell_type": "code",
   "execution_count": 5,
   "metadata": {},
   "outputs": [
    {
     "data": {
      "text/html": [
       "<div>\n",
       "<style scoped>\n",
       "    .dataframe tbody tr th:only-of-type {\n",
       "        vertical-align: middle;\n",
       "    }\n",
       "\n",
       "    .dataframe tbody tr th {\n",
       "        vertical-align: top;\n",
       "    }\n",
       "\n",
       "    .dataframe thead th {\n",
       "        text-align: right;\n",
       "    }\n",
       "</style>\n",
       "<table border=\"1\" class=\"dataframe\">\n",
       "  <thead>\n",
       "    <tr style=\"text-align: right;\">\n",
       "      <th></th>\n",
       "      <th>Postcode</th>\n",
       "      <th>Borough</th>\n",
       "      <th>Neighbourhood</th>\n",
       "    </tr>\n",
       "  </thead>\n",
       "  <tbody>\n",
       "    <tr>\n",
       "      <th>2</th>\n",
       "      <td>M5A</td>\n",
       "      <td>Downtown Toronto</td>\n",
       "      <td>Harbourfront</td>\n",
       "    </tr>\n",
       "  </tbody>\n",
       "</table>\n",
       "</div>"
      ],
      "text/plain": [
       "  Postcode           Borough Neighbourhood\n",
       "2      M5A  Downtown Toronto  Harbourfront"
      ]
     },
     "execution_count": 5,
     "metadata": {},
     "output_type": "execute_result"
    }
   ],
   "source": [
    "df[df['Postcode']=='M5A']"
   ]
  },
  {
   "cell_type": "code",
   "execution_count": 6,
   "metadata": {},
   "outputs": [],
   "source": [
    "'''\n",
    "This function will emerge all Neighbourhoods for same Postcodes\n",
    "leav unchanged if there is no repeated Postcodes for Neighbourhoods\n",
    "'''\n",
    "def merge_Neighbourhoods(df):\n",
    "    # find repeated Postcode and number of occurances\n",
    "    unique, counts = np.unique(df.iloc[:, 0].values, return_counts=True)\n",
    "    print(f'There are {len(unique)} of unique Postcodes while {df.shape[0]} of Neighbourhoods.\\n So there are many Neighbourhoods are having the same Postcodes.')\n",
    "    # find the index of Postcodes which are occured more than once\n",
    "    repeat_index = np.argwhere(counts>1)\n",
    "    # Postcodes occured more than once\n",
    "    pc_list = unique[repeat_index][:,0]\n",
    "    Ent_list = []\n",
    "    # loop through all unique postal codes to check\n",
    "    # if there is any multiple neighbourhoods for the same postal code\n",
    "    # if so, then join them\n",
    "    for pc in unique: \n",
    "        df_pc = df[df['Postcode']==pc]\n",
    "        # If more than one neighbourhoods for same postal code\n",
    "        if pc in pc_list:\n",
    "            # Then join all neighbourhood names\n",
    "            df_pc_join = ', '.join(df_pc.iloc[:, 2].to_list())\n",
    "            entry = [df_pc.iloc[0, :3][0], df_pc.iloc[0, :3][1], df_pc_join]\n",
    "            Ent_list.append(entry)\n",
    "        # If single neighbourhood for the given postal code\n",
    "        else:\n",
    "            # Then everything is untouched\n",
    "            entry = [df_pc.iloc[0, :3][0], df_pc.iloc[0, :3][1], df_pc.iloc[0, :3][2]]\n",
    "            Ent_list.append(entry)\n",
    "    return Ent_list"
   ]
  },
  {
   "cell_type": "markdown",
   "metadata": {},
   "source": [
    "Apply above prepared function"
   ]
  },
  {
   "cell_type": "code",
   "execution_count": 7,
   "metadata": {},
   "outputs": [
    {
     "name": "stdout",
     "output_type": "stream",
     "text": [
      "There are 103 of unique Postcodes while 210 of Neighbourhoods.\n",
      " So there are many Neighbourhoods are having the same Postcodes.\n"
     ]
    }
   ],
   "source": [
    "new_data_list = merge_Neighbourhoods(df)"
   ]
  },
  {
   "cell_type": "markdown",
   "metadata": {},
   "source": [
    "Check if the function worked as expected"
   ]
  },
  {
   "cell_type": "code",
   "execution_count": 8,
   "metadata": {},
   "outputs": [
    {
     "data": {
      "text/plain": [
       "(103, 3)"
      ]
     },
     "execution_count": 8,
     "metadata": {},
     "output_type": "execute_result"
    }
   ],
   "source": [
    "np.shape(new_data_list)"
   ]
  },
  {
   "cell_type": "markdown",
   "metadata": {},
   "source": [
    "So, it seems the function has done his job  \n",
    "\n",
    "###  Now prepare wanted DataFrame"
   ]
  },
  {
   "cell_type": "code",
   "execution_count": 9,
   "metadata": {},
   "outputs": [],
   "source": [
    "new_df = pd.DataFrame(new_data_list, columns =['Postcode', 'Borough', 'Neighbourhood']) "
   ]
  },
  {
   "cell_type": "markdown",
   "metadata": {},
   "source": [
    "Check the data frame"
   ]
  },
  {
   "cell_type": "code",
   "execution_count": 10,
   "metadata": {},
   "outputs": [
    {
     "data": {
      "text/html": [
       "<div>\n",
       "<style scoped>\n",
       "    .dataframe tbody tr th:only-of-type {\n",
       "        vertical-align: middle;\n",
       "    }\n",
       "\n",
       "    .dataframe tbody tr th {\n",
       "        vertical-align: top;\n",
       "    }\n",
       "\n",
       "    .dataframe thead th {\n",
       "        text-align: right;\n",
       "    }\n",
       "</style>\n",
       "<table border=\"1\" class=\"dataframe\">\n",
       "  <thead>\n",
       "    <tr style=\"text-align: right;\">\n",
       "      <th></th>\n",
       "      <th>Postcode</th>\n",
       "      <th>Borough</th>\n",
       "      <th>Neighbourhood</th>\n",
       "    </tr>\n",
       "  </thead>\n",
       "  <tbody>\n",
       "    <tr>\n",
       "      <th>0</th>\n",
       "      <td>M1B</td>\n",
       "      <td>Scarborough</td>\n",
       "      <td>Rouge, Malvern</td>\n",
       "    </tr>\n",
       "    <tr>\n",
       "      <th>1</th>\n",
       "      <td>M1C</td>\n",
       "      <td>Scarborough</td>\n",
       "      <td>Highland Creek, Rouge Hill, Port Union</td>\n",
       "    </tr>\n",
       "    <tr>\n",
       "      <th>2</th>\n",
       "      <td>M1E</td>\n",
       "      <td>Scarborough</td>\n",
       "      <td>Guildwood, Morningside, West Hill</td>\n",
       "    </tr>\n",
       "    <tr>\n",
       "      <th>3</th>\n",
       "      <td>M1G</td>\n",
       "      <td>Scarborough</td>\n",
       "      <td>Woburn</td>\n",
       "    </tr>\n",
       "    <tr>\n",
       "      <th>4</th>\n",
       "      <td>M1H</td>\n",
       "      <td>Scarborough</td>\n",
       "      <td>Cedarbrae</td>\n",
       "    </tr>\n",
       "  </tbody>\n",
       "</table>\n",
       "</div>"
      ],
      "text/plain": [
       "  Postcode      Borough                           Neighbourhood\n",
       "0      M1B  Scarborough                          Rouge, Malvern\n",
       "1      M1C  Scarborough  Highland Creek, Rouge Hill, Port Union\n",
       "2      M1E  Scarborough       Guildwood, Morningside, West Hill\n",
       "3      M1G  Scarborough                                  Woburn\n",
       "4      M1H  Scarborough                               Cedarbrae"
      ]
     },
     "execution_count": 10,
     "metadata": {},
     "output_type": "execute_result"
    }
   ],
   "source": [
    "new_df.head()"
   ]
  },
  {
   "cell_type": "code",
   "execution_count": 11,
   "metadata": {},
   "outputs": [
    {
     "data": {
      "text/html": [
       "<div>\n",
       "<style scoped>\n",
       "    .dataframe tbody tr th:only-of-type {\n",
       "        vertical-align: middle;\n",
       "    }\n",
       "\n",
       "    .dataframe tbody tr th {\n",
       "        vertical-align: top;\n",
       "    }\n",
       "\n",
       "    .dataframe thead th {\n",
       "        text-align: right;\n",
       "    }\n",
       "</style>\n",
       "<table border=\"1\" class=\"dataframe\">\n",
       "  <thead>\n",
       "    <tr style=\"text-align: right;\">\n",
       "      <th></th>\n",
       "      <th>Postcode</th>\n",
       "      <th>Borough</th>\n",
       "      <th>Neighbourhood</th>\n",
       "    </tr>\n",
       "  </thead>\n",
       "  <tbody>\n",
       "    <tr>\n",
       "      <th>53</th>\n",
       "      <td>M5A</td>\n",
       "      <td>Downtown Toronto</td>\n",
       "      <td>Harbourfront</td>\n",
       "    </tr>\n",
       "  </tbody>\n",
       "</table>\n",
       "</div>"
      ],
      "text/plain": [
       "   Postcode           Borough Neighbourhood\n",
       "53      M5A  Downtown Toronto  Harbourfront"
      ]
     },
     "execution_count": 11,
     "metadata": {},
     "output_type": "execute_result"
    }
   ],
   "source": [
    "new_df[new_df['Postcode']=='M5A']"
   ]
  },
  {
   "cell_type": "markdown",
   "metadata": {},
   "source": [
    "### Shape of the dataset"
   ]
  },
  {
   "cell_type": "code",
   "execution_count": 12,
   "metadata": {},
   "outputs": [
    {
     "data": {
      "text/plain": [
       "(103, 3)"
      ]
     },
     "execution_count": 12,
     "metadata": {},
     "output_type": "execute_result"
    }
   ],
   "source": [
    "new_df.shape"
   ]
  },
  {
   "cell_type": "markdown",
   "metadata": {},
   "source": [
    "<hr>"
   ]
  },
  {
   "cell_type": "markdown",
   "metadata": {},
   "source": [
    "### Prepare the location dataset "
   ]
  },
  {
   "cell_type": "code",
   "execution_count": 13,
   "metadata": {},
   "outputs": [],
   "source": [
    "# #!pip install geocoder\n",
    "# import geocoder # import geocoder\n",
    "\n",
    "# # initialize your variable to None\n",
    "# lat_lng_coords = None\n",
    "\n",
    "# # loop until you get the coordinates\n",
    "# while(lat_lng_coords is None):\n",
    "#   g = geocoder.google('{}, Toronto, Ontario'.format('M1E'))\n",
    "#   lat_lng_coords = g.latlng\n",
    "\n",
    "# latitude = lat_lng_coords[0]\n",
    "# longitude = lat_lng_coords[1]\n",
    "# print(latitude, longitude)"
   ]
  },
  {
   "cell_type": "markdown",
   "metadata": {},
   "source": [
    "Above method to collect location data of Toronto Neighbourhoods didn't work even for waiting long time (few minutes).  "
   ]
  },
  {
   "cell_type": "markdown",
   "metadata": {},
   "source": [
    "### Then tried other method via the library **pgeocode**"
   ]
  },
  {
   "cell_type": "code",
   "execution_count": 14,
   "metadata": {},
   "outputs": [
    {
     "name": "stdout",
     "output_type": "stream",
     "text": [
      "Postcode is \u001b[31mM1B\u001b[39m, latitude is \u001b[31m43.81130\u001b[39m, longitude is \u001b[31m-79.19300\u001b[39m\n",
      "Postcode is \u001b[31mM1C\u001b[39m, latitude is \u001b[31m43.78780\u001b[39m, longitude is \u001b[31m-79.15640\u001b[39m\n",
      "Postcode is \u001b[31mM1E\u001b[39m, latitude is \u001b[31m43.76780\u001b[39m, longitude is \u001b[31m-79.18660\u001b[39m\n",
      "Postcode is \u001b[31mM1G\u001b[39m, latitude is \u001b[31m43.77120\u001b[39m, longitude is \u001b[31m-79.21440\u001b[39m\n",
      "Postcode is \u001b[31mM1H\u001b[39m, latitude is \u001b[31m43.76860\u001b[39m, longitude is \u001b[31m-79.23890\u001b[39m\n",
      "Postcode is \u001b[31mM1J\u001b[39m, latitude is \u001b[31m43.74640\u001b[39m, longitude is \u001b[31m-79.23230\u001b[39m\n",
      "Postcode is \u001b[31mM1K\u001b[39m, latitude is \u001b[31m43.72980\u001b[39m, longitude is \u001b[31m-79.26390\u001b[39m\n",
      "Postcode is \u001b[31mM1L\u001b[39m, latitude is \u001b[31m43.71220\u001b[39m, longitude is \u001b[31m-79.28430\u001b[39m\n",
      "Postcode is \u001b[31mM1M\u001b[39m, latitude is \u001b[31m43.72470\u001b[39m, longitude is \u001b[31m-79.23120\u001b[39m\n",
      "Postcode is \u001b[31mM1N\u001b[39m, latitude is \u001b[31m43.69520\u001b[39m, longitude is \u001b[31m-79.26460\u001b[39m\n",
      "Postcode is \u001b[31mM1P\u001b[39m, latitude is \u001b[31m43.76120\u001b[39m, longitude is \u001b[31m-79.27070\u001b[39m\n",
      "Postcode is \u001b[31mM1R\u001b[39m, latitude is \u001b[31m43.75070\u001b[39m, longitude is \u001b[31m-79.30030\u001b[39m\n",
      "Postcode is \u001b[31mM1S\u001b[39m, latitude is \u001b[31m43.79460\u001b[39m, longitude is \u001b[31m-79.26440\u001b[39m\n",
      "Postcode is \u001b[31mM1T\u001b[39m, latitude is \u001b[31m43.78120\u001b[39m, longitude is \u001b[31m-79.30360\u001b[39m\n",
      "Postcode is \u001b[31mM1V\u001b[39m, latitude is \u001b[31m43.81770\u001b[39m, longitude is \u001b[31m-79.28190\u001b[39m\n",
      "Postcode is \u001b[31mM1W\u001b[39m, latitude is \u001b[31m43.80160\u001b[39m, longitude is \u001b[31m-79.32160\u001b[39m\n",
      "Postcode is \u001b[31mM1X\u001b[39m, latitude is \u001b[31m43.83400\u001b[39m, longitude is \u001b[31m-79.20690\u001b[39m\n",
      "Postcode is \u001b[31mM2H\u001b[39m, latitude is \u001b[31m43.80150\u001b[39m, longitude is \u001b[31m-79.35770\u001b[39m\n",
      "Postcode is \u001b[31mM2J\u001b[39m, latitude is \u001b[31m43.78010\u001b[39m, longitude is \u001b[31m-79.34790\u001b[39m\n",
      "Postcode is \u001b[31mM2K\u001b[39m, latitude is \u001b[31m43.77970\u001b[39m, longitude is \u001b[31m-79.38130\u001b[39m\n",
      "Postcode is \u001b[31mM2L\u001b[39m, latitude is \u001b[31m43.75470\u001b[39m, longitude is \u001b[31m-79.37640\u001b[39m\n",
      "Postcode is \u001b[31mM2M\u001b[39m, latitude is \u001b[31m43.79150\u001b[39m, longitude is \u001b[31m-79.41030\u001b[39m\n",
      "Postcode is \u001b[31mM2N\u001b[39m, latitude is \u001b[31m43.76730\u001b[39m, longitude is \u001b[31m-79.41110\u001b[39m\n",
      "Postcode is \u001b[31mM2P\u001b[39m, latitude is \u001b[31m43.75000\u001b[39m, longitude is \u001b[31m-79.39780\u001b[39m\n",
      "Postcode is \u001b[31mM2R\u001b[39m, latitude is \u001b[31m43.77860\u001b[39m, longitude is \u001b[31m-79.44500\u001b[39m\n",
      "Postcode is \u001b[31mM3A\u001b[39m, latitude is \u001b[31m43.75450\u001b[39m, longitude is \u001b[31m-79.33000\u001b[39m\n",
      "Postcode is \u001b[31mM3B\u001b[39m, latitude is \u001b[31m43.74500\u001b[39m, longitude is \u001b[31m-79.35900\u001b[39m\n",
      "Postcode is \u001b[31mM3C\u001b[39m, latitude is \u001b[31m43.73340\u001b[39m, longitude is \u001b[31m-79.33290\u001b[39m\n",
      "Postcode is \u001b[31mM3H\u001b[39m, latitude is \u001b[31m43.75350\u001b[39m, longitude is \u001b[31m-79.44720\u001b[39m\n",
      "Postcode is \u001b[31mM3J\u001b[39m, latitude is \u001b[31m43.76940\u001b[39m, longitude is \u001b[31m-79.49210\u001b[39m\n",
      "Postcode is \u001b[31mM3K\u001b[39m, latitude is \u001b[31m43.73900\u001b[39m, longitude is \u001b[31m-79.46920\u001b[39m\n",
      "Postcode is \u001b[31mM3L\u001b[39m, latitude is \u001b[31m43.73340\u001b[39m, longitude is \u001b[31m-79.51160\u001b[39m\n",
      "Postcode is \u001b[31mM3M\u001b[39m, latitude is \u001b[31m43.73190\u001b[39m, longitude is \u001b[31m-79.49280\u001b[39m\n",
      "Postcode is \u001b[31mM3N\u001b[39m, latitude is \u001b[31m43.75680\u001b[39m, longitude is \u001b[31m-79.52100\u001b[39m\n",
      "Postcode is \u001b[31mM4A\u001b[39m, latitude is \u001b[31m43.72760\u001b[39m, longitude is \u001b[31m-79.31480\u001b[39m\n",
      "Postcode is \u001b[31mM4B\u001b[39m, latitude is \u001b[31m43.70630\u001b[39m, longitude is \u001b[31m-79.30940\u001b[39m\n",
      "Postcode is \u001b[31mM4C\u001b[39m, latitude is \u001b[31m43.69130\u001b[39m, longitude is \u001b[31m-79.31160\u001b[39m\n",
      "Postcode is \u001b[31mM4E\u001b[39m, latitude is \u001b[31m43.67840\u001b[39m, longitude is \u001b[31m-79.29410\u001b[39m\n",
      "Postcode is \u001b[31mM4G\u001b[39m, latitude is \u001b[31m43.71240\u001b[39m, longitude is \u001b[31m-79.36440\u001b[39m\n",
      "Postcode is \u001b[31mM4H\u001b[39m, latitude is \u001b[31m43.70590\u001b[39m, longitude is \u001b[31m-79.34640\u001b[39m\n",
      "Postcode is \u001b[31mM4J\u001b[39m, latitude is \u001b[31m43.68720\u001b[39m, longitude is \u001b[31m-79.33680\u001b[39m\n",
      "Postcode is \u001b[31mM4K\u001b[39m, latitude is \u001b[31m43.68030\u001b[39m, longitude is \u001b[31m-79.35380\u001b[39m\n",
      "Postcode is \u001b[31mM4L\u001b[39m, latitude is \u001b[31m43.66930\u001b[39m, longitude is \u001b[31m-79.31550\u001b[39m\n",
      "Postcode is \u001b[31mM4M\u001b[39m, latitude is \u001b[31m43.65610\u001b[39m, longitude is \u001b[31m-79.34060\u001b[39m\n",
      "Postcode is \u001b[31mM4N\u001b[39m, latitude is \u001b[31m43.73010\u001b[39m, longitude is \u001b[31m-79.39350\u001b[39m\n",
      "Postcode is \u001b[31mM4P\u001b[39m, latitude is \u001b[31m43.71350\u001b[39m, longitude is \u001b[31m-79.38870\u001b[39m\n",
      "Postcode is \u001b[31mM4R\u001b[39m, latitude is \u001b[31m43.71430\u001b[39m, longitude is \u001b[31m-79.40650\u001b[39m\n",
      "Postcode is \u001b[31mM4S\u001b[39m, latitude is \u001b[31m43.70200\u001b[39m, longitude is \u001b[31m-79.38530\u001b[39m\n",
      "Postcode is \u001b[31mM4T\u001b[39m, latitude is \u001b[31m43.68990\u001b[39m, longitude is \u001b[31m-79.38530\u001b[39m\n",
      "Postcode is \u001b[31mM4V\u001b[39m, latitude is \u001b[31m43.68610\u001b[39m, longitude is \u001b[31m-79.40250\u001b[39m\n",
      "Postcode is \u001b[31mM4W\u001b[39m, latitude is \u001b[31m43.68270\u001b[39m, longitude is \u001b[31m-79.37300\u001b[39m\n",
      "Postcode is \u001b[31mM4X\u001b[39m, latitude is \u001b[31m43.66840\u001b[39m, longitude is \u001b[31m-79.36890\u001b[39m\n",
      "Postcode is \u001b[31mM4Y\u001b[39m, latitude is \u001b[31m43.66560\u001b[39m, longitude is \u001b[31m-79.38300\u001b[39m\n",
      "Postcode is \u001b[31mM5A\u001b[39m, latitude is \u001b[31m43.65550\u001b[39m, longitude is \u001b[31m-79.36260\u001b[39m\n",
      "Postcode is \u001b[31mM5B\u001b[39m, latitude is \u001b[31m43.65720\u001b[39m, longitude is \u001b[31m-79.37830\u001b[39m\n",
      "Postcode is \u001b[31mM5C\u001b[39m, latitude is \u001b[31m43.65130\u001b[39m, longitude is \u001b[31m-79.37560\u001b[39m\n",
      "Postcode is \u001b[31mM5E\u001b[39m, latitude is \u001b[31m43.64560\u001b[39m, longitude is \u001b[31m-79.37540\u001b[39m\n",
      "Postcode is \u001b[31mM5G\u001b[39m, latitude is \u001b[31m43.65640\u001b[39m, longitude is \u001b[31m-79.38600\u001b[39m\n",
      "Postcode is \u001b[31mM5H\u001b[39m, latitude is \u001b[31m43.64960\u001b[39m, longitude is \u001b[31m-79.38330\u001b[39m\n",
      "Postcode is \u001b[31mM5J\u001b[39m, latitude is \u001b[31m43.62300\u001b[39m, longitude is \u001b[31m-79.39360\u001b[39m\n",
      "Postcode is \u001b[31mM5K\u001b[39m, latitude is \u001b[31m43.64690\u001b[39m, longitude is \u001b[31m-79.38230\u001b[39m\n",
      "Postcode is \u001b[31mM5L\u001b[39m, latitude is \u001b[31m43.64920\u001b[39m, longitude is \u001b[31m-79.38230\u001b[39m\n",
      "Postcode is \u001b[31mM5M\u001b[39m, latitude is \u001b[31m43.73350\u001b[39m, longitude is \u001b[31m-79.41770\u001b[39m\n",
      "Postcode is \u001b[31mM5N\u001b[39m, latitude is \u001b[31m43.71130\u001b[39m, longitude is \u001b[31m-79.41950\u001b[39m\n",
      "Postcode is \u001b[31mM5P\u001b[39m, latitude is \u001b[31m43.69660\u001b[39m, longitude is \u001b[31m-79.41200\u001b[39m\n",
      "Postcode is \u001b[31mM5R\u001b[39m, latitude is \u001b[31m43.67360\u001b[39m, longitude is \u001b[31m-79.40350\u001b[39m\n",
      "Postcode is \u001b[31mM5S\u001b[39m, latitude is \u001b[31m43.66290\u001b[39m, longitude is \u001b[31m-79.39870\u001b[39m\n",
      "Postcode is \u001b[31mM5T\u001b[39m, latitude is \u001b[31m43.65410\u001b[39m, longitude is \u001b[31m-79.39780\u001b[39m\n",
      "Postcode is \u001b[31mM5V\u001b[39m, latitude is \u001b[31m43.64040\u001b[39m, longitude is \u001b[31m-79.39950\u001b[39m\n",
      "Postcode is \u001b[31mM5W\u001b[39m, latitude is \u001b[31m43.64370\u001b[39m, longitude is \u001b[31m-79.37870\u001b[39m\n",
      "Postcode is \u001b[31mM5X\u001b[39m, latitude is \u001b[31m43.64920\u001b[39m, longitude is \u001b[31m-79.38230\u001b[39m\n",
      "Postcode is \u001b[31mM6A\u001b[39m, latitude is \u001b[31m43.72230\u001b[39m, longitude is \u001b[31m-79.45040\u001b[39m\n",
      "Postcode is \u001b[31mM6B\u001b[39m, latitude is \u001b[31m43.70810\u001b[39m, longitude is \u001b[31m-79.44790\u001b[39m\n",
      "Postcode is \u001b[31mM6C\u001b[39m, latitude is \u001b[31m43.69150\u001b[39m, longitude is \u001b[31m-79.43070\u001b[39m\n",
      "Postcode is \u001b[31mM6E\u001b[39m, latitude is \u001b[31m43.68890\u001b[39m, longitude is \u001b[31m-79.45070\u001b[39m\n",
      "Postcode is \u001b[31mM6G\u001b[39m, latitude is \u001b[31m43.66830\u001b[39m, longitude is \u001b[31m-79.42050\u001b[39m\n",
      "Postcode is \u001b[31mM6H\u001b[39m, latitude is \u001b[31m43.66550\u001b[39m, longitude is \u001b[31m-79.43780\u001b[39m\n",
      "Postcode is \u001b[31mM6J\u001b[39m, latitude is \u001b[31m43.64800\u001b[39m, longitude is \u001b[31m-79.41770\u001b[39m\n",
      "Postcode is \u001b[31mM6K\u001b[39m, latitude is \u001b[31m43.63830\u001b[39m, longitude is \u001b[31m-79.43010\u001b[39m\n",
      "Postcode is \u001b[31mM6L\u001b[39m, latitude is \u001b[31m43.71370\u001b[39m, longitude is \u001b[31m-79.48690\u001b[39m\n",
      "Postcode is \u001b[31mM6M\u001b[39m, latitude is \u001b[31m43.69340\u001b[39m, longitude is \u001b[31m-79.48570\u001b[39m\n",
      "Postcode is \u001b[31mM6N\u001b[39m, latitude is \u001b[31m43.67480\u001b[39m, longitude is \u001b[31m-79.48390\u001b[39m\n",
      "Postcode is \u001b[31mM6P\u001b[39m, latitude is \u001b[31m43.66050\u001b[39m, longitude is \u001b[31m-79.46330\u001b[39m\n",
      "Postcode is \u001b[31mM6R\u001b[39m, latitude is \u001b[31m43.64690\u001b[39m, longitude is \u001b[31m-79.45210\u001b[39m\n",
      "Postcode is \u001b[31mM6S\u001b[39m, latitude is \u001b[31m43.65120\u001b[39m, longitude is \u001b[31m-79.48280\u001b[39m\n",
      "Postcode is \u001b[31mM7A\u001b[39m, latitude is \u001b[31m43.66410\u001b[39m, longitude is \u001b[31m-79.38890\u001b[39m\n",
      "Postcode is \u001b[31mM7R\u001b[39m, latitude is \u001b[31mnan\u001b[39m, longitude is \u001b[31mnan\u001b[39m\n",
      "Postcode is \u001b[31mM7Y\u001b[39m, latitude is \u001b[31m43.78040\u001b[39m, longitude is \u001b[31m-79.25050\u001b[39m\n",
      "Postcode is \u001b[31mM8V\u001b[39m, latitude is \u001b[31m43.60750\u001b[39m, longitude is \u001b[31m-79.50130\u001b[39m\n",
      "Postcode is \u001b[31mM8W\u001b[39m, latitude is \u001b[31m43.60210\u001b[39m, longitude is \u001b[31m-79.54020\u001b[39m\n",
      "Postcode is \u001b[31mM8X\u001b[39m, latitude is \u001b[31m43.65180\u001b[39m, longitude is \u001b[31m-79.50760\u001b[39m\n",
      "Postcode is \u001b[31mM8Y\u001b[39m, latitude is \u001b[31m43.63250\u001b[39m, longitude is \u001b[31m-79.49390\u001b[39m\n",
      "Postcode is \u001b[31mM8Z\u001b[39m, latitude is \u001b[31m43.62560\u001b[39m, longitude is \u001b[31m-79.52310\u001b[39m\n",
      "Postcode is \u001b[31mM9A\u001b[39m, latitude is \u001b[31m43.66620\u001b[39m, longitude is \u001b[31m-79.52820\u001b[39m\n",
      "Postcode is \u001b[31mM9B\u001b[39m, latitude is \u001b[31m43.65050\u001b[39m, longitude is \u001b[31m-79.55170\u001b[39m\n",
      "Postcode is \u001b[31mM9C\u001b[39m, latitude is \u001b[31m43.64370\u001b[39m, longitude is \u001b[31m-79.57670\u001b[39m\n",
      "Postcode is \u001b[31mM9L\u001b[39m, latitude is \u001b[31m43.75980\u001b[39m, longitude is \u001b[31m-79.55650\u001b[39m\n",
      "Postcode is \u001b[31mM9M\u001b[39m, latitude is \u001b[31m43.73660\u001b[39m, longitude is \u001b[31m-79.54010\u001b[39m\n",
      "Postcode is \u001b[31mM9N\u001b[39m, latitude is \u001b[31m43.70680\u001b[39m, longitude is \u001b[31m-79.51700\u001b[39m\n",
      "Postcode is \u001b[31mM9P\u001b[39m, latitude is \u001b[31m43.69490\u001b[39m, longitude is \u001b[31m-79.53230\u001b[39m\n",
      "Postcode is \u001b[31mM9R\u001b[39m, latitude is \u001b[31m43.68980\u001b[39m, longitude is \u001b[31m-79.55820\u001b[39m\n",
      "Postcode is \u001b[31mM9V\u001b[39m, latitude is \u001b[31m43.74320\u001b[39m, longitude is \u001b[31m-79.58760\u001b[39m\n",
      "Postcode is \u001b[31mM9W\u001b[39m, latitude is \u001b[31m43.71440\u001b[39m, longitude is \u001b[31m-79.59090\u001b[39m\n"
     ]
    }
   ],
   "source": [
    "nomi = pgeocode.Nominatim('ca') # 'ca' for Canada\n",
    "for p_code in new_df['Postcode']: # for all Neighbourhoods by their postal codes\n",
    "    locinfo = nomi.query_postal_code(p_code)\n",
    "    #!pip install sty # umcomment when sty is not already installed\n",
    "    print(f'Postcode is '+fg.red + f'{p_code}' + fg.rs+', latitude is '+fg.red + f'{locinfo[9]:.5f}' + fg.rs+', longitude is '+fg.red + f'{locinfo[10]:.5f}' + fg.rs)"
   ]
  },
  {
   "cell_type": "markdown",
   "metadata": {},
   "source": [
    "It is very fast and correct as given in the additional location data 'Geospatial_Coordinates.csv',  \n",
    "However, it could not found latitude and longitude for the neighbourhood with postcode 'M7R'. In addition to this,  \n",
    "the location data has different precisions, e.g , both latitude and longitude in provided location data table have upto six digit of precision while the queried data via **pgeocode** have only upto 4 digits and most of the location data were different after the first or second digits.  *Therefore I wanna use the provided location table.*"
   ]
  },
  {
   "cell_type": "markdown",
   "metadata": {},
   "source": [
    "### Load the provided location data and read it into Pandas DataFrame"
   ]
  },
  {
   "cell_type": "code",
   "execution_count": 15,
   "metadata": {},
   "outputs": [
    {
     "data": {
      "text/html": [
       "<div>\n",
       "<style scoped>\n",
       "    .dataframe tbody tr th:only-of-type {\n",
       "        vertical-align: middle;\n",
       "    }\n",
       "\n",
       "    .dataframe tbody tr th {\n",
       "        vertical-align: top;\n",
       "    }\n",
       "\n",
       "    .dataframe thead th {\n",
       "        text-align: right;\n",
       "    }\n",
       "</style>\n",
       "<table border=\"1\" class=\"dataframe\">\n",
       "  <thead>\n",
       "    <tr style=\"text-align: right;\">\n",
       "      <th></th>\n",
       "      <th>Postal Code</th>\n",
       "      <th>Latitude</th>\n",
       "      <th>Longitude</th>\n",
       "    </tr>\n",
       "  </thead>\n",
       "  <tbody>\n",
       "    <tr>\n",
       "      <th>0</th>\n",
       "      <td>M1B</td>\n",
       "      <td>43.806686</td>\n",
       "      <td>-79.194353</td>\n",
       "    </tr>\n",
       "    <tr>\n",
       "      <th>1</th>\n",
       "      <td>M1C</td>\n",
       "      <td>43.784535</td>\n",
       "      <td>-79.160497</td>\n",
       "    </tr>\n",
       "    <tr>\n",
       "      <th>2</th>\n",
       "      <td>M1E</td>\n",
       "      <td>43.763573</td>\n",
       "      <td>-79.188711</td>\n",
       "    </tr>\n",
       "    <tr>\n",
       "      <th>3</th>\n",
       "      <td>M1G</td>\n",
       "      <td>43.770992</td>\n",
       "      <td>-79.216917</td>\n",
       "    </tr>\n",
       "    <tr>\n",
       "      <th>4</th>\n",
       "      <td>M1H</td>\n",
       "      <td>43.773136</td>\n",
       "      <td>-79.239476</td>\n",
       "    </tr>\n",
       "  </tbody>\n",
       "</table>\n",
       "</div>"
      ],
      "text/plain": [
       "  Postal Code   Latitude  Longitude\n",
       "0         M1B  43.806686 -79.194353\n",
       "1         M1C  43.784535 -79.160497\n",
       "2         M1E  43.763573 -79.188711\n",
       "3         M1G  43.770992 -79.216917\n",
       "4         M1H  43.773136 -79.239476"
      ]
     },
     "execution_count": 15,
     "metadata": {},
     "output_type": "execute_result"
    }
   ],
   "source": [
    "loc_df = pd.read_csv(r'C:\\pythonwork\\data\\Geospatial_Coordinates.csv')\n",
    "loc_df.head()"
   ]
  },
  {
   "cell_type": "code",
   "execution_count": 16,
   "metadata": {},
   "outputs": [
    {
     "data": {
      "text/plain": [
       "(103, 3)"
      ]
     },
     "execution_count": 16,
     "metadata": {},
     "output_type": "execute_result"
    }
   ],
   "source": [
    "# check if we have the full location info\n",
    "loc_df.shape "
   ]
  },
  {
   "cell_type": "code",
   "execution_count": 17,
   "metadata": {},
   "outputs": [
    {
     "data": {
      "text/plain": [
       "Postal Code    0\n",
       "Latitude       0\n",
       "Longitude      0\n",
       "dtype: int64"
      ]
     },
     "execution_count": 17,
     "metadata": {},
     "output_type": "execute_result"
    }
   ],
   "source": [
    "# just to quick ckeck to make sure there is no missing values which may couse errors\n",
    "# in upcomming procedures of this project\n",
    "loc_df.isna().sum()"
   ]
  },
  {
   "cell_type": "markdown",
   "metadata": {},
   "source": [
    "There is no missing values, that is good."
   ]
  },
  {
   "cell_type": "code",
   "execution_count": 18,
   "metadata": {},
   "outputs": [],
   "source": [
    "# Rename the column to make it easier to merge this location data with above neighbourhood data\n",
    "loc_df.rename(columns={\"Postal Code\":\"Postcode\"}, inplace=True)"
   ]
  },
  {
   "cell_type": "code",
   "execution_count": 19,
   "metadata": {},
   "outputs": [
    {
     "data": {
      "text/html": [
       "<div>\n",
       "<style scoped>\n",
       "    .dataframe tbody tr th:only-of-type {\n",
       "        vertical-align: middle;\n",
       "    }\n",
       "\n",
       "    .dataframe tbody tr th {\n",
       "        vertical-align: top;\n",
       "    }\n",
       "\n",
       "    .dataframe thead th {\n",
       "        text-align: right;\n",
       "    }\n",
       "</style>\n",
       "<table border=\"1\" class=\"dataframe\">\n",
       "  <thead>\n",
       "    <tr style=\"text-align: right;\">\n",
       "      <th></th>\n",
       "      <th>Postcode</th>\n",
       "      <th>Latitude</th>\n",
       "      <th>Longitude</th>\n",
       "    </tr>\n",
       "  </thead>\n",
       "  <tbody>\n",
       "    <tr>\n",
       "      <th>0</th>\n",
       "      <td>M1B</td>\n",
       "      <td>43.806686</td>\n",
       "      <td>-79.194353</td>\n",
       "    </tr>\n",
       "    <tr>\n",
       "      <th>1</th>\n",
       "      <td>M1C</td>\n",
       "      <td>43.784535</td>\n",
       "      <td>-79.160497</td>\n",
       "    </tr>\n",
       "    <tr>\n",
       "      <th>2</th>\n",
       "      <td>M1E</td>\n",
       "      <td>43.763573</td>\n",
       "      <td>-79.188711</td>\n",
       "    </tr>\n",
       "    <tr>\n",
       "      <th>3</th>\n",
       "      <td>M1G</td>\n",
       "      <td>43.770992</td>\n",
       "      <td>-79.216917</td>\n",
       "    </tr>\n",
       "    <tr>\n",
       "      <th>4</th>\n",
       "      <td>M1H</td>\n",
       "      <td>43.773136</td>\n",
       "      <td>-79.239476</td>\n",
       "    </tr>\n",
       "  </tbody>\n",
       "</table>\n",
       "</div>"
      ],
      "text/plain": [
       "  Postcode   Latitude  Longitude\n",
       "0      M1B  43.806686 -79.194353\n",
       "1      M1C  43.784535 -79.160497\n",
       "2      M1E  43.763573 -79.188711\n",
       "3      M1G  43.770992 -79.216917\n",
       "4      M1H  43.773136 -79.239476"
      ]
     },
     "execution_count": 19,
     "metadata": {},
     "output_type": "execute_result"
    }
   ],
   "source": [
    "loc_df.head()"
   ]
  },
  {
   "cell_type": "markdown",
   "metadata": {},
   "source": [
    " Merge above two datasets to get expected dataset"
   ]
  },
  {
   "cell_type": "code",
   "execution_count": 20,
   "metadata": {},
   "outputs": [
    {
     "data": {
      "text/html": [
       "<div>\n",
       "<style scoped>\n",
       "    .dataframe tbody tr th:only-of-type {\n",
       "        vertical-align: middle;\n",
       "    }\n",
       "\n",
       "    .dataframe tbody tr th {\n",
       "        vertical-align: top;\n",
       "    }\n",
       "\n",
       "    .dataframe thead th {\n",
       "        text-align: right;\n",
       "    }\n",
       "</style>\n",
       "<table border=\"1\" class=\"dataframe\">\n",
       "  <thead>\n",
       "    <tr style=\"text-align: right;\">\n",
       "      <th></th>\n",
       "      <th>Postcode</th>\n",
       "      <th>Borough</th>\n",
       "      <th>Neighbourhood</th>\n",
       "      <th>Latitude</th>\n",
       "      <th>Longitude</th>\n",
       "    </tr>\n",
       "  </thead>\n",
       "  <tbody>\n",
       "    <tr>\n",
       "      <th>0</th>\n",
       "      <td>M1B</td>\n",
       "      <td>Scarborough</td>\n",
       "      <td>Rouge, Malvern</td>\n",
       "      <td>43.806686</td>\n",
       "      <td>-79.194353</td>\n",
       "    </tr>\n",
       "    <tr>\n",
       "      <th>1</th>\n",
       "      <td>M1C</td>\n",
       "      <td>Scarborough</td>\n",
       "      <td>Highland Creek, Rouge Hill, Port Union</td>\n",
       "      <td>43.784535</td>\n",
       "      <td>-79.160497</td>\n",
       "    </tr>\n",
       "    <tr>\n",
       "      <th>2</th>\n",
       "      <td>M1E</td>\n",
       "      <td>Scarborough</td>\n",
       "      <td>Guildwood, Morningside, West Hill</td>\n",
       "      <td>43.763573</td>\n",
       "      <td>-79.188711</td>\n",
       "    </tr>\n",
       "    <tr>\n",
       "      <th>3</th>\n",
       "      <td>M1G</td>\n",
       "      <td>Scarborough</td>\n",
       "      <td>Woburn</td>\n",
       "      <td>43.770992</td>\n",
       "      <td>-79.216917</td>\n",
       "    </tr>\n",
       "    <tr>\n",
       "      <th>4</th>\n",
       "      <td>M1H</td>\n",
       "      <td>Scarborough</td>\n",
       "      <td>Cedarbrae</td>\n",
       "      <td>43.773136</td>\n",
       "      <td>-79.239476</td>\n",
       "    </tr>\n",
       "    <tr>\n",
       "      <th>5</th>\n",
       "      <td>M1J</td>\n",
       "      <td>Scarborough</td>\n",
       "      <td>Scarborough Village</td>\n",
       "      <td>43.744734</td>\n",
       "      <td>-79.239476</td>\n",
       "    </tr>\n",
       "    <tr>\n",
       "      <th>6</th>\n",
       "      <td>M1K</td>\n",
       "      <td>Scarborough</td>\n",
       "      <td>East Birchmount Park, Ionview, Kennedy Park</td>\n",
       "      <td>43.727929</td>\n",
       "      <td>-79.262029</td>\n",
       "    </tr>\n",
       "    <tr>\n",
       "      <th>7</th>\n",
       "      <td>M1L</td>\n",
       "      <td>Scarborough</td>\n",
       "      <td>Clairlea, Golden Mile, Oakridge</td>\n",
       "      <td>43.711112</td>\n",
       "      <td>-79.284577</td>\n",
       "    </tr>\n",
       "    <tr>\n",
       "      <th>8</th>\n",
       "      <td>M1M</td>\n",
       "      <td>Scarborough</td>\n",
       "      <td>Cliffcrest, Cliffside, Scarborough Village West</td>\n",
       "      <td>43.716316</td>\n",
       "      <td>-79.239476</td>\n",
       "    </tr>\n",
       "    <tr>\n",
       "      <th>9</th>\n",
       "      <td>M1N</td>\n",
       "      <td>Scarborough</td>\n",
       "      <td>Birch Cliff, Cliffside West</td>\n",
       "      <td>43.692657</td>\n",
       "      <td>-79.264848</td>\n",
       "    </tr>\n",
       "  </tbody>\n",
       "</table>\n",
       "</div>"
      ],
      "text/plain": [
       "  Postcode      Borough                                    Neighbourhood  \\\n",
       "0      M1B  Scarborough                                   Rouge, Malvern   \n",
       "1      M1C  Scarborough           Highland Creek, Rouge Hill, Port Union   \n",
       "2      M1E  Scarborough                Guildwood, Morningside, West Hill   \n",
       "3      M1G  Scarborough                                           Woburn   \n",
       "4      M1H  Scarborough                                        Cedarbrae   \n",
       "5      M1J  Scarborough                              Scarborough Village   \n",
       "6      M1K  Scarborough      East Birchmount Park, Ionview, Kennedy Park   \n",
       "7      M1L  Scarborough                  Clairlea, Golden Mile, Oakridge   \n",
       "8      M1M  Scarborough  Cliffcrest, Cliffside, Scarborough Village West   \n",
       "9      M1N  Scarborough                      Birch Cliff, Cliffside West   \n",
       "\n",
       "    Latitude  Longitude  \n",
       "0  43.806686 -79.194353  \n",
       "1  43.784535 -79.160497  \n",
       "2  43.763573 -79.188711  \n",
       "3  43.770992 -79.216917  \n",
       "4  43.773136 -79.239476  \n",
       "5  43.744734 -79.239476  \n",
       "6  43.727929 -79.262029  \n",
       "7  43.711112 -79.284577  \n",
       "8  43.716316 -79.239476  \n",
       "9  43.692657 -79.264848  "
      ]
     },
     "execution_count": 20,
     "metadata": {},
     "output_type": "execute_result"
    }
   ],
   "source": [
    "neigh_loc_df = pd.merge(new_df, loc_df, on='Postcode')\n",
    "neigh_loc_df.head(10)"
   ]
  },
  {
   "cell_type": "markdown",
   "metadata": {},
   "source": [
    "Check the dataset again to make sure the merging is done correctly as expected."
   ]
  },
  {
   "cell_type": "code",
   "execution_count": 21,
   "metadata": {},
   "outputs": [
    {
     "data": {
      "text/plain": [
       "(103, 5)"
      ]
     },
     "execution_count": 21,
     "metadata": {},
     "output_type": "execute_result"
    }
   ],
   "source": [
    "neigh_loc_df.shape"
   ]
  },
  {
   "cell_type": "markdown",
   "metadata": {},
   "source": [
    "### So, it seems everything went well."
   ]
  },
  {
   "cell_type": "markdown",
   "metadata": {},
   "source": [
    "<hr>  \n",
    "\n",
    "<a id=\"ref2\"></a>\n",
    "# Data Exploration  "
   ]
  },
  {
   "cell_type": "markdown",
   "metadata": {},
   "source": [
    "Look at how many Boroughs in the dataset"
   ]
  },
  {
   "cell_type": "code",
   "execution_count": 22,
   "metadata": {},
   "outputs": [
    {
     "name": "stdout",
     "output_type": "stream",
     "text": [
      "The dataframe has 11 boroughs and 103 neighborhoods.\n"
     ]
    }
   ],
   "source": [
    "print('The dataframe has {} boroughs and {} neighborhoods.'.format(\n",
    "        len(neigh_loc_df['Borough'].unique()),\n",
    "        neigh_loc_df.shape[0]\n",
    "    )\n",
    ")"
   ]
  },
  {
   "cell_type": "markdown",
   "metadata": {},
   "source": [
    "Check look at Borough column and filter those which has the word Toronto in Borough names. "
   ]
  },
  {
   "cell_type": "code",
   "execution_count": 23,
   "metadata": {},
   "outputs": [
    {
     "name": "stdout",
     "output_type": "stream",
     "text": [
      "['Scarborough' 'North York' 'East York' 'East Toronto' 'Central Toronto'\n",
      " 'Downtown Toronto' 'York' 'West Toronto' 'Mississauga' 'Etobicoke'\n",
      " \"Queen's Park\"]\n"
     ]
    }
   ],
   "source": [
    "unique_boroughs = neigh_loc_df['Borough'].unique()\n",
    "# unique Boroughs are\n",
    "print(unique_boroughs)"
   ]
  },
  {
   "cell_type": "code",
   "execution_count": 24,
   "metadata": {},
   "outputs": [
    {
     "name": "stdout",
     "output_type": "stream",
     "text": [
      "Boroughs with the word Toronto are : ['East Toronto', 'Central Toronto', 'Downtown Toronto', 'West Toronto']\n"
     ]
    }
   ],
   "source": [
    "b_Toronto = []\n",
    "for b in unique_boroughs:\n",
    "    if len(b.split(' '))>1:\n",
    "        if 'Toronto' in b.split(' '):\n",
    "            b_Toronto.append(b)\n",
    "        else:\n",
    "            pass\n",
    "    else:\n",
    "        pass\n",
    "print(f'Boroughs with the word Toronto are : {b_Toronto}')"
   ]
  },
  {
   "cell_type": "code",
   "execution_count": 25,
   "metadata": {},
   "outputs": [],
   "source": [
    "filter_Toronto = neigh_loc_df['Borough'].isin(b_Toronto)"
   ]
  },
  {
   "cell_type": "code",
   "execution_count": 26,
   "metadata": {},
   "outputs": [
    {
     "data": {
      "text/html": [
       "<div>\n",
       "<style scoped>\n",
       "    .dataframe tbody tr th:only-of-type {\n",
       "        vertical-align: middle;\n",
       "    }\n",
       "\n",
       "    .dataframe tbody tr th {\n",
       "        vertical-align: top;\n",
       "    }\n",
       "\n",
       "    .dataframe thead th {\n",
       "        text-align: right;\n",
       "    }\n",
       "</style>\n",
       "<table border=\"1\" class=\"dataframe\">\n",
       "  <thead>\n",
       "    <tr style=\"text-align: right;\">\n",
       "      <th></th>\n",
       "      <th>Postcode</th>\n",
       "      <th>Borough</th>\n",
       "      <th>Neighbourhood</th>\n",
       "      <th>Latitude</th>\n",
       "      <th>Longitude</th>\n",
       "    </tr>\n",
       "  </thead>\n",
       "  <tbody>\n",
       "    <tr>\n",
       "      <th>0</th>\n",
       "      <td>M4E</td>\n",
       "      <td>East Toronto</td>\n",
       "      <td>The Beaches</td>\n",
       "      <td>43.676357</td>\n",
       "      <td>-79.293031</td>\n",
       "    </tr>\n",
       "    <tr>\n",
       "      <th>1</th>\n",
       "      <td>M4K</td>\n",
       "      <td>East Toronto</td>\n",
       "      <td>The Danforth West, Riverdale</td>\n",
       "      <td>43.679557</td>\n",
       "      <td>-79.352188</td>\n",
       "    </tr>\n",
       "    <tr>\n",
       "      <th>2</th>\n",
       "      <td>M4L</td>\n",
       "      <td>East Toronto</td>\n",
       "      <td>The Beaches West, India Bazaar</td>\n",
       "      <td>43.668999</td>\n",
       "      <td>-79.315572</td>\n",
       "    </tr>\n",
       "    <tr>\n",
       "      <th>3</th>\n",
       "      <td>M4M</td>\n",
       "      <td>East Toronto</td>\n",
       "      <td>Studio District</td>\n",
       "      <td>43.659526</td>\n",
       "      <td>-79.340923</td>\n",
       "    </tr>\n",
       "    <tr>\n",
       "      <th>4</th>\n",
       "      <td>M4N</td>\n",
       "      <td>Central Toronto</td>\n",
       "      <td>Lawrence Park</td>\n",
       "      <td>43.728020</td>\n",
       "      <td>-79.388790</td>\n",
       "    </tr>\n",
       "  </tbody>\n",
       "</table>\n",
       "</div>"
      ],
      "text/plain": [
       "  Postcode          Borough                   Neighbourhood   Latitude  \\\n",
       "0      M4E     East Toronto                     The Beaches  43.676357   \n",
       "1      M4K     East Toronto    The Danforth West, Riverdale  43.679557   \n",
       "2      M4L     East Toronto  The Beaches West, India Bazaar  43.668999   \n",
       "3      M4M     East Toronto                 Studio District  43.659526   \n",
       "4      M4N  Central Toronto                   Lawrence Park  43.728020   \n",
       "\n",
       "   Longitude  \n",
       "0 -79.293031  \n",
       "1 -79.352188  \n",
       "2 -79.315572  \n",
       "3 -79.340923  \n",
       "4 -79.388790  "
      ]
     },
     "execution_count": 26,
     "metadata": {},
     "output_type": "execute_result"
    }
   ],
   "source": [
    "Toronto_df = neigh_loc_df[filter_Toronto].reset_index(drop=True)\n",
    "Toronto_df.head()"
   ]
  },
  {
   "cell_type": "code",
   "execution_count": 27,
   "metadata": {},
   "outputs": [
    {
     "data": {
      "text/plain": [
       "(39, 5)"
      ]
     },
     "execution_count": 27,
     "metadata": {},
     "output_type": "execute_result"
    }
   ],
   "source": [
    "Toronto_df.shape"
   ]
  },
  {
   "cell_type": "code",
   "execution_count": 28,
   "metadata": {},
   "outputs": [],
   "source": [
    "# Geolocation of Toronto\n",
    "Toronto_lat, Toronto_long = 43.651070, -79.347015"
   ]
  },
  {
   "cell_type": "markdown",
   "metadata": {},
   "source": [
    "Plot the map of Toronto with those marked Boroughs which have the name with the word Toronto"
   ]
  },
  {
   "cell_type": "code",
   "execution_count": 29,
   "metadata": {},
   "outputs": [
    {
     "data": {
      "text/html": [
       "<div style=\"width:100%;\"><div style=\"position:relative;width:100%;height:0;padding-bottom:60%;\"><iframe src=\"data:text/html;charset=utf-8;base64,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\" style=\"position:absolute;width:100%;height:100%;left:0;top:0;border:none !important;\" allowfullscreen webkitallowfullscreen mozallowfullscreen></iframe></div></div>"
      ],
      "text/plain": [
       "<folium.folium.Map at 0x12fbf31a048>"
      ]
     },
     "execution_count": 29,
     "metadata": {},
     "output_type": "execute_result"
    }
   ],
   "source": [
    "# create map of toronto using latitude and longitude values\n",
    "map_Toronto = folium.Map(location=[Toronto_lat, Toronto_long], zoom_start=12)\n",
    "\n",
    "# add markers to map\n",
    "for lat, lng, borough, neighborhood in zip(Toronto_df['Latitude'], Toronto_df['Longitude'], Toronto_df['Borough'], Toronto_df['Neighbourhood']):\n",
    "    label = '{}, {}'.format(neighborhood, borough)\n",
    "    label = folium.Popup(label, parse_html=True)\n",
    "    folium.CircleMarker(\n",
    "        [lat, lng],\n",
    "        radius=5,\n",
    "        popup=label,\n",
    "        color='blue',\n",
    "        fill=True,\n",
    "        fill_color='#3186cc',\n",
    "        fill_opacity=0.7,\n",
    "        parse_html=False).add_to(map_Toronto)  \n",
    "    \n",
    "map_Toronto"
   ]
  },
  {
   "cell_type": "markdown",
   "metadata": {},
   "source": [
    "<hr>"
   ]
  },
  {
   "cell_type": "markdown",
   "metadata": {},
   "source": [
    "<a id=\"ref3\"></a>\n",
    "# Clustering  "
   ]
  },
  {
   "cell_type": "code",
   "execution_count": 30,
   "metadata": {},
   "outputs": [
    {
     "data": {
      "text/plain": [
       "39"
      ]
     },
     "execution_count": 30,
     "metadata": {},
     "output_type": "execute_result"
    }
   ],
   "source": [
    "# set number of clusters, since there are four Boroughs with the names including the word Toronto\n",
    "kclusters = 4\n",
    "# K-means clustering does not work well with categorical features, so drop them\n",
    "Toronto_clustering = Toronto_df.drop(['Postcode', 'Borough', 'Neighbourhood'], axis=1)\n",
    "# run k-means clustering\n",
    "kmeans = KMeans(n_clusters=kclusters, random_state=0).fit(Toronto_clustering)\n",
    "\n",
    "# check cluster labels generated for each row in the dataframe\n",
    "len(kmeans.labels_)#[0:10] "
   ]
  },
  {
   "cell_type": "markdown",
   "metadata": {},
   "source": [
    "Add claster labels"
   ]
  },
  {
   "cell_type": "code",
   "execution_count": 31,
   "metadata": {},
   "outputs": [
    {
     "data": {
      "text/html": [
       "<div>\n",
       "<style scoped>\n",
       "    .dataframe tbody tr th:only-of-type {\n",
       "        vertical-align: middle;\n",
       "    }\n",
       "\n",
       "    .dataframe tbody tr th {\n",
       "        vertical-align: top;\n",
       "    }\n",
       "\n",
       "    .dataframe thead th {\n",
       "        text-align: right;\n",
       "    }\n",
       "</style>\n",
       "<table border=\"1\" class=\"dataframe\">\n",
       "  <thead>\n",
       "    <tr style=\"text-align: right;\">\n",
       "      <th></th>\n",
       "      <th>Cluster Labels</th>\n",
       "      <th>Latitude</th>\n",
       "      <th>Longitude</th>\n",
       "    </tr>\n",
       "  </thead>\n",
       "  <tbody>\n",
       "    <tr>\n",
       "      <th>0</th>\n",
       "      <td>1</td>\n",
       "      <td>43.676357</td>\n",
       "      <td>-79.293031</td>\n",
       "    </tr>\n",
       "    <tr>\n",
       "      <th>1</th>\n",
       "      <td>1</td>\n",
       "      <td>43.679557</td>\n",
       "      <td>-79.352188</td>\n",
       "    </tr>\n",
       "    <tr>\n",
       "      <th>2</th>\n",
       "      <td>1</td>\n",
       "      <td>43.668999</td>\n",
       "      <td>-79.315572</td>\n",
       "    </tr>\n",
       "    <tr>\n",
       "      <th>3</th>\n",
       "      <td>1</td>\n",
       "      <td>43.659526</td>\n",
       "      <td>-79.340923</td>\n",
       "    </tr>\n",
       "    <tr>\n",
       "      <th>4</th>\n",
       "      <td>2</td>\n",
       "      <td>43.728020</td>\n",
       "      <td>-79.388790</td>\n",
       "    </tr>\n",
       "  </tbody>\n",
       "</table>\n",
       "</div>"
      ],
      "text/plain": [
       "   Cluster Labels   Latitude  Longitude\n",
       "0               1  43.676357 -79.293031\n",
       "1               1  43.679557 -79.352188\n",
       "2               1  43.668999 -79.315572\n",
       "3               1  43.659526 -79.340923\n",
       "4               2  43.728020 -79.388790"
      ]
     },
     "execution_count": 31,
     "metadata": {},
     "output_type": "execute_result"
    }
   ],
   "source": [
    "Toronto_clustering.insert(0, 'Cluster Labels', kmeans.labels_)\n",
    "Toronto_clustering.head()"
   ]
  },
  {
   "cell_type": "code",
   "execution_count": 32,
   "metadata": {},
   "outputs": [
    {
     "data": {
      "text/html": [
       "<div>\n",
       "<style scoped>\n",
       "    .dataframe tbody tr th:only-of-type {\n",
       "        vertical-align: middle;\n",
       "    }\n",
       "\n",
       "    .dataframe tbody tr th {\n",
       "        vertical-align: top;\n",
       "    }\n",
       "\n",
       "    .dataframe thead th {\n",
       "        text-align: right;\n",
       "    }\n",
       "</style>\n",
       "<table border=\"1\" class=\"dataframe\">\n",
       "  <thead>\n",
       "    <tr style=\"text-align: right;\">\n",
       "      <th></th>\n",
       "      <th>Postcode</th>\n",
       "      <th>Borough</th>\n",
       "      <th>Neighbourhood</th>\n",
       "      <th>Latitude</th>\n",
       "      <th>Longitude</th>\n",
       "      <th>Cluster Labels</th>\n",
       "    </tr>\n",
       "  </thead>\n",
       "  <tbody>\n",
       "    <tr>\n",
       "      <th>0</th>\n",
       "      <td>M4E</td>\n",
       "      <td>East Toronto</td>\n",
       "      <td>The Beaches</td>\n",
       "      <td>43.676357</td>\n",
       "      <td>-79.293031</td>\n",
       "      <td>1</td>\n",
       "    </tr>\n",
       "    <tr>\n",
       "      <th>1</th>\n",
       "      <td>M4K</td>\n",
       "      <td>East Toronto</td>\n",
       "      <td>The Danforth West, Riverdale</td>\n",
       "      <td>43.679557</td>\n",
       "      <td>-79.352188</td>\n",
       "      <td>1</td>\n",
       "    </tr>\n",
       "    <tr>\n",
       "      <th>2</th>\n",
       "      <td>M4L</td>\n",
       "      <td>East Toronto</td>\n",
       "      <td>The Beaches West, India Bazaar</td>\n",
       "      <td>43.668999</td>\n",
       "      <td>-79.315572</td>\n",
       "      <td>1</td>\n",
       "    </tr>\n",
       "    <tr>\n",
       "      <th>3</th>\n",
       "      <td>M4M</td>\n",
       "      <td>East Toronto</td>\n",
       "      <td>Studio District</td>\n",
       "      <td>43.659526</td>\n",
       "      <td>-79.340923</td>\n",
       "      <td>1</td>\n",
       "    </tr>\n",
       "    <tr>\n",
       "      <th>4</th>\n",
       "      <td>M4N</td>\n",
       "      <td>Central Toronto</td>\n",
       "      <td>Lawrence Park</td>\n",
       "      <td>43.728020</td>\n",
       "      <td>-79.388790</td>\n",
       "      <td>2</td>\n",
       "    </tr>\n",
       "    <tr>\n",
       "      <th>5</th>\n",
       "      <td>M4P</td>\n",
       "      <td>Central Toronto</td>\n",
       "      <td>Davisville North</td>\n",
       "      <td>43.712751</td>\n",
       "      <td>-79.390197</td>\n",
       "      <td>2</td>\n",
       "    </tr>\n",
       "    <tr>\n",
       "      <th>6</th>\n",
       "      <td>M4R</td>\n",
       "      <td>Central Toronto</td>\n",
       "      <td>North Toronto West</td>\n",
       "      <td>43.715383</td>\n",
       "      <td>-79.405678</td>\n",
       "      <td>2</td>\n",
       "    </tr>\n",
       "    <tr>\n",
       "      <th>7</th>\n",
       "      <td>M4S</td>\n",
       "      <td>Central Toronto</td>\n",
       "      <td>Davisville</td>\n",
       "      <td>43.704324</td>\n",
       "      <td>-79.388790</td>\n",
       "      <td>2</td>\n",
       "    </tr>\n",
       "    <tr>\n",
       "      <th>8</th>\n",
       "      <td>M4T</td>\n",
       "      <td>Central Toronto</td>\n",
       "      <td>Moore Park, Summerhill East</td>\n",
       "      <td>43.689574</td>\n",
       "      <td>-79.383160</td>\n",
       "      <td>2</td>\n",
       "    </tr>\n",
       "    <tr>\n",
       "      <th>9</th>\n",
       "      <td>M4V</td>\n",
       "      <td>Central Toronto</td>\n",
       "      <td>Deer Park, Forest Hill SE, Rathnelly, South Hi...</td>\n",
       "      <td>43.686412</td>\n",
       "      <td>-79.400049</td>\n",
       "      <td>2</td>\n",
       "    </tr>\n",
       "  </tbody>\n",
       "</table>\n",
       "</div>"
      ],
      "text/plain": [
       "  Postcode          Borough  \\\n",
       "0      M4E     East Toronto   \n",
       "1      M4K     East Toronto   \n",
       "2      M4L     East Toronto   \n",
       "3      M4M     East Toronto   \n",
       "4      M4N  Central Toronto   \n",
       "5      M4P  Central Toronto   \n",
       "6      M4R  Central Toronto   \n",
       "7      M4S  Central Toronto   \n",
       "8      M4T  Central Toronto   \n",
       "9      M4V  Central Toronto   \n",
       "\n",
       "                                       Neighbourhood   Latitude  Longitude  \\\n",
       "0                                        The Beaches  43.676357 -79.293031   \n",
       "1                       The Danforth West, Riverdale  43.679557 -79.352188   \n",
       "2                     The Beaches West, India Bazaar  43.668999 -79.315572   \n",
       "3                                    Studio District  43.659526 -79.340923   \n",
       "4                                      Lawrence Park  43.728020 -79.388790   \n",
       "5                                   Davisville North  43.712751 -79.390197   \n",
       "6                                 North Toronto West  43.715383 -79.405678   \n",
       "7                                         Davisville  43.704324 -79.388790   \n",
       "8                        Moore Park, Summerhill East  43.689574 -79.383160   \n",
       "9  Deer Park, Forest Hill SE, Rathnelly, South Hi...  43.686412 -79.400049   \n",
       "\n",
       "   Cluster Labels  \n",
       "0               1  \n",
       "1               1  \n",
       "2               1  \n",
       "3               1  \n",
       "4               2  \n",
       "5               2  \n",
       "6               2  \n",
       "7               2  \n",
       "8               2  \n",
       "9               2  "
      ]
     },
     "execution_count": 32,
     "metadata": {},
     "output_type": "execute_result"
    }
   ],
   "source": [
    "# Merge Toronto_claustering and Toronto_df  \n",
    "Toronto_clustered = pd.merge(Toronto_df, Toronto_clustering, left_on=[\"Latitude\", \"Longitude\"], right_on=[\"Latitude\", \"Longitude\"])\n",
    "Toronto_clustered.head(10)"
   ]
  },
  {
   "cell_type": "code",
   "execution_count": 33,
   "metadata": {},
   "outputs": [
    {
     "data": {
      "text/plain": [
       "(39, 6)"
      ]
     },
     "execution_count": 33,
     "metadata": {},
     "output_type": "execute_result"
    }
   ],
   "source": [
    "Toronto_clustered.shape"
   ]
  },
  {
   "cell_type": "code",
   "execution_count": null,
   "metadata": {},
   "outputs": [],
   "source": []
  },
  {
   "cell_type": "markdown",
   "metadata": {},
   "source": [
    "### Look at each cluster and classified Boroughs to them by the model"
   ]
  },
  {
   "cell_type": "code",
   "execution_count": 34,
   "metadata": {},
   "outputs": [
    {
     "data": {
      "text/html": [
       "<div>\n",
       "<style scoped>\n",
       "    .dataframe tbody tr th:only-of-type {\n",
       "        vertical-align: middle;\n",
       "    }\n",
       "\n",
       "    .dataframe tbody tr th {\n",
       "        vertical-align: top;\n",
       "    }\n",
       "\n",
       "    .dataframe thead th {\n",
       "        text-align: right;\n",
       "    }\n",
       "</style>\n",
       "<table border=\"1\" class=\"dataframe\">\n",
       "  <thead>\n",
       "    <tr style=\"text-align: right;\">\n",
       "      <th></th>\n",
       "      <th>Postcode</th>\n",
       "      <th>Borough</th>\n",
       "      <th>Neighbourhood</th>\n",
       "      <th>Latitude</th>\n",
       "      <th>Longitude</th>\n",
       "      <th>Cluster Labels</th>\n",
       "    </tr>\n",
       "  </thead>\n",
       "  <tbody>\n",
       "    <tr>\n",
       "      <th>30</th>\n",
       "      <td>M6G</td>\n",
       "      <td>Downtown Toronto</td>\n",
       "      <td>Christie</td>\n",
       "      <td>43.669542</td>\n",
       "      <td>-79.422564</td>\n",
       "      <td>0</td>\n",
       "    </tr>\n",
       "    <tr>\n",
       "      <th>31</th>\n",
       "      <td>M6H</td>\n",
       "      <td>West Toronto</td>\n",
       "      <td>Dovercourt Village, Dufferin</td>\n",
       "      <td>43.669005</td>\n",
       "      <td>-79.442259</td>\n",
       "      <td>0</td>\n",
       "    </tr>\n",
       "    <tr>\n",
       "      <th>32</th>\n",
       "      <td>M6J</td>\n",
       "      <td>West Toronto</td>\n",
       "      <td>Little Portugal, Trinity</td>\n",
       "      <td>43.647927</td>\n",
       "      <td>-79.419750</td>\n",
       "      <td>0</td>\n",
       "    </tr>\n",
       "    <tr>\n",
       "      <th>33</th>\n",
       "      <td>M6K</td>\n",
       "      <td>West Toronto</td>\n",
       "      <td>Brockton, Exhibition Place, Parkdale Village</td>\n",
       "      <td>43.636847</td>\n",
       "      <td>-79.428191</td>\n",
       "      <td>0</td>\n",
       "    </tr>\n",
       "    <tr>\n",
       "      <th>34</th>\n",
       "      <td>M6P</td>\n",
       "      <td>West Toronto</td>\n",
       "      <td>High Park, The Junction South</td>\n",
       "      <td>43.661608</td>\n",
       "      <td>-79.464763</td>\n",
       "      <td>0</td>\n",
       "    </tr>\n",
       "    <tr>\n",
       "      <th>35</th>\n",
       "      <td>M6R</td>\n",
       "      <td>West Toronto</td>\n",
       "      <td>Parkdale, Roncesvalles</td>\n",
       "      <td>43.648960</td>\n",
       "      <td>-79.456325</td>\n",
       "      <td>0</td>\n",
       "    </tr>\n",
       "    <tr>\n",
       "      <th>36</th>\n",
       "      <td>M6S</td>\n",
       "      <td>West Toronto</td>\n",
       "      <td>Runnymede, Swansea</td>\n",
       "      <td>43.651571</td>\n",
       "      <td>-79.484450</td>\n",
       "      <td>0</td>\n",
       "    </tr>\n",
       "  </tbody>\n",
       "</table>\n",
       "</div>"
      ],
      "text/plain": [
       "   Postcode           Borough                                 Neighbourhood  \\\n",
       "30      M6G  Downtown Toronto                                      Christie   \n",
       "31      M6H      West Toronto                  Dovercourt Village, Dufferin   \n",
       "32      M6J      West Toronto                      Little Portugal, Trinity   \n",
       "33      M6K      West Toronto  Brockton, Exhibition Place, Parkdale Village   \n",
       "34      M6P      West Toronto                 High Park, The Junction South   \n",
       "35      M6R      West Toronto                        Parkdale, Roncesvalles   \n",
       "36      M6S      West Toronto                            Runnymede, Swansea   \n",
       "\n",
       "     Latitude  Longitude  Cluster Labels  \n",
       "30  43.669542 -79.422564               0  \n",
       "31  43.669005 -79.442259               0  \n",
       "32  43.647927 -79.419750               0  \n",
       "33  43.636847 -79.428191               0  \n",
       "34  43.661608 -79.464763               0  \n",
       "35  43.648960 -79.456325               0  \n",
       "36  43.651571 -79.484450               0  "
      ]
     },
     "execution_count": 34,
     "metadata": {},
     "output_type": "execute_result"
    }
   ],
   "source": [
    "# cluster label: 0\n",
    "Toronto_clustered[Toronto_clustered['Cluster Labels']==0]"
   ]
  },
  {
   "cell_type": "code",
   "execution_count": 35,
   "metadata": {},
   "outputs": [
    {
     "data": {
      "text/html": [
       "<div>\n",
       "<style scoped>\n",
       "    .dataframe tbody tr th:only-of-type {\n",
       "        vertical-align: middle;\n",
       "    }\n",
       "\n",
       "    .dataframe tbody tr th {\n",
       "        vertical-align: top;\n",
       "    }\n",
       "\n",
       "    .dataframe thead th {\n",
       "        text-align: right;\n",
       "    }\n",
       "</style>\n",
       "<table border=\"1\" class=\"dataframe\">\n",
       "  <thead>\n",
       "    <tr style=\"text-align: right;\">\n",
       "      <th></th>\n",
       "      <th>Postcode</th>\n",
       "      <th>Borough</th>\n",
       "      <th>Neighbourhood</th>\n",
       "      <th>Latitude</th>\n",
       "      <th>Longitude</th>\n",
       "      <th>Cluster Labels</th>\n",
       "    </tr>\n",
       "  </thead>\n",
       "  <tbody>\n",
       "    <tr>\n",
       "      <th>0</th>\n",
       "      <td>M4E</td>\n",
       "      <td>East Toronto</td>\n",
       "      <td>The Beaches</td>\n",
       "      <td>43.676357</td>\n",
       "      <td>-79.293031</td>\n",
       "      <td>1</td>\n",
       "    </tr>\n",
       "    <tr>\n",
       "      <th>1</th>\n",
       "      <td>M4K</td>\n",
       "      <td>East Toronto</td>\n",
       "      <td>The Danforth West, Riverdale</td>\n",
       "      <td>43.679557</td>\n",
       "      <td>-79.352188</td>\n",
       "      <td>1</td>\n",
       "    </tr>\n",
       "    <tr>\n",
       "      <th>2</th>\n",
       "      <td>M4L</td>\n",
       "      <td>East Toronto</td>\n",
       "      <td>The Beaches West, India Bazaar</td>\n",
       "      <td>43.668999</td>\n",
       "      <td>-79.315572</td>\n",
       "      <td>1</td>\n",
       "    </tr>\n",
       "    <tr>\n",
       "      <th>3</th>\n",
       "      <td>M4M</td>\n",
       "      <td>East Toronto</td>\n",
       "      <td>Studio District</td>\n",
       "      <td>43.659526</td>\n",
       "      <td>-79.340923</td>\n",
       "      <td>1</td>\n",
       "    </tr>\n",
       "    <tr>\n",
       "      <th>38</th>\n",
       "      <td>M7Y</td>\n",
       "      <td>East Toronto</td>\n",
       "      <td>Business Reply Mail Processing Centre 969 Eastern</td>\n",
       "      <td>43.662744</td>\n",
       "      <td>-79.321558</td>\n",
       "      <td>1</td>\n",
       "    </tr>\n",
       "  </tbody>\n",
       "</table>\n",
       "</div>"
      ],
      "text/plain": [
       "   Postcode       Borough                                      Neighbourhood  \\\n",
       "0       M4E  East Toronto                                        The Beaches   \n",
       "1       M4K  East Toronto                       The Danforth West, Riverdale   \n",
       "2       M4L  East Toronto                     The Beaches West, India Bazaar   \n",
       "3       M4M  East Toronto                                    Studio District   \n",
       "38      M7Y  East Toronto  Business Reply Mail Processing Centre 969 Eastern   \n",
       "\n",
       "     Latitude  Longitude  Cluster Labels  \n",
       "0   43.676357 -79.293031               1  \n",
       "1   43.679557 -79.352188               1  \n",
       "2   43.668999 -79.315572               1  \n",
       "3   43.659526 -79.340923               1  \n",
       "38  43.662744 -79.321558               1  "
      ]
     },
     "execution_count": 35,
     "metadata": {},
     "output_type": "execute_result"
    }
   ],
   "source": [
    "# cluster label: 1\n",
    "Toronto_clustered[Toronto_clustered['Cluster Labels']==1]"
   ]
  },
  {
   "cell_type": "code",
   "execution_count": 36,
   "metadata": {},
   "outputs": [
    {
     "data": {
      "text/html": [
       "<div>\n",
       "<style scoped>\n",
       "    .dataframe tbody tr th:only-of-type {\n",
       "        vertical-align: middle;\n",
       "    }\n",
       "\n",
       "    .dataframe tbody tr th {\n",
       "        vertical-align: top;\n",
       "    }\n",
       "\n",
       "    .dataframe thead th {\n",
       "        text-align: right;\n",
       "    }\n",
       "</style>\n",
       "<table border=\"1\" class=\"dataframe\">\n",
       "  <thead>\n",
       "    <tr style=\"text-align: right;\">\n",
       "      <th></th>\n",
       "      <th>Postcode</th>\n",
       "      <th>Borough</th>\n",
       "      <th>Neighbourhood</th>\n",
       "      <th>Latitude</th>\n",
       "      <th>Longitude</th>\n",
       "      <th>Cluster Labels</th>\n",
       "    </tr>\n",
       "  </thead>\n",
       "  <tbody>\n",
       "    <tr>\n",
       "      <th>4</th>\n",
       "      <td>M4N</td>\n",
       "      <td>Central Toronto</td>\n",
       "      <td>Lawrence Park</td>\n",
       "      <td>43.728020</td>\n",
       "      <td>-79.388790</td>\n",
       "      <td>2</td>\n",
       "    </tr>\n",
       "    <tr>\n",
       "      <th>5</th>\n",
       "      <td>M4P</td>\n",
       "      <td>Central Toronto</td>\n",
       "      <td>Davisville North</td>\n",
       "      <td>43.712751</td>\n",
       "      <td>-79.390197</td>\n",
       "      <td>2</td>\n",
       "    </tr>\n",
       "    <tr>\n",
       "      <th>6</th>\n",
       "      <td>M4R</td>\n",
       "      <td>Central Toronto</td>\n",
       "      <td>North Toronto West</td>\n",
       "      <td>43.715383</td>\n",
       "      <td>-79.405678</td>\n",
       "      <td>2</td>\n",
       "    </tr>\n",
       "    <tr>\n",
       "      <th>7</th>\n",
       "      <td>M4S</td>\n",
       "      <td>Central Toronto</td>\n",
       "      <td>Davisville</td>\n",
       "      <td>43.704324</td>\n",
       "      <td>-79.388790</td>\n",
       "      <td>2</td>\n",
       "    </tr>\n",
       "    <tr>\n",
       "      <th>8</th>\n",
       "      <td>M4T</td>\n",
       "      <td>Central Toronto</td>\n",
       "      <td>Moore Park, Summerhill East</td>\n",
       "      <td>43.689574</td>\n",
       "      <td>-79.383160</td>\n",
       "      <td>2</td>\n",
       "    </tr>\n",
       "    <tr>\n",
       "      <th>9</th>\n",
       "      <td>M4V</td>\n",
       "      <td>Central Toronto</td>\n",
       "      <td>Deer Park, Forest Hill SE, Rathnelly, South Hi...</td>\n",
       "      <td>43.686412</td>\n",
       "      <td>-79.400049</td>\n",
       "      <td>2</td>\n",
       "    </tr>\n",
       "    <tr>\n",
       "      <th>22</th>\n",
       "      <td>M5N</td>\n",
       "      <td>Central Toronto</td>\n",
       "      <td>Roselawn</td>\n",
       "      <td>43.711695</td>\n",
       "      <td>-79.416936</td>\n",
       "      <td>2</td>\n",
       "    </tr>\n",
       "    <tr>\n",
       "      <th>23</th>\n",
       "      <td>M5P</td>\n",
       "      <td>Central Toronto</td>\n",
       "      <td>Forest Hill North, Forest Hill West</td>\n",
       "      <td>43.696948</td>\n",
       "      <td>-79.411307</td>\n",
       "      <td>2</td>\n",
       "    </tr>\n",
       "  </tbody>\n",
       "</table>\n",
       "</div>"
      ],
      "text/plain": [
       "   Postcode          Borough  \\\n",
       "4       M4N  Central Toronto   \n",
       "5       M4P  Central Toronto   \n",
       "6       M4R  Central Toronto   \n",
       "7       M4S  Central Toronto   \n",
       "8       M4T  Central Toronto   \n",
       "9       M4V  Central Toronto   \n",
       "22      M5N  Central Toronto   \n",
       "23      M5P  Central Toronto   \n",
       "\n",
       "                                        Neighbourhood   Latitude  Longitude  \\\n",
       "4                                       Lawrence Park  43.728020 -79.388790   \n",
       "5                                    Davisville North  43.712751 -79.390197   \n",
       "6                                  North Toronto West  43.715383 -79.405678   \n",
       "7                                          Davisville  43.704324 -79.388790   \n",
       "8                         Moore Park, Summerhill East  43.689574 -79.383160   \n",
       "9   Deer Park, Forest Hill SE, Rathnelly, South Hi...  43.686412 -79.400049   \n",
       "22                                           Roselawn  43.711695 -79.416936   \n",
       "23                Forest Hill North, Forest Hill West  43.696948 -79.411307   \n",
       "\n",
       "    Cluster Labels  \n",
       "4                2  \n",
       "5                2  \n",
       "6                2  \n",
       "7                2  \n",
       "8                2  \n",
       "9                2  \n",
       "22               2  \n",
       "23               2  "
      ]
     },
     "execution_count": 36,
     "metadata": {},
     "output_type": "execute_result"
    }
   ],
   "source": [
    "# cluster label: 2\n",
    "Toronto_clustered[Toronto_clustered['Cluster Labels']==2]"
   ]
  },
  {
   "cell_type": "code",
   "execution_count": 37,
   "metadata": {},
   "outputs": [
    {
     "data": {
      "text/html": [
       "<div>\n",
       "<style scoped>\n",
       "    .dataframe tbody tr th:only-of-type {\n",
       "        vertical-align: middle;\n",
       "    }\n",
       "\n",
       "    .dataframe tbody tr th {\n",
       "        vertical-align: top;\n",
       "    }\n",
       "\n",
       "    .dataframe thead th {\n",
       "        text-align: right;\n",
       "    }\n",
       "</style>\n",
       "<table border=\"1\" class=\"dataframe\">\n",
       "  <thead>\n",
       "    <tr style=\"text-align: right;\">\n",
       "      <th></th>\n",
       "      <th>Postcode</th>\n",
       "      <th>Borough</th>\n",
       "      <th>Neighbourhood</th>\n",
       "      <th>Latitude</th>\n",
       "      <th>Longitude</th>\n",
       "      <th>Cluster Labels</th>\n",
       "    </tr>\n",
       "  </thead>\n",
       "  <tbody>\n",
       "    <tr>\n",
       "      <th>10</th>\n",
       "      <td>M4W</td>\n",
       "      <td>Downtown Toronto</td>\n",
       "      <td>Rosedale</td>\n",
       "      <td>43.679563</td>\n",
       "      <td>-79.377529</td>\n",
       "      <td>3</td>\n",
       "    </tr>\n",
       "    <tr>\n",
       "      <th>11</th>\n",
       "      <td>M4X</td>\n",
       "      <td>Downtown Toronto</td>\n",
       "      <td>Cabbagetown, St. James Town</td>\n",
       "      <td>43.667967</td>\n",
       "      <td>-79.367675</td>\n",
       "      <td>3</td>\n",
       "    </tr>\n",
       "    <tr>\n",
       "      <th>12</th>\n",
       "      <td>M4Y</td>\n",
       "      <td>Downtown Toronto</td>\n",
       "      <td>Church and Wellesley</td>\n",
       "      <td>43.665860</td>\n",
       "      <td>-79.383160</td>\n",
       "      <td>3</td>\n",
       "    </tr>\n",
       "    <tr>\n",
       "      <th>13</th>\n",
       "      <td>M5A</td>\n",
       "      <td>Downtown Toronto</td>\n",
       "      <td>Harbourfront</td>\n",
       "      <td>43.654260</td>\n",
       "      <td>-79.360636</td>\n",
       "      <td>3</td>\n",
       "    </tr>\n",
       "    <tr>\n",
       "      <th>14</th>\n",
       "      <td>M5B</td>\n",
       "      <td>Downtown Toronto</td>\n",
       "      <td>Ryerson, Garden District</td>\n",
       "      <td>43.657162</td>\n",
       "      <td>-79.378937</td>\n",
       "      <td>3</td>\n",
       "    </tr>\n",
       "    <tr>\n",
       "      <th>15</th>\n",
       "      <td>M5C</td>\n",
       "      <td>Downtown Toronto</td>\n",
       "      <td>St. James Town</td>\n",
       "      <td>43.651494</td>\n",
       "      <td>-79.375418</td>\n",
       "      <td>3</td>\n",
       "    </tr>\n",
       "    <tr>\n",
       "      <th>16</th>\n",
       "      <td>M5E</td>\n",
       "      <td>Downtown Toronto</td>\n",
       "      <td>Berczy Park</td>\n",
       "      <td>43.644771</td>\n",
       "      <td>-79.373306</td>\n",
       "      <td>3</td>\n",
       "    </tr>\n",
       "    <tr>\n",
       "      <th>17</th>\n",
       "      <td>M5G</td>\n",
       "      <td>Downtown Toronto</td>\n",
       "      <td>Central Bay Street</td>\n",
       "      <td>43.657952</td>\n",
       "      <td>-79.387383</td>\n",
       "      <td>3</td>\n",
       "    </tr>\n",
       "    <tr>\n",
       "      <th>18</th>\n",
       "      <td>M5H</td>\n",
       "      <td>Downtown Toronto</td>\n",
       "      <td>Adelaide, King, Richmond</td>\n",
       "      <td>43.650571</td>\n",
       "      <td>-79.384568</td>\n",
       "      <td>3</td>\n",
       "    </tr>\n",
       "    <tr>\n",
       "      <th>19</th>\n",
       "      <td>M5J</td>\n",
       "      <td>Downtown Toronto</td>\n",
       "      <td>Harbourfront East, Toronto Islands, Union Station</td>\n",
       "      <td>43.640816</td>\n",
       "      <td>-79.381752</td>\n",
       "      <td>3</td>\n",
       "    </tr>\n",
       "    <tr>\n",
       "      <th>20</th>\n",
       "      <td>M5K</td>\n",
       "      <td>Downtown Toronto</td>\n",
       "      <td>Design Exchange, Toronto Dominion Centre</td>\n",
       "      <td>43.647177</td>\n",
       "      <td>-79.381576</td>\n",
       "      <td>3</td>\n",
       "    </tr>\n",
       "    <tr>\n",
       "      <th>21</th>\n",
       "      <td>M5L</td>\n",
       "      <td>Downtown Toronto</td>\n",
       "      <td>Commerce Court, Victoria Hotel</td>\n",
       "      <td>43.648198</td>\n",
       "      <td>-79.379817</td>\n",
       "      <td>3</td>\n",
       "    </tr>\n",
       "    <tr>\n",
       "      <th>24</th>\n",
       "      <td>M5R</td>\n",
       "      <td>Central Toronto</td>\n",
       "      <td>The Annex, North Midtown, Yorkville</td>\n",
       "      <td>43.672710</td>\n",
       "      <td>-79.405678</td>\n",
       "      <td>3</td>\n",
       "    </tr>\n",
       "    <tr>\n",
       "      <th>25</th>\n",
       "      <td>M5S</td>\n",
       "      <td>Downtown Toronto</td>\n",
       "      <td>Harbord, University of Toronto</td>\n",
       "      <td>43.662696</td>\n",
       "      <td>-79.400049</td>\n",
       "      <td>3</td>\n",
       "    </tr>\n",
       "    <tr>\n",
       "      <th>26</th>\n",
       "      <td>M5T</td>\n",
       "      <td>Downtown Toronto</td>\n",
       "      <td>Chinatown, Grange Park, Kensington Market</td>\n",
       "      <td>43.653206</td>\n",
       "      <td>-79.400049</td>\n",
       "      <td>3</td>\n",
       "    </tr>\n",
       "    <tr>\n",
       "      <th>27</th>\n",
       "      <td>M5V</td>\n",
       "      <td>Downtown Toronto</td>\n",
       "      <td>CN Tower, Bathurst Quay, Island airport, Harbo...</td>\n",
       "      <td>43.628947</td>\n",
       "      <td>-79.394420</td>\n",
       "      <td>3</td>\n",
       "    </tr>\n",
       "    <tr>\n",
       "      <th>28</th>\n",
       "      <td>M5W</td>\n",
       "      <td>Downtown Toronto</td>\n",
       "      <td>Stn A PO Boxes 25 The Esplanade</td>\n",
       "      <td>43.646435</td>\n",
       "      <td>-79.374846</td>\n",
       "      <td>3</td>\n",
       "    </tr>\n",
       "    <tr>\n",
       "      <th>29</th>\n",
       "      <td>M5X</td>\n",
       "      <td>Downtown Toronto</td>\n",
       "      <td>First Canadian Place, Underground city</td>\n",
       "      <td>43.648429</td>\n",
       "      <td>-79.382280</td>\n",
       "      <td>3</td>\n",
       "    </tr>\n",
       "    <tr>\n",
       "      <th>37</th>\n",
       "      <td>M7A</td>\n",
       "      <td>Downtown Toronto</td>\n",
       "      <td>Queen's Park</td>\n",
       "      <td>43.662301</td>\n",
       "      <td>-79.389494</td>\n",
       "      <td>3</td>\n",
       "    </tr>\n",
       "  </tbody>\n",
       "</table>\n",
       "</div>"
      ],
      "text/plain": [
       "   Postcode           Borough  \\\n",
       "10      M4W  Downtown Toronto   \n",
       "11      M4X  Downtown Toronto   \n",
       "12      M4Y  Downtown Toronto   \n",
       "13      M5A  Downtown Toronto   \n",
       "14      M5B  Downtown Toronto   \n",
       "15      M5C  Downtown Toronto   \n",
       "16      M5E  Downtown Toronto   \n",
       "17      M5G  Downtown Toronto   \n",
       "18      M5H  Downtown Toronto   \n",
       "19      M5J  Downtown Toronto   \n",
       "20      M5K  Downtown Toronto   \n",
       "21      M5L  Downtown Toronto   \n",
       "24      M5R   Central Toronto   \n",
       "25      M5S  Downtown Toronto   \n",
       "26      M5T  Downtown Toronto   \n",
       "27      M5V  Downtown Toronto   \n",
       "28      M5W  Downtown Toronto   \n",
       "29      M5X  Downtown Toronto   \n",
       "37      M7A  Downtown Toronto   \n",
       "\n",
       "                                        Neighbourhood   Latitude  Longitude  \\\n",
       "10                                           Rosedale  43.679563 -79.377529   \n",
       "11                        Cabbagetown, St. James Town  43.667967 -79.367675   \n",
       "12                               Church and Wellesley  43.665860 -79.383160   \n",
       "13                                       Harbourfront  43.654260 -79.360636   \n",
       "14                           Ryerson, Garden District  43.657162 -79.378937   \n",
       "15                                     St. James Town  43.651494 -79.375418   \n",
       "16                                        Berczy Park  43.644771 -79.373306   \n",
       "17                                 Central Bay Street  43.657952 -79.387383   \n",
       "18                           Adelaide, King, Richmond  43.650571 -79.384568   \n",
       "19  Harbourfront East, Toronto Islands, Union Station  43.640816 -79.381752   \n",
       "20           Design Exchange, Toronto Dominion Centre  43.647177 -79.381576   \n",
       "21                     Commerce Court, Victoria Hotel  43.648198 -79.379817   \n",
       "24                The Annex, North Midtown, Yorkville  43.672710 -79.405678   \n",
       "25                     Harbord, University of Toronto  43.662696 -79.400049   \n",
       "26          Chinatown, Grange Park, Kensington Market  43.653206 -79.400049   \n",
       "27  CN Tower, Bathurst Quay, Island airport, Harbo...  43.628947 -79.394420   \n",
       "28                    Stn A PO Boxes 25 The Esplanade  43.646435 -79.374846   \n",
       "29             First Canadian Place, Underground city  43.648429 -79.382280   \n",
       "37                                       Queen's Park  43.662301 -79.389494   \n",
       "\n",
       "    Cluster Labels  \n",
       "10               3  \n",
       "11               3  \n",
       "12               3  \n",
       "13               3  \n",
       "14               3  \n",
       "15               3  \n",
       "16               3  \n",
       "17               3  \n",
       "18               3  \n",
       "19               3  \n",
       "20               3  \n",
       "21               3  \n",
       "24               3  \n",
       "25               3  \n",
       "26               3  \n",
       "27               3  \n",
       "28               3  \n",
       "29               3  \n",
       "37               3  "
      ]
     },
     "execution_count": 37,
     "metadata": {},
     "output_type": "execute_result"
    }
   ],
   "source": [
    "# cluster label: 3\n",
    "Toronto_clustered[Toronto_clustered['Cluster Labels']==3]"
   ]
  },
  {
   "cell_type": "markdown",
   "metadata": {},
   "source": [
    "### Plot the clastering result on the map of Toronto"
   ]
  },
  {
   "cell_type": "code",
   "execution_count": 38,
   "metadata": {},
   "outputs": [
    {
     "data": {
      "text/html": [
       "<div style=\"width:100%;\"><div style=\"position:relative;width:100%;height:0;padding-bottom:60%;\"><iframe src=\"data:text/html;charset=utf-8;base64,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\" style=\"position:absolute;width:100%;height:100%;left:0;top:0;border:none !important;\" allowfullscreen webkitallowfullscreen mozallowfullscreen></iframe></div></div>"
      ],
      "text/plain": [
       "<folium.folium.Map at 0x12fbf632470>"
      ]
     },
     "execution_count": 38,
     "metadata": {},
     "output_type": "execute_result"
    }
   ],
   "source": [
    "# create map of Toronto using latitude and longitude values\n",
    "map_Toronto_cluster = folium.Map(location=[Toronto_lat, Toronto_long], zoom_start=12)\n",
    "\n",
    "# set color scheme for the clusters\n",
    "x = np.arange(kclusters)\n",
    "ys = [i + x + (i*x)**2 for i in range(kclusters)]\n",
    "colors_array = cm.gist_rainbow(np.linspace(0, 1, len(ys)))\n",
    "gist_rainbow = [colors.rgb2hex(i) for i in colors_array]\n",
    "\n",
    "# add markers to the map\n",
    "markers_colors = []\n",
    "for lat, lon, poi, cluster in zip(Toronto_clustered['Latitude'], Toronto_clustered['Longitude'], Toronto_clustered['Neighbourhood'], Toronto_clustered['Cluster Labels']):\n",
    "    label = folium.Popup(str(poi) + ' Cluster ' + str(cluster), parse_html=True)\n",
    "    folium.CircleMarker(\n",
    "        [lat, lon],\n",
    "        radius=5,\n",
    "        popup=label,\n",
    "        color=gist_rainbow[cluster-1],\n",
    "        fill=True,\n",
    "        fill_color=gist_rainbow[cluster-1],\n",
    "        fill_opacity=1.0).add_to(map_Toronto_cluster)\n",
    "    \n",
    "# \n",
    "legend_html =   '''\n",
    "                <div style=\"position: fixed; \n",
    "                            bottom: 100px; right: 50px; width: 300px; height: 150px; \n",
    "                            border:2px solid grey; z-index:9999; font-size:14px;\n",
    "                            \">&nbsp; Boroughs <br>\n",
    "                              <br>\n",
    "                              &nbsp; Cluster 0 : West Toronto (6/7)&nbsp; <i class=\"fa fa-circle fa-1x\" style=\"color:#ff00bf\"></i><br>\n",
    "                              &nbsp; Cluster 1 : East Toronto (5/5) &nbsp; <i class=\"fa fa-circle fa-1x\" style=\"color:#ff0029\"></i><br>\n",
    "                              &nbsp; Cluster 2 : Central Toronto (8/8) &nbsp; <i class=\"fa fa-circle fa-1x\" style=\"color:#5cff00\"></i><br>\n",
    "                              &nbsp; Cluster 3 : Downtown Toronto (18/19) &nbsp; <i class=\"fa fa-circle fa-1x\" style=\"color:#008fff\"></i>\n",
    "                              \n",
    "                              \n",
    "                </div>\n",
    "                ''' \n",
    "map_Toronto_cluster.get_root().html.add_child(folium.Element(legend_html))\n",
    "       \n",
    "map_Toronto_cluster\n"
   ]
  },
  {
   "cell_type": "markdown",
   "metadata": {},
   "source": [
    "<hr>"
   ]
  },
  {
   "cell_type": "markdown",
   "metadata": {},
   "source": [
    "The model gave almost perfect result. "
   ]
  },
  {
   "cell_type": "markdown",
   "metadata": {},
   "source": [
    "<hr>"
   ]
  }
 ],
 "metadata": {
  "kernelspec": {
   "display_name": "Python 3",
   "language": "python",
   "name": "python3"
  },
  "language_info": {
   "codemirror_mode": {
    "name": "ipython",
    "version": 3
   },
   "file_extension": ".py",
   "mimetype": "text/x-python",
   "name": "python",
   "nbconvert_exporter": "python",
   "pygments_lexer": "ipython3",
   "version": "3.6.10"
  }
 },
 "nbformat": 4,
 "nbformat_minor": 4
}
