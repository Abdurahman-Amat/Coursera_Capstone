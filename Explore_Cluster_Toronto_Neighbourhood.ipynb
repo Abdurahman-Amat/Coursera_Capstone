{
 "cells": [
  {
   "cell_type": "markdown",
   "metadata": {},
   "source": [
    "# Exploration and clustering of Totonto neighbourhoods  \n",
    "\n",
    "<h1>Table of contents</h1>\n",
    "\n",
    "<div class=\"alert alert-block alert-info\" style=\"margin-top: 20px\">\n",
    "    <ol>\n",
    "        <li><a href=\"#ref1\">Data Collection</a></li>\n",
    "        <li><a href=\"#ref2\">Data Exploration</a></li>\n",
    "        <li><a href=\"#ref3\">Clustering</a></li>\n",
    "    </ol>\n",
    "</div>\n",
    "<br>\n",
    "<hr>  \n",
    "\n",
    "<h2>\n",
    "<div class=\"alert alert-danger\"\" style=\"margin-top: 20px\">\n",
    "          If the map could NOT be opened, Please view the notebook via Jupyter nbviewer by <br> <a href=\"https://nbviewer.jupyter.org/github/Abdurahman-Amat/Coursera_Capstone/blob/master/Explore_Cluster_Toronto_Neighbourhood.ipynb\" target=\"_blank\">clicking here </a>, thank you!!!.\n",
    "</div>\n",
    "</h2>\n"
   ]
  },
  {
   "cell_type": "markdown",
   "metadata": {},
   "source": [
    "<hr>"
   ]
  },
  {
   "cell_type": "markdown",
   "metadata": {},
   "source": [
    "<a id=\"ref1\"></a>\n",
    "# Data Collection  \n",
    "\n",
    "### Important necessary libraries to collect necessary dataset by doing web scraping and prepare the expected DataFrame"
   ]
  },
  {
   "cell_type": "code",
   "execution_count": 39,
   "metadata": {},
   "outputs": [
    {
     "name": "stdout",
     "output_type": "stream",
     "text": [
      "\n",
      "Libraries are imported.\n"
     ]
    }
   ],
   "source": [
    "import numpy as np\n",
    "from bs4 import BeautifulSoup\n",
    "import requests\n",
    "import pandas as pd\n",
    "import csv\n",
    "# Matplotlib and associated plotting modules\n",
    "import matplotlib.cm as cm\n",
    "import matplotlib.colors as colors\n",
    "#!pip install pgeocode\n",
    "import pgeocode\n",
    "from sty import fg, bg, ef, rs\n",
    "import folium # map rendering library\n",
    "# import k-means from clustering stage\n",
    "from sklearn.cluster import KMeans\n",
    "\n",
    "print('\\nLibraries are imported.')"
   ]
  },
  {
   "cell_type": "markdown",
   "metadata": {},
   "source": [
    "### Perform a little web scraping to get the data  \n",
    "I will use BeautifulSoup to scrape the given website,\n",
    "and save the scraped row data into a CSV file"
   ]
  },
  {
   "cell_type": "code",
   "execution_count": 40,
   "metadata": {},
   "outputs": [],
   "source": [
    "# To get source code of the website\n",
    "main_url = 'https://en.wikipedia.org/wiki/List_of_postal_codes_of_Canada:_M'\n",
    "r = requests.get(main_url)\n",
    "r.encoding = 'utf-8'\n",
    "soup = BeautifulSoup(r.text)\n",
    "# print(soup.prettify())\n",
    "# Noticed that expected information is located within 'table' tag\n",
    "# Therefore make my soup only with the table\n",
    "soup = soup.find('table')\n",
    "#\n",
    "# Open the CSV file\n",
    "csv_file = open('Toronto_Postcode_Borough_Neighbourhood.csv', 'w')\n",
    "# Create the CSV writer object to write contents into CSV file\n",
    "csv_writer = csv.writer(csv_file)\n",
    "for i, soup in enumerate(soup.find_all('tr')):\n",
    "    # print(soup.prettify())\n",
    "    soup_splitted = list(soup.stripped_strings)\n",
    "     # ignore those cells with 'Not assigned' entries for Borough as required in the assignment\n",
    "    if soup_splitted[1]!='Not assigned':\n",
    "        # if 'Neighbourhood' is 'Not assigned', then assign the 'Borough' value to it\n",
    "        if soup_splitted[2]=='Not assigned':\n",
    "            csv_writer.writerow([soup_splitted[0], soup_splitted[1], soup_splitted[1]])\n",
    "        else:\n",
    "            csv_writer.writerow([soup_splitted[0], soup_splitted[1], soup_splitted[2]])\n",
    "    else:\n",
    "        pass\n",
    "# Close the CSV file\n",
    "csv_file.close()"
   ]
  },
  {
   "cell_type": "markdown",
   "metadata": {},
   "source": [
    "### Create the Pandas dataframe from above scraped row data"
   ]
  },
  {
   "cell_type": "code",
   "execution_count": 41,
   "metadata": {},
   "outputs": [
    {
     "data": {
      "text/html": [
       "<div>\n",
       "<style scoped>\n",
       "    .dataframe tbody tr th:only-of-type {\n",
       "        vertical-align: middle;\n",
       "    }\n",
       "\n",
       "    .dataframe tbody tr th {\n",
       "        vertical-align: top;\n",
       "    }\n",
       "\n",
       "    .dataframe thead th {\n",
       "        text-align: right;\n",
       "    }\n",
       "</style>\n",
       "<table border=\"1\" class=\"dataframe\">\n",
       "  <thead>\n",
       "    <tr style=\"text-align: right;\">\n",
       "      <th></th>\n",
       "      <th>Postcode</th>\n",
       "      <th>Borough</th>\n",
       "      <th>Neighbourhood</th>\n",
       "    </tr>\n",
       "  </thead>\n",
       "  <tbody>\n",
       "    <tr>\n",
       "      <th>0</th>\n",
       "      <td>M3A</td>\n",
       "      <td>North York</td>\n",
       "      <td>Parkwoods</td>\n",
       "    </tr>\n",
       "    <tr>\n",
       "      <th>1</th>\n",
       "      <td>M4A</td>\n",
       "      <td>North York</td>\n",
       "      <td>Victoria Village</td>\n",
       "    </tr>\n",
       "    <tr>\n",
       "      <th>2</th>\n",
       "      <td>M5A</td>\n",
       "      <td>Downtown Toronto</td>\n",
       "      <td>Harbourfront</td>\n",
       "    </tr>\n",
       "    <tr>\n",
       "      <th>3</th>\n",
       "      <td>M6A</td>\n",
       "      <td>North York</td>\n",
       "      <td>Lawrence Heights</td>\n",
       "    </tr>\n",
       "    <tr>\n",
       "      <th>4</th>\n",
       "      <td>M6A</td>\n",
       "      <td>North York</td>\n",
       "      <td>Lawrence Manor</td>\n",
       "    </tr>\n",
       "    <tr>\n",
       "      <th>5</th>\n",
       "      <td>M7A</td>\n",
       "      <td>Downtown Toronto</td>\n",
       "      <td>Queen's Park</td>\n",
       "    </tr>\n",
       "    <tr>\n",
       "      <th>6</th>\n",
       "      <td>M9A</td>\n",
       "      <td>Queen's Park</td>\n",
       "      <td>Queen's Park</td>\n",
       "    </tr>\n",
       "    <tr>\n",
       "      <th>7</th>\n",
       "      <td>M1B</td>\n",
       "      <td>Scarborough</td>\n",
       "      <td>Rouge</td>\n",
       "    </tr>\n",
       "    <tr>\n",
       "      <th>8</th>\n",
       "      <td>M1B</td>\n",
       "      <td>Scarborough</td>\n",
       "      <td>Malvern</td>\n",
       "    </tr>\n",
       "    <tr>\n",
       "      <th>9</th>\n",
       "      <td>M3B</td>\n",
       "      <td>North York</td>\n",
       "      <td>Don Mills North</td>\n",
       "    </tr>\n",
       "    <tr>\n",
       "      <th>10</th>\n",
       "      <td>M4B</td>\n",
       "      <td>East York</td>\n",
       "      <td>Woodbine Gardens</td>\n",
       "    </tr>\n",
       "    <tr>\n",
       "      <th>11</th>\n",
       "      <td>M4B</td>\n",
       "      <td>East York</td>\n",
       "      <td>Parkview Hill</td>\n",
       "    </tr>\n",
       "  </tbody>\n",
       "</table>\n",
       "</div>"
      ],
      "text/plain": [
       "   Postcode           Borough     Neighbourhood\n",
       "0       M3A        North York         Parkwoods\n",
       "1       M4A        North York  Victoria Village\n",
       "2       M5A  Downtown Toronto      Harbourfront\n",
       "3       M6A        North York  Lawrence Heights\n",
       "4       M6A        North York    Lawrence Manor\n",
       "5       M7A  Downtown Toronto      Queen's Park\n",
       "6       M9A      Queen's Park      Queen's Park\n",
       "7       M1B       Scarborough             Rouge\n",
       "8       M1B       Scarborough           Malvern\n",
       "9       M3B        North York   Don Mills North\n",
       "10      M4B         East York  Woodbine Gardens\n",
       "11      M4B         East York     Parkview Hill"
      ]
     },
     "execution_count": 41,
     "metadata": {},
     "output_type": "execute_result"
    }
   ],
   "source": [
    "# Define the dataframe from the above collected 'csv' file\n",
    "df = pd.read_csv('Toronto_Postcode_Borough_Neighbourhood.csv')\n",
    "# Look at first few entries\n",
    "df.head(12)"
   ]
  },
  {
   "cell_type": "markdown",
   "metadata": {},
   "source": [
    "Check how many entries we have"
   ]
  },
  {
   "cell_type": "code",
   "execution_count": 42,
   "metadata": {},
   "outputs": [
    {
     "data": {
      "text/plain": [
       "(210, 3)"
      ]
     },
     "execution_count": 42,
     "metadata": {},
     "output_type": "execute_result"
    }
   ],
   "source": [
    "df.shape"
   ]
  },
  {
   "cell_type": "code",
   "execution_count": 43,
   "metadata": {},
   "outputs": [
    {
     "data": {
      "text/html": [
       "<div>\n",
       "<style scoped>\n",
       "    .dataframe tbody tr th:only-of-type {\n",
       "        vertical-align: middle;\n",
       "    }\n",
       "\n",
       "    .dataframe tbody tr th {\n",
       "        vertical-align: top;\n",
       "    }\n",
       "\n",
       "    .dataframe thead th {\n",
       "        text-align: right;\n",
       "    }\n",
       "</style>\n",
       "<table border=\"1\" class=\"dataframe\">\n",
       "  <thead>\n",
       "    <tr style=\"text-align: right;\">\n",
       "      <th></th>\n",
       "      <th>Postcode</th>\n",
       "      <th>Borough</th>\n",
       "      <th>Neighbourhood</th>\n",
       "    </tr>\n",
       "  </thead>\n",
       "  <tbody>\n",
       "    <tr>\n",
       "      <th>2</th>\n",
       "      <td>M5A</td>\n",
       "      <td>Downtown Toronto</td>\n",
       "      <td>Harbourfront</td>\n",
       "    </tr>\n",
       "  </tbody>\n",
       "</table>\n",
       "</div>"
      ],
      "text/plain": [
       "  Postcode           Borough Neighbourhood\n",
       "2      M5A  Downtown Toronto  Harbourfront"
      ]
     },
     "execution_count": 43,
     "metadata": {},
     "output_type": "execute_result"
    }
   ],
   "source": [
    "df[df['Postcode']=='M5A']"
   ]
  },
  {
   "cell_type": "code",
   "execution_count": 44,
   "metadata": {},
   "outputs": [],
   "source": [
    "'''\n",
    "This function will emerge all Neighbourhoods for same Postcodes\n",
    "leav unchanged if there is no repeated Postcodes for Neighbourhoods\n",
    "'''\n",
    "def merge_Neighbourhoods(df):\n",
    "    # find repeated Postcode and number of occurances\n",
    "    unique, counts = np.unique(df.iloc[:, 0].values, return_counts=True)\n",
    "    print(f'There are {len(unique)} of unique Postcodes while {df.shape[0]} of Neighbourhoods.\\n So there are many Neighbourhoods are having the same Postcodes.')\n",
    "    # find the index of Postcodes which are occured more than once\n",
    "    repeat_index = np.argwhere(counts>1)\n",
    "    # Postcodes occured more than once\n",
    "    pc_list = unique[repeat_index][:,0]\n",
    "    Ent_list = []\n",
    "    # loop through all unique postal codes to check\n",
    "    # if there is any multiple neighbourhoods for the same postal code\n",
    "    # if so, then join them as required in the assignment instruciton\n",
    "    for pc in unique: \n",
    "        df_pc = df[df['Postcode']==pc]\n",
    "        # If more than one neighbourhoods for same postal code\n",
    "        if pc in pc_list:\n",
    "            # Then join all neighbourhood names\n",
    "            df_pc_join = ', '.join(df_pc.iloc[:, 2].to_list())\n",
    "            entry = [df_pc.iloc[0, :3][0], df_pc.iloc[0, :3][1], df_pc_join]\n",
    "            Ent_list.append(entry)\n",
    "        # If single neighbourhood for the given postal code\n",
    "        else:\n",
    "            # Then everything is untouched\n",
    "            entry = [df_pc.iloc[0, :3][0], df_pc.iloc[0, :3][1], df_pc.iloc[0, :3][2]]\n",
    "            Ent_list.append(entry)\n",
    "    return Ent_list"
   ]
  },
  {
   "cell_type": "markdown",
   "metadata": {},
   "source": [
    "Apply above prepared function"
   ]
  },
  {
   "cell_type": "code",
   "execution_count": 45,
   "metadata": {},
   "outputs": [
    {
     "name": "stdout",
     "output_type": "stream",
     "text": [
      "There are 103 of unique Postcodes while 210 of Neighbourhoods.\n",
      " So there are many Neighbourhoods are having the same Postcodes.\n"
     ]
    }
   ],
   "source": [
    "new_data_list = merge_Neighbourhoods(df)"
   ]
  },
  {
   "cell_type": "markdown",
   "metadata": {},
   "source": [
    "Check if the function worked as expected"
   ]
  },
  {
   "cell_type": "code",
   "execution_count": 46,
   "metadata": {},
   "outputs": [
    {
     "data": {
      "text/plain": [
       "(103, 3)"
      ]
     },
     "execution_count": 46,
     "metadata": {},
     "output_type": "execute_result"
    }
   ],
   "source": [
    "np.shape(new_data_list)"
   ]
  },
  {
   "cell_type": "markdown",
   "metadata": {},
   "source": [
    "So, it seems the function has done his job  \n",
    "\n",
    "###  Now prepare wanted DataFrame"
   ]
  },
  {
   "cell_type": "code",
   "execution_count": 47,
   "metadata": {},
   "outputs": [],
   "source": [
    "new_df = pd.DataFrame(new_data_list, columns =['Postcode', 'Borough', 'Neighbourhood']) "
   ]
  },
  {
   "cell_type": "markdown",
   "metadata": {},
   "source": [
    "Check the data frame"
   ]
  },
  {
   "cell_type": "code",
   "execution_count": 48,
   "metadata": {},
   "outputs": [
    {
     "data": {
      "text/html": [
       "<div>\n",
       "<style scoped>\n",
       "    .dataframe tbody tr th:only-of-type {\n",
       "        vertical-align: middle;\n",
       "    }\n",
       "\n",
       "    .dataframe tbody tr th {\n",
       "        vertical-align: top;\n",
       "    }\n",
       "\n",
       "    .dataframe thead th {\n",
       "        text-align: right;\n",
       "    }\n",
       "</style>\n",
       "<table border=\"1\" class=\"dataframe\">\n",
       "  <thead>\n",
       "    <tr style=\"text-align: right;\">\n",
       "      <th></th>\n",
       "      <th>Postcode</th>\n",
       "      <th>Borough</th>\n",
       "      <th>Neighbourhood</th>\n",
       "    </tr>\n",
       "  </thead>\n",
       "  <tbody>\n",
       "    <tr>\n",
       "      <th>0</th>\n",
       "      <td>M1B</td>\n",
       "      <td>Scarborough</td>\n",
       "      <td>Rouge, Malvern</td>\n",
       "    </tr>\n",
       "    <tr>\n",
       "      <th>1</th>\n",
       "      <td>M1C</td>\n",
       "      <td>Scarborough</td>\n",
       "      <td>Highland Creek, Rouge Hill, Port Union</td>\n",
       "    </tr>\n",
       "    <tr>\n",
       "      <th>2</th>\n",
       "      <td>M1E</td>\n",
       "      <td>Scarborough</td>\n",
       "      <td>Guildwood, Morningside, West Hill</td>\n",
       "    </tr>\n",
       "    <tr>\n",
       "      <th>3</th>\n",
       "      <td>M1G</td>\n",
       "      <td>Scarborough</td>\n",
       "      <td>Woburn</td>\n",
       "    </tr>\n",
       "    <tr>\n",
       "      <th>4</th>\n",
       "      <td>M1H</td>\n",
       "      <td>Scarborough</td>\n",
       "      <td>Cedarbrae</td>\n",
       "    </tr>\n",
       "  </tbody>\n",
       "</table>\n",
       "</div>"
      ],
      "text/plain": [
       "  Postcode      Borough                           Neighbourhood\n",
       "0      M1B  Scarborough                          Rouge, Malvern\n",
       "1      M1C  Scarborough  Highland Creek, Rouge Hill, Port Union\n",
       "2      M1E  Scarborough       Guildwood, Morningside, West Hill\n",
       "3      M1G  Scarborough                                  Woburn\n",
       "4      M1H  Scarborough                               Cedarbrae"
      ]
     },
     "execution_count": 48,
     "metadata": {},
     "output_type": "execute_result"
    }
   ],
   "source": [
    "new_df.head()"
   ]
  },
  {
   "cell_type": "code",
   "execution_count": 49,
   "metadata": {},
   "outputs": [
    {
     "data": {
      "text/html": [
       "<div>\n",
       "<style scoped>\n",
       "    .dataframe tbody tr th:only-of-type {\n",
       "        vertical-align: middle;\n",
       "    }\n",
       "\n",
       "    .dataframe tbody tr th {\n",
       "        vertical-align: top;\n",
       "    }\n",
       "\n",
       "    .dataframe thead th {\n",
       "        text-align: right;\n",
       "    }\n",
       "</style>\n",
       "<table border=\"1\" class=\"dataframe\">\n",
       "  <thead>\n",
       "    <tr style=\"text-align: right;\">\n",
       "      <th></th>\n",
       "      <th>Postcode</th>\n",
       "      <th>Borough</th>\n",
       "      <th>Neighbourhood</th>\n",
       "    </tr>\n",
       "  </thead>\n",
       "  <tbody>\n",
       "    <tr>\n",
       "      <th>53</th>\n",
       "      <td>M5A</td>\n",
       "      <td>Downtown Toronto</td>\n",
       "      <td>Harbourfront</td>\n",
       "    </tr>\n",
       "  </tbody>\n",
       "</table>\n",
       "</div>"
      ],
      "text/plain": [
       "   Postcode           Borough Neighbourhood\n",
       "53      M5A  Downtown Toronto  Harbourfront"
      ]
     },
     "execution_count": 49,
     "metadata": {},
     "output_type": "execute_result"
    }
   ],
   "source": [
    "new_df[new_df['Postcode']=='M5A']"
   ]
  },
  {
   "cell_type": "markdown",
   "metadata": {},
   "source": [
    "### **Noticed** *that there is only single Neighbourhood for the Postcode 'MA5', while in the assignment instruction it is mentioned  that there are two Meighbourhoods for 'M5A'. It is a possibility that the postal codes are update since the preparation of the course material. Or ...?*"
   ]
  },
  {
   "cell_type": "markdown",
   "metadata": {},
   "source": [
    "### Shape of the dataset"
   ]
  },
  {
   "cell_type": "code",
   "execution_count": 50,
   "metadata": {},
   "outputs": [
    {
     "data": {
      "text/plain": [
       "(103, 3)"
      ]
     },
     "execution_count": 50,
     "metadata": {},
     "output_type": "execute_result"
    }
   ],
   "source": [
    "new_df.shape"
   ]
  },
  {
   "cell_type": "markdown",
   "metadata": {},
   "source": [
    "<hr>"
   ]
  },
  {
   "cell_type": "markdown",
   "metadata": {},
   "source": [
    "### Prepare the location dataset "
   ]
  },
  {
   "cell_type": "code",
   "execution_count": 51,
   "metadata": {},
   "outputs": [],
   "source": [
    "# #!pip install geocoder\n",
    "# import geocoder # import geocoder\n",
    "\n",
    "# # initialize your variable to None\n",
    "# lat_lng_coords = None\n",
    "\n",
    "# # loop until you get the coordinates\n",
    "# while(lat_lng_coords is None):\n",
    "#   g = geocoder.google('{}, Toronto, Ontario'.format('M1E'))\n",
    "#   lat_lng_coords = g.latlng\n",
    "\n",
    "# latitude = lat_lng_coords[0]\n",
    "# longitude = lat_lng_coords[1]\n",
    "# print(latitude, longitude)"
   ]
  },
  {
   "cell_type": "markdown",
   "metadata": {},
   "source": [
    "Above method to collect location data of Toronto Neighbourhoods didn't work even for waiting long time (few minutes).  "
   ]
  },
  {
   "cell_type": "markdown",
   "metadata": {},
   "source": [
    "### Then tried other method via the library **pgeocode**"
   ]
  },
  {
   "cell_type": "code",
   "execution_count": 52,
   "metadata": {},
   "outputs": [
    {
     "name": "stdout",
     "output_type": "stream",
     "text": [
      "Postcode is \u001b[31mM1B\u001b[39m, latitude is \u001b[31m43.81130\u001b[39m, longitude is \u001b[31m-79.19300\u001b[39m\n",
      "Postcode is \u001b[31mM1C\u001b[39m, latitude is \u001b[31m43.78780\u001b[39m, longitude is \u001b[31m-79.15640\u001b[39m\n",
      "Postcode is \u001b[31mM1E\u001b[39m, latitude is \u001b[31m43.76780\u001b[39m, longitude is \u001b[31m-79.18660\u001b[39m\n",
      "Postcode is \u001b[31mM1G\u001b[39m, latitude is \u001b[31m43.77120\u001b[39m, longitude is \u001b[31m-79.21440\u001b[39m\n",
      "Postcode is \u001b[31mM1H\u001b[39m, latitude is \u001b[31m43.76860\u001b[39m, longitude is \u001b[31m-79.23890\u001b[39m\n",
      "Postcode is \u001b[31mM1J\u001b[39m, latitude is \u001b[31m43.74640\u001b[39m, longitude is \u001b[31m-79.23230\u001b[39m\n",
      "Postcode is \u001b[31mM1K\u001b[39m, latitude is \u001b[31m43.72980\u001b[39m, longitude is \u001b[31m-79.26390\u001b[39m\n",
      "Postcode is \u001b[31mM1L\u001b[39m, latitude is \u001b[31m43.71220\u001b[39m, longitude is \u001b[31m-79.28430\u001b[39m\n",
      "Postcode is \u001b[31mM1M\u001b[39m, latitude is \u001b[31m43.72470\u001b[39m, longitude is \u001b[31m-79.23120\u001b[39m\n",
      "Postcode is \u001b[31mM1N\u001b[39m, latitude is \u001b[31m43.69520\u001b[39m, longitude is \u001b[31m-79.26460\u001b[39m\n",
      "Postcode is \u001b[31mM1P\u001b[39m, latitude is \u001b[31m43.76120\u001b[39m, longitude is \u001b[31m-79.27070\u001b[39m\n",
      "Postcode is \u001b[31mM1R\u001b[39m, latitude is \u001b[31m43.75070\u001b[39m, longitude is \u001b[31m-79.30030\u001b[39m\n",
      "Postcode is \u001b[31mM1S\u001b[39m, latitude is \u001b[31m43.79460\u001b[39m, longitude is \u001b[31m-79.26440\u001b[39m\n",
      "Postcode is \u001b[31mM1T\u001b[39m, latitude is \u001b[31m43.78120\u001b[39m, longitude is \u001b[31m-79.30360\u001b[39m\n",
      "Postcode is \u001b[31mM1V\u001b[39m, latitude is \u001b[31m43.81770\u001b[39m, longitude is \u001b[31m-79.28190\u001b[39m\n",
      "Postcode is \u001b[31mM1W\u001b[39m, latitude is \u001b[31m43.80160\u001b[39m, longitude is \u001b[31m-79.32160\u001b[39m\n",
      "Postcode is \u001b[31mM1X\u001b[39m, latitude is \u001b[31m43.83400\u001b[39m, longitude is \u001b[31m-79.20690\u001b[39m\n",
      "Postcode is \u001b[31mM2H\u001b[39m, latitude is \u001b[31m43.80150\u001b[39m, longitude is \u001b[31m-79.35770\u001b[39m\n",
      "Postcode is \u001b[31mM2J\u001b[39m, latitude is \u001b[31m43.78010\u001b[39m, longitude is \u001b[31m-79.34790\u001b[39m\n",
      "Postcode is \u001b[31mM2K\u001b[39m, latitude is \u001b[31m43.77970\u001b[39m, longitude is \u001b[31m-79.38130\u001b[39m\n",
      "Postcode is \u001b[31mM2L\u001b[39m, latitude is \u001b[31m43.75470\u001b[39m, longitude is \u001b[31m-79.37640\u001b[39m\n",
      "Postcode is \u001b[31mM2M\u001b[39m, latitude is \u001b[31m43.79150\u001b[39m, longitude is \u001b[31m-79.41030\u001b[39m\n",
      "Postcode is \u001b[31mM2N\u001b[39m, latitude is \u001b[31m43.76730\u001b[39m, longitude is \u001b[31m-79.41110\u001b[39m\n",
      "Postcode is \u001b[31mM2P\u001b[39m, latitude is \u001b[31m43.75000\u001b[39m, longitude is \u001b[31m-79.39780\u001b[39m\n",
      "Postcode is \u001b[31mM2R\u001b[39m, latitude is \u001b[31m43.77860\u001b[39m, longitude is \u001b[31m-79.44500\u001b[39m\n",
      "Postcode is \u001b[31mM3A\u001b[39m, latitude is \u001b[31m43.75450\u001b[39m, longitude is \u001b[31m-79.33000\u001b[39m\n",
      "Postcode is \u001b[31mM3B\u001b[39m, latitude is \u001b[31m43.74500\u001b[39m, longitude is \u001b[31m-79.35900\u001b[39m\n",
      "Postcode is \u001b[31mM3C\u001b[39m, latitude is \u001b[31m43.73340\u001b[39m, longitude is \u001b[31m-79.33290\u001b[39m\n",
      "Postcode is \u001b[31mM3H\u001b[39m, latitude is \u001b[31m43.75350\u001b[39m, longitude is \u001b[31m-79.44720\u001b[39m\n",
      "Postcode is \u001b[31mM3J\u001b[39m, latitude is \u001b[31m43.76940\u001b[39m, longitude is \u001b[31m-79.49210\u001b[39m\n",
      "Postcode is \u001b[31mM3K\u001b[39m, latitude is \u001b[31m43.73900\u001b[39m, longitude is \u001b[31m-79.46920\u001b[39m\n",
      "Postcode is \u001b[31mM3L\u001b[39m, latitude is \u001b[31m43.73340\u001b[39m, longitude is \u001b[31m-79.51160\u001b[39m\n",
      "Postcode is \u001b[31mM3M\u001b[39m, latitude is \u001b[31m43.73190\u001b[39m, longitude is \u001b[31m-79.49280\u001b[39m\n",
      "Postcode is \u001b[31mM3N\u001b[39m, latitude is \u001b[31m43.75680\u001b[39m, longitude is \u001b[31m-79.52100\u001b[39m\n",
      "Postcode is \u001b[31mM4A\u001b[39m, latitude is \u001b[31m43.72760\u001b[39m, longitude is \u001b[31m-79.31480\u001b[39m\n",
      "Postcode is \u001b[31mM4B\u001b[39m, latitude is \u001b[31m43.70630\u001b[39m, longitude is \u001b[31m-79.30940\u001b[39m\n",
      "Postcode is \u001b[31mM4C\u001b[39m, latitude is \u001b[31m43.69130\u001b[39m, longitude is \u001b[31m-79.31160\u001b[39m\n",
      "Postcode is \u001b[31mM4E\u001b[39m, latitude is \u001b[31m43.67840\u001b[39m, longitude is \u001b[31m-79.29410\u001b[39m\n",
      "Postcode is \u001b[31mM4G\u001b[39m, latitude is \u001b[31m43.71240\u001b[39m, longitude is \u001b[31m-79.36440\u001b[39m\n",
      "Postcode is \u001b[31mM4H\u001b[39m, latitude is \u001b[31m43.70590\u001b[39m, longitude is \u001b[31m-79.34640\u001b[39m\n",
      "Postcode is \u001b[31mM4J\u001b[39m, latitude is \u001b[31m43.68720\u001b[39m, longitude is \u001b[31m-79.33680\u001b[39m\n",
      "Postcode is \u001b[31mM4K\u001b[39m, latitude is \u001b[31m43.68030\u001b[39m, longitude is \u001b[31m-79.35380\u001b[39m\n",
      "Postcode is \u001b[31mM4L\u001b[39m, latitude is \u001b[31m43.66930\u001b[39m, longitude is \u001b[31m-79.31550\u001b[39m\n",
      "Postcode is \u001b[31mM4M\u001b[39m, latitude is \u001b[31m43.65610\u001b[39m, longitude is \u001b[31m-79.34060\u001b[39m\n",
      "Postcode is \u001b[31mM4N\u001b[39m, latitude is \u001b[31m43.73010\u001b[39m, longitude is \u001b[31m-79.39350\u001b[39m\n",
      "Postcode is \u001b[31mM4P\u001b[39m, latitude is \u001b[31m43.71350\u001b[39m, longitude is \u001b[31m-79.38870\u001b[39m\n",
      "Postcode is \u001b[31mM4R\u001b[39m, latitude is \u001b[31m43.71430\u001b[39m, longitude is \u001b[31m-79.40650\u001b[39m\n",
      "Postcode is \u001b[31mM4S\u001b[39m, latitude is \u001b[31m43.70200\u001b[39m, longitude is \u001b[31m-79.38530\u001b[39m\n",
      "Postcode is \u001b[31mM4T\u001b[39m, latitude is \u001b[31m43.68990\u001b[39m, longitude is \u001b[31m-79.38530\u001b[39m\n",
      "Postcode is \u001b[31mM4V\u001b[39m, latitude is \u001b[31m43.68610\u001b[39m, longitude is \u001b[31m-79.40250\u001b[39m\n",
      "Postcode is \u001b[31mM4W\u001b[39m, latitude is \u001b[31m43.68270\u001b[39m, longitude is \u001b[31m-79.37300\u001b[39m\n",
      "Postcode is \u001b[31mM4X\u001b[39m, latitude is \u001b[31m43.66840\u001b[39m, longitude is \u001b[31m-79.36890\u001b[39m\n",
      "Postcode is \u001b[31mM4Y\u001b[39m, latitude is \u001b[31m43.66560\u001b[39m, longitude is \u001b[31m-79.38300\u001b[39m\n",
      "Postcode is \u001b[31mM5A\u001b[39m, latitude is \u001b[31m43.65550\u001b[39m, longitude is \u001b[31m-79.36260\u001b[39m\n",
      "Postcode is \u001b[31mM5B\u001b[39m, latitude is \u001b[31m43.65720\u001b[39m, longitude is \u001b[31m-79.37830\u001b[39m\n",
      "Postcode is \u001b[31mM5C\u001b[39m, latitude is \u001b[31m43.65130\u001b[39m, longitude is \u001b[31m-79.37560\u001b[39m\n",
      "Postcode is \u001b[31mM5E\u001b[39m, latitude is \u001b[31m43.64560\u001b[39m, longitude is \u001b[31m-79.37540\u001b[39m\n",
      "Postcode is \u001b[31mM5G\u001b[39m, latitude is \u001b[31m43.65640\u001b[39m, longitude is \u001b[31m-79.38600\u001b[39m\n",
      "Postcode is \u001b[31mM5H\u001b[39m, latitude is \u001b[31m43.64960\u001b[39m, longitude is \u001b[31m-79.38330\u001b[39m\n",
      "Postcode is \u001b[31mM5J\u001b[39m, latitude is \u001b[31m43.62300\u001b[39m, longitude is \u001b[31m-79.39360\u001b[39m\n",
      "Postcode is \u001b[31mM5K\u001b[39m, latitude is \u001b[31m43.64690\u001b[39m, longitude is \u001b[31m-79.38230\u001b[39m\n",
      "Postcode is \u001b[31mM5L\u001b[39m, latitude is \u001b[31m43.64920\u001b[39m, longitude is \u001b[31m-79.38230\u001b[39m\n",
      "Postcode is \u001b[31mM5M\u001b[39m, latitude is \u001b[31m43.73350\u001b[39m, longitude is \u001b[31m-79.41770\u001b[39m\n",
      "Postcode is \u001b[31mM5N\u001b[39m, latitude is \u001b[31m43.71130\u001b[39m, longitude is \u001b[31m-79.41950\u001b[39m\n",
      "Postcode is \u001b[31mM5P\u001b[39m, latitude is \u001b[31m43.69660\u001b[39m, longitude is \u001b[31m-79.41200\u001b[39m\n",
      "Postcode is \u001b[31mM5R\u001b[39m, latitude is \u001b[31m43.67360\u001b[39m, longitude is \u001b[31m-79.40350\u001b[39m\n",
      "Postcode is \u001b[31mM5S\u001b[39m, latitude is \u001b[31m43.66290\u001b[39m, longitude is \u001b[31m-79.39870\u001b[39m\n",
      "Postcode is \u001b[31mM5T\u001b[39m, latitude is \u001b[31m43.65410\u001b[39m, longitude is \u001b[31m-79.39780\u001b[39m\n",
      "Postcode is \u001b[31mM5V\u001b[39m, latitude is \u001b[31m43.64040\u001b[39m, longitude is \u001b[31m-79.39950\u001b[39m\n",
      "Postcode is \u001b[31mM5W\u001b[39m, latitude is \u001b[31m43.64370\u001b[39m, longitude is \u001b[31m-79.37870\u001b[39m\n",
      "Postcode is \u001b[31mM5X\u001b[39m, latitude is \u001b[31m43.64920\u001b[39m, longitude is \u001b[31m-79.38230\u001b[39m\n",
      "Postcode is \u001b[31mM6A\u001b[39m, latitude is \u001b[31m43.72230\u001b[39m, longitude is \u001b[31m-79.45040\u001b[39m\n",
      "Postcode is \u001b[31mM6B\u001b[39m, latitude is \u001b[31m43.70810\u001b[39m, longitude is \u001b[31m-79.44790\u001b[39m\n",
      "Postcode is \u001b[31mM6C\u001b[39m, latitude is \u001b[31m43.69150\u001b[39m, longitude is \u001b[31m-79.43070\u001b[39m\n",
      "Postcode is \u001b[31mM6E\u001b[39m, latitude is \u001b[31m43.68890\u001b[39m, longitude is \u001b[31m-79.45070\u001b[39m\n",
      "Postcode is \u001b[31mM6G\u001b[39m, latitude is \u001b[31m43.66830\u001b[39m, longitude is \u001b[31m-79.42050\u001b[39m\n",
      "Postcode is \u001b[31mM6H\u001b[39m, latitude is \u001b[31m43.66550\u001b[39m, longitude is \u001b[31m-79.43780\u001b[39m\n",
      "Postcode is \u001b[31mM6J\u001b[39m, latitude is \u001b[31m43.64800\u001b[39m, longitude is \u001b[31m-79.41770\u001b[39m\n",
      "Postcode is \u001b[31mM6K\u001b[39m, latitude is \u001b[31m43.63830\u001b[39m, longitude is \u001b[31m-79.43010\u001b[39m\n",
      "Postcode is \u001b[31mM6L\u001b[39m, latitude is \u001b[31m43.71370\u001b[39m, longitude is \u001b[31m-79.48690\u001b[39m\n",
      "Postcode is \u001b[31mM6M\u001b[39m, latitude is \u001b[31m43.69340\u001b[39m, longitude is \u001b[31m-79.48570\u001b[39m\n",
      "Postcode is \u001b[31mM6N\u001b[39m, latitude is \u001b[31m43.67480\u001b[39m, longitude is \u001b[31m-79.48390\u001b[39m\n",
      "Postcode is \u001b[31mM6P\u001b[39m, latitude is \u001b[31m43.66050\u001b[39m, longitude is \u001b[31m-79.46330\u001b[39m\n",
      "Postcode is \u001b[31mM6R\u001b[39m, latitude is \u001b[31m43.64690\u001b[39m, longitude is \u001b[31m-79.45210\u001b[39m\n",
      "Postcode is \u001b[31mM6S\u001b[39m, latitude is \u001b[31m43.65120\u001b[39m, longitude is \u001b[31m-79.48280\u001b[39m\n",
      "Postcode is \u001b[31mM7A\u001b[39m, latitude is \u001b[31m43.66410\u001b[39m, longitude is \u001b[31m-79.38890\u001b[39m\n",
      "Postcode is \u001b[31mM7R\u001b[39m, latitude is \u001b[31mnan\u001b[39m, longitude is \u001b[31mnan\u001b[39m\n",
      "Postcode is \u001b[31mM7Y\u001b[39m, latitude is \u001b[31m43.78040\u001b[39m, longitude is \u001b[31m-79.25050\u001b[39m\n",
      "Postcode is \u001b[31mM8V\u001b[39m, latitude is \u001b[31m43.60750\u001b[39m, longitude is \u001b[31m-79.50130\u001b[39m\n",
      "Postcode is \u001b[31mM8W\u001b[39m, latitude is \u001b[31m43.60210\u001b[39m, longitude is \u001b[31m-79.54020\u001b[39m\n",
      "Postcode is \u001b[31mM8X\u001b[39m, latitude is \u001b[31m43.65180\u001b[39m, longitude is \u001b[31m-79.50760\u001b[39m\n",
      "Postcode is \u001b[31mM8Y\u001b[39m, latitude is \u001b[31m43.63250\u001b[39m, longitude is \u001b[31m-79.49390\u001b[39m\n",
      "Postcode is \u001b[31mM8Z\u001b[39m, latitude is \u001b[31m43.62560\u001b[39m, longitude is \u001b[31m-79.52310\u001b[39m\n",
      "Postcode is \u001b[31mM9A\u001b[39m, latitude is \u001b[31m43.66620\u001b[39m, longitude is \u001b[31m-79.52820\u001b[39m\n",
      "Postcode is \u001b[31mM9B\u001b[39m, latitude is \u001b[31m43.65050\u001b[39m, longitude is \u001b[31m-79.55170\u001b[39m\n",
      "Postcode is \u001b[31mM9C\u001b[39m, latitude is \u001b[31m43.64370\u001b[39m, longitude is \u001b[31m-79.57670\u001b[39m\n",
      "Postcode is \u001b[31mM9L\u001b[39m, latitude is \u001b[31m43.75980\u001b[39m, longitude is \u001b[31m-79.55650\u001b[39m\n",
      "Postcode is \u001b[31mM9M\u001b[39m, latitude is \u001b[31m43.73660\u001b[39m, longitude is \u001b[31m-79.54010\u001b[39m\n",
      "Postcode is \u001b[31mM9N\u001b[39m, latitude is \u001b[31m43.70680\u001b[39m, longitude is \u001b[31m-79.51700\u001b[39m\n",
      "Postcode is \u001b[31mM9P\u001b[39m, latitude is \u001b[31m43.69490\u001b[39m, longitude is \u001b[31m-79.53230\u001b[39m\n",
      "Postcode is \u001b[31mM9R\u001b[39m, latitude is \u001b[31m43.68980\u001b[39m, longitude is \u001b[31m-79.55820\u001b[39m\n",
      "Postcode is \u001b[31mM9V\u001b[39m, latitude is \u001b[31m43.74320\u001b[39m, longitude is \u001b[31m-79.58760\u001b[39m\n",
      "Postcode is \u001b[31mM9W\u001b[39m, latitude is \u001b[31m43.71440\u001b[39m, longitude is \u001b[31m-79.59090\u001b[39m\n"
     ]
    }
   ],
   "source": [
    "nomi = pgeocode.Nominatim('ca') # 'ca' for Canada\n",
    "for p_code in new_df['Postcode']: # for all Neighbourhoods by their postal codes\n",
    "    locinfo = nomi.query_postal_code(p_code)\n",
    "    #!pip install sty # umcomment when sty is not already installed\n",
    "    print(f'Postcode is '+fg.red + f'{p_code}' + fg.rs+', latitude is '+fg.red + f'{locinfo[9]:.5f}' + fg.rs+', longitude is '+fg.red + f'{locinfo[10]:.5f}' + fg.rs)"
   ]
  },
  {
   "cell_type": "markdown",
   "metadata": {},
   "source": [
    "It is very fast and correct as given in the additional location data 'Geospatial_Coordinates.csv',  \n",
    "However, it could not found latitude and longitude for the neighbourhood with postcode 'M7R'. In addition to this,  \n",
    "the location data has different precisions, e.g , both latitude and longitude in provided location data table have upto six digit of precision while the queried data via **pgeocode** have only upto 4 digits and most of the location data were different after the first or second digits.  *Therefore I wanna use the provided location table.*"
   ]
  },
  {
   "cell_type": "markdown",
   "metadata": {},
   "source": [
    "### Load the provided location data and read it into Pandas DataFrame"
   ]
  },
  {
   "cell_type": "code",
   "execution_count": 53,
   "metadata": {},
   "outputs": [
    {
     "data": {
      "text/html": [
       "<div>\n",
       "<style scoped>\n",
       "    .dataframe tbody tr th:only-of-type {\n",
       "        vertical-align: middle;\n",
       "    }\n",
       "\n",
       "    .dataframe tbody tr th {\n",
       "        vertical-align: top;\n",
       "    }\n",
       "\n",
       "    .dataframe thead th {\n",
       "        text-align: right;\n",
       "    }\n",
       "</style>\n",
       "<table border=\"1\" class=\"dataframe\">\n",
       "  <thead>\n",
       "    <tr style=\"text-align: right;\">\n",
       "      <th></th>\n",
       "      <th>Postal Code</th>\n",
       "      <th>Latitude</th>\n",
       "      <th>Longitude</th>\n",
       "    </tr>\n",
       "  </thead>\n",
       "  <tbody>\n",
       "    <tr>\n",
       "      <th>0</th>\n",
       "      <td>M1B</td>\n",
       "      <td>43.806686</td>\n",
       "      <td>-79.194353</td>\n",
       "    </tr>\n",
       "    <tr>\n",
       "      <th>1</th>\n",
       "      <td>M1C</td>\n",
       "      <td>43.784535</td>\n",
       "      <td>-79.160497</td>\n",
       "    </tr>\n",
       "    <tr>\n",
       "      <th>2</th>\n",
       "      <td>M1E</td>\n",
       "      <td>43.763573</td>\n",
       "      <td>-79.188711</td>\n",
       "    </tr>\n",
       "    <tr>\n",
       "      <th>3</th>\n",
       "      <td>M1G</td>\n",
       "      <td>43.770992</td>\n",
       "      <td>-79.216917</td>\n",
       "    </tr>\n",
       "    <tr>\n",
       "      <th>4</th>\n",
       "      <td>M1H</td>\n",
       "      <td>43.773136</td>\n",
       "      <td>-79.239476</td>\n",
       "    </tr>\n",
       "  </tbody>\n",
       "</table>\n",
       "</div>"
      ],
      "text/plain": [
       "  Postal Code   Latitude  Longitude\n",
       "0         M1B  43.806686 -79.194353\n",
       "1         M1C  43.784535 -79.160497\n",
       "2         M1E  43.763573 -79.188711\n",
       "3         M1G  43.770992 -79.216917\n",
       "4         M1H  43.773136 -79.239476"
      ]
     },
     "execution_count": 53,
     "metadata": {},
     "output_type": "execute_result"
    }
   ],
   "source": [
    "loc_df = pd.read_csv(r'C:\\pythonwork\\data\\Geospatial_Coordinates.csv')\n",
    "loc_df.head()"
   ]
  },
  {
   "cell_type": "code",
   "execution_count": 54,
   "metadata": {},
   "outputs": [
    {
     "data": {
      "text/plain": [
       "(103, 3)"
      ]
     },
     "execution_count": 54,
     "metadata": {},
     "output_type": "execute_result"
    }
   ],
   "source": [
    "# check if we have the full location info\n",
    "loc_df.shape "
   ]
  },
  {
   "cell_type": "code",
   "execution_count": 55,
   "metadata": {},
   "outputs": [
    {
     "data": {
      "text/plain": [
       "Postal Code    0\n",
       "Latitude       0\n",
       "Longitude      0\n",
       "dtype: int64"
      ]
     },
     "execution_count": 55,
     "metadata": {},
     "output_type": "execute_result"
    }
   ],
   "source": [
    "# just to quick ckeck to make sure there is no missing values which may couse errors\n",
    "# in upcomming procedures of this project\n",
    "loc_df.isna().sum()"
   ]
  },
  {
   "cell_type": "markdown",
   "metadata": {},
   "source": [
    "There is no missing values, that is good."
   ]
  },
  {
   "cell_type": "code",
   "execution_count": 56,
   "metadata": {},
   "outputs": [],
   "source": [
    "# Rename the column to make it easier to merge this location data with above neighbourhood data\n",
    "loc_df.rename(columns={\"Postal Code\":\"Postcode\"}, inplace=True)"
   ]
  },
  {
   "cell_type": "code",
   "execution_count": 57,
   "metadata": {},
   "outputs": [
    {
     "data": {
      "text/html": [
       "<div>\n",
       "<style scoped>\n",
       "    .dataframe tbody tr th:only-of-type {\n",
       "        vertical-align: middle;\n",
       "    }\n",
       "\n",
       "    .dataframe tbody tr th {\n",
       "        vertical-align: top;\n",
       "    }\n",
       "\n",
       "    .dataframe thead th {\n",
       "        text-align: right;\n",
       "    }\n",
       "</style>\n",
       "<table border=\"1\" class=\"dataframe\">\n",
       "  <thead>\n",
       "    <tr style=\"text-align: right;\">\n",
       "      <th></th>\n",
       "      <th>Postcode</th>\n",
       "      <th>Latitude</th>\n",
       "      <th>Longitude</th>\n",
       "    </tr>\n",
       "  </thead>\n",
       "  <tbody>\n",
       "    <tr>\n",
       "      <th>0</th>\n",
       "      <td>M1B</td>\n",
       "      <td>43.806686</td>\n",
       "      <td>-79.194353</td>\n",
       "    </tr>\n",
       "    <tr>\n",
       "      <th>1</th>\n",
       "      <td>M1C</td>\n",
       "      <td>43.784535</td>\n",
       "      <td>-79.160497</td>\n",
       "    </tr>\n",
       "    <tr>\n",
       "      <th>2</th>\n",
       "      <td>M1E</td>\n",
       "      <td>43.763573</td>\n",
       "      <td>-79.188711</td>\n",
       "    </tr>\n",
       "    <tr>\n",
       "      <th>3</th>\n",
       "      <td>M1G</td>\n",
       "      <td>43.770992</td>\n",
       "      <td>-79.216917</td>\n",
       "    </tr>\n",
       "    <tr>\n",
       "      <th>4</th>\n",
       "      <td>M1H</td>\n",
       "      <td>43.773136</td>\n",
       "      <td>-79.239476</td>\n",
       "    </tr>\n",
       "  </tbody>\n",
       "</table>\n",
       "</div>"
      ],
      "text/plain": [
       "  Postcode   Latitude  Longitude\n",
       "0      M1B  43.806686 -79.194353\n",
       "1      M1C  43.784535 -79.160497\n",
       "2      M1E  43.763573 -79.188711\n",
       "3      M1G  43.770992 -79.216917\n",
       "4      M1H  43.773136 -79.239476"
      ]
     },
     "execution_count": 57,
     "metadata": {},
     "output_type": "execute_result"
    }
   ],
   "source": [
    "loc_df.head()"
   ]
  },
  {
   "cell_type": "markdown",
   "metadata": {},
   "source": [
    " Merge above two datasets to get expected dataset"
   ]
  },
  {
   "cell_type": "code",
   "execution_count": 58,
   "metadata": {},
   "outputs": [
    {
     "data": {
      "text/html": [
       "<div>\n",
       "<style scoped>\n",
       "    .dataframe tbody tr th:only-of-type {\n",
       "        vertical-align: middle;\n",
       "    }\n",
       "\n",
       "    .dataframe tbody tr th {\n",
       "        vertical-align: top;\n",
       "    }\n",
       "\n",
       "    .dataframe thead th {\n",
       "        text-align: right;\n",
       "    }\n",
       "</style>\n",
       "<table border=\"1\" class=\"dataframe\">\n",
       "  <thead>\n",
       "    <tr style=\"text-align: right;\">\n",
       "      <th></th>\n",
       "      <th>Postcode</th>\n",
       "      <th>Borough</th>\n",
       "      <th>Neighbourhood</th>\n",
       "      <th>Latitude</th>\n",
       "      <th>Longitude</th>\n",
       "    </tr>\n",
       "  </thead>\n",
       "  <tbody>\n",
       "    <tr>\n",
       "      <th>0</th>\n",
       "      <td>M1B</td>\n",
       "      <td>Scarborough</td>\n",
       "      <td>Rouge, Malvern</td>\n",
       "      <td>43.806686</td>\n",
       "      <td>-79.194353</td>\n",
       "    </tr>\n",
       "    <tr>\n",
       "      <th>1</th>\n",
       "      <td>M1C</td>\n",
       "      <td>Scarborough</td>\n",
       "      <td>Highland Creek, Rouge Hill, Port Union</td>\n",
       "      <td>43.784535</td>\n",
       "      <td>-79.160497</td>\n",
       "    </tr>\n",
       "    <tr>\n",
       "      <th>2</th>\n",
       "      <td>M1E</td>\n",
       "      <td>Scarborough</td>\n",
       "      <td>Guildwood, Morningside, West Hill</td>\n",
       "      <td>43.763573</td>\n",
       "      <td>-79.188711</td>\n",
       "    </tr>\n",
       "    <tr>\n",
       "      <th>3</th>\n",
       "      <td>M1G</td>\n",
       "      <td>Scarborough</td>\n",
       "      <td>Woburn</td>\n",
       "      <td>43.770992</td>\n",
       "      <td>-79.216917</td>\n",
       "    </tr>\n",
       "    <tr>\n",
       "      <th>4</th>\n",
       "      <td>M1H</td>\n",
       "      <td>Scarborough</td>\n",
       "      <td>Cedarbrae</td>\n",
       "      <td>43.773136</td>\n",
       "      <td>-79.239476</td>\n",
       "    </tr>\n",
       "    <tr>\n",
       "      <th>5</th>\n",
       "      <td>M1J</td>\n",
       "      <td>Scarborough</td>\n",
       "      <td>Scarborough Village</td>\n",
       "      <td>43.744734</td>\n",
       "      <td>-79.239476</td>\n",
       "    </tr>\n",
       "    <tr>\n",
       "      <th>6</th>\n",
       "      <td>M1K</td>\n",
       "      <td>Scarborough</td>\n",
       "      <td>East Birchmount Park, Ionview, Kennedy Park</td>\n",
       "      <td>43.727929</td>\n",
       "      <td>-79.262029</td>\n",
       "    </tr>\n",
       "    <tr>\n",
       "      <th>7</th>\n",
       "      <td>M1L</td>\n",
       "      <td>Scarborough</td>\n",
       "      <td>Clairlea, Golden Mile, Oakridge</td>\n",
       "      <td>43.711112</td>\n",
       "      <td>-79.284577</td>\n",
       "    </tr>\n",
       "    <tr>\n",
       "      <th>8</th>\n",
       "      <td>M1M</td>\n",
       "      <td>Scarborough</td>\n",
       "      <td>Cliffcrest, Cliffside, Scarborough Village West</td>\n",
       "      <td>43.716316</td>\n",
       "      <td>-79.239476</td>\n",
       "    </tr>\n",
       "    <tr>\n",
       "      <th>9</th>\n",
       "      <td>M1N</td>\n",
       "      <td>Scarborough</td>\n",
       "      <td>Birch Cliff, Cliffside West</td>\n",
       "      <td>43.692657</td>\n",
       "      <td>-79.264848</td>\n",
       "    </tr>\n",
       "  </tbody>\n",
       "</table>\n",
       "</div>"
      ],
      "text/plain": [
       "  Postcode      Borough                                    Neighbourhood  \\\n",
       "0      M1B  Scarborough                                   Rouge, Malvern   \n",
       "1      M1C  Scarborough           Highland Creek, Rouge Hill, Port Union   \n",
       "2      M1E  Scarborough                Guildwood, Morningside, West Hill   \n",
       "3      M1G  Scarborough                                           Woburn   \n",
       "4      M1H  Scarborough                                        Cedarbrae   \n",
       "5      M1J  Scarborough                              Scarborough Village   \n",
       "6      M1K  Scarborough      East Birchmount Park, Ionview, Kennedy Park   \n",
       "7      M1L  Scarborough                  Clairlea, Golden Mile, Oakridge   \n",
       "8      M1M  Scarborough  Cliffcrest, Cliffside, Scarborough Village West   \n",
       "9      M1N  Scarborough                      Birch Cliff, Cliffside West   \n",
       "\n",
       "    Latitude  Longitude  \n",
       "0  43.806686 -79.194353  \n",
       "1  43.784535 -79.160497  \n",
       "2  43.763573 -79.188711  \n",
       "3  43.770992 -79.216917  \n",
       "4  43.773136 -79.239476  \n",
       "5  43.744734 -79.239476  \n",
       "6  43.727929 -79.262029  \n",
       "7  43.711112 -79.284577  \n",
       "8  43.716316 -79.239476  \n",
       "9  43.692657 -79.264848  "
      ]
     },
     "execution_count": 58,
     "metadata": {},
     "output_type": "execute_result"
    }
   ],
   "source": [
    "neigh_loc_df = pd.merge(new_df, loc_df, on='Postcode')\n",
    "neigh_loc_df.head(10)"
   ]
  },
  {
   "cell_type": "markdown",
   "metadata": {},
   "source": [
    "Check the dataset again to make sure the merging is done correctly as expected."
   ]
  },
  {
   "cell_type": "code",
   "execution_count": 59,
   "metadata": {},
   "outputs": [
    {
     "data": {
      "text/plain": [
       "(103, 5)"
      ]
     },
     "execution_count": 59,
     "metadata": {},
     "output_type": "execute_result"
    }
   ],
   "source": [
    "neigh_loc_df.shape"
   ]
  },
  {
   "cell_type": "markdown",
   "metadata": {},
   "source": [
    "### So, it seems everything went well."
   ]
  },
  {
   "cell_type": "markdown",
   "metadata": {},
   "source": [
    "<hr>  \n",
    "\n",
    "<a id=\"ref2\"></a>\n",
    "# Data Exploration  "
   ]
  },
  {
   "cell_type": "markdown",
   "metadata": {},
   "source": [
    "Look at how many Boroughs in the dataset"
   ]
  },
  {
   "cell_type": "code",
   "execution_count": 60,
   "metadata": {},
   "outputs": [
    {
     "name": "stdout",
     "output_type": "stream",
     "text": [
      "The dataframe has 11 boroughs and 103 neighborhoods.\n"
     ]
    }
   ],
   "source": [
    "print('The dataframe has {} boroughs and {} neighborhoods.'.format(\n",
    "        len(neigh_loc_df['Borough'].unique()),\n",
    "        neigh_loc_df.shape[0]\n",
    "    )\n",
    ")"
   ]
  },
  {
   "cell_type": "markdown",
   "metadata": {},
   "source": [
    "Check look at Borough column and filter those which has the word Toronto in Borough names. "
   ]
  },
  {
   "cell_type": "code",
   "execution_count": 61,
   "metadata": {},
   "outputs": [
    {
     "name": "stdout",
     "output_type": "stream",
     "text": [
      "['Scarborough' 'North York' 'East York' 'East Toronto' 'Central Toronto'\n",
      " 'Downtown Toronto' 'York' 'West Toronto' 'Mississauga' 'Etobicoke'\n",
      " \"Queen's Park\"]\n"
     ]
    }
   ],
   "source": [
    "unique_boroughs = neigh_loc_df['Borough'].unique()\n",
    "# unique Boroughs are\n",
    "print(unique_boroughs)"
   ]
  },
  {
   "cell_type": "code",
   "execution_count": 62,
   "metadata": {},
   "outputs": [
    {
     "name": "stdout",
     "output_type": "stream",
     "text": [
      "Boroughs with the word Toronto are : ['East Toronto', 'Central Toronto', 'Downtown Toronto', 'West Toronto']\n"
     ]
    }
   ],
   "source": [
    "b_Toronto = []\n",
    "for b in unique_boroughs:\n",
    "    if len(b.split(' '))>1:\n",
    "        if 'Toronto' in b.split(' '):\n",
    "            b_Toronto.append(b)\n",
    "        else:\n",
    "            pass\n",
    "    else:\n",
    "        pass\n",
    "print(f'Boroughs with the word Toronto are : {b_Toronto}')"
   ]
  },
  {
   "cell_type": "code",
   "execution_count": 63,
   "metadata": {},
   "outputs": [],
   "source": [
    "filter_Toronto = neigh_loc_df['Borough'].isin(b_Toronto)"
   ]
  },
  {
   "cell_type": "code",
   "execution_count": 64,
   "metadata": {},
   "outputs": [
    {
     "data": {
      "text/html": [
       "<div>\n",
       "<style scoped>\n",
       "    .dataframe tbody tr th:only-of-type {\n",
       "        vertical-align: middle;\n",
       "    }\n",
       "\n",
       "    .dataframe tbody tr th {\n",
       "        vertical-align: top;\n",
       "    }\n",
       "\n",
       "    .dataframe thead th {\n",
       "        text-align: right;\n",
       "    }\n",
       "</style>\n",
       "<table border=\"1\" class=\"dataframe\">\n",
       "  <thead>\n",
       "    <tr style=\"text-align: right;\">\n",
       "      <th></th>\n",
       "      <th>Postcode</th>\n",
       "      <th>Borough</th>\n",
       "      <th>Neighbourhood</th>\n",
       "      <th>Latitude</th>\n",
       "      <th>Longitude</th>\n",
       "    </tr>\n",
       "  </thead>\n",
       "  <tbody>\n",
       "    <tr>\n",
       "      <th>0</th>\n",
       "      <td>M4E</td>\n",
       "      <td>East Toronto</td>\n",
       "      <td>The Beaches</td>\n",
       "      <td>43.676357</td>\n",
       "      <td>-79.293031</td>\n",
       "    </tr>\n",
       "    <tr>\n",
       "      <th>1</th>\n",
       "      <td>M4K</td>\n",
       "      <td>East Toronto</td>\n",
       "      <td>The Danforth West, Riverdale</td>\n",
       "      <td>43.679557</td>\n",
       "      <td>-79.352188</td>\n",
       "    </tr>\n",
       "    <tr>\n",
       "      <th>2</th>\n",
       "      <td>M4L</td>\n",
       "      <td>East Toronto</td>\n",
       "      <td>The Beaches West, India Bazaar</td>\n",
       "      <td>43.668999</td>\n",
       "      <td>-79.315572</td>\n",
       "    </tr>\n",
       "    <tr>\n",
       "      <th>3</th>\n",
       "      <td>M4M</td>\n",
       "      <td>East Toronto</td>\n",
       "      <td>Studio District</td>\n",
       "      <td>43.659526</td>\n",
       "      <td>-79.340923</td>\n",
       "    </tr>\n",
       "    <tr>\n",
       "      <th>4</th>\n",
       "      <td>M4N</td>\n",
       "      <td>Central Toronto</td>\n",
       "      <td>Lawrence Park</td>\n",
       "      <td>43.728020</td>\n",
       "      <td>-79.388790</td>\n",
       "    </tr>\n",
       "  </tbody>\n",
       "</table>\n",
       "</div>"
      ],
      "text/plain": [
       "  Postcode          Borough                   Neighbourhood   Latitude  \\\n",
       "0      M4E     East Toronto                     The Beaches  43.676357   \n",
       "1      M4K     East Toronto    The Danforth West, Riverdale  43.679557   \n",
       "2      M4L     East Toronto  The Beaches West, India Bazaar  43.668999   \n",
       "3      M4M     East Toronto                 Studio District  43.659526   \n",
       "4      M4N  Central Toronto                   Lawrence Park  43.728020   \n",
       "\n",
       "   Longitude  \n",
       "0 -79.293031  \n",
       "1 -79.352188  \n",
       "2 -79.315572  \n",
       "3 -79.340923  \n",
       "4 -79.388790  "
      ]
     },
     "execution_count": 64,
     "metadata": {},
     "output_type": "execute_result"
    }
   ],
   "source": [
    "Toronto_df = neigh_loc_df[filter_Toronto].reset_index(drop=True)\n",
    "Toronto_df.head()"
   ]
  },
  {
   "cell_type": "code",
   "execution_count": 65,
   "metadata": {},
   "outputs": [
    {
     "data": {
      "text/plain": [
       "(39, 5)"
      ]
     },
     "execution_count": 65,
     "metadata": {},
     "output_type": "execute_result"
    }
   ],
   "source": [
    "Toronto_df.shape"
   ]
  },
  {
   "cell_type": "code",
   "execution_count": 66,
   "metadata": {},
   "outputs": [],
   "source": [
    "# Geolocation of Toronto\n",
    "Toronto_lat, Toronto_long = 43.651070, -79.347015"
   ]
  },
  {
   "cell_type": "markdown",
   "metadata": {},
   "source": [
    "Plot the map of Toronto with those marked Boroughs which have the name with the word Toronto"
   ]
  },
  {
   "cell_type": "code",
   "execution_count": 67,
   "metadata": {},
   "outputs": [
    {
     "data": {
      "text/html": [
       "<div style=\"width:100%;\"><div style=\"position:relative;width:100%;height:0;padding-bottom:60%;\"><iframe src=\"data:text/html;charset=utf-8;base64,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\" style=\"position:absolute;width:100%;height:100%;left:0;top:0;border:none !important;\" allowfullscreen webkitallowfullscreen mozallowfullscreen></iframe></div></div>"
      ],
      "text/plain": [
       "<folium.folium.Map at 0x1fd06a549b0>"
      ]
     },
     "execution_count": 67,
     "metadata": {},
     "output_type": "execute_result"
    }
   ],
   "source": [
    "# create map of toronto using latitude and longitude values\n",
    "map_Toronto = folium.Map(location=[Toronto_lat, Toronto_long], zoom_start=12)\n",
    "\n",
    "# add markers to map\n",
    "for lat, lng, borough, neighborhood in zip(Toronto_df['Latitude'], Toronto_df['Longitude'], Toronto_df['Borough'], Toronto_df['Neighbourhood']):\n",
    "    label = '{}, {}'.format(neighborhood, borough)\n",
    "    label = folium.Popup(label, parse_html=True)\n",
    "    folium.CircleMarker(\n",
    "        [lat, lng],\n",
    "        radius=5,\n",
    "        popup=label,\n",
    "        color='blue',\n",
    "        fill=True,\n",
    "        fill_color='#3186cc',\n",
    "        fill_opacity=0.7,\n",
    "        parse_html=False).add_to(map_Toronto)  \n",
    "    \n",
    "map_Toronto"
   ]
  },
  {
   "cell_type": "markdown",
   "metadata": {},
   "source": [
    "<hr>"
   ]
  },
  {
   "cell_type": "markdown",
   "metadata": {},
   "source": [
    "<a id=\"ref3\"></a>\n",
    "# Clastering  "
   ]
  },
  {
   "cell_type": "code",
   "execution_count": 68,
   "metadata": {},
   "outputs": [
    {
     "data": {
      "text/plain": [
       "39"
      ]
     },
     "execution_count": 68,
     "metadata": {},
     "output_type": "execute_result"
    }
   ],
   "source": [
    "# set number of clusters, since there are four Boroughs with the names including the word Toronto\n",
    "kclusters = 4\n",
    "# K-means clustering does not work well with categorical features, so drop them\n",
    "Toronto_clustering = Toronto_df.drop(['Postcode', 'Borough', 'Neighbourhood'], axis=1)\n",
    "# run k-means clustering\n",
    "kmeans = KMeans(n_clusters=kclusters, random_state=0).fit(Toronto_clustering)\n",
    "\n",
    "# check cluster labels generated for each row in the dataframe\n",
    "len(kmeans.labels_)#[0:10] "
   ]
  },
  {
   "cell_type": "markdown",
   "metadata": {},
   "source": [
    "Add claster labels"
   ]
  },
  {
   "cell_type": "code",
   "execution_count": 69,
   "metadata": {},
   "outputs": [
    {
     "data": {
      "text/html": [
       "<div>\n",
       "<style scoped>\n",
       "    .dataframe tbody tr th:only-of-type {\n",
       "        vertical-align: middle;\n",
       "    }\n",
       "\n",
       "    .dataframe tbody tr th {\n",
       "        vertical-align: top;\n",
       "    }\n",
       "\n",
       "    .dataframe thead th {\n",
       "        text-align: right;\n",
       "    }\n",
       "</style>\n",
       "<table border=\"1\" class=\"dataframe\">\n",
       "  <thead>\n",
       "    <tr style=\"text-align: right;\">\n",
       "      <th></th>\n",
       "      <th>Cluster Labels</th>\n",
       "      <th>Latitude</th>\n",
       "      <th>Longitude</th>\n",
       "    </tr>\n",
       "  </thead>\n",
       "  <tbody>\n",
       "    <tr>\n",
       "      <th>0</th>\n",
       "      <td>1</td>\n",
       "      <td>43.676357</td>\n",
       "      <td>-79.293031</td>\n",
       "    </tr>\n",
       "    <tr>\n",
       "      <th>1</th>\n",
       "      <td>1</td>\n",
       "      <td>43.679557</td>\n",
       "      <td>-79.352188</td>\n",
       "    </tr>\n",
       "    <tr>\n",
       "      <th>2</th>\n",
       "      <td>1</td>\n",
       "      <td>43.668999</td>\n",
       "      <td>-79.315572</td>\n",
       "    </tr>\n",
       "    <tr>\n",
       "      <th>3</th>\n",
       "      <td>1</td>\n",
       "      <td>43.659526</td>\n",
       "      <td>-79.340923</td>\n",
       "    </tr>\n",
       "    <tr>\n",
       "      <th>4</th>\n",
       "      <td>2</td>\n",
       "      <td>43.728020</td>\n",
       "      <td>-79.388790</td>\n",
       "    </tr>\n",
       "  </tbody>\n",
       "</table>\n",
       "</div>"
      ],
      "text/plain": [
       "   Cluster Labels   Latitude  Longitude\n",
       "0               1  43.676357 -79.293031\n",
       "1               1  43.679557 -79.352188\n",
       "2               1  43.668999 -79.315572\n",
       "3               1  43.659526 -79.340923\n",
       "4               2  43.728020 -79.388790"
      ]
     },
     "execution_count": 69,
     "metadata": {},
     "output_type": "execute_result"
    }
   ],
   "source": [
    "Toronto_clustering.insert(0, 'Cluster Labels', kmeans.labels_)\n",
    "Toronto_clustering.head()"
   ]
  },
  {
   "cell_type": "code",
   "execution_count": 70,
   "metadata": {},
   "outputs": [
    {
     "data": {
      "text/html": [
       "<div>\n",
       "<style scoped>\n",
       "    .dataframe tbody tr th:only-of-type {\n",
       "        vertical-align: middle;\n",
       "    }\n",
       "\n",
       "    .dataframe tbody tr th {\n",
       "        vertical-align: top;\n",
       "    }\n",
       "\n",
       "    .dataframe thead th {\n",
       "        text-align: right;\n",
       "    }\n",
       "</style>\n",
       "<table border=\"1\" class=\"dataframe\">\n",
       "  <thead>\n",
       "    <tr style=\"text-align: right;\">\n",
       "      <th></th>\n",
       "      <th>Postcode</th>\n",
       "      <th>Borough</th>\n",
       "      <th>Neighbourhood</th>\n",
       "      <th>Latitude</th>\n",
       "      <th>Longitude</th>\n",
       "      <th>Cluster Labels</th>\n",
       "    </tr>\n",
       "  </thead>\n",
       "  <tbody>\n",
       "    <tr>\n",
       "      <th>0</th>\n",
       "      <td>M4E</td>\n",
       "      <td>East Toronto</td>\n",
       "      <td>The Beaches</td>\n",
       "      <td>43.676357</td>\n",
       "      <td>-79.293031</td>\n",
       "      <td>1</td>\n",
       "    </tr>\n",
       "    <tr>\n",
       "      <th>1</th>\n",
       "      <td>M4K</td>\n",
       "      <td>East Toronto</td>\n",
       "      <td>The Danforth West, Riverdale</td>\n",
       "      <td>43.679557</td>\n",
       "      <td>-79.352188</td>\n",
       "      <td>1</td>\n",
       "    </tr>\n",
       "    <tr>\n",
       "      <th>2</th>\n",
       "      <td>M4L</td>\n",
       "      <td>East Toronto</td>\n",
       "      <td>The Beaches West, India Bazaar</td>\n",
       "      <td>43.668999</td>\n",
       "      <td>-79.315572</td>\n",
       "      <td>1</td>\n",
       "    </tr>\n",
       "    <tr>\n",
       "      <th>3</th>\n",
       "      <td>M4M</td>\n",
       "      <td>East Toronto</td>\n",
       "      <td>Studio District</td>\n",
       "      <td>43.659526</td>\n",
       "      <td>-79.340923</td>\n",
       "      <td>1</td>\n",
       "    </tr>\n",
       "    <tr>\n",
       "      <th>4</th>\n",
       "      <td>M4N</td>\n",
       "      <td>Central Toronto</td>\n",
       "      <td>Lawrence Park</td>\n",
       "      <td>43.728020</td>\n",
       "      <td>-79.388790</td>\n",
       "      <td>2</td>\n",
       "    </tr>\n",
       "    <tr>\n",
       "      <th>5</th>\n",
       "      <td>M4P</td>\n",
       "      <td>Central Toronto</td>\n",
       "      <td>Davisville North</td>\n",
       "      <td>43.712751</td>\n",
       "      <td>-79.390197</td>\n",
       "      <td>2</td>\n",
       "    </tr>\n",
       "    <tr>\n",
       "      <th>6</th>\n",
       "      <td>M4R</td>\n",
       "      <td>Central Toronto</td>\n",
       "      <td>North Toronto West</td>\n",
       "      <td>43.715383</td>\n",
       "      <td>-79.405678</td>\n",
       "      <td>2</td>\n",
       "    </tr>\n",
       "    <tr>\n",
       "      <th>7</th>\n",
       "      <td>M4S</td>\n",
       "      <td>Central Toronto</td>\n",
       "      <td>Davisville</td>\n",
       "      <td>43.704324</td>\n",
       "      <td>-79.388790</td>\n",
       "      <td>2</td>\n",
       "    </tr>\n",
       "    <tr>\n",
       "      <th>8</th>\n",
       "      <td>M4T</td>\n",
       "      <td>Central Toronto</td>\n",
       "      <td>Moore Park, Summerhill East</td>\n",
       "      <td>43.689574</td>\n",
       "      <td>-79.383160</td>\n",
       "      <td>2</td>\n",
       "    </tr>\n",
       "    <tr>\n",
       "      <th>9</th>\n",
       "      <td>M4V</td>\n",
       "      <td>Central Toronto</td>\n",
       "      <td>Deer Park, Forest Hill SE, Rathnelly, South Hi...</td>\n",
       "      <td>43.686412</td>\n",
       "      <td>-79.400049</td>\n",
       "      <td>2</td>\n",
       "    </tr>\n",
       "  </tbody>\n",
       "</table>\n",
       "</div>"
      ],
      "text/plain": [
       "  Postcode          Borough  \\\n",
       "0      M4E     East Toronto   \n",
       "1      M4K     East Toronto   \n",
       "2      M4L     East Toronto   \n",
       "3      M4M     East Toronto   \n",
       "4      M4N  Central Toronto   \n",
       "5      M4P  Central Toronto   \n",
       "6      M4R  Central Toronto   \n",
       "7      M4S  Central Toronto   \n",
       "8      M4T  Central Toronto   \n",
       "9      M4V  Central Toronto   \n",
       "\n",
       "                                       Neighbourhood   Latitude  Longitude  \\\n",
       "0                                        The Beaches  43.676357 -79.293031   \n",
       "1                       The Danforth West, Riverdale  43.679557 -79.352188   \n",
       "2                     The Beaches West, India Bazaar  43.668999 -79.315572   \n",
       "3                                    Studio District  43.659526 -79.340923   \n",
       "4                                      Lawrence Park  43.728020 -79.388790   \n",
       "5                                   Davisville North  43.712751 -79.390197   \n",
       "6                                 North Toronto West  43.715383 -79.405678   \n",
       "7                                         Davisville  43.704324 -79.388790   \n",
       "8                        Moore Park, Summerhill East  43.689574 -79.383160   \n",
       "9  Deer Park, Forest Hill SE, Rathnelly, South Hi...  43.686412 -79.400049   \n",
       "\n",
       "   Cluster Labels  \n",
       "0               1  \n",
       "1               1  \n",
       "2               1  \n",
       "3               1  \n",
       "4               2  \n",
       "5               2  \n",
       "6               2  \n",
       "7               2  \n",
       "8               2  \n",
       "9               2  "
      ]
     },
     "execution_count": 70,
     "metadata": {},
     "output_type": "execute_result"
    }
   ],
   "source": [
    "# Merge Toronto_claustering and Toronto_df  \n",
    "Toronto_clustered = pd.merge(Toronto_df, Toronto_clustering, left_on=[\"Latitude\", \"Longitude\"], right_on=[\"Latitude\", \"Longitude\"])\n",
    "Toronto_clustered.head(10)"
   ]
  },
  {
   "cell_type": "code",
   "execution_count": 71,
   "metadata": {},
   "outputs": [
    {
     "data": {
      "text/plain": [
       "(39, 6)"
      ]
     },
     "execution_count": 71,
     "metadata": {},
     "output_type": "execute_result"
    }
   ],
   "source": [
    "Toronto_clustered.shape"
   ]
  },
  {
   "cell_type": "code",
   "execution_count": null,
   "metadata": {},
   "outputs": [],
   "source": []
  },
  {
   "cell_type": "markdown",
   "metadata": {},
   "source": [
    "### Look at each cluster and classified Boroughs to them by the model"
   ]
  },
  {
   "cell_type": "code",
   "execution_count": 72,
   "metadata": {},
   "outputs": [
    {
     "data": {
      "text/html": [
       "<div>\n",
       "<style scoped>\n",
       "    .dataframe tbody tr th:only-of-type {\n",
       "        vertical-align: middle;\n",
       "    }\n",
       "\n",
       "    .dataframe tbody tr th {\n",
       "        vertical-align: top;\n",
       "    }\n",
       "\n",
       "    .dataframe thead th {\n",
       "        text-align: right;\n",
       "    }\n",
       "</style>\n",
       "<table border=\"1\" class=\"dataframe\">\n",
       "  <thead>\n",
       "    <tr style=\"text-align: right;\">\n",
       "      <th></th>\n",
       "      <th>Postcode</th>\n",
       "      <th>Borough</th>\n",
       "      <th>Neighbourhood</th>\n",
       "      <th>Latitude</th>\n",
       "      <th>Longitude</th>\n",
       "      <th>Cluster Labels</th>\n",
       "    </tr>\n",
       "  </thead>\n",
       "  <tbody>\n",
       "    <tr>\n",
       "      <th>30</th>\n",
       "      <td>M6G</td>\n",
       "      <td>Downtown Toronto</td>\n",
       "      <td>Christie</td>\n",
       "      <td>43.669542</td>\n",
       "      <td>-79.422564</td>\n",
       "      <td>0</td>\n",
       "    </tr>\n",
       "    <tr>\n",
       "      <th>31</th>\n",
       "      <td>M6H</td>\n",
       "      <td>West Toronto</td>\n",
       "      <td>Dovercourt Village, Dufferin</td>\n",
       "      <td>43.669005</td>\n",
       "      <td>-79.442259</td>\n",
       "      <td>0</td>\n",
       "    </tr>\n",
       "    <tr>\n",
       "      <th>32</th>\n",
       "      <td>M6J</td>\n",
       "      <td>West Toronto</td>\n",
       "      <td>Little Portugal, Trinity</td>\n",
       "      <td>43.647927</td>\n",
       "      <td>-79.419750</td>\n",
       "      <td>0</td>\n",
       "    </tr>\n",
       "    <tr>\n",
       "      <th>33</th>\n",
       "      <td>M6K</td>\n",
       "      <td>West Toronto</td>\n",
       "      <td>Brockton, Exhibition Place, Parkdale Village</td>\n",
       "      <td>43.636847</td>\n",
       "      <td>-79.428191</td>\n",
       "      <td>0</td>\n",
       "    </tr>\n",
       "    <tr>\n",
       "      <th>34</th>\n",
       "      <td>M6P</td>\n",
       "      <td>West Toronto</td>\n",
       "      <td>High Park, The Junction South</td>\n",
       "      <td>43.661608</td>\n",
       "      <td>-79.464763</td>\n",
       "      <td>0</td>\n",
       "    </tr>\n",
       "    <tr>\n",
       "      <th>35</th>\n",
       "      <td>M6R</td>\n",
       "      <td>West Toronto</td>\n",
       "      <td>Parkdale, Roncesvalles</td>\n",
       "      <td>43.648960</td>\n",
       "      <td>-79.456325</td>\n",
       "      <td>0</td>\n",
       "    </tr>\n",
       "    <tr>\n",
       "      <th>36</th>\n",
       "      <td>M6S</td>\n",
       "      <td>West Toronto</td>\n",
       "      <td>Runnymede, Swansea</td>\n",
       "      <td>43.651571</td>\n",
       "      <td>-79.484450</td>\n",
       "      <td>0</td>\n",
       "    </tr>\n",
       "  </tbody>\n",
       "</table>\n",
       "</div>"
      ],
      "text/plain": [
       "   Postcode           Borough                                 Neighbourhood  \\\n",
       "30      M6G  Downtown Toronto                                      Christie   \n",
       "31      M6H      West Toronto                  Dovercourt Village, Dufferin   \n",
       "32      M6J      West Toronto                      Little Portugal, Trinity   \n",
       "33      M6K      West Toronto  Brockton, Exhibition Place, Parkdale Village   \n",
       "34      M6P      West Toronto                 High Park, The Junction South   \n",
       "35      M6R      West Toronto                        Parkdale, Roncesvalles   \n",
       "36      M6S      West Toronto                            Runnymede, Swansea   \n",
       "\n",
       "     Latitude  Longitude  Cluster Labels  \n",
       "30  43.669542 -79.422564               0  \n",
       "31  43.669005 -79.442259               0  \n",
       "32  43.647927 -79.419750               0  \n",
       "33  43.636847 -79.428191               0  \n",
       "34  43.661608 -79.464763               0  \n",
       "35  43.648960 -79.456325               0  \n",
       "36  43.651571 -79.484450               0  "
      ]
     },
     "execution_count": 72,
     "metadata": {},
     "output_type": "execute_result"
    }
   ],
   "source": [
    "# cluster label: 0\n",
    "Toronto_clustered[Toronto_clustered['Cluster Labels']==0]"
   ]
  },
  {
   "cell_type": "code",
   "execution_count": 73,
   "metadata": {},
   "outputs": [
    {
     "data": {
      "text/html": [
       "<div>\n",
       "<style scoped>\n",
       "    .dataframe tbody tr th:only-of-type {\n",
       "        vertical-align: middle;\n",
       "    }\n",
       "\n",
       "    .dataframe tbody tr th {\n",
       "        vertical-align: top;\n",
       "    }\n",
       "\n",
       "    .dataframe thead th {\n",
       "        text-align: right;\n",
       "    }\n",
       "</style>\n",
       "<table border=\"1\" class=\"dataframe\">\n",
       "  <thead>\n",
       "    <tr style=\"text-align: right;\">\n",
       "      <th></th>\n",
       "      <th>Postcode</th>\n",
       "      <th>Borough</th>\n",
       "      <th>Neighbourhood</th>\n",
       "      <th>Latitude</th>\n",
       "      <th>Longitude</th>\n",
       "      <th>Cluster Labels</th>\n",
       "    </tr>\n",
       "  </thead>\n",
       "  <tbody>\n",
       "    <tr>\n",
       "      <th>0</th>\n",
       "      <td>M4E</td>\n",
       "      <td>East Toronto</td>\n",
       "      <td>The Beaches</td>\n",
       "      <td>43.676357</td>\n",
       "      <td>-79.293031</td>\n",
       "      <td>1</td>\n",
       "    </tr>\n",
       "    <tr>\n",
       "      <th>1</th>\n",
       "      <td>M4K</td>\n",
       "      <td>East Toronto</td>\n",
       "      <td>The Danforth West, Riverdale</td>\n",
       "      <td>43.679557</td>\n",
       "      <td>-79.352188</td>\n",
       "      <td>1</td>\n",
       "    </tr>\n",
       "    <tr>\n",
       "      <th>2</th>\n",
       "      <td>M4L</td>\n",
       "      <td>East Toronto</td>\n",
       "      <td>The Beaches West, India Bazaar</td>\n",
       "      <td>43.668999</td>\n",
       "      <td>-79.315572</td>\n",
       "      <td>1</td>\n",
       "    </tr>\n",
       "    <tr>\n",
       "      <th>3</th>\n",
       "      <td>M4M</td>\n",
       "      <td>East Toronto</td>\n",
       "      <td>Studio District</td>\n",
       "      <td>43.659526</td>\n",
       "      <td>-79.340923</td>\n",
       "      <td>1</td>\n",
       "    </tr>\n",
       "    <tr>\n",
       "      <th>38</th>\n",
       "      <td>M7Y</td>\n",
       "      <td>East Toronto</td>\n",
       "      <td>Business Reply Mail Processing Centre 969 Eastern</td>\n",
       "      <td>43.662744</td>\n",
       "      <td>-79.321558</td>\n",
       "      <td>1</td>\n",
       "    </tr>\n",
       "  </tbody>\n",
       "</table>\n",
       "</div>"
      ],
      "text/plain": [
       "   Postcode       Borough                                      Neighbourhood  \\\n",
       "0       M4E  East Toronto                                        The Beaches   \n",
       "1       M4K  East Toronto                       The Danforth West, Riverdale   \n",
       "2       M4L  East Toronto                     The Beaches West, India Bazaar   \n",
       "3       M4M  East Toronto                                    Studio District   \n",
       "38      M7Y  East Toronto  Business Reply Mail Processing Centre 969 Eastern   \n",
       "\n",
       "     Latitude  Longitude  Cluster Labels  \n",
       "0   43.676357 -79.293031               1  \n",
       "1   43.679557 -79.352188               1  \n",
       "2   43.668999 -79.315572               1  \n",
       "3   43.659526 -79.340923               1  \n",
       "38  43.662744 -79.321558               1  "
      ]
     },
     "execution_count": 73,
     "metadata": {},
     "output_type": "execute_result"
    }
   ],
   "source": [
    "# cluster label: 1\n",
    "Toronto_clustered[Toronto_clustered['Cluster Labels']==1]"
   ]
  },
  {
   "cell_type": "code",
   "execution_count": 74,
   "metadata": {},
   "outputs": [
    {
     "data": {
      "text/html": [
       "<div>\n",
       "<style scoped>\n",
       "    .dataframe tbody tr th:only-of-type {\n",
       "        vertical-align: middle;\n",
       "    }\n",
       "\n",
       "    .dataframe tbody tr th {\n",
       "        vertical-align: top;\n",
       "    }\n",
       "\n",
       "    .dataframe thead th {\n",
       "        text-align: right;\n",
       "    }\n",
       "</style>\n",
       "<table border=\"1\" class=\"dataframe\">\n",
       "  <thead>\n",
       "    <tr style=\"text-align: right;\">\n",
       "      <th></th>\n",
       "      <th>Postcode</th>\n",
       "      <th>Borough</th>\n",
       "      <th>Neighbourhood</th>\n",
       "      <th>Latitude</th>\n",
       "      <th>Longitude</th>\n",
       "      <th>Cluster Labels</th>\n",
       "    </tr>\n",
       "  </thead>\n",
       "  <tbody>\n",
       "    <tr>\n",
       "      <th>4</th>\n",
       "      <td>M4N</td>\n",
       "      <td>Central Toronto</td>\n",
       "      <td>Lawrence Park</td>\n",
       "      <td>43.728020</td>\n",
       "      <td>-79.388790</td>\n",
       "      <td>2</td>\n",
       "    </tr>\n",
       "    <tr>\n",
       "      <th>5</th>\n",
       "      <td>M4P</td>\n",
       "      <td>Central Toronto</td>\n",
       "      <td>Davisville North</td>\n",
       "      <td>43.712751</td>\n",
       "      <td>-79.390197</td>\n",
       "      <td>2</td>\n",
       "    </tr>\n",
       "    <tr>\n",
       "      <th>6</th>\n",
       "      <td>M4R</td>\n",
       "      <td>Central Toronto</td>\n",
       "      <td>North Toronto West</td>\n",
       "      <td>43.715383</td>\n",
       "      <td>-79.405678</td>\n",
       "      <td>2</td>\n",
       "    </tr>\n",
       "    <tr>\n",
       "      <th>7</th>\n",
       "      <td>M4S</td>\n",
       "      <td>Central Toronto</td>\n",
       "      <td>Davisville</td>\n",
       "      <td>43.704324</td>\n",
       "      <td>-79.388790</td>\n",
       "      <td>2</td>\n",
       "    </tr>\n",
       "    <tr>\n",
       "      <th>8</th>\n",
       "      <td>M4T</td>\n",
       "      <td>Central Toronto</td>\n",
       "      <td>Moore Park, Summerhill East</td>\n",
       "      <td>43.689574</td>\n",
       "      <td>-79.383160</td>\n",
       "      <td>2</td>\n",
       "    </tr>\n",
       "    <tr>\n",
       "      <th>9</th>\n",
       "      <td>M4V</td>\n",
       "      <td>Central Toronto</td>\n",
       "      <td>Deer Park, Forest Hill SE, Rathnelly, South Hi...</td>\n",
       "      <td>43.686412</td>\n",
       "      <td>-79.400049</td>\n",
       "      <td>2</td>\n",
       "    </tr>\n",
       "    <tr>\n",
       "      <th>22</th>\n",
       "      <td>M5N</td>\n",
       "      <td>Central Toronto</td>\n",
       "      <td>Roselawn</td>\n",
       "      <td>43.711695</td>\n",
       "      <td>-79.416936</td>\n",
       "      <td>2</td>\n",
       "    </tr>\n",
       "    <tr>\n",
       "      <th>23</th>\n",
       "      <td>M5P</td>\n",
       "      <td>Central Toronto</td>\n",
       "      <td>Forest Hill North, Forest Hill West</td>\n",
       "      <td>43.696948</td>\n",
       "      <td>-79.411307</td>\n",
       "      <td>2</td>\n",
       "    </tr>\n",
       "  </tbody>\n",
       "</table>\n",
       "</div>"
      ],
      "text/plain": [
       "   Postcode          Borough  \\\n",
       "4       M4N  Central Toronto   \n",
       "5       M4P  Central Toronto   \n",
       "6       M4R  Central Toronto   \n",
       "7       M4S  Central Toronto   \n",
       "8       M4T  Central Toronto   \n",
       "9       M4V  Central Toronto   \n",
       "22      M5N  Central Toronto   \n",
       "23      M5P  Central Toronto   \n",
       "\n",
       "                                        Neighbourhood   Latitude  Longitude  \\\n",
       "4                                       Lawrence Park  43.728020 -79.388790   \n",
       "5                                    Davisville North  43.712751 -79.390197   \n",
       "6                                  North Toronto West  43.715383 -79.405678   \n",
       "7                                          Davisville  43.704324 -79.388790   \n",
       "8                         Moore Park, Summerhill East  43.689574 -79.383160   \n",
       "9   Deer Park, Forest Hill SE, Rathnelly, South Hi...  43.686412 -79.400049   \n",
       "22                                           Roselawn  43.711695 -79.416936   \n",
       "23                Forest Hill North, Forest Hill West  43.696948 -79.411307   \n",
       "\n",
       "    Cluster Labels  \n",
       "4                2  \n",
       "5                2  \n",
       "6                2  \n",
       "7                2  \n",
       "8                2  \n",
       "9                2  \n",
       "22               2  \n",
       "23               2  "
      ]
     },
     "execution_count": 74,
     "metadata": {},
     "output_type": "execute_result"
    }
   ],
   "source": [
    "# cluster label: 2\n",
    "Toronto_clustered[Toronto_clustered['Cluster Labels']==2]"
   ]
  },
  {
   "cell_type": "code",
   "execution_count": 75,
   "metadata": {},
   "outputs": [
    {
     "data": {
      "text/html": [
       "<div>\n",
       "<style scoped>\n",
       "    .dataframe tbody tr th:only-of-type {\n",
       "        vertical-align: middle;\n",
       "    }\n",
       "\n",
       "    .dataframe tbody tr th {\n",
       "        vertical-align: top;\n",
       "    }\n",
       "\n",
       "    .dataframe thead th {\n",
       "        text-align: right;\n",
       "    }\n",
       "</style>\n",
       "<table border=\"1\" class=\"dataframe\">\n",
       "  <thead>\n",
       "    <tr style=\"text-align: right;\">\n",
       "      <th></th>\n",
       "      <th>Postcode</th>\n",
       "      <th>Borough</th>\n",
       "      <th>Neighbourhood</th>\n",
       "      <th>Latitude</th>\n",
       "      <th>Longitude</th>\n",
       "      <th>Cluster Labels</th>\n",
       "    </tr>\n",
       "  </thead>\n",
       "  <tbody>\n",
       "    <tr>\n",
       "      <th>10</th>\n",
       "      <td>M4W</td>\n",
       "      <td>Downtown Toronto</td>\n",
       "      <td>Rosedale</td>\n",
       "      <td>43.679563</td>\n",
       "      <td>-79.377529</td>\n",
       "      <td>3</td>\n",
       "    </tr>\n",
       "    <tr>\n",
       "      <th>11</th>\n",
       "      <td>M4X</td>\n",
       "      <td>Downtown Toronto</td>\n",
       "      <td>Cabbagetown, St. James Town</td>\n",
       "      <td>43.667967</td>\n",
       "      <td>-79.367675</td>\n",
       "      <td>3</td>\n",
       "    </tr>\n",
       "    <tr>\n",
       "      <th>12</th>\n",
       "      <td>M4Y</td>\n",
       "      <td>Downtown Toronto</td>\n",
       "      <td>Church and Wellesley</td>\n",
       "      <td>43.665860</td>\n",
       "      <td>-79.383160</td>\n",
       "      <td>3</td>\n",
       "    </tr>\n",
       "    <tr>\n",
       "      <th>13</th>\n",
       "      <td>M5A</td>\n",
       "      <td>Downtown Toronto</td>\n",
       "      <td>Harbourfront</td>\n",
       "      <td>43.654260</td>\n",
       "      <td>-79.360636</td>\n",
       "      <td>3</td>\n",
       "    </tr>\n",
       "    <tr>\n",
       "      <th>14</th>\n",
       "      <td>M5B</td>\n",
       "      <td>Downtown Toronto</td>\n",
       "      <td>Ryerson, Garden District</td>\n",
       "      <td>43.657162</td>\n",
       "      <td>-79.378937</td>\n",
       "      <td>3</td>\n",
       "    </tr>\n",
       "    <tr>\n",
       "      <th>15</th>\n",
       "      <td>M5C</td>\n",
       "      <td>Downtown Toronto</td>\n",
       "      <td>St. James Town</td>\n",
       "      <td>43.651494</td>\n",
       "      <td>-79.375418</td>\n",
       "      <td>3</td>\n",
       "    </tr>\n",
       "    <tr>\n",
       "      <th>16</th>\n",
       "      <td>M5E</td>\n",
       "      <td>Downtown Toronto</td>\n",
       "      <td>Berczy Park</td>\n",
       "      <td>43.644771</td>\n",
       "      <td>-79.373306</td>\n",
       "      <td>3</td>\n",
       "    </tr>\n",
       "    <tr>\n",
       "      <th>17</th>\n",
       "      <td>M5G</td>\n",
       "      <td>Downtown Toronto</td>\n",
       "      <td>Central Bay Street</td>\n",
       "      <td>43.657952</td>\n",
       "      <td>-79.387383</td>\n",
       "      <td>3</td>\n",
       "    </tr>\n",
       "    <tr>\n",
       "      <th>18</th>\n",
       "      <td>M5H</td>\n",
       "      <td>Downtown Toronto</td>\n",
       "      <td>Adelaide, King, Richmond</td>\n",
       "      <td>43.650571</td>\n",
       "      <td>-79.384568</td>\n",
       "      <td>3</td>\n",
       "    </tr>\n",
       "    <tr>\n",
       "      <th>19</th>\n",
       "      <td>M5J</td>\n",
       "      <td>Downtown Toronto</td>\n",
       "      <td>Harbourfront East, Toronto Islands, Union Station</td>\n",
       "      <td>43.640816</td>\n",
       "      <td>-79.381752</td>\n",
       "      <td>3</td>\n",
       "    </tr>\n",
       "    <tr>\n",
       "      <th>20</th>\n",
       "      <td>M5K</td>\n",
       "      <td>Downtown Toronto</td>\n",
       "      <td>Design Exchange, Toronto Dominion Centre</td>\n",
       "      <td>43.647177</td>\n",
       "      <td>-79.381576</td>\n",
       "      <td>3</td>\n",
       "    </tr>\n",
       "    <tr>\n",
       "      <th>21</th>\n",
       "      <td>M5L</td>\n",
       "      <td>Downtown Toronto</td>\n",
       "      <td>Commerce Court, Victoria Hotel</td>\n",
       "      <td>43.648198</td>\n",
       "      <td>-79.379817</td>\n",
       "      <td>3</td>\n",
       "    </tr>\n",
       "    <tr>\n",
       "      <th>24</th>\n",
       "      <td>M5R</td>\n",
       "      <td>Central Toronto</td>\n",
       "      <td>The Annex, North Midtown, Yorkville</td>\n",
       "      <td>43.672710</td>\n",
       "      <td>-79.405678</td>\n",
       "      <td>3</td>\n",
       "    </tr>\n",
       "    <tr>\n",
       "      <th>25</th>\n",
       "      <td>M5S</td>\n",
       "      <td>Downtown Toronto</td>\n",
       "      <td>Harbord, University of Toronto</td>\n",
       "      <td>43.662696</td>\n",
       "      <td>-79.400049</td>\n",
       "      <td>3</td>\n",
       "    </tr>\n",
       "    <tr>\n",
       "      <th>26</th>\n",
       "      <td>M5T</td>\n",
       "      <td>Downtown Toronto</td>\n",
       "      <td>Chinatown, Grange Park, Kensington Market</td>\n",
       "      <td>43.653206</td>\n",
       "      <td>-79.400049</td>\n",
       "      <td>3</td>\n",
       "    </tr>\n",
       "    <tr>\n",
       "      <th>27</th>\n",
       "      <td>M5V</td>\n",
       "      <td>Downtown Toronto</td>\n",
       "      <td>CN Tower, Bathurst Quay, Island airport, Harbo...</td>\n",
       "      <td>43.628947</td>\n",
       "      <td>-79.394420</td>\n",
       "      <td>3</td>\n",
       "    </tr>\n",
       "    <tr>\n",
       "      <th>28</th>\n",
       "      <td>M5W</td>\n",
       "      <td>Downtown Toronto</td>\n",
       "      <td>Stn A PO Boxes 25 The Esplanade</td>\n",
       "      <td>43.646435</td>\n",
       "      <td>-79.374846</td>\n",
       "      <td>3</td>\n",
       "    </tr>\n",
       "    <tr>\n",
       "      <th>29</th>\n",
       "      <td>M5X</td>\n",
       "      <td>Downtown Toronto</td>\n",
       "      <td>First Canadian Place, Underground city</td>\n",
       "      <td>43.648429</td>\n",
       "      <td>-79.382280</td>\n",
       "      <td>3</td>\n",
       "    </tr>\n",
       "    <tr>\n",
       "      <th>37</th>\n",
       "      <td>M7A</td>\n",
       "      <td>Downtown Toronto</td>\n",
       "      <td>Queen's Park</td>\n",
       "      <td>43.662301</td>\n",
       "      <td>-79.389494</td>\n",
       "      <td>3</td>\n",
       "    </tr>\n",
       "  </tbody>\n",
       "</table>\n",
       "</div>"
      ],
      "text/plain": [
       "   Postcode           Borough  \\\n",
       "10      M4W  Downtown Toronto   \n",
       "11      M4X  Downtown Toronto   \n",
       "12      M4Y  Downtown Toronto   \n",
       "13      M5A  Downtown Toronto   \n",
       "14      M5B  Downtown Toronto   \n",
       "15      M5C  Downtown Toronto   \n",
       "16      M5E  Downtown Toronto   \n",
       "17      M5G  Downtown Toronto   \n",
       "18      M5H  Downtown Toronto   \n",
       "19      M5J  Downtown Toronto   \n",
       "20      M5K  Downtown Toronto   \n",
       "21      M5L  Downtown Toronto   \n",
       "24      M5R   Central Toronto   \n",
       "25      M5S  Downtown Toronto   \n",
       "26      M5T  Downtown Toronto   \n",
       "27      M5V  Downtown Toronto   \n",
       "28      M5W  Downtown Toronto   \n",
       "29      M5X  Downtown Toronto   \n",
       "37      M7A  Downtown Toronto   \n",
       "\n",
       "                                        Neighbourhood   Latitude  Longitude  \\\n",
       "10                                           Rosedale  43.679563 -79.377529   \n",
       "11                        Cabbagetown, St. James Town  43.667967 -79.367675   \n",
       "12                               Church and Wellesley  43.665860 -79.383160   \n",
       "13                                       Harbourfront  43.654260 -79.360636   \n",
       "14                           Ryerson, Garden District  43.657162 -79.378937   \n",
       "15                                     St. James Town  43.651494 -79.375418   \n",
       "16                                        Berczy Park  43.644771 -79.373306   \n",
       "17                                 Central Bay Street  43.657952 -79.387383   \n",
       "18                           Adelaide, King, Richmond  43.650571 -79.384568   \n",
       "19  Harbourfront East, Toronto Islands, Union Station  43.640816 -79.381752   \n",
       "20           Design Exchange, Toronto Dominion Centre  43.647177 -79.381576   \n",
       "21                     Commerce Court, Victoria Hotel  43.648198 -79.379817   \n",
       "24                The Annex, North Midtown, Yorkville  43.672710 -79.405678   \n",
       "25                     Harbord, University of Toronto  43.662696 -79.400049   \n",
       "26          Chinatown, Grange Park, Kensington Market  43.653206 -79.400049   \n",
       "27  CN Tower, Bathurst Quay, Island airport, Harbo...  43.628947 -79.394420   \n",
       "28                    Stn A PO Boxes 25 The Esplanade  43.646435 -79.374846   \n",
       "29             First Canadian Place, Underground city  43.648429 -79.382280   \n",
       "37                                       Queen's Park  43.662301 -79.389494   \n",
       "\n",
       "    Cluster Labels  \n",
       "10               3  \n",
       "11               3  \n",
       "12               3  \n",
       "13               3  \n",
       "14               3  \n",
       "15               3  \n",
       "16               3  \n",
       "17               3  \n",
       "18               3  \n",
       "19               3  \n",
       "20               3  \n",
       "21               3  \n",
       "24               3  \n",
       "25               3  \n",
       "26               3  \n",
       "27               3  \n",
       "28               3  \n",
       "29               3  \n",
       "37               3  "
      ]
     },
     "execution_count": 75,
     "metadata": {},
     "output_type": "execute_result"
    }
   ],
   "source": [
    "# cluster label: 3\n",
    "Toronto_clustered[Toronto_clustered['Cluster Labels']==3]"
   ]
  },
  {
   "cell_type": "markdown",
   "metadata": {},
   "source": [
    "### Plot the clastering result on the map of Toronto"
   ]
  },
  {
   "cell_type": "code",
   "execution_count": 76,
   "metadata": {},
   "outputs": [
    {
     "data": {
      "text/html": [
       "<div style=\"width:100%;\"><div style=\"position:relative;width:100%;height:0;padding-bottom:60%;\"><iframe src=\"data:text/html;charset=utf-8;base64,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\" style=\"position:absolute;width:100%;height:100%;left:0;top:0;border:none !important;\" allowfullscreen webkitallowfullscreen mozallowfullscreen></iframe></div></div>"
      ],
      "text/plain": [
       "<folium.folium.Map at 0x1fd06ae34a8>"
      ]
     },
     "execution_count": 76,
     "metadata": {},
     "output_type": "execute_result"
    }
   ],
   "source": [
    "# create map of Toronto using latitude and longitude values\n",
    "map_Toronto_cluster = folium.Map(location=[Toronto_lat, Toronto_long], zoom_start=12)\n",
    "\n",
    "# set color scheme for the clusters\n",
    "x = np.arange(kclusters)\n",
    "ys = [i + x + (i*x)**2 for i in range(kclusters)]\n",
    "colors_array = cm.gist_rainbow(np.linspace(0, 1, len(ys)))\n",
    "gist_rainbow = [colors.rgb2hex(i) for i in colors_array]\n",
    "\n",
    "# add markers to the map\n",
    "markers_colors = []\n",
    "for lat, lon, poi, cluster in zip(Toronto_clustered['Latitude'], Toronto_clustered['Longitude'], Toronto_clustered['Neighbourhood'], Toronto_clustered['Cluster Labels']):\n",
    "    label = folium.Popup(str(poi) + ' Cluster ' + str(cluster), parse_html=True)\n",
    "    folium.CircleMarker(\n",
    "        [lat, lon],\n",
    "        radius=5,\n",
    "        popup=label,\n",
    "        color=gist_rainbow[cluster-1],\n",
    "        fill=True,\n",
    "        fill_color=gist_rainbow[cluster-1],\n",
    "        fill_opacity=1.0).add_to(map_Toronto_cluster)\n",
    "    \n",
    "# \n",
    "legend_html =   '''\n",
    "                <div style=\"position: fixed; \n",
    "                            bottom: 100px; right: 50px; width: 300px; height: 150px; \n",
    "                            border:2px solid grey; z-index:9999; font-size:14px;\n",
    "                            \">&nbsp; Boroughs <br>\n",
    "                              <br>\n",
    "                              &nbsp; Cluster 0 : West Toronto (6/7)&nbsp; <i class=\"fa fa-circle fa-1x\" style=\"color:#ff00bf\"></i><br>\n",
    "                              &nbsp; Cluster 1 : East Toronto (5/5) &nbsp; <i class=\"fa fa-circle fa-1x\" style=\"color:#ff0029\"></i><br>\n",
    "                              &nbsp; Cluster 2 : Central Toronto (8/8) &nbsp; <i class=\"fa fa-circle fa-1x\" style=\"color:#5cff00\"></i><br>\n",
    "                              &nbsp; Cluster 3 : Downtown Toronto (18/19) &nbsp; <i class=\"fa fa-circle fa-1x\" style=\"color:#008fff\"></i>\n",
    "                              \n",
    "                              \n",
    "                </div>\n",
    "                ''' \n",
    "map_Toronto_cluster.get_root().html.add_child(folium.Element(legend_html))\n",
    "       \n",
    "map_Toronto_cluster\n"
   ]
  },
  {
   "cell_type": "markdown",
   "metadata": {},
   "source": [
    "<hr>"
   ]
  },
  {
   "cell_type": "markdown",
   "metadata": {},
   "source": [
    "The model gave almost perfect result. "
   ]
  },
  {
   "cell_type": "markdown",
   "metadata": {},
   "source": [
    "<hr>"
   ]
  }
 ],
 "metadata": {
  "kernelspec": {
   "display_name": "Python 3",
   "language": "python",
   "name": "python3"
  },
  "language_info": {
   "codemirror_mode": {
    "name": "ipython",
    "version": 3
   },
   "file_extension": ".py",
   "mimetype": "text/x-python",
   "name": "python",
   "nbconvert_exporter": "python",
   "pygments_lexer": "ipython3",
   "version": "3.6.10"
  }
 },
 "nbformat": 4,
 "nbformat_minor": 4
}
