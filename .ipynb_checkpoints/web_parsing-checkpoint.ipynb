{
 "cells": [
  {
   "cell_type": "code",
   "execution_count": 4,
   "metadata": {},
   "outputs": [],
   "source": [
    "from bs4 import BeautifulSoup\n",
    "import requests"
   ]
  },
  {
   "cell_type": "code",
   "execution_count": 53,
   "metadata": {},
   "outputs": [
    {
     "name": "stdout",
     "output_type": "stream",
     "text": [
      "置于维吾尔金字塔（Pyramids of Uyghur）\n",
      "37.html\n"
     ]
    }
   ],
   "source": [
    "# To get source code of the website\n",
    "main_url = 'https://www.uyghur-archive.com/uighurbiz-net/'\n",
    "r = requests.get(main_url)\n",
    "r.encoding = 'utf-8'\n",
    "soup = BeautifulSoup(r.text)\n",
    "#print(soup.prettify())\n",
    "\n",
    "# get the title of each article\n",
    "article_1_title = soup.find('ul').li.a.text\n",
    "print(article_1_title)\n",
    "article_1_link = soup.find('ul').li.a.get('href')\n",
    "print(article_1_link)"
   ]
  },
  {
   "cell_type": "code",
   "execution_count": 54,
   "metadata": {},
   "outputs": [
    {
     "data": {
      "text/plain": [
       "'https://www.uyghur-archive.com/uighurbiz-net/37.html'"
      ]
     },
     "execution_count": 54,
     "metadata": {},
     "output_type": "execute_result"
    }
   ],
   "source": [
    "url_article_1 = main_url + article_1_link\n",
    "url_article_1"
   ]
  },
  {
   "cell_type": "code",
   "execution_count": 111,
   "metadata": {},
   "outputs": [
    {
     "name": "stdout",
     "output_type": "stream",
     "text": [
      "在土耳其Ergine Qun报纸2008年2月14日发表了题目为“置于西安的维吾尔金字塔”的文章，此文章也在土耳其各个网站上发布并进行着讨论。\n",
      "在文章中提到“建造发现于维吾尔区的，建造时代早于埃及金字塔100多年，且比埃及金字塔更高且更雄伟的金字塔的人民真是维吾尔突厥人。此地完全禁止入内，在这几个金字塔里存有着皮罗多-突厥文（proto-turk）字。此地连考古学家都是禁止入内的，因为就是这些神秘的金字塔可能引起世界历史会的重写，至今中国界内离西安市距100Km的秦岭山上有由古代维吾尔文明所创建的100多个小金字塔和300m高的金字塔”\n",
      "为考察研究这些金字塔而1994允许在陕西搞过一系列的旅游考察的德国科学家阿尔提威格。哈吾斯多富发布自己的照片相册里的几张照片给世界人民。他认为，金字塔创建历史至少是公元前2500年前左右。\n"
     ]
    }
   ],
   "source": [
    "r_1 = requests.get(main_url+article_1_link)\n",
    "r_1.encoding = 'utf-8'\n",
    "soup_1 = BeautifulSoup(r_1.text)\n",
    "#print(soup_1.prettify())\n",
    "main_text = soup_1.find('div', id=\"logidPanel\")\n",
    "ps = main_text.find_all('p')[1]\n",
    "print(ps.text)"
   ]
  },
  {
   "cell_type": "code",
   "execution_count": 113,
   "metadata": {},
   "outputs": [
    {
     "name": "stdout",
     "output_type": "stream",
     "text": [
      "The title of this article: \n",
      "\n",
      " 在土耳其Ergine Qun报纸2008年2月14日发表了题目为“置于西安的维吾尔金字塔”的文章，此文章也在土耳其各个网站上发布并进行着讨论。\n"
     ]
    }
   ],
   "source": [
    "'''\n",
    "Print the title / header sentence of the article\n",
    " This is done by distiguishing the first header sentence\n",
    "by the line break '<br/>' tag and the whole text is splitted\n",
    "by the line break '<br/>' via '.stripped_strings' generator\n",
    "'''\n",
    "ps_splitted = list(ps.stripped_strings)\n",
    "print(f'The title of this article: \\n\\n {ps_splitted[0]}')"
   ]
  },
  {
   "cell_type": "code",
   "execution_count": null,
   "metadata": {},
   "outputs": [],
   "source": []
  }
 ],
 "metadata": {
  "kernelspec": {
   "display_name": "Python 3",
   "language": "python",
   "name": "python3"
  },
  "language_info": {
   "codemirror_mode": {
    "name": "ipython",
    "version": 3
   },
   "file_extension": ".py",
   "mimetype": "text/x-python",
   "name": "python",
   "nbconvert_exporter": "python",
   "pygments_lexer": "ipython3",
   "version": "3.6.10"
  }
 },
 "nbformat": 4,
 "nbformat_minor": 4
}
