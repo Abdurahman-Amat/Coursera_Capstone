{
 "cells": [
  {
   "cell_type": "markdown",
   "metadata": {},
   "source": [
    "# Exploration and clustering of Totonto neighbourhoods  \n",
    "\n",
    "<h1>Table of contents</h1>\n",
    "\n",
    "<div class=\"alert alert-block alert-info\" style=\"margin-top: 20px\">\n",
    "    <ol>\n",
    "        <li><a href=\"#ref1\">Data Collection</a></li>\n",
    "        <li><a href=\"#ref2\">Data Exploration</a></li>\n",
    "        <li><a href=\"#ref3\">Clustering</a></li>\n",
    "    </ol>\n",
    "</div>\n",
    "<br>\n",
    "<hr>"
   ]
  },
  {
   "cell_type": "markdown",
   "metadata": {},
   "source": [
    "<a id=\"ref1\"></a>\n",
    "# Data Collection  \n",
    "\n",
    "### Important necessary libraries to collect necessary dataset by doing web scraping and prepare the expected DataFrame"
   ]
  },
  {
   "cell_type": "code",
   "execution_count": 1,
   "metadata": {},
   "outputs": [
    {
     "name": "stdout",
     "output_type": "stream",
     "text": [
      "\n",
      "Libraries are imported.\n"
     ]
    }
   ],
   "source": [
    "import numpy as np\n",
    "from bs4 import BeautifulSoup\n",
    "import requests\n",
    "import pandas as pd\n",
    "import csv\n",
    "# Matplotlib and associated plotting modules\n",
    "import matplotlib.cm as cm\n",
    "import matplotlib.colors as colors\n",
    "#!pip install pgeocode\n",
    "import pgeocode\n",
    "from sty import fg, bg, ef, rs\n",
    "import folium # map rendering library\n",
    "# import k-means from clustering stage\n",
    "from sklearn.cluster import KMeans\n",
    "\n",
    "print('\\nLibraries are imported.')"
   ]
  },
  {
   "cell_type": "markdown",
   "metadata": {},
   "source": [
    "### Perform a little web scraping to get the data  \n",
    "I will use BeautifulSoup to scrape the given website,\n",
    "and save the scraped row data into a CSV file"
   ]
  },
  {
   "cell_type": "code",
   "execution_count": 2,
   "metadata": {},
   "outputs": [],
   "source": [
    "# To get source code of the website\n",
    "main_url = 'https://en.wikipedia.org/wiki/List_of_postal_codes_of_Canada:_M'\n",
    "r = requests.get(main_url)\n",
    "r.encoding = 'utf-8'\n",
    "soup = BeautifulSoup(r.text)\n",
    "# print(soup.prettify())\n",
    "# Noticed that expected information is located within 'table' tag\n",
    "# Therefore make my soup only with the table\n",
    "soup = soup.find('table')\n",
    "#\n",
    "# Open the CSV file\n",
    "csv_file = open('Toronto_Postcode_Borough_Neighbourhood.csv', 'w')\n",
    "# Create the CSV writer object to write contents into CSV file\n",
    "csv_writer = csv.writer(csv_file)\n",
    "for i, soup in enumerate(soup.find_all('tr')):\n",
    "    # print(soup.prettify())\n",
    "    soup_splitted = list(soup.stripped_strings)\n",
    "     # ignore those cells with 'Not assigned' entries for Borough as required in the assignment\n",
    "    if soup_splitted[1]!='Not assigned':\n",
    "        # if 'Neighbourhood' is 'Not assigned', then assign the 'Borough' value to it\n",
    "        if soup_splitted[2]=='Not assigned':\n",
    "            csv_writer.writerow([soup_splitted[0], soup_splitted[1], soup_splitted[1]])\n",
    "        else:\n",
    "            csv_writer.writerow([soup_splitted[0], soup_splitted[1], soup_splitted[2]])\n",
    "    else:\n",
    "        pass\n",
    "# Close the CSV file\n",
    "csv_file.close()"
   ]
  },
  {
   "cell_type": "markdown",
   "metadata": {},
   "source": [
    "### Create the Pandas dataframe from above scraped row data"
   ]
  },
  {
   "cell_type": "code",
   "execution_count": 3,
   "metadata": {},
   "outputs": [
    {
     "data": {
      "text/html": [
       "<div>\n",
       "<style scoped>\n",
       "    .dataframe tbody tr th:only-of-type {\n",
       "        vertical-align: middle;\n",
       "    }\n",
       "\n",
       "    .dataframe tbody tr th {\n",
       "        vertical-align: top;\n",
       "    }\n",
       "\n",
       "    .dataframe thead th {\n",
       "        text-align: right;\n",
       "    }\n",
       "</style>\n",
       "<table border=\"1\" class=\"dataframe\">\n",
       "  <thead>\n",
       "    <tr style=\"text-align: right;\">\n",
       "      <th></th>\n",
       "      <th>Postcode</th>\n",
       "      <th>Borough</th>\n",
       "      <th>Neighbourhood</th>\n",
       "    </tr>\n",
       "  </thead>\n",
       "  <tbody>\n",
       "    <tr>\n",
       "      <th>0</th>\n",
       "      <td>M3A</td>\n",
       "      <td>North York</td>\n",
       "      <td>Parkwoods</td>\n",
       "    </tr>\n",
       "    <tr>\n",
       "      <th>1</th>\n",
       "      <td>M4A</td>\n",
       "      <td>North York</td>\n",
       "      <td>Victoria Village</td>\n",
       "    </tr>\n",
       "    <tr>\n",
       "      <th>2</th>\n",
       "      <td>M5A</td>\n",
       "      <td>Downtown Toronto</td>\n",
       "      <td>Harbourfront</td>\n",
       "    </tr>\n",
       "    <tr>\n",
       "      <th>3</th>\n",
       "      <td>M6A</td>\n",
       "      <td>North York</td>\n",
       "      <td>Lawrence Heights</td>\n",
       "    </tr>\n",
       "    <tr>\n",
       "      <th>4</th>\n",
       "      <td>M6A</td>\n",
       "      <td>North York</td>\n",
       "      <td>Lawrence Manor</td>\n",
       "    </tr>\n",
       "    <tr>\n",
       "      <th>5</th>\n",
       "      <td>M7A</td>\n",
       "      <td>Downtown Toronto</td>\n",
       "      <td>Queen's Park</td>\n",
       "    </tr>\n",
       "    <tr>\n",
       "      <th>6</th>\n",
       "      <td>M9A</td>\n",
       "      <td>Queen's Park</td>\n",
       "      <td>Queen's Park</td>\n",
       "    </tr>\n",
       "    <tr>\n",
       "      <th>7</th>\n",
       "      <td>M1B</td>\n",
       "      <td>Scarborough</td>\n",
       "      <td>Rouge</td>\n",
       "    </tr>\n",
       "    <tr>\n",
       "      <th>8</th>\n",
       "      <td>M1B</td>\n",
       "      <td>Scarborough</td>\n",
       "      <td>Malvern</td>\n",
       "    </tr>\n",
       "    <tr>\n",
       "      <th>9</th>\n",
       "      <td>M3B</td>\n",
       "      <td>North York</td>\n",
       "      <td>Don Mills North</td>\n",
       "    </tr>\n",
       "    <tr>\n",
       "      <th>10</th>\n",
       "      <td>M4B</td>\n",
       "      <td>East York</td>\n",
       "      <td>Woodbine Gardens</td>\n",
       "    </tr>\n",
       "    <tr>\n",
       "      <th>11</th>\n",
       "      <td>M4B</td>\n",
       "      <td>East York</td>\n",
       "      <td>Parkview Hill</td>\n",
       "    </tr>\n",
       "  </tbody>\n",
       "</table>\n",
       "</div>"
      ],
      "text/plain": [
       "   Postcode           Borough     Neighbourhood\n",
       "0       M3A        North York         Parkwoods\n",
       "1       M4A        North York  Victoria Village\n",
       "2       M5A  Downtown Toronto      Harbourfront\n",
       "3       M6A        North York  Lawrence Heights\n",
       "4       M6A        North York    Lawrence Manor\n",
       "5       M7A  Downtown Toronto      Queen's Park\n",
       "6       M9A      Queen's Park      Queen's Park\n",
       "7       M1B       Scarborough             Rouge\n",
       "8       M1B       Scarborough           Malvern\n",
       "9       M3B        North York   Don Mills North\n",
       "10      M4B         East York  Woodbine Gardens\n",
       "11      M4B         East York     Parkview Hill"
      ]
     },
     "execution_count": 3,
     "metadata": {},
     "output_type": "execute_result"
    }
   ],
   "source": [
    "# Define the dataframe from the above collected 'csv' file\n",
    "df = pd.read_csv('Toronto_Postcode_Borough_Neighbourhood.csv')\n",
    "# Look at first few entries\n",
    "df.head(12)"
   ]
  },
  {
   "cell_type": "markdown",
   "metadata": {},
   "source": [
    "Check how many entries we have"
   ]
  },
  {
   "cell_type": "code",
   "execution_count": 4,
   "metadata": {},
   "outputs": [
    {
     "data": {
      "text/plain": [
       "(210, 3)"
      ]
     },
     "execution_count": 4,
     "metadata": {},
     "output_type": "execute_result"
    }
   ],
   "source": [
    "df.shape"
   ]
  },
  {
   "cell_type": "code",
   "execution_count": 5,
   "metadata": {},
   "outputs": [
    {
     "data": {
      "text/html": [
       "<div>\n",
       "<style scoped>\n",
       "    .dataframe tbody tr th:only-of-type {\n",
       "        vertical-align: middle;\n",
       "    }\n",
       "\n",
       "    .dataframe tbody tr th {\n",
       "        vertical-align: top;\n",
       "    }\n",
       "\n",
       "    .dataframe thead th {\n",
       "        text-align: right;\n",
       "    }\n",
       "</style>\n",
       "<table border=\"1\" class=\"dataframe\">\n",
       "  <thead>\n",
       "    <tr style=\"text-align: right;\">\n",
       "      <th></th>\n",
       "      <th>Postcode</th>\n",
       "      <th>Borough</th>\n",
       "      <th>Neighbourhood</th>\n",
       "    </tr>\n",
       "  </thead>\n",
       "  <tbody>\n",
       "    <tr>\n",
       "      <th>2</th>\n",
       "      <td>M5A</td>\n",
       "      <td>Downtown Toronto</td>\n",
       "      <td>Harbourfront</td>\n",
       "    </tr>\n",
       "  </tbody>\n",
       "</table>\n",
       "</div>"
      ],
      "text/plain": [
       "  Postcode           Borough Neighbourhood\n",
       "2      M5A  Downtown Toronto  Harbourfront"
      ]
     },
     "execution_count": 5,
     "metadata": {},
     "output_type": "execute_result"
    }
   ],
   "source": [
    "df[df['Postcode']=='M5A']"
   ]
  },
  {
   "cell_type": "code",
   "execution_count": 6,
   "metadata": {},
   "outputs": [],
   "source": [
    "'''\n",
    "This function will emerge all Neighbourhoods for same Postcodes\n",
    "leav unchanged if there is no repeated Postcodes for Neighbourhoods\n",
    "'''\n",
    "def merge_Neighbourhoods(df):\n",
    "    # find repeated Postcode and number of occurances\n",
    "    unique, counts = np.unique(df.iloc[:, 0].values, return_counts=True)\n",
    "    print(f'There are {len(unique)} of unique Postcodes while {df.shape[0]} of Neighbourhoods.\\n So there are many Neighbourhoods are having the same Postcodes.')\n",
    "    # find the index of Postcodes which are occured more than once\n",
    "    repeat_index = np.argwhere(counts>1)\n",
    "    # Postcodes occured more than once\n",
    "    pc_list = unique[repeat_index][:,0]\n",
    "    Ent_list = []\n",
    "    # loop through all unique postal codes to check\n",
    "    # if there is any multiple neighbourhoods for the same postal code\n",
    "    # if so, then join them as required in the assignment instruciton\n",
    "    for pc in unique: \n",
    "        df_pc = df[df['Postcode']==pc]\n",
    "        # If more than one neighbourhoods for same postal code\n",
    "        if pc in pc_list:\n",
    "            # Then join all neighbourhood names\n",
    "            df_pc_join = ', '.join(df_pc.iloc[:, 2].to_list())\n",
    "            entry = [df_pc.iloc[0, :3][0], df_pc.iloc[0, :3][1], df_pc_join]\n",
    "            Ent_list.append(entry)\n",
    "        # If single neighbourhood for the given postal code\n",
    "        else:\n",
    "            # Then everything is untouched\n",
    "            entry = [df_pc.iloc[0, :3][0], df_pc.iloc[0, :3][1], df_pc.iloc[0, :3][2]]\n",
    "            Ent_list.append(entry)\n",
    "    return Ent_list"
   ]
  },
  {
   "cell_type": "markdown",
   "metadata": {},
   "source": [
    "Apply above prepared function"
   ]
  },
  {
   "cell_type": "code",
   "execution_count": 7,
   "metadata": {},
   "outputs": [
    {
     "name": "stdout",
     "output_type": "stream",
     "text": [
      "There are 103 of unique Postcodes while 210 of Neighbourhoods.\n",
      " So there are many Neighbourhoods are having the same Postcodes.\n"
     ]
    }
   ],
   "source": [
    "new_data_list = merge_Neighbourhoods(df)"
   ]
  },
  {
   "cell_type": "markdown",
   "metadata": {},
   "source": [
    "Check if the function worked as expected"
   ]
  },
  {
   "cell_type": "code",
   "execution_count": 8,
   "metadata": {},
   "outputs": [
    {
     "data": {
      "text/plain": [
       "(103, 3)"
      ]
     },
     "execution_count": 8,
     "metadata": {},
     "output_type": "execute_result"
    }
   ],
   "source": [
    "np.shape(new_data_list)"
   ]
  },
  {
   "cell_type": "markdown",
   "metadata": {},
   "source": [
    "So, it seems the function has done his job  \n",
    "\n",
    "###  Now prepare wanted DataFrame"
   ]
  },
  {
   "cell_type": "code",
   "execution_count": 9,
   "metadata": {},
   "outputs": [],
   "source": [
    "new_df = pd.DataFrame(new_data_list, columns =['Postcode', 'Borough', 'Neighbourhood']) "
   ]
  },
  {
   "cell_type": "markdown",
   "metadata": {},
   "source": [
    "Check the data frame"
   ]
  },
  {
   "cell_type": "code",
   "execution_count": 10,
   "metadata": {},
   "outputs": [
    {
     "data": {
      "text/html": [
       "<div>\n",
       "<style scoped>\n",
       "    .dataframe tbody tr th:only-of-type {\n",
       "        vertical-align: middle;\n",
       "    }\n",
       "\n",
       "    .dataframe tbody tr th {\n",
       "        vertical-align: top;\n",
       "    }\n",
       "\n",
       "    .dataframe thead th {\n",
       "        text-align: right;\n",
       "    }\n",
       "</style>\n",
       "<table border=\"1\" class=\"dataframe\">\n",
       "  <thead>\n",
       "    <tr style=\"text-align: right;\">\n",
       "      <th></th>\n",
       "      <th>Postcode</th>\n",
       "      <th>Borough</th>\n",
       "      <th>Neighbourhood</th>\n",
       "    </tr>\n",
       "  </thead>\n",
       "  <tbody>\n",
       "    <tr>\n",
       "      <th>0</th>\n",
       "      <td>M1B</td>\n",
       "      <td>Scarborough</td>\n",
       "      <td>Rouge, Malvern</td>\n",
       "    </tr>\n",
       "    <tr>\n",
       "      <th>1</th>\n",
       "      <td>M1C</td>\n",
       "      <td>Scarborough</td>\n",
       "      <td>Highland Creek, Rouge Hill, Port Union</td>\n",
       "    </tr>\n",
       "    <tr>\n",
       "      <th>2</th>\n",
       "      <td>M1E</td>\n",
       "      <td>Scarborough</td>\n",
       "      <td>Guildwood, Morningside, West Hill</td>\n",
       "    </tr>\n",
       "    <tr>\n",
       "      <th>3</th>\n",
       "      <td>M1G</td>\n",
       "      <td>Scarborough</td>\n",
       "      <td>Woburn</td>\n",
       "    </tr>\n",
       "    <tr>\n",
       "      <th>4</th>\n",
       "      <td>M1H</td>\n",
       "      <td>Scarborough</td>\n",
       "      <td>Cedarbrae</td>\n",
       "    </tr>\n",
       "  </tbody>\n",
       "</table>\n",
       "</div>"
      ],
      "text/plain": [
       "  Postcode      Borough                           Neighbourhood\n",
       "0      M1B  Scarborough                          Rouge, Malvern\n",
       "1      M1C  Scarborough  Highland Creek, Rouge Hill, Port Union\n",
       "2      M1E  Scarborough       Guildwood, Morningside, West Hill\n",
       "3      M1G  Scarborough                                  Woburn\n",
       "4      M1H  Scarborough                               Cedarbrae"
      ]
     },
     "execution_count": 10,
     "metadata": {},
     "output_type": "execute_result"
    }
   ],
   "source": [
    "new_df.head()"
   ]
  },
  {
   "cell_type": "code",
   "execution_count": 11,
   "metadata": {},
   "outputs": [
    {
     "data": {
      "text/html": [
       "<div>\n",
       "<style scoped>\n",
       "    .dataframe tbody tr th:only-of-type {\n",
       "        vertical-align: middle;\n",
       "    }\n",
       "\n",
       "    .dataframe tbody tr th {\n",
       "        vertical-align: top;\n",
       "    }\n",
       "\n",
       "    .dataframe thead th {\n",
       "        text-align: right;\n",
       "    }\n",
       "</style>\n",
       "<table border=\"1\" class=\"dataframe\">\n",
       "  <thead>\n",
       "    <tr style=\"text-align: right;\">\n",
       "      <th></th>\n",
       "      <th>Postcode</th>\n",
       "      <th>Borough</th>\n",
       "      <th>Neighbourhood</th>\n",
       "    </tr>\n",
       "  </thead>\n",
       "  <tbody>\n",
       "    <tr>\n",
       "      <th>53</th>\n",
       "      <td>M5A</td>\n",
       "      <td>Downtown Toronto</td>\n",
       "      <td>Harbourfront</td>\n",
       "    </tr>\n",
       "  </tbody>\n",
       "</table>\n",
       "</div>"
      ],
      "text/plain": [
       "   Postcode           Borough Neighbourhood\n",
       "53      M5A  Downtown Toronto  Harbourfront"
      ]
     },
     "execution_count": 11,
     "metadata": {},
     "output_type": "execute_result"
    }
   ],
   "source": [
    "new_df[new_df['Postcode']=='M5A']"
   ]
  },
  {
   "cell_type": "markdown",
   "metadata": {},
   "source": [
    "### **Noticed** *that there is only single Neighbourhood for the Postcode 'MA5', while in the assignment instruction it is mentioned  that there are two Meighbourhoods for 'M5A'. It is a possibility that the postal codes are update since the preparation of the course material. Or ...?*"
   ]
  },
  {
   "cell_type": "markdown",
   "metadata": {},
   "source": [
    "### Shape of the dataset"
   ]
  },
  {
   "cell_type": "code",
   "execution_count": 12,
   "metadata": {},
   "outputs": [
    {
     "data": {
      "text/plain": [
       "(103, 3)"
      ]
     },
     "execution_count": 12,
     "metadata": {},
     "output_type": "execute_result"
    }
   ],
   "source": [
    "new_df.shape"
   ]
  },
  {
   "cell_type": "markdown",
   "metadata": {},
   "source": [
    "<hr>"
   ]
  },
  {
   "cell_type": "markdown",
   "metadata": {},
   "source": [
    "### Prepare the location dataset "
   ]
  },
  {
   "cell_type": "code",
   "execution_count": 13,
   "metadata": {},
   "outputs": [],
   "source": [
    "# #!pip install geocoder\n",
    "# import geocoder # import geocoder\n",
    "\n",
    "# # initialize your variable to None\n",
    "# lat_lng_coords = None\n",
    "\n",
    "# # loop until you get the coordinates\n",
    "# while(lat_lng_coords is None):\n",
    "#   g = geocoder.google('{}, Toronto, Ontario'.format('M1E'))\n",
    "#   lat_lng_coords = g.latlng\n",
    "\n",
    "# latitude = lat_lng_coords[0]\n",
    "# longitude = lat_lng_coords[1]\n",
    "# print(latitude, longitude)"
   ]
  },
  {
   "cell_type": "markdown",
   "metadata": {},
   "source": [
    "Above method to collect location data of Toronto Neighbourhoods didn't work even for waiting long time (few minutes).  "
   ]
  },
  {
   "cell_type": "markdown",
   "metadata": {},
   "source": [
    "### Then tried other method via the library **pgeocode**"
   ]
  },
  {
   "cell_type": "code",
   "execution_count": 14,
   "metadata": {},
   "outputs": [
    {
     "name": "stdout",
     "output_type": "stream",
     "text": [
      "Postcode is \u001b[31mM1B\u001b[39m, latitude is \u001b[31m43.81130\u001b[39m, longitude is \u001b[31m-79.19300\u001b[39m\n",
      "Postcode is \u001b[31mM1C\u001b[39m, latitude is \u001b[31m43.78780\u001b[39m, longitude is \u001b[31m-79.15640\u001b[39m\n",
      "Postcode is \u001b[31mM1E\u001b[39m, latitude is \u001b[31m43.76780\u001b[39m, longitude is \u001b[31m-79.18660\u001b[39m\n",
      "Postcode is \u001b[31mM1G\u001b[39m, latitude is \u001b[31m43.77120\u001b[39m, longitude is \u001b[31m-79.21440\u001b[39m\n",
      "Postcode is \u001b[31mM1H\u001b[39m, latitude is \u001b[31m43.76860\u001b[39m, longitude is \u001b[31m-79.23890\u001b[39m\n",
      "Postcode is \u001b[31mM1J\u001b[39m, latitude is \u001b[31m43.74640\u001b[39m, longitude is \u001b[31m-79.23230\u001b[39m\n",
      "Postcode is \u001b[31mM1K\u001b[39m, latitude is \u001b[31m43.72980\u001b[39m, longitude is \u001b[31m-79.26390\u001b[39m\n",
      "Postcode is \u001b[31mM1L\u001b[39m, latitude is \u001b[31m43.71220\u001b[39m, longitude is \u001b[31m-79.28430\u001b[39m\n",
      "Postcode is \u001b[31mM1M\u001b[39m, latitude is \u001b[31m43.72470\u001b[39m, longitude is \u001b[31m-79.23120\u001b[39m\n",
      "Postcode is \u001b[31mM1N\u001b[39m, latitude is \u001b[31m43.69520\u001b[39m, longitude is \u001b[31m-79.26460\u001b[39m\n",
      "Postcode is \u001b[31mM1P\u001b[39m, latitude is \u001b[31m43.76120\u001b[39m, longitude is \u001b[31m-79.27070\u001b[39m\n",
      "Postcode is \u001b[31mM1R\u001b[39m, latitude is \u001b[31m43.75070\u001b[39m, longitude is \u001b[31m-79.30030\u001b[39m\n",
      "Postcode is \u001b[31mM1S\u001b[39m, latitude is \u001b[31m43.79460\u001b[39m, longitude is \u001b[31m-79.26440\u001b[39m\n",
      "Postcode is \u001b[31mM1T\u001b[39m, latitude is \u001b[31m43.78120\u001b[39m, longitude is \u001b[31m-79.30360\u001b[39m\n",
      "Postcode is \u001b[31mM1V\u001b[39m, latitude is \u001b[31m43.81770\u001b[39m, longitude is \u001b[31m-79.28190\u001b[39m\n",
      "Postcode is \u001b[31mM1W\u001b[39m, latitude is \u001b[31m43.80160\u001b[39m, longitude is \u001b[31m-79.32160\u001b[39m\n",
      "Postcode is \u001b[31mM1X\u001b[39m, latitude is \u001b[31m43.83400\u001b[39m, longitude is \u001b[31m-79.20690\u001b[39m\n",
      "Postcode is \u001b[31mM2H\u001b[39m, latitude is \u001b[31m43.80150\u001b[39m, longitude is \u001b[31m-79.35770\u001b[39m\n",
      "Postcode is \u001b[31mM2J\u001b[39m, latitude is \u001b[31m43.78010\u001b[39m, longitude is \u001b[31m-79.34790\u001b[39m\n",
      "Postcode is \u001b[31mM2K\u001b[39m, latitude is \u001b[31m43.77970\u001b[39m, longitude is \u001b[31m-79.38130\u001b[39m\n",
      "Postcode is \u001b[31mM2L\u001b[39m, latitude is \u001b[31m43.75470\u001b[39m, longitude is \u001b[31m-79.37640\u001b[39m\n",
      "Postcode is \u001b[31mM2M\u001b[39m, latitude is \u001b[31m43.79150\u001b[39m, longitude is \u001b[31m-79.41030\u001b[39m\n",
      "Postcode is \u001b[31mM2N\u001b[39m, latitude is \u001b[31m43.76730\u001b[39m, longitude is \u001b[31m-79.41110\u001b[39m\n",
      "Postcode is \u001b[31mM2P\u001b[39m, latitude is \u001b[31m43.75000\u001b[39m, longitude is \u001b[31m-79.39780\u001b[39m\n",
      "Postcode is \u001b[31mM2R\u001b[39m, latitude is \u001b[31m43.77860\u001b[39m, longitude is \u001b[31m-79.44500\u001b[39m\n",
      "Postcode is \u001b[31mM3A\u001b[39m, latitude is \u001b[31m43.75450\u001b[39m, longitude is \u001b[31m-79.33000\u001b[39m\n",
      "Postcode is \u001b[31mM3B\u001b[39m, latitude is \u001b[31m43.74500\u001b[39m, longitude is \u001b[31m-79.35900\u001b[39m\n",
      "Postcode is \u001b[31mM3C\u001b[39m, latitude is \u001b[31m43.73340\u001b[39m, longitude is \u001b[31m-79.33290\u001b[39m\n",
      "Postcode is \u001b[31mM3H\u001b[39m, latitude is \u001b[31m43.75350\u001b[39m, longitude is \u001b[31m-79.44720\u001b[39m\n",
      "Postcode is \u001b[31mM3J\u001b[39m, latitude is \u001b[31m43.76940\u001b[39m, longitude is \u001b[31m-79.49210\u001b[39m\n",
      "Postcode is \u001b[31mM3K\u001b[39m, latitude is \u001b[31m43.73900\u001b[39m, longitude is \u001b[31m-79.46920\u001b[39m\n",
      "Postcode is \u001b[31mM3L\u001b[39m, latitude is \u001b[31m43.73340\u001b[39m, longitude is \u001b[31m-79.51160\u001b[39m\n",
      "Postcode is \u001b[31mM3M\u001b[39m, latitude is \u001b[31m43.73190\u001b[39m, longitude is \u001b[31m-79.49280\u001b[39m\n",
      "Postcode is \u001b[31mM3N\u001b[39m, latitude is \u001b[31m43.75680\u001b[39m, longitude is \u001b[31m-79.52100\u001b[39m\n",
      "Postcode is \u001b[31mM4A\u001b[39m, latitude is \u001b[31m43.72760\u001b[39m, longitude is \u001b[31m-79.31480\u001b[39m\n",
      "Postcode is \u001b[31mM4B\u001b[39m, latitude is \u001b[31m43.70630\u001b[39m, longitude is \u001b[31m-79.30940\u001b[39m\n",
      "Postcode is \u001b[31mM4C\u001b[39m, latitude is \u001b[31m43.69130\u001b[39m, longitude is \u001b[31m-79.31160\u001b[39m\n",
      "Postcode is \u001b[31mM4E\u001b[39m, latitude is \u001b[31m43.67840\u001b[39m, longitude is \u001b[31m-79.29410\u001b[39m\n",
      "Postcode is \u001b[31mM4G\u001b[39m, latitude is \u001b[31m43.71240\u001b[39m, longitude is \u001b[31m-79.36440\u001b[39m\n",
      "Postcode is \u001b[31mM4H\u001b[39m, latitude is \u001b[31m43.70590\u001b[39m, longitude is \u001b[31m-79.34640\u001b[39m\n",
      "Postcode is \u001b[31mM4J\u001b[39m, latitude is \u001b[31m43.68720\u001b[39m, longitude is \u001b[31m-79.33680\u001b[39m\n",
      "Postcode is \u001b[31mM4K\u001b[39m, latitude is \u001b[31m43.68030\u001b[39m, longitude is \u001b[31m-79.35380\u001b[39m\n",
      "Postcode is \u001b[31mM4L\u001b[39m, latitude is \u001b[31m43.66930\u001b[39m, longitude is \u001b[31m-79.31550\u001b[39m\n",
      "Postcode is \u001b[31mM4M\u001b[39m, latitude is \u001b[31m43.65610\u001b[39m, longitude is \u001b[31m-79.34060\u001b[39m\n",
      "Postcode is \u001b[31mM4N\u001b[39m, latitude is \u001b[31m43.73010\u001b[39m, longitude is \u001b[31m-79.39350\u001b[39m\n",
      "Postcode is \u001b[31mM4P\u001b[39m, latitude is \u001b[31m43.71350\u001b[39m, longitude is \u001b[31m-79.38870\u001b[39m\n",
      "Postcode is \u001b[31mM4R\u001b[39m, latitude is \u001b[31m43.71430\u001b[39m, longitude is \u001b[31m-79.40650\u001b[39m\n",
      "Postcode is \u001b[31mM4S\u001b[39m, latitude is \u001b[31m43.70200\u001b[39m, longitude is \u001b[31m-79.38530\u001b[39m\n",
      "Postcode is \u001b[31mM4T\u001b[39m, latitude is \u001b[31m43.68990\u001b[39m, longitude is \u001b[31m-79.38530\u001b[39m\n",
      "Postcode is \u001b[31mM4V\u001b[39m, latitude is \u001b[31m43.68610\u001b[39m, longitude is \u001b[31m-79.40250\u001b[39m\n",
      "Postcode is \u001b[31mM4W\u001b[39m, latitude is \u001b[31m43.68270\u001b[39m, longitude is \u001b[31m-79.37300\u001b[39m\n",
      "Postcode is \u001b[31mM4X\u001b[39m, latitude is \u001b[31m43.66840\u001b[39m, longitude is \u001b[31m-79.36890\u001b[39m\n",
      "Postcode is \u001b[31mM4Y\u001b[39m, latitude is \u001b[31m43.66560\u001b[39m, longitude is \u001b[31m-79.38300\u001b[39m\n",
      "Postcode is \u001b[31mM5A\u001b[39m, latitude is \u001b[31m43.65550\u001b[39m, longitude is \u001b[31m-79.36260\u001b[39m\n",
      "Postcode is \u001b[31mM5B\u001b[39m, latitude is \u001b[31m43.65720\u001b[39m, longitude is \u001b[31m-79.37830\u001b[39m\n",
      "Postcode is \u001b[31mM5C\u001b[39m, latitude is \u001b[31m43.65130\u001b[39m, longitude is \u001b[31m-79.37560\u001b[39m\n",
      "Postcode is \u001b[31mM5E\u001b[39m, latitude is \u001b[31m43.64560\u001b[39m, longitude is \u001b[31m-79.37540\u001b[39m\n",
      "Postcode is \u001b[31mM5G\u001b[39m, latitude is \u001b[31m43.65640\u001b[39m, longitude is \u001b[31m-79.38600\u001b[39m\n",
      "Postcode is \u001b[31mM5H\u001b[39m, latitude is \u001b[31m43.64960\u001b[39m, longitude is \u001b[31m-79.38330\u001b[39m\n",
      "Postcode is \u001b[31mM5J\u001b[39m, latitude is \u001b[31m43.62300\u001b[39m, longitude is \u001b[31m-79.39360\u001b[39m\n",
      "Postcode is \u001b[31mM5K\u001b[39m, latitude is \u001b[31m43.64690\u001b[39m, longitude is \u001b[31m-79.38230\u001b[39m\n",
      "Postcode is \u001b[31mM5L\u001b[39m, latitude is \u001b[31m43.64920\u001b[39m, longitude is \u001b[31m-79.38230\u001b[39m\n",
      "Postcode is \u001b[31mM5M\u001b[39m, latitude is \u001b[31m43.73350\u001b[39m, longitude is \u001b[31m-79.41770\u001b[39m\n",
      "Postcode is \u001b[31mM5N\u001b[39m, latitude is \u001b[31m43.71130\u001b[39m, longitude is \u001b[31m-79.41950\u001b[39m\n",
      "Postcode is \u001b[31mM5P\u001b[39m, latitude is \u001b[31m43.69660\u001b[39m, longitude is \u001b[31m-79.41200\u001b[39m\n",
      "Postcode is \u001b[31mM5R\u001b[39m, latitude is \u001b[31m43.67360\u001b[39m, longitude is \u001b[31m-79.40350\u001b[39m\n",
      "Postcode is \u001b[31mM5S\u001b[39m, latitude is \u001b[31m43.66290\u001b[39m, longitude is \u001b[31m-79.39870\u001b[39m\n",
      "Postcode is \u001b[31mM5T\u001b[39m, latitude is \u001b[31m43.65410\u001b[39m, longitude is \u001b[31m-79.39780\u001b[39m\n",
      "Postcode is \u001b[31mM5V\u001b[39m, latitude is \u001b[31m43.64040\u001b[39m, longitude is \u001b[31m-79.39950\u001b[39m\n",
      "Postcode is \u001b[31mM5W\u001b[39m, latitude is \u001b[31m43.64370\u001b[39m, longitude is \u001b[31m-79.37870\u001b[39m\n",
      "Postcode is \u001b[31mM5X\u001b[39m, latitude is \u001b[31m43.64920\u001b[39m, longitude is \u001b[31m-79.38230\u001b[39m\n",
      "Postcode is \u001b[31mM6A\u001b[39m, latitude is \u001b[31m43.72230\u001b[39m, longitude is \u001b[31m-79.45040\u001b[39m\n",
      "Postcode is \u001b[31mM6B\u001b[39m, latitude is \u001b[31m43.70810\u001b[39m, longitude is \u001b[31m-79.44790\u001b[39m\n",
      "Postcode is \u001b[31mM6C\u001b[39m, latitude is \u001b[31m43.69150\u001b[39m, longitude is \u001b[31m-79.43070\u001b[39m\n",
      "Postcode is \u001b[31mM6E\u001b[39m, latitude is \u001b[31m43.68890\u001b[39m, longitude is \u001b[31m-79.45070\u001b[39m\n",
      "Postcode is \u001b[31mM6G\u001b[39m, latitude is \u001b[31m43.66830\u001b[39m, longitude is \u001b[31m-79.42050\u001b[39m\n",
      "Postcode is \u001b[31mM6H\u001b[39m, latitude is \u001b[31m43.66550\u001b[39m, longitude is \u001b[31m-79.43780\u001b[39m\n",
      "Postcode is \u001b[31mM6J\u001b[39m, latitude is \u001b[31m43.64800\u001b[39m, longitude is \u001b[31m-79.41770\u001b[39m\n",
      "Postcode is \u001b[31mM6K\u001b[39m, latitude is \u001b[31m43.63830\u001b[39m, longitude is \u001b[31m-79.43010\u001b[39m\n",
      "Postcode is \u001b[31mM6L\u001b[39m, latitude is \u001b[31m43.71370\u001b[39m, longitude is \u001b[31m-79.48690\u001b[39m\n",
      "Postcode is \u001b[31mM6M\u001b[39m, latitude is \u001b[31m43.69340\u001b[39m, longitude is \u001b[31m-79.48570\u001b[39m\n",
      "Postcode is \u001b[31mM6N\u001b[39m, latitude is \u001b[31m43.67480\u001b[39m, longitude is \u001b[31m-79.48390\u001b[39m\n",
      "Postcode is \u001b[31mM6P\u001b[39m, latitude is \u001b[31m43.66050\u001b[39m, longitude is \u001b[31m-79.46330\u001b[39m\n",
      "Postcode is \u001b[31mM6R\u001b[39m, latitude is \u001b[31m43.64690\u001b[39m, longitude is \u001b[31m-79.45210\u001b[39m\n",
      "Postcode is \u001b[31mM6S\u001b[39m, latitude is \u001b[31m43.65120\u001b[39m, longitude is \u001b[31m-79.48280\u001b[39m\n",
      "Postcode is \u001b[31mM7A\u001b[39m, latitude is \u001b[31m43.66410\u001b[39m, longitude is \u001b[31m-79.38890\u001b[39m\n",
      "Postcode is \u001b[31mM7R\u001b[39m, latitude is \u001b[31mnan\u001b[39m, longitude is \u001b[31mnan\u001b[39m\n",
      "Postcode is \u001b[31mM7Y\u001b[39m, latitude is \u001b[31m43.78040\u001b[39m, longitude is \u001b[31m-79.25050\u001b[39m\n",
      "Postcode is \u001b[31mM8V\u001b[39m, latitude is \u001b[31m43.60750\u001b[39m, longitude is \u001b[31m-79.50130\u001b[39m\n",
      "Postcode is \u001b[31mM8W\u001b[39m, latitude is \u001b[31m43.60210\u001b[39m, longitude is \u001b[31m-79.54020\u001b[39m\n",
      "Postcode is \u001b[31mM8X\u001b[39m, latitude is \u001b[31m43.65180\u001b[39m, longitude is \u001b[31m-79.50760\u001b[39m\n",
      "Postcode is \u001b[31mM8Y\u001b[39m, latitude is \u001b[31m43.63250\u001b[39m, longitude is \u001b[31m-79.49390\u001b[39m\n",
      "Postcode is \u001b[31mM8Z\u001b[39m, latitude is \u001b[31m43.62560\u001b[39m, longitude is \u001b[31m-79.52310\u001b[39m\n",
      "Postcode is \u001b[31mM9A\u001b[39m, latitude is \u001b[31m43.66620\u001b[39m, longitude is \u001b[31m-79.52820\u001b[39m\n",
      "Postcode is \u001b[31mM9B\u001b[39m, latitude is \u001b[31m43.65050\u001b[39m, longitude is \u001b[31m-79.55170\u001b[39m\n",
      "Postcode is \u001b[31mM9C\u001b[39m, latitude is \u001b[31m43.64370\u001b[39m, longitude is \u001b[31m-79.57670\u001b[39m\n",
      "Postcode is \u001b[31mM9L\u001b[39m, latitude is \u001b[31m43.75980\u001b[39m, longitude is \u001b[31m-79.55650\u001b[39m\n",
      "Postcode is \u001b[31mM9M\u001b[39m, latitude is \u001b[31m43.73660\u001b[39m, longitude is \u001b[31m-79.54010\u001b[39m\n",
      "Postcode is \u001b[31mM9N\u001b[39m, latitude is \u001b[31m43.70680\u001b[39m, longitude is \u001b[31m-79.51700\u001b[39m\n",
      "Postcode is \u001b[31mM9P\u001b[39m, latitude is \u001b[31m43.69490\u001b[39m, longitude is \u001b[31m-79.53230\u001b[39m\n",
      "Postcode is \u001b[31mM9R\u001b[39m, latitude is \u001b[31m43.68980\u001b[39m, longitude is \u001b[31m-79.55820\u001b[39m\n",
      "Postcode is \u001b[31mM9V\u001b[39m, latitude is \u001b[31m43.74320\u001b[39m, longitude is \u001b[31m-79.58760\u001b[39m\n",
      "Postcode is \u001b[31mM9W\u001b[39m, latitude is \u001b[31m43.71440\u001b[39m, longitude is \u001b[31m-79.59090\u001b[39m\n"
     ]
    }
   ],
   "source": [
    "nomi = pgeocode.Nominatim('ca') # 'ca' for Canada\n",
    "for p_code in new_df['Postcode']: # for all Neighbourhoods by their postal codes\n",
    "    locinfo = nomi.query_postal_code(p_code)\n",
    "    #!pip install sty # umcomment when sty is not already installed\n",
    "    print(f'Postcode is '+fg.red + f'{p_code}' + fg.rs+', latitude is '+fg.red + f'{locinfo[9]:.5f}' + fg.rs+', longitude is '+fg.red + f'{locinfo[10]:.5f}' + fg.rs)"
   ]
  },
  {
   "cell_type": "markdown",
   "metadata": {},
   "source": [
    "It is very fast and correct as given in the additional location data 'Geospatial_Coordinates.csv',  \n",
    "However, it could not found latitude and longitude for the neighbourhood with postcode 'M7R'. In addition to this,  \n",
    "the location data has different precisions, e.g , both latitude and longitude in provided location data table have upto six digit of precision while the queried data via **pgeocode** have only upto 4 digits and most of the location data were different after the first or second digits.  *Therefore I wanna use the provided location table.*"
   ]
  },
  {
   "cell_type": "markdown",
   "metadata": {},
   "source": [
    "### Load the provided location data and read it into Pandas DataFrame"
   ]
  },
  {
   "cell_type": "code",
   "execution_count": 15,
   "metadata": {},
   "outputs": [
    {
     "data": {
      "text/html": [
       "<div>\n",
       "<style scoped>\n",
       "    .dataframe tbody tr th:only-of-type {\n",
       "        vertical-align: middle;\n",
       "    }\n",
       "\n",
       "    .dataframe tbody tr th {\n",
       "        vertical-align: top;\n",
       "    }\n",
       "\n",
       "    .dataframe thead th {\n",
       "        text-align: right;\n",
       "    }\n",
       "</style>\n",
       "<table border=\"1\" class=\"dataframe\">\n",
       "  <thead>\n",
       "    <tr style=\"text-align: right;\">\n",
       "      <th></th>\n",
       "      <th>Postal Code</th>\n",
       "      <th>Latitude</th>\n",
       "      <th>Longitude</th>\n",
       "    </tr>\n",
       "  </thead>\n",
       "  <tbody>\n",
       "    <tr>\n",
       "      <th>0</th>\n",
       "      <td>M1B</td>\n",
       "      <td>43.806686</td>\n",
       "      <td>-79.194353</td>\n",
       "    </tr>\n",
       "    <tr>\n",
       "      <th>1</th>\n",
       "      <td>M1C</td>\n",
       "      <td>43.784535</td>\n",
       "      <td>-79.160497</td>\n",
       "    </tr>\n",
       "    <tr>\n",
       "      <th>2</th>\n",
       "      <td>M1E</td>\n",
       "      <td>43.763573</td>\n",
       "      <td>-79.188711</td>\n",
       "    </tr>\n",
       "    <tr>\n",
       "      <th>3</th>\n",
       "      <td>M1G</td>\n",
       "      <td>43.770992</td>\n",
       "      <td>-79.216917</td>\n",
       "    </tr>\n",
       "    <tr>\n",
       "      <th>4</th>\n",
       "      <td>M1H</td>\n",
       "      <td>43.773136</td>\n",
       "      <td>-79.239476</td>\n",
       "    </tr>\n",
       "  </tbody>\n",
       "</table>\n",
       "</div>"
      ],
      "text/plain": [
       "  Postal Code   Latitude  Longitude\n",
       "0         M1B  43.806686 -79.194353\n",
       "1         M1C  43.784535 -79.160497\n",
       "2         M1E  43.763573 -79.188711\n",
       "3         M1G  43.770992 -79.216917\n",
       "4         M1H  43.773136 -79.239476"
      ]
     },
     "execution_count": 15,
     "metadata": {},
     "output_type": "execute_result"
    }
   ],
   "source": [
    "loc_df = pd.read_csv(r'C:\\pythonwork\\data\\Geospatial_Coordinates.csv')\n",
    "loc_df.head()"
   ]
  },
  {
   "cell_type": "code",
   "execution_count": 16,
   "metadata": {},
   "outputs": [
    {
     "data": {
      "text/plain": [
       "(103, 3)"
      ]
     },
     "execution_count": 16,
     "metadata": {},
     "output_type": "execute_result"
    }
   ],
   "source": [
    "# check if we have the full location info\n",
    "loc_df.shape "
   ]
  },
  {
   "cell_type": "code",
   "execution_count": 17,
   "metadata": {},
   "outputs": [
    {
     "data": {
      "text/plain": [
       "Postal Code    0\n",
       "Latitude       0\n",
       "Longitude      0\n",
       "dtype: int64"
      ]
     },
     "execution_count": 17,
     "metadata": {},
     "output_type": "execute_result"
    }
   ],
   "source": [
    "# just to quick ckeck to make sure there is no missing values which may couse errors\n",
    "# in upcomming procedures of this project\n",
    "loc_df.isna().sum()"
   ]
  },
  {
   "cell_type": "markdown",
   "metadata": {},
   "source": [
    "There is no missing values, that is good."
   ]
  },
  {
   "cell_type": "code",
   "execution_count": 18,
   "metadata": {},
   "outputs": [],
   "source": [
    "# Rename the column to make it easier to merge this location data with above neighbourhood data\n",
    "loc_df.rename(columns={\"Postal Code\":\"Postcode\"}, inplace=True)"
   ]
  },
  {
   "cell_type": "code",
   "execution_count": 19,
   "metadata": {},
   "outputs": [
    {
     "data": {
      "text/html": [
       "<div>\n",
       "<style scoped>\n",
       "    .dataframe tbody tr th:only-of-type {\n",
       "        vertical-align: middle;\n",
       "    }\n",
       "\n",
       "    .dataframe tbody tr th {\n",
       "        vertical-align: top;\n",
       "    }\n",
       "\n",
       "    .dataframe thead th {\n",
       "        text-align: right;\n",
       "    }\n",
       "</style>\n",
       "<table border=\"1\" class=\"dataframe\">\n",
       "  <thead>\n",
       "    <tr style=\"text-align: right;\">\n",
       "      <th></th>\n",
       "      <th>Postcode</th>\n",
       "      <th>Latitude</th>\n",
       "      <th>Longitude</th>\n",
       "    </tr>\n",
       "  </thead>\n",
       "  <tbody>\n",
       "    <tr>\n",
       "      <th>0</th>\n",
       "      <td>M1B</td>\n",
       "      <td>43.806686</td>\n",
       "      <td>-79.194353</td>\n",
       "    </tr>\n",
       "    <tr>\n",
       "      <th>1</th>\n",
       "      <td>M1C</td>\n",
       "      <td>43.784535</td>\n",
       "      <td>-79.160497</td>\n",
       "    </tr>\n",
       "    <tr>\n",
       "      <th>2</th>\n",
       "      <td>M1E</td>\n",
       "      <td>43.763573</td>\n",
       "      <td>-79.188711</td>\n",
       "    </tr>\n",
       "    <tr>\n",
       "      <th>3</th>\n",
       "      <td>M1G</td>\n",
       "      <td>43.770992</td>\n",
       "      <td>-79.216917</td>\n",
       "    </tr>\n",
       "    <tr>\n",
       "      <th>4</th>\n",
       "      <td>M1H</td>\n",
       "      <td>43.773136</td>\n",
       "      <td>-79.239476</td>\n",
       "    </tr>\n",
       "  </tbody>\n",
       "</table>\n",
       "</div>"
      ],
      "text/plain": [
       "  Postcode   Latitude  Longitude\n",
       "0      M1B  43.806686 -79.194353\n",
       "1      M1C  43.784535 -79.160497\n",
       "2      M1E  43.763573 -79.188711\n",
       "3      M1G  43.770992 -79.216917\n",
       "4      M1H  43.773136 -79.239476"
      ]
     },
     "execution_count": 19,
     "metadata": {},
     "output_type": "execute_result"
    }
   ],
   "source": [
    "loc_df.head()"
   ]
  },
  {
   "cell_type": "markdown",
   "metadata": {},
   "source": [
    " Merge above two datasets to get expected dataset"
   ]
  },
  {
   "cell_type": "code",
   "execution_count": 20,
   "metadata": {},
   "outputs": [
    {
     "data": {
      "text/html": [
       "<div>\n",
       "<style scoped>\n",
       "    .dataframe tbody tr th:only-of-type {\n",
       "        vertical-align: middle;\n",
       "    }\n",
       "\n",
       "    .dataframe tbody tr th {\n",
       "        vertical-align: top;\n",
       "    }\n",
       "\n",
       "    .dataframe thead th {\n",
       "        text-align: right;\n",
       "    }\n",
       "</style>\n",
       "<table border=\"1\" class=\"dataframe\">\n",
       "  <thead>\n",
       "    <tr style=\"text-align: right;\">\n",
       "      <th></th>\n",
       "      <th>Postcode</th>\n",
       "      <th>Borough</th>\n",
       "      <th>Neighbourhood</th>\n",
       "      <th>Latitude</th>\n",
       "      <th>Longitude</th>\n",
       "    </tr>\n",
       "  </thead>\n",
       "  <tbody>\n",
       "    <tr>\n",
       "      <th>0</th>\n",
       "      <td>M1B</td>\n",
       "      <td>Scarborough</td>\n",
       "      <td>Rouge, Malvern</td>\n",
       "      <td>43.806686</td>\n",
       "      <td>-79.194353</td>\n",
       "    </tr>\n",
       "    <tr>\n",
       "      <th>1</th>\n",
       "      <td>M1C</td>\n",
       "      <td>Scarborough</td>\n",
       "      <td>Highland Creek, Rouge Hill, Port Union</td>\n",
       "      <td>43.784535</td>\n",
       "      <td>-79.160497</td>\n",
       "    </tr>\n",
       "    <tr>\n",
       "      <th>2</th>\n",
       "      <td>M1E</td>\n",
       "      <td>Scarborough</td>\n",
       "      <td>Guildwood, Morningside, West Hill</td>\n",
       "      <td>43.763573</td>\n",
       "      <td>-79.188711</td>\n",
       "    </tr>\n",
       "    <tr>\n",
       "      <th>3</th>\n",
       "      <td>M1G</td>\n",
       "      <td>Scarborough</td>\n",
       "      <td>Woburn</td>\n",
       "      <td>43.770992</td>\n",
       "      <td>-79.216917</td>\n",
       "    </tr>\n",
       "    <tr>\n",
       "      <th>4</th>\n",
       "      <td>M1H</td>\n",
       "      <td>Scarborough</td>\n",
       "      <td>Cedarbrae</td>\n",
       "      <td>43.773136</td>\n",
       "      <td>-79.239476</td>\n",
       "    </tr>\n",
       "    <tr>\n",
       "      <th>5</th>\n",
       "      <td>M1J</td>\n",
       "      <td>Scarborough</td>\n",
       "      <td>Scarborough Village</td>\n",
       "      <td>43.744734</td>\n",
       "      <td>-79.239476</td>\n",
       "    </tr>\n",
       "    <tr>\n",
       "      <th>6</th>\n",
       "      <td>M1K</td>\n",
       "      <td>Scarborough</td>\n",
       "      <td>East Birchmount Park, Ionview, Kennedy Park</td>\n",
       "      <td>43.727929</td>\n",
       "      <td>-79.262029</td>\n",
       "    </tr>\n",
       "    <tr>\n",
       "      <th>7</th>\n",
       "      <td>M1L</td>\n",
       "      <td>Scarborough</td>\n",
       "      <td>Clairlea, Golden Mile, Oakridge</td>\n",
       "      <td>43.711112</td>\n",
       "      <td>-79.284577</td>\n",
       "    </tr>\n",
       "    <tr>\n",
       "      <th>8</th>\n",
       "      <td>M1M</td>\n",
       "      <td>Scarborough</td>\n",
       "      <td>Cliffcrest, Cliffside, Scarborough Village West</td>\n",
       "      <td>43.716316</td>\n",
       "      <td>-79.239476</td>\n",
       "    </tr>\n",
       "    <tr>\n",
       "      <th>9</th>\n",
       "      <td>M1N</td>\n",
       "      <td>Scarborough</td>\n",
       "      <td>Birch Cliff, Cliffside West</td>\n",
       "      <td>43.692657</td>\n",
       "      <td>-79.264848</td>\n",
       "    </tr>\n",
       "  </tbody>\n",
       "</table>\n",
       "</div>"
      ],
      "text/plain": [
       "  Postcode      Borough                                    Neighbourhood  \\\n",
       "0      M1B  Scarborough                                   Rouge, Malvern   \n",
       "1      M1C  Scarborough           Highland Creek, Rouge Hill, Port Union   \n",
       "2      M1E  Scarborough                Guildwood, Morningside, West Hill   \n",
       "3      M1G  Scarborough                                           Woburn   \n",
       "4      M1H  Scarborough                                        Cedarbrae   \n",
       "5      M1J  Scarborough                              Scarborough Village   \n",
       "6      M1K  Scarborough      East Birchmount Park, Ionview, Kennedy Park   \n",
       "7      M1L  Scarborough                  Clairlea, Golden Mile, Oakridge   \n",
       "8      M1M  Scarborough  Cliffcrest, Cliffside, Scarborough Village West   \n",
       "9      M1N  Scarborough                      Birch Cliff, Cliffside West   \n",
       "\n",
       "    Latitude  Longitude  \n",
       "0  43.806686 -79.194353  \n",
       "1  43.784535 -79.160497  \n",
       "2  43.763573 -79.188711  \n",
       "3  43.770992 -79.216917  \n",
       "4  43.773136 -79.239476  \n",
       "5  43.744734 -79.239476  \n",
       "6  43.727929 -79.262029  \n",
       "7  43.711112 -79.284577  \n",
       "8  43.716316 -79.239476  \n",
       "9  43.692657 -79.264848  "
      ]
     },
     "execution_count": 20,
     "metadata": {},
     "output_type": "execute_result"
    }
   ],
   "source": [
    "neigh_loc_df = pd.merge(new_df, loc_df, on='Postcode')\n",
    "neigh_loc_df.head(10)"
   ]
  },
  {
   "cell_type": "markdown",
   "metadata": {},
   "source": [
    "Check the dataset again to make sure the merging is done correctly as expected."
   ]
  },
  {
   "cell_type": "code",
   "execution_count": 21,
   "metadata": {},
   "outputs": [
    {
     "data": {
      "text/plain": [
       "(103, 5)"
      ]
     },
     "execution_count": 21,
     "metadata": {},
     "output_type": "execute_result"
    }
   ],
   "source": [
    "neigh_loc_df.shape"
   ]
  },
  {
   "cell_type": "markdown",
   "metadata": {},
   "source": [
    "### So, it seems everything went well."
   ]
  },
  {
   "cell_type": "markdown",
   "metadata": {},
   "source": [
    "<hr>  \n",
    "\n",
    "<a id=\"ref2\"></a>\n",
    "# Data Exploration  "
   ]
  },
  {
   "cell_type": "markdown",
   "metadata": {},
   "source": [
    "Look at how many Boroughs in the dataset"
   ]
  },
  {
   "cell_type": "code",
   "execution_count": 22,
   "metadata": {},
   "outputs": [
    {
     "name": "stdout",
     "output_type": "stream",
     "text": [
      "The dataframe has 11 boroughs and 103 neighborhoods.\n"
     ]
    }
   ],
   "source": [
    "print('The dataframe has {} boroughs and {} neighborhoods.'.format(\n",
    "        len(neigh_loc_df['Borough'].unique()),\n",
    "        neigh_loc_df.shape[0]\n",
    "    )\n",
    ")"
   ]
  },
  {
   "cell_type": "markdown",
   "metadata": {},
   "source": [
    "Check look at Borough column and filter those which has the word Toronto in Borough names. "
   ]
  },
  {
   "cell_type": "code",
   "execution_count": 23,
   "metadata": {},
   "outputs": [
    {
     "name": "stdout",
     "output_type": "stream",
     "text": [
      "['Scarborough' 'North York' 'East York' 'East Toronto' 'Central Toronto'\n",
      " 'Downtown Toronto' 'York' 'West Toronto' 'Mississauga' 'Etobicoke'\n",
      " \"Queen's Park\"]\n"
     ]
    }
   ],
   "source": [
    "unique_boroughs = neigh_loc_df['Borough'].unique()\n",
    "# unique Boroughs are\n",
    "print(unique_boroughs)"
   ]
  },
  {
   "cell_type": "code",
   "execution_count": 24,
   "metadata": {},
   "outputs": [
    {
     "name": "stdout",
     "output_type": "stream",
     "text": [
      "Boroughs with the word Toronto are : ['East Toronto', 'Central Toronto', 'Downtown Toronto', 'West Toronto']\n"
     ]
    }
   ],
   "source": [
    "b_Toronto = []\n",
    "for b in unique_boroughs:\n",
    "    if len(b.split(' '))>1:\n",
    "        if 'Toronto' in b.split(' '):\n",
    "            b_Toronto.append(b)\n",
    "        else:\n",
    "            pass\n",
    "    else:\n",
    "        pass\n",
    "print(f'Boroughs with the word Toronto are : {b_Toronto}')"
   ]
  },
  {
   "cell_type": "code",
   "execution_count": 25,
   "metadata": {},
   "outputs": [],
   "source": [
    "filter_Toronto = neigh_loc_df['Borough'].isin(b_Toronto)"
   ]
  },
  {
   "cell_type": "code",
   "execution_count": 26,
   "metadata": {},
   "outputs": [
    {
     "data": {
      "text/html": [
       "<div>\n",
       "<style scoped>\n",
       "    .dataframe tbody tr th:only-of-type {\n",
       "        vertical-align: middle;\n",
       "    }\n",
       "\n",
       "    .dataframe tbody tr th {\n",
       "        vertical-align: top;\n",
       "    }\n",
       "\n",
       "    .dataframe thead th {\n",
       "        text-align: right;\n",
       "    }\n",
       "</style>\n",
       "<table border=\"1\" class=\"dataframe\">\n",
       "  <thead>\n",
       "    <tr style=\"text-align: right;\">\n",
       "      <th></th>\n",
       "      <th>Postcode</th>\n",
       "      <th>Borough</th>\n",
       "      <th>Neighbourhood</th>\n",
       "      <th>Latitude</th>\n",
       "      <th>Longitude</th>\n",
       "    </tr>\n",
       "  </thead>\n",
       "  <tbody>\n",
       "    <tr>\n",
       "      <th>0</th>\n",
       "      <td>M4E</td>\n",
       "      <td>East Toronto</td>\n",
       "      <td>The Beaches</td>\n",
       "      <td>43.676357</td>\n",
       "      <td>-79.293031</td>\n",
       "    </tr>\n",
       "    <tr>\n",
       "      <th>1</th>\n",
       "      <td>M4K</td>\n",
       "      <td>East Toronto</td>\n",
       "      <td>The Danforth West, Riverdale</td>\n",
       "      <td>43.679557</td>\n",
       "      <td>-79.352188</td>\n",
       "    </tr>\n",
       "    <tr>\n",
       "      <th>2</th>\n",
       "      <td>M4L</td>\n",
       "      <td>East Toronto</td>\n",
       "      <td>The Beaches West, India Bazaar</td>\n",
       "      <td>43.668999</td>\n",
       "      <td>-79.315572</td>\n",
       "    </tr>\n",
       "    <tr>\n",
       "      <th>3</th>\n",
       "      <td>M4M</td>\n",
       "      <td>East Toronto</td>\n",
       "      <td>Studio District</td>\n",
       "      <td>43.659526</td>\n",
       "      <td>-79.340923</td>\n",
       "    </tr>\n",
       "    <tr>\n",
       "      <th>4</th>\n",
       "      <td>M4N</td>\n",
       "      <td>Central Toronto</td>\n",
       "      <td>Lawrence Park</td>\n",
       "      <td>43.728020</td>\n",
       "      <td>-79.388790</td>\n",
       "    </tr>\n",
       "  </tbody>\n",
       "</table>\n",
       "</div>"
      ],
      "text/plain": [
       "  Postcode          Borough                   Neighbourhood   Latitude  \\\n",
       "0      M4E     East Toronto                     The Beaches  43.676357   \n",
       "1      M4K     East Toronto    The Danforth West, Riverdale  43.679557   \n",
       "2      M4L     East Toronto  The Beaches West, India Bazaar  43.668999   \n",
       "3      M4M     East Toronto                 Studio District  43.659526   \n",
       "4      M4N  Central Toronto                   Lawrence Park  43.728020   \n",
       "\n",
       "   Longitude  \n",
       "0 -79.293031  \n",
       "1 -79.352188  \n",
       "2 -79.315572  \n",
       "3 -79.340923  \n",
       "4 -79.388790  "
      ]
     },
     "execution_count": 26,
     "metadata": {},
     "output_type": "execute_result"
    }
   ],
   "source": [
    "Toronto_df = neigh_loc_df[filter_Toronto].reset_index(drop=True)\n",
    "Toronto_df.head()"
   ]
  },
  {
   "cell_type": "code",
   "execution_count": 27,
   "metadata": {},
   "outputs": [
    {
     "data": {
      "text/plain": [
       "(39, 5)"
      ]
     },
     "execution_count": 27,
     "metadata": {},
     "output_type": "execute_result"
    }
   ],
   "source": [
    "Toronto_df.shape"
   ]
  },
  {
   "cell_type": "code",
   "execution_count": 28,
   "metadata": {},
   "outputs": [],
   "source": [
    "# Geolocation of Toronto\n",
    "Toronto_lat, Toronto_long = 43.651070, -79.347015"
   ]
  },
  {
   "cell_type": "markdown",
   "metadata": {},
   "source": [
    "Plot the map of Toronto with those marked Boroughs which have the name with the word Toronto"
   ]
  },
  {
   "cell_type": "code",
   "execution_count": 29,
   "metadata": {},
   "outputs": [
    {
     "data": {
      "text/html": [
       "<div style=\"width:100%;\"><div style=\"position:relative;width:100%;height:0;padding-bottom:60%;\"><iframe src=\"data:text/html;charset=utf-8;base64,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\" style=\"position:absolute;width:100%;height:100%;left:0;top:0;border:none !important;\" allowfullscreen webkitallowfullscreen mozallowfullscreen></iframe></div></div>"
      ],
      "text/plain": [
       "<folium.folium.Map at 0x1fd064bb080>"
      ]
     },
     "execution_count": 29,
     "metadata": {},
     "output_type": "execute_result"
    }
   ],
   "source": [
    "# create map of toronto using latitude and longitude values\n",
    "map_Toronto = folium.Map(location=[Toronto_lat, Toronto_long], zoom_start=12)\n",
    "\n",
    "# add markers to map\n",
    "for lat, lng, borough, neighborhood in zip(Toronto_df['Latitude'], Toronto_df['Longitude'], Toronto_df['Borough'], Toronto_df['Neighbourhood']):\n",
    "    label = '{}, {}'.format(neighborhood, borough)\n",
    "    label = folium.Popup(label, parse_html=True)\n",
    "    folium.CircleMarker(\n",
    "        [lat, lng],\n",
    "        radius=5,\n",
    "        popup=label,\n",
    "        color='blue',\n",
    "        fill=True,\n",
    "        fill_color='#3186cc',\n",
    "        fill_opacity=0.7,\n",
    "        parse_html=False).add_to(map_Toronto)  \n",
    "    \n",
    "map_Toronto"
   ]
  },
  {
   "cell_type": "markdown",
   "metadata": {},
   "source": [
    "<hr>"
   ]
  },
  {
   "cell_type": "markdown",
   "metadata": {},
   "source": [
    "<a id=\"ref3\"></a>\n",
    "# Clastering  "
   ]
  },
  {
   "cell_type": "code",
   "execution_count": 30,
   "metadata": {},
   "outputs": [
    {
     "data": {
      "text/plain": [
       "39"
      ]
     },
     "execution_count": 30,
     "metadata": {},
     "output_type": "execute_result"
    }
   ],
   "source": [
    "# set number of clusters, since there are four Boroughs with the names including the word Toronto\n",
    "kclusters = 4\n",
    "# K-means clustering does not work well with categorical features, so drop them\n",
    "Toronto_clustering = Toronto_df.drop(['Postcode', 'Borough', 'Neighbourhood'], axis=1)\n",
    "# run k-means clustering\n",
    "kmeans = KMeans(n_clusters=kclusters, random_state=0).fit(Toronto_clustering)\n",
    "\n",
    "# check cluster labels generated for each row in the dataframe\n",
    "len(kmeans.labels_)#[0:10] "
   ]
  },
  {
   "cell_type": "markdown",
   "metadata": {},
   "source": [
    "Add claster labels"
   ]
  },
  {
   "cell_type": "code",
   "execution_count": 31,
   "metadata": {},
   "outputs": [
    {
     "data": {
      "text/html": [
       "<div>\n",
       "<style scoped>\n",
       "    .dataframe tbody tr th:only-of-type {\n",
       "        vertical-align: middle;\n",
       "    }\n",
       "\n",
       "    .dataframe tbody tr th {\n",
       "        vertical-align: top;\n",
       "    }\n",
       "\n",
       "    .dataframe thead th {\n",
       "        text-align: right;\n",
       "    }\n",
       "</style>\n",
       "<table border=\"1\" class=\"dataframe\">\n",
       "  <thead>\n",
       "    <tr style=\"text-align: right;\">\n",
       "      <th></th>\n",
       "      <th>Cluster Labels</th>\n",
       "      <th>Latitude</th>\n",
       "      <th>Longitude</th>\n",
       "    </tr>\n",
       "  </thead>\n",
       "  <tbody>\n",
       "    <tr>\n",
       "      <th>0</th>\n",
       "      <td>1</td>\n",
       "      <td>43.676357</td>\n",
       "      <td>-79.293031</td>\n",
       "    </tr>\n",
       "    <tr>\n",
       "      <th>1</th>\n",
       "      <td>1</td>\n",
       "      <td>43.679557</td>\n",
       "      <td>-79.352188</td>\n",
       "    </tr>\n",
       "    <tr>\n",
       "      <th>2</th>\n",
       "      <td>1</td>\n",
       "      <td>43.668999</td>\n",
       "      <td>-79.315572</td>\n",
       "    </tr>\n",
       "    <tr>\n",
       "      <th>3</th>\n",
       "      <td>1</td>\n",
       "      <td>43.659526</td>\n",
       "      <td>-79.340923</td>\n",
       "    </tr>\n",
       "    <tr>\n",
       "      <th>4</th>\n",
       "      <td>2</td>\n",
       "      <td>43.728020</td>\n",
       "      <td>-79.388790</td>\n",
       "    </tr>\n",
       "  </tbody>\n",
       "</table>\n",
       "</div>"
      ],
      "text/plain": [
       "   Cluster Labels   Latitude  Longitude\n",
       "0               1  43.676357 -79.293031\n",
       "1               1  43.679557 -79.352188\n",
       "2               1  43.668999 -79.315572\n",
       "3               1  43.659526 -79.340923\n",
       "4               2  43.728020 -79.388790"
      ]
     },
     "execution_count": 31,
     "metadata": {},
     "output_type": "execute_result"
    }
   ],
   "source": [
    "Toronto_clustering.insert(0, 'Cluster Labels', kmeans.labels_)\n",
    "Toronto_clustering.head()"
   ]
  },
  {
   "cell_type": "code",
   "execution_count": 32,
   "metadata": {},
   "outputs": [
    {
     "data": {
      "text/html": [
       "<div>\n",
       "<style scoped>\n",
       "    .dataframe tbody tr th:only-of-type {\n",
       "        vertical-align: middle;\n",
       "    }\n",
       "\n",
       "    .dataframe tbody tr th {\n",
       "        vertical-align: top;\n",
       "    }\n",
       "\n",
       "    .dataframe thead th {\n",
       "        text-align: right;\n",
       "    }\n",
       "</style>\n",
       "<table border=\"1\" class=\"dataframe\">\n",
       "  <thead>\n",
       "    <tr style=\"text-align: right;\">\n",
       "      <th></th>\n",
       "      <th>Postcode</th>\n",
       "      <th>Borough</th>\n",
       "      <th>Neighbourhood</th>\n",
       "      <th>Latitude</th>\n",
       "      <th>Longitude</th>\n",
       "      <th>Cluster Labels</th>\n",
       "    </tr>\n",
       "  </thead>\n",
       "  <tbody>\n",
       "    <tr>\n",
       "      <th>0</th>\n",
       "      <td>M4E</td>\n",
       "      <td>East Toronto</td>\n",
       "      <td>The Beaches</td>\n",
       "      <td>43.676357</td>\n",
       "      <td>-79.293031</td>\n",
       "      <td>1</td>\n",
       "    </tr>\n",
       "    <tr>\n",
       "      <th>1</th>\n",
       "      <td>M4K</td>\n",
       "      <td>East Toronto</td>\n",
       "      <td>The Danforth West, Riverdale</td>\n",
       "      <td>43.679557</td>\n",
       "      <td>-79.352188</td>\n",
       "      <td>1</td>\n",
       "    </tr>\n",
       "    <tr>\n",
       "      <th>2</th>\n",
       "      <td>M4L</td>\n",
       "      <td>East Toronto</td>\n",
       "      <td>The Beaches West, India Bazaar</td>\n",
       "      <td>43.668999</td>\n",
       "      <td>-79.315572</td>\n",
       "      <td>1</td>\n",
       "    </tr>\n",
       "    <tr>\n",
       "      <th>3</th>\n",
       "      <td>M4M</td>\n",
       "      <td>East Toronto</td>\n",
       "      <td>Studio District</td>\n",
       "      <td>43.659526</td>\n",
       "      <td>-79.340923</td>\n",
       "      <td>1</td>\n",
       "    </tr>\n",
       "    <tr>\n",
       "      <th>4</th>\n",
       "      <td>M4N</td>\n",
       "      <td>Central Toronto</td>\n",
       "      <td>Lawrence Park</td>\n",
       "      <td>43.728020</td>\n",
       "      <td>-79.388790</td>\n",
       "      <td>2</td>\n",
       "    </tr>\n",
       "    <tr>\n",
       "      <th>5</th>\n",
       "      <td>M4P</td>\n",
       "      <td>Central Toronto</td>\n",
       "      <td>Davisville North</td>\n",
       "      <td>43.712751</td>\n",
       "      <td>-79.390197</td>\n",
       "      <td>2</td>\n",
       "    </tr>\n",
       "    <tr>\n",
       "      <th>6</th>\n",
       "      <td>M4R</td>\n",
       "      <td>Central Toronto</td>\n",
       "      <td>North Toronto West</td>\n",
       "      <td>43.715383</td>\n",
       "      <td>-79.405678</td>\n",
       "      <td>2</td>\n",
       "    </tr>\n",
       "    <tr>\n",
       "      <th>7</th>\n",
       "      <td>M4S</td>\n",
       "      <td>Central Toronto</td>\n",
       "      <td>Davisville</td>\n",
       "      <td>43.704324</td>\n",
       "      <td>-79.388790</td>\n",
       "      <td>2</td>\n",
       "    </tr>\n",
       "    <tr>\n",
       "      <th>8</th>\n",
       "      <td>M4T</td>\n",
       "      <td>Central Toronto</td>\n",
       "      <td>Moore Park, Summerhill East</td>\n",
       "      <td>43.689574</td>\n",
       "      <td>-79.383160</td>\n",
       "      <td>2</td>\n",
       "    </tr>\n",
       "    <tr>\n",
       "      <th>9</th>\n",
       "      <td>M4V</td>\n",
       "      <td>Central Toronto</td>\n",
       "      <td>Deer Park, Forest Hill SE, Rathnelly, South Hi...</td>\n",
       "      <td>43.686412</td>\n",
       "      <td>-79.400049</td>\n",
       "      <td>2</td>\n",
       "    </tr>\n",
       "  </tbody>\n",
       "</table>\n",
       "</div>"
      ],
      "text/plain": [
       "  Postcode          Borough  \\\n",
       "0      M4E     East Toronto   \n",
       "1      M4K     East Toronto   \n",
       "2      M4L     East Toronto   \n",
       "3      M4M     East Toronto   \n",
       "4      M4N  Central Toronto   \n",
       "5      M4P  Central Toronto   \n",
       "6      M4R  Central Toronto   \n",
       "7      M4S  Central Toronto   \n",
       "8      M4T  Central Toronto   \n",
       "9      M4V  Central Toronto   \n",
       "\n",
       "                                       Neighbourhood   Latitude  Longitude  \\\n",
       "0                                        The Beaches  43.676357 -79.293031   \n",
       "1                       The Danforth West, Riverdale  43.679557 -79.352188   \n",
       "2                     The Beaches West, India Bazaar  43.668999 -79.315572   \n",
       "3                                    Studio District  43.659526 -79.340923   \n",
       "4                                      Lawrence Park  43.728020 -79.388790   \n",
       "5                                   Davisville North  43.712751 -79.390197   \n",
       "6                                 North Toronto West  43.715383 -79.405678   \n",
       "7                                         Davisville  43.704324 -79.388790   \n",
       "8                        Moore Park, Summerhill East  43.689574 -79.383160   \n",
       "9  Deer Park, Forest Hill SE, Rathnelly, South Hi...  43.686412 -79.400049   \n",
       "\n",
       "   Cluster Labels  \n",
       "0               1  \n",
       "1               1  \n",
       "2               1  \n",
       "3               1  \n",
       "4               2  \n",
       "5               2  \n",
       "6               2  \n",
       "7               2  \n",
       "8               2  \n",
       "9               2  "
      ]
     },
     "execution_count": 32,
     "metadata": {},
     "output_type": "execute_result"
    }
   ],
   "source": [
    "# Merge Toronto_claustering and Toronto_df  \n",
    "Toronto_clustered = pd.merge(Toronto_df, Toronto_clustering, left_on=[\"Latitude\", \"Longitude\"], right_on=[\"Latitude\", \"Longitude\"])\n",
    "Toronto_clustered.head(10)"
   ]
  },
  {
   "cell_type": "code",
   "execution_count": 33,
   "metadata": {},
   "outputs": [
    {
     "data": {
      "text/plain": [
       "(39, 6)"
      ]
     },
     "execution_count": 33,
     "metadata": {},
     "output_type": "execute_result"
    }
   ],
   "source": [
    "Toronto_clustered.shape"
   ]
  },
  {
   "cell_type": "code",
   "execution_count": null,
   "metadata": {},
   "outputs": [],
   "source": []
  },
  {
   "cell_type": "markdown",
   "metadata": {},
   "source": [
    "### Look at each cluster and classified Boroughs to them by the model"
   ]
  },
  {
   "cell_type": "code",
   "execution_count": 34,
   "metadata": {},
   "outputs": [
    {
     "data": {
      "text/html": [
       "<div>\n",
       "<style scoped>\n",
       "    .dataframe tbody tr th:only-of-type {\n",
       "        vertical-align: middle;\n",
       "    }\n",
       "\n",
       "    .dataframe tbody tr th {\n",
       "        vertical-align: top;\n",
       "    }\n",
       "\n",
       "    .dataframe thead th {\n",
       "        text-align: right;\n",
       "    }\n",
       "</style>\n",
       "<table border=\"1\" class=\"dataframe\">\n",
       "  <thead>\n",
       "    <tr style=\"text-align: right;\">\n",
       "      <th></th>\n",
       "      <th>Postcode</th>\n",
       "      <th>Borough</th>\n",
       "      <th>Neighbourhood</th>\n",
       "      <th>Latitude</th>\n",
       "      <th>Longitude</th>\n",
       "      <th>Cluster Labels</th>\n",
       "    </tr>\n",
       "  </thead>\n",
       "  <tbody>\n",
       "    <tr>\n",
       "      <th>30</th>\n",
       "      <td>M6G</td>\n",
       "      <td>Downtown Toronto</td>\n",
       "      <td>Christie</td>\n",
       "      <td>43.669542</td>\n",
       "      <td>-79.422564</td>\n",
       "      <td>0</td>\n",
       "    </tr>\n",
       "    <tr>\n",
       "      <th>31</th>\n",
       "      <td>M6H</td>\n",
       "      <td>West Toronto</td>\n",
       "      <td>Dovercourt Village, Dufferin</td>\n",
       "      <td>43.669005</td>\n",
       "      <td>-79.442259</td>\n",
       "      <td>0</td>\n",
       "    </tr>\n",
       "    <tr>\n",
       "      <th>32</th>\n",
       "      <td>M6J</td>\n",
       "      <td>West Toronto</td>\n",
       "      <td>Little Portugal, Trinity</td>\n",
       "      <td>43.647927</td>\n",
       "      <td>-79.419750</td>\n",
       "      <td>0</td>\n",
       "    </tr>\n",
       "    <tr>\n",
       "      <th>33</th>\n",
       "      <td>M6K</td>\n",
       "      <td>West Toronto</td>\n",
       "      <td>Brockton, Exhibition Place, Parkdale Village</td>\n",
       "      <td>43.636847</td>\n",
       "      <td>-79.428191</td>\n",
       "      <td>0</td>\n",
       "    </tr>\n",
       "    <tr>\n",
       "      <th>34</th>\n",
       "      <td>M6P</td>\n",
       "      <td>West Toronto</td>\n",
       "      <td>High Park, The Junction South</td>\n",
       "      <td>43.661608</td>\n",
       "      <td>-79.464763</td>\n",
       "      <td>0</td>\n",
       "    </tr>\n",
       "    <tr>\n",
       "      <th>35</th>\n",
       "      <td>M6R</td>\n",
       "      <td>West Toronto</td>\n",
       "      <td>Parkdale, Roncesvalles</td>\n",
       "      <td>43.648960</td>\n",
       "      <td>-79.456325</td>\n",
       "      <td>0</td>\n",
       "    </tr>\n",
       "    <tr>\n",
       "      <th>36</th>\n",
       "      <td>M6S</td>\n",
       "      <td>West Toronto</td>\n",
       "      <td>Runnymede, Swansea</td>\n",
       "      <td>43.651571</td>\n",
       "      <td>-79.484450</td>\n",
       "      <td>0</td>\n",
       "    </tr>\n",
       "  </tbody>\n",
       "</table>\n",
       "</div>"
      ],
      "text/plain": [
       "   Postcode           Borough                                 Neighbourhood  \\\n",
       "30      M6G  Downtown Toronto                                      Christie   \n",
       "31      M6H      West Toronto                  Dovercourt Village, Dufferin   \n",
       "32      M6J      West Toronto                      Little Portugal, Trinity   \n",
       "33      M6K      West Toronto  Brockton, Exhibition Place, Parkdale Village   \n",
       "34      M6P      West Toronto                 High Park, The Junction South   \n",
       "35      M6R      West Toronto                        Parkdale, Roncesvalles   \n",
       "36      M6S      West Toronto                            Runnymede, Swansea   \n",
       "\n",
       "     Latitude  Longitude  Cluster Labels  \n",
       "30  43.669542 -79.422564               0  \n",
       "31  43.669005 -79.442259               0  \n",
       "32  43.647927 -79.419750               0  \n",
       "33  43.636847 -79.428191               0  \n",
       "34  43.661608 -79.464763               0  \n",
       "35  43.648960 -79.456325               0  \n",
       "36  43.651571 -79.484450               0  "
      ]
     },
     "execution_count": 34,
     "metadata": {},
     "output_type": "execute_result"
    }
   ],
   "source": [
    "# cluster label: 0\n",
    "Toronto_clustered[Toronto_clustered['Cluster Labels']==0]"
   ]
  },
  {
   "cell_type": "code",
   "execution_count": 35,
   "metadata": {},
   "outputs": [
    {
     "data": {
      "text/html": [
       "<div>\n",
       "<style scoped>\n",
       "    .dataframe tbody tr th:only-of-type {\n",
       "        vertical-align: middle;\n",
       "    }\n",
       "\n",
       "    .dataframe tbody tr th {\n",
       "        vertical-align: top;\n",
       "    }\n",
       "\n",
       "    .dataframe thead th {\n",
       "        text-align: right;\n",
       "    }\n",
       "</style>\n",
       "<table border=\"1\" class=\"dataframe\">\n",
       "  <thead>\n",
       "    <tr style=\"text-align: right;\">\n",
       "      <th></th>\n",
       "      <th>Postcode</th>\n",
       "      <th>Borough</th>\n",
       "      <th>Neighbourhood</th>\n",
       "      <th>Latitude</th>\n",
       "      <th>Longitude</th>\n",
       "      <th>Cluster Labels</th>\n",
       "    </tr>\n",
       "  </thead>\n",
       "  <tbody>\n",
       "    <tr>\n",
       "      <th>0</th>\n",
       "      <td>M4E</td>\n",
       "      <td>East Toronto</td>\n",
       "      <td>The Beaches</td>\n",
       "      <td>43.676357</td>\n",
       "      <td>-79.293031</td>\n",
       "      <td>1</td>\n",
       "    </tr>\n",
       "    <tr>\n",
       "      <th>1</th>\n",
       "      <td>M4K</td>\n",
       "      <td>East Toronto</td>\n",
       "      <td>The Danforth West, Riverdale</td>\n",
       "      <td>43.679557</td>\n",
       "      <td>-79.352188</td>\n",
       "      <td>1</td>\n",
       "    </tr>\n",
       "    <tr>\n",
       "      <th>2</th>\n",
       "      <td>M4L</td>\n",
       "      <td>East Toronto</td>\n",
       "      <td>The Beaches West, India Bazaar</td>\n",
       "      <td>43.668999</td>\n",
       "      <td>-79.315572</td>\n",
       "      <td>1</td>\n",
       "    </tr>\n",
       "    <tr>\n",
       "      <th>3</th>\n",
       "      <td>M4M</td>\n",
       "      <td>East Toronto</td>\n",
       "      <td>Studio District</td>\n",
       "      <td>43.659526</td>\n",
       "      <td>-79.340923</td>\n",
       "      <td>1</td>\n",
       "    </tr>\n",
       "    <tr>\n",
       "      <th>38</th>\n",
       "      <td>M7Y</td>\n",
       "      <td>East Toronto</td>\n",
       "      <td>Business Reply Mail Processing Centre 969 Eastern</td>\n",
       "      <td>43.662744</td>\n",
       "      <td>-79.321558</td>\n",
       "      <td>1</td>\n",
       "    </tr>\n",
       "  </tbody>\n",
       "</table>\n",
       "</div>"
      ],
      "text/plain": [
       "   Postcode       Borough                                      Neighbourhood  \\\n",
       "0       M4E  East Toronto                                        The Beaches   \n",
       "1       M4K  East Toronto                       The Danforth West, Riverdale   \n",
       "2       M4L  East Toronto                     The Beaches West, India Bazaar   \n",
       "3       M4M  East Toronto                                    Studio District   \n",
       "38      M7Y  East Toronto  Business Reply Mail Processing Centre 969 Eastern   \n",
       "\n",
       "     Latitude  Longitude  Cluster Labels  \n",
       "0   43.676357 -79.293031               1  \n",
       "1   43.679557 -79.352188               1  \n",
       "2   43.668999 -79.315572               1  \n",
       "3   43.659526 -79.340923               1  \n",
       "38  43.662744 -79.321558               1  "
      ]
     },
     "execution_count": 35,
     "metadata": {},
     "output_type": "execute_result"
    }
   ],
   "source": [
    "# cluster label: 1\n",
    "Toronto_clustered[Toronto_clustered['Cluster Labels']==1]"
   ]
  },
  {
   "cell_type": "code",
   "execution_count": 36,
   "metadata": {},
   "outputs": [
    {
     "data": {
      "text/html": [
       "<div>\n",
       "<style scoped>\n",
       "    .dataframe tbody tr th:only-of-type {\n",
       "        vertical-align: middle;\n",
       "    }\n",
       "\n",
       "    .dataframe tbody tr th {\n",
       "        vertical-align: top;\n",
       "    }\n",
       "\n",
       "    .dataframe thead th {\n",
       "        text-align: right;\n",
       "    }\n",
       "</style>\n",
       "<table border=\"1\" class=\"dataframe\">\n",
       "  <thead>\n",
       "    <tr style=\"text-align: right;\">\n",
       "      <th></th>\n",
       "      <th>Postcode</th>\n",
       "      <th>Borough</th>\n",
       "      <th>Neighbourhood</th>\n",
       "      <th>Latitude</th>\n",
       "      <th>Longitude</th>\n",
       "      <th>Cluster Labels</th>\n",
       "    </tr>\n",
       "  </thead>\n",
       "  <tbody>\n",
       "    <tr>\n",
       "      <th>4</th>\n",
       "      <td>M4N</td>\n",
       "      <td>Central Toronto</td>\n",
       "      <td>Lawrence Park</td>\n",
       "      <td>43.728020</td>\n",
       "      <td>-79.388790</td>\n",
       "      <td>2</td>\n",
       "    </tr>\n",
       "    <tr>\n",
       "      <th>5</th>\n",
       "      <td>M4P</td>\n",
       "      <td>Central Toronto</td>\n",
       "      <td>Davisville North</td>\n",
       "      <td>43.712751</td>\n",
       "      <td>-79.390197</td>\n",
       "      <td>2</td>\n",
       "    </tr>\n",
       "    <tr>\n",
       "      <th>6</th>\n",
       "      <td>M4R</td>\n",
       "      <td>Central Toronto</td>\n",
       "      <td>North Toronto West</td>\n",
       "      <td>43.715383</td>\n",
       "      <td>-79.405678</td>\n",
       "      <td>2</td>\n",
       "    </tr>\n",
       "    <tr>\n",
       "      <th>7</th>\n",
       "      <td>M4S</td>\n",
       "      <td>Central Toronto</td>\n",
       "      <td>Davisville</td>\n",
       "      <td>43.704324</td>\n",
       "      <td>-79.388790</td>\n",
       "      <td>2</td>\n",
       "    </tr>\n",
       "    <tr>\n",
       "      <th>8</th>\n",
       "      <td>M4T</td>\n",
       "      <td>Central Toronto</td>\n",
       "      <td>Moore Park, Summerhill East</td>\n",
       "      <td>43.689574</td>\n",
       "      <td>-79.383160</td>\n",
       "      <td>2</td>\n",
       "    </tr>\n",
       "    <tr>\n",
       "      <th>9</th>\n",
       "      <td>M4V</td>\n",
       "      <td>Central Toronto</td>\n",
       "      <td>Deer Park, Forest Hill SE, Rathnelly, South Hi...</td>\n",
       "      <td>43.686412</td>\n",
       "      <td>-79.400049</td>\n",
       "      <td>2</td>\n",
       "    </tr>\n",
       "    <tr>\n",
       "      <th>22</th>\n",
       "      <td>M5N</td>\n",
       "      <td>Central Toronto</td>\n",
       "      <td>Roselawn</td>\n",
       "      <td>43.711695</td>\n",
       "      <td>-79.416936</td>\n",
       "      <td>2</td>\n",
       "    </tr>\n",
       "    <tr>\n",
       "      <th>23</th>\n",
       "      <td>M5P</td>\n",
       "      <td>Central Toronto</td>\n",
       "      <td>Forest Hill North, Forest Hill West</td>\n",
       "      <td>43.696948</td>\n",
       "      <td>-79.411307</td>\n",
       "      <td>2</td>\n",
       "    </tr>\n",
       "  </tbody>\n",
       "</table>\n",
       "</div>"
      ],
      "text/plain": [
       "   Postcode          Borough  \\\n",
       "4       M4N  Central Toronto   \n",
       "5       M4P  Central Toronto   \n",
       "6       M4R  Central Toronto   \n",
       "7       M4S  Central Toronto   \n",
       "8       M4T  Central Toronto   \n",
       "9       M4V  Central Toronto   \n",
       "22      M5N  Central Toronto   \n",
       "23      M5P  Central Toronto   \n",
       "\n",
       "                                        Neighbourhood   Latitude  Longitude  \\\n",
       "4                                       Lawrence Park  43.728020 -79.388790   \n",
       "5                                    Davisville North  43.712751 -79.390197   \n",
       "6                                  North Toronto West  43.715383 -79.405678   \n",
       "7                                          Davisville  43.704324 -79.388790   \n",
       "8                         Moore Park, Summerhill East  43.689574 -79.383160   \n",
       "9   Deer Park, Forest Hill SE, Rathnelly, South Hi...  43.686412 -79.400049   \n",
       "22                                           Roselawn  43.711695 -79.416936   \n",
       "23                Forest Hill North, Forest Hill West  43.696948 -79.411307   \n",
       "\n",
       "    Cluster Labels  \n",
       "4                2  \n",
       "5                2  \n",
       "6                2  \n",
       "7                2  \n",
       "8                2  \n",
       "9                2  \n",
       "22               2  \n",
       "23               2  "
      ]
     },
     "execution_count": 36,
     "metadata": {},
     "output_type": "execute_result"
    }
   ],
   "source": [
    "# cluster label: 2\n",
    "Toronto_clustered[Toronto_clustered['Cluster Labels']==2]"
   ]
  },
  {
   "cell_type": "code",
   "execution_count": 37,
   "metadata": {},
   "outputs": [
    {
     "data": {
      "text/html": [
       "<div>\n",
       "<style scoped>\n",
       "    .dataframe tbody tr th:only-of-type {\n",
       "        vertical-align: middle;\n",
       "    }\n",
       "\n",
       "    .dataframe tbody tr th {\n",
       "        vertical-align: top;\n",
       "    }\n",
       "\n",
       "    .dataframe thead th {\n",
       "        text-align: right;\n",
       "    }\n",
       "</style>\n",
       "<table border=\"1\" class=\"dataframe\">\n",
       "  <thead>\n",
       "    <tr style=\"text-align: right;\">\n",
       "      <th></th>\n",
       "      <th>Postcode</th>\n",
       "      <th>Borough</th>\n",
       "      <th>Neighbourhood</th>\n",
       "      <th>Latitude</th>\n",
       "      <th>Longitude</th>\n",
       "      <th>Cluster Labels</th>\n",
       "    </tr>\n",
       "  </thead>\n",
       "  <tbody>\n",
       "    <tr>\n",
       "      <th>10</th>\n",
       "      <td>M4W</td>\n",
       "      <td>Downtown Toronto</td>\n",
       "      <td>Rosedale</td>\n",
       "      <td>43.679563</td>\n",
       "      <td>-79.377529</td>\n",
       "      <td>3</td>\n",
       "    </tr>\n",
       "    <tr>\n",
       "      <th>11</th>\n",
       "      <td>M4X</td>\n",
       "      <td>Downtown Toronto</td>\n",
       "      <td>Cabbagetown, St. James Town</td>\n",
       "      <td>43.667967</td>\n",
       "      <td>-79.367675</td>\n",
       "      <td>3</td>\n",
       "    </tr>\n",
       "    <tr>\n",
       "      <th>12</th>\n",
       "      <td>M4Y</td>\n",
       "      <td>Downtown Toronto</td>\n",
       "      <td>Church and Wellesley</td>\n",
       "      <td>43.665860</td>\n",
       "      <td>-79.383160</td>\n",
       "      <td>3</td>\n",
       "    </tr>\n",
       "    <tr>\n",
       "      <th>13</th>\n",
       "      <td>M5A</td>\n",
       "      <td>Downtown Toronto</td>\n",
       "      <td>Harbourfront</td>\n",
       "      <td>43.654260</td>\n",
       "      <td>-79.360636</td>\n",
       "      <td>3</td>\n",
       "    </tr>\n",
       "    <tr>\n",
       "      <th>14</th>\n",
       "      <td>M5B</td>\n",
       "      <td>Downtown Toronto</td>\n",
       "      <td>Ryerson, Garden District</td>\n",
       "      <td>43.657162</td>\n",
       "      <td>-79.378937</td>\n",
       "      <td>3</td>\n",
       "    </tr>\n",
       "    <tr>\n",
       "      <th>15</th>\n",
       "      <td>M5C</td>\n",
       "      <td>Downtown Toronto</td>\n",
       "      <td>St. James Town</td>\n",
       "      <td>43.651494</td>\n",
       "      <td>-79.375418</td>\n",
       "      <td>3</td>\n",
       "    </tr>\n",
       "    <tr>\n",
       "      <th>16</th>\n",
       "      <td>M5E</td>\n",
       "      <td>Downtown Toronto</td>\n",
       "      <td>Berczy Park</td>\n",
       "      <td>43.644771</td>\n",
       "      <td>-79.373306</td>\n",
       "      <td>3</td>\n",
       "    </tr>\n",
       "    <tr>\n",
       "      <th>17</th>\n",
       "      <td>M5G</td>\n",
       "      <td>Downtown Toronto</td>\n",
       "      <td>Central Bay Street</td>\n",
       "      <td>43.657952</td>\n",
       "      <td>-79.387383</td>\n",
       "      <td>3</td>\n",
       "    </tr>\n",
       "    <tr>\n",
       "      <th>18</th>\n",
       "      <td>M5H</td>\n",
       "      <td>Downtown Toronto</td>\n",
       "      <td>Adelaide, King, Richmond</td>\n",
       "      <td>43.650571</td>\n",
       "      <td>-79.384568</td>\n",
       "      <td>3</td>\n",
       "    </tr>\n",
       "    <tr>\n",
       "      <th>19</th>\n",
       "      <td>M5J</td>\n",
       "      <td>Downtown Toronto</td>\n",
       "      <td>Harbourfront East, Toronto Islands, Union Station</td>\n",
       "      <td>43.640816</td>\n",
       "      <td>-79.381752</td>\n",
       "      <td>3</td>\n",
       "    </tr>\n",
       "    <tr>\n",
       "      <th>20</th>\n",
       "      <td>M5K</td>\n",
       "      <td>Downtown Toronto</td>\n",
       "      <td>Design Exchange, Toronto Dominion Centre</td>\n",
       "      <td>43.647177</td>\n",
       "      <td>-79.381576</td>\n",
       "      <td>3</td>\n",
       "    </tr>\n",
       "    <tr>\n",
       "      <th>21</th>\n",
       "      <td>M5L</td>\n",
       "      <td>Downtown Toronto</td>\n",
       "      <td>Commerce Court, Victoria Hotel</td>\n",
       "      <td>43.648198</td>\n",
       "      <td>-79.379817</td>\n",
       "      <td>3</td>\n",
       "    </tr>\n",
       "    <tr>\n",
       "      <th>24</th>\n",
       "      <td>M5R</td>\n",
       "      <td>Central Toronto</td>\n",
       "      <td>The Annex, North Midtown, Yorkville</td>\n",
       "      <td>43.672710</td>\n",
       "      <td>-79.405678</td>\n",
       "      <td>3</td>\n",
       "    </tr>\n",
       "    <tr>\n",
       "      <th>25</th>\n",
       "      <td>M5S</td>\n",
       "      <td>Downtown Toronto</td>\n",
       "      <td>Harbord, University of Toronto</td>\n",
       "      <td>43.662696</td>\n",
       "      <td>-79.400049</td>\n",
       "      <td>3</td>\n",
       "    </tr>\n",
       "    <tr>\n",
       "      <th>26</th>\n",
       "      <td>M5T</td>\n",
       "      <td>Downtown Toronto</td>\n",
       "      <td>Chinatown, Grange Park, Kensington Market</td>\n",
       "      <td>43.653206</td>\n",
       "      <td>-79.400049</td>\n",
       "      <td>3</td>\n",
       "    </tr>\n",
       "    <tr>\n",
       "      <th>27</th>\n",
       "      <td>M5V</td>\n",
       "      <td>Downtown Toronto</td>\n",
       "      <td>CN Tower, Bathurst Quay, Island airport, Harbo...</td>\n",
       "      <td>43.628947</td>\n",
       "      <td>-79.394420</td>\n",
       "      <td>3</td>\n",
       "    </tr>\n",
       "    <tr>\n",
       "      <th>28</th>\n",
       "      <td>M5W</td>\n",
       "      <td>Downtown Toronto</td>\n",
       "      <td>Stn A PO Boxes 25 The Esplanade</td>\n",
       "      <td>43.646435</td>\n",
       "      <td>-79.374846</td>\n",
       "      <td>3</td>\n",
       "    </tr>\n",
       "    <tr>\n",
       "      <th>29</th>\n",
       "      <td>M5X</td>\n",
       "      <td>Downtown Toronto</td>\n",
       "      <td>First Canadian Place, Underground city</td>\n",
       "      <td>43.648429</td>\n",
       "      <td>-79.382280</td>\n",
       "      <td>3</td>\n",
       "    </tr>\n",
       "    <tr>\n",
       "      <th>37</th>\n",
       "      <td>M7A</td>\n",
       "      <td>Downtown Toronto</td>\n",
       "      <td>Queen's Park</td>\n",
       "      <td>43.662301</td>\n",
       "      <td>-79.389494</td>\n",
       "      <td>3</td>\n",
       "    </tr>\n",
       "  </tbody>\n",
       "</table>\n",
       "</div>"
      ],
      "text/plain": [
       "   Postcode           Borough  \\\n",
       "10      M4W  Downtown Toronto   \n",
       "11      M4X  Downtown Toronto   \n",
       "12      M4Y  Downtown Toronto   \n",
       "13      M5A  Downtown Toronto   \n",
       "14      M5B  Downtown Toronto   \n",
       "15      M5C  Downtown Toronto   \n",
       "16      M5E  Downtown Toronto   \n",
       "17      M5G  Downtown Toronto   \n",
       "18      M5H  Downtown Toronto   \n",
       "19      M5J  Downtown Toronto   \n",
       "20      M5K  Downtown Toronto   \n",
       "21      M5L  Downtown Toronto   \n",
       "24      M5R   Central Toronto   \n",
       "25      M5S  Downtown Toronto   \n",
       "26      M5T  Downtown Toronto   \n",
       "27      M5V  Downtown Toronto   \n",
       "28      M5W  Downtown Toronto   \n",
       "29      M5X  Downtown Toronto   \n",
       "37      M7A  Downtown Toronto   \n",
       "\n",
       "                                        Neighbourhood   Latitude  Longitude  \\\n",
       "10                                           Rosedale  43.679563 -79.377529   \n",
       "11                        Cabbagetown, St. James Town  43.667967 -79.367675   \n",
       "12                               Church and Wellesley  43.665860 -79.383160   \n",
       "13                                       Harbourfront  43.654260 -79.360636   \n",
       "14                           Ryerson, Garden District  43.657162 -79.378937   \n",
       "15                                     St. James Town  43.651494 -79.375418   \n",
       "16                                        Berczy Park  43.644771 -79.373306   \n",
       "17                                 Central Bay Street  43.657952 -79.387383   \n",
       "18                           Adelaide, King, Richmond  43.650571 -79.384568   \n",
       "19  Harbourfront East, Toronto Islands, Union Station  43.640816 -79.381752   \n",
       "20           Design Exchange, Toronto Dominion Centre  43.647177 -79.381576   \n",
       "21                     Commerce Court, Victoria Hotel  43.648198 -79.379817   \n",
       "24                The Annex, North Midtown, Yorkville  43.672710 -79.405678   \n",
       "25                     Harbord, University of Toronto  43.662696 -79.400049   \n",
       "26          Chinatown, Grange Park, Kensington Market  43.653206 -79.400049   \n",
       "27  CN Tower, Bathurst Quay, Island airport, Harbo...  43.628947 -79.394420   \n",
       "28                    Stn A PO Boxes 25 The Esplanade  43.646435 -79.374846   \n",
       "29             First Canadian Place, Underground city  43.648429 -79.382280   \n",
       "37                                       Queen's Park  43.662301 -79.389494   \n",
       "\n",
       "    Cluster Labels  \n",
       "10               3  \n",
       "11               3  \n",
       "12               3  \n",
       "13               3  \n",
       "14               3  \n",
       "15               3  \n",
       "16               3  \n",
       "17               3  \n",
       "18               3  \n",
       "19               3  \n",
       "20               3  \n",
       "21               3  \n",
       "24               3  \n",
       "25               3  \n",
       "26               3  \n",
       "27               3  \n",
       "28               3  \n",
       "29               3  \n",
       "37               3  "
      ]
     },
     "execution_count": 37,
     "metadata": {},
     "output_type": "execute_result"
    }
   ],
   "source": [
    "# cluster label: 3\n",
    "Toronto_clustered[Toronto_clustered['Cluster Labels']==3]"
   ]
  },
  {
   "cell_type": "markdown",
   "metadata": {},
   "source": [
    "### Plot the clastering result on the map of Toronto"
   ]
  },
  {
   "cell_type": "code",
   "execution_count": 38,
   "metadata": {},
   "outputs": [
    {
     "data": {
      "text/html": [
       "<div style=\"width:100%;\"><div style=\"position:relative;width:100%;height:0;padding-bottom:60%;\"><iframe src=\"data:text/html;charset=utf-8;base64,PCFET0NUWVBFIGh0bWw+CjxoZWFkPiAgICAKICAgIDxtZXRhIGh0dHAtZXF1aXY9ImNvbnRlbnQtdHlwZSIgY29udGVudD0idGV4dC9odG1sOyBjaGFyc2V0PVVURi04IiAvPgogICAgCiAgICAgICAgPHNjcmlwdD4KICAgICAgICAgICAgTF9OT19UT1VDSCA9IGZhbHNlOwogICAgICAgICAgICBMX0RJU0FCTEVfM0QgPSBmYWxzZTsKICAgICAgICA8L3NjcmlwdD4KICAgIAogICAgPHNjcmlwdCBzcmM9Imh0dHBzOi8vY2RuLmpzZGVsaXZyLm5ldC9ucG0vbGVhZmxldEAxLjUuMS9kaXN0L2xlYWZsZXQuanMiPjwvc2NyaXB0PgogICAgPHNjcmlwdCBzcmM9Imh0dHBzOi8vY29kZS5qcXVlcnkuY29tL2pxdWVyeS0xLjEyLjQubWluLmpzIj48L3NjcmlwdD4KICAgIDxzY3JpcHQgc3JjPSJodHRwczovL21heGNkbi5ib290c3RyYXBjZG4uY29tL2Jvb3RzdHJhcC8zLjIuMC9qcy9ib290c3RyYXAubWluLmpzIj48L3NjcmlwdD4KICAgIDxzY3JpcHQgc3JjPSJodHRwczovL2NkbmpzLmNsb3VkZmxhcmUuY29tL2FqYXgvbGlicy9MZWFmbGV0LmF3ZXNvbWUtbWFya2Vycy8yLjAuMi9sZWFmbGV0LmF3ZXNvbWUtbWFya2Vycy5qcyI+PC9zY3JpcHQ+CiAgICA8bGluayByZWw9InN0eWxlc2hlZXQiIGhyZWY9Imh0dHBzOi8vY2RuLmpzZGVsaXZyLm5ldC9ucG0vbGVhZmxldEAxLjUuMS9kaXN0L2xlYWZsZXQuY3NzIi8+CiAgICA8bGluayByZWw9InN0eWxlc2hlZXQiIGhyZWY9Imh0dHBzOi8vbWF4Y2RuLmJvb3RzdHJhcGNkbi5jb20vYm9vdHN0cmFwLzMuMi4wL2Nzcy9ib290c3RyYXAubWluLmNzcyIvPgogICAgPGxpbmsgcmVsPSJzdHlsZXNoZWV0IiBocmVmPSJodHRwczovL21heGNkbi5ib290c3RyYXBjZG4uY29tL2Jvb3RzdHJhcC8zLjIuMC9jc3MvYm9vdHN0cmFwLXRoZW1lLm1pbi5jc3MiLz4KICAgIDxsaW5rIHJlbD0ic3R5bGVzaGVldCIgaHJlZj0iaHR0cHM6Ly9tYXhjZG4uYm9vdHN0cmFwY2RuLmNvbS9mb250LWF3ZXNvbWUvNC42LjMvY3NzL2ZvbnQtYXdlc29tZS5taW4uY3NzIi8+CiAgICA8bGluayByZWw9InN0eWxlc2hlZXQiIGhyZWY9Imh0dHBzOi8vY2RuanMuY2xvdWRmbGFyZS5jb20vYWpheC9saWJzL0xlYWZsZXQuYXdlc29tZS1tYXJrZXJzLzIuMC4yL2xlYWZsZXQuYXdlc29tZS1tYXJrZXJzLmNzcyIvPgogICAgPGxpbmsgcmVsPSJzdHlsZXNoZWV0IiBocmVmPSJodHRwczovL3Jhd2Nkbi5naXRoYWNrLmNvbS9weXRob24tdmlzdWFsaXphdGlvbi9mb2xpdW0vbWFzdGVyL2ZvbGl1bS90ZW1wbGF0ZXMvbGVhZmxldC5hd2Vzb21lLnJvdGF0ZS5jc3MiLz4KICAgIDxzdHlsZT5odG1sLCBib2R5IHt3aWR0aDogMTAwJTtoZWlnaHQ6IDEwMCU7bWFyZ2luOiAwO3BhZGRpbmc6IDA7fTwvc3R5bGU+CiAgICA8c3R5bGU+I21hcCB7cG9zaXRpb246YWJzb2x1dGU7dG9wOjA7Ym90dG9tOjA7cmlnaHQ6MDtsZWZ0OjA7fTwvc3R5bGU+CiAgICAKICAgICAgICAgICAgPG1ldGEgbmFtZT0idmlld3BvcnQiIGNvbnRlbnQ9IndpZHRoPWRldmljZS13aWR0aCwKICAgICAgICAgICAgICAgIGluaXRpYWwtc2NhbGU9MS4wLCBtYXhpbXVtLXNjYWxlPTEuMCwgdXNlci1zY2FsYWJsZT1ubyIgLz4KICAgICAgICAgICAgPHN0eWxlPgogICAgICAgICAgICAgICAgI21hcF9kMmEyODVlMmJjNTg0ZDA2YjEyZmZkMWM0M2QzNjYzMyB7CiAgICAgICAgICAgICAgICAgICAgcG9zaXRpb246IHJlbGF0aXZlOwogICAgICAgICAgICAgICAgICAgIHdpZHRoOiAxMDAuMCU7CiAgICAgICAgICAgICAgICAgICAgaGVpZ2h0OiAxMDAuMCU7CiAgICAgICAgICAgICAgICAgICAgbGVmdDogMC4wJTsKICAgICAgICAgICAgICAgICAgICB0b3A6IDAuMCU7CiAgICAgICAgICAgICAgICB9CiAgICAgICAgICAgIDwvc3R5bGU+CiAgICAgICAgCjwvaGVhZD4KPGJvZHk+ICAgIAogICAgCiAgICAgICAgICAgICAgICA8ZGl2IHN0eWxlPSJwb3NpdGlvbjogZml4ZWQ7IAogICAgICAgICAgICAgICAgICAgICAgICAgICAgYm90dG9tOiAxMDBweDsgcmlnaHQ6IDUwcHg7IHdpZHRoOiAzMDBweDsgaGVpZ2h0OiAxNTBweDsgCiAgICAgICAgICAgICAgICAgICAgICAgICAgICBib3JkZXI6MnB4IHNvbGlkIGdyZXk7IHotaW5kZXg6OTk5OTsgZm9udC1zaXplOjE0cHg7CiAgICAgICAgICAgICAgICAgICAgICAgICAgICAiPiZuYnNwOyBCb3JvdWdocyA8YnI+CiAgICAgICAgICAgICAgICAgICAgICAgICAgICAgIDxicj4KICAgICAgICAgICAgICAgICAgICAgICAgICAgICAgJm5ic3A7IENsdXN0ZXIgMCA6IFdlc3QgVG9yb250byAoNi83KSZuYnNwOyA8aSBjbGFzcz0iZmEgZmEtY2lyY2xlIGZhLTF4IiBzdHlsZT0iY29sb3I6I2ZmMDBiZiI+PC9pPjxicj4KICAgICAgICAgICAgICAgICAgICAgICAgICAgICAgJm5ic3A7IENsdXN0ZXIgMSA6IEVhc3QgVG9yb250byAoNS81KSAmbmJzcDsgPGkgY2xhc3M9ImZhIGZhLWNpcmNsZSBmYS0xeCIgc3R5bGU9ImNvbG9yOiNmZjAwMjkiPjwvaT48YnI+CiAgICAgICAgICAgICAgICAgICAgICAgICAgICAgICZuYnNwOyBDbHVzdGVyIDIgOiBDZW50cmFsIFRvcm9udG8gKDgvOCkgJm5ic3A7IDxpIGNsYXNzPSJmYSBmYS1jaXJjbGUgZmEtMXgiIHN0eWxlPSJjb2xvcjojNWNmZjAwIj48L2k+PGJyPgogICAgICAgICAgICAgICAgICAgICAgICAgICAgICAmbmJzcDsgQ2x1c3RlciAzIDogRG93bnRvd24gVG9yb250byAoMTgvMTkpICZuYnNwOyA8aSBjbGFzcz0iZmEgZmEtY2lyY2xlIGZhLTF4IiBzdHlsZT0iY29sb3I6IzAwOGZmZiI+PC9pPgogICAgICAgICAgICAgICAgICAgICAgICAgICAgICAKICAgICAgICAgICAgICAgICAgICAgICAgICAgICAgCiAgICAgICAgICAgICAgICA8L2Rpdj4KICAgICAgICAgICAgICAgIAogICAgCiAgICAgICAgICAgIDxkaXYgY2xhc3M9ImZvbGl1bS1tYXAiIGlkPSJtYXBfZDJhMjg1ZTJiYzU4NGQwNmIxMmZmZDFjNDNkMzY2MzMiID48L2Rpdj4KICAgICAgICAKPC9ib2R5Pgo8c2NyaXB0PiAgICAKICAgIAogICAgICAgICAgICB2YXIgbWFwX2QyYTI4NWUyYmM1ODRkMDZiMTJmZmQxYzQzZDM2NjMzID0gTC5tYXAoCiAgICAgICAgICAgICAgICAibWFwX2QyYTI4NWUyYmM1ODRkMDZiMTJmZmQxYzQzZDM2NjMzIiwKICAgICAgICAgICAgICAgIHsKICAgICAgICAgICAgICAgICAgICBjZW50ZXI6IFs0My42NTEwNywgLTc5LjM0NzAxNV0sCiAgICAgICAgICAgICAgICAgICAgY3JzOiBMLkNSUy5FUFNHMzg1NywKICAgICAgICAgICAgICAgICAgICB6b29tOiAxMiwKICAgICAgICAgICAgICAgICAgICB6b29tQ29udHJvbDogdHJ1ZSwKICAgICAgICAgICAgICAgICAgICBwcmVmZXJDYW52YXM6IGZhbHNlLAogICAgICAgICAgICAgICAgfQogICAgICAgICAgICApOwoKICAgICAgICAgICAgCgogICAgICAgIAogICAgCiAgICAgICAgICAgIHZhciB0aWxlX2xheWVyX2E3ZWI0OGEyZWU0ZDQzOTdhYTg5YWNhZGUwNDViYjFhID0gTC50aWxlTGF5ZXIoCiAgICAgICAgICAgICAgICAiaHR0cHM6Ly97c30udGlsZS5vcGVuc3RyZWV0bWFwLm9yZy97en0ve3h9L3t5fS5wbmciLAogICAgICAgICAgICAgICAgeyJhdHRyaWJ1dGlvbiI6ICJEYXRhIGJ5IFx1MDAyNmNvcHk7IFx1MDAzY2EgaHJlZj1cImh0dHA6Ly9vcGVuc3RyZWV0bWFwLm9yZ1wiXHUwMDNlT3BlblN0cmVldE1hcFx1MDAzYy9hXHUwMDNlLCB1bmRlciBcdTAwM2NhIGhyZWY9XCJodHRwOi8vd3d3Lm9wZW5zdHJlZXRtYXAub3JnL2NvcHlyaWdodFwiXHUwMDNlT0RiTFx1MDAzYy9hXHUwMDNlLiIsICJkZXRlY3RSZXRpbmEiOiBmYWxzZSwgIm1heE5hdGl2ZVpvb20iOiAxOCwgIm1heFpvb20iOiAxOCwgIm1pblpvb20iOiAwLCAibm9XcmFwIjogZmFsc2UsICJvcGFjaXR5IjogMSwgInN1YmRvbWFpbnMiOiAiYWJjIiwgInRtcyI6IGZhbHNlfQogICAgICAgICAgICApLmFkZFRvKG1hcF9kMmEyODVlMmJjNTg0ZDA2YjEyZmZkMWM0M2QzNjYzMyk7CiAgICAgICAgCiAgICAKICAgICAgICAgICAgdmFyIGNpcmNsZV9tYXJrZXJfNzZmOWJjM2ZiNTYxNDRjYTgyYWY5M2ZmMGRhNmRjZWQgPSBMLmNpcmNsZU1hcmtlcigKICAgICAgICAgICAgICAgIFs0My42NzYzNTczOTk5OTk5OSwgLTc5LjI5MzAzMTJdLAogICAgICAgICAgICAgICAgeyJidWJibGluZ01vdXNlRXZlbnRzIjogdHJ1ZSwgImNvbG9yIjogIiNmZjAwMjkiLCAiZGFzaEFycmF5IjogbnVsbCwgImRhc2hPZmZzZXQiOiBudWxsLCAiZmlsbCI6IHRydWUsICJmaWxsQ29sb3IiOiAiI2ZmMDAyOSIsICJmaWxsT3BhY2l0eSI6IDEuMCwgImZpbGxSdWxlIjogImV2ZW5vZGQiLCAibGluZUNhcCI6ICJyb3VuZCIsICJsaW5lSm9pbiI6ICJyb3VuZCIsICJvcGFjaXR5IjogMS4wLCAicmFkaXVzIjogNSwgInN0cm9rZSI6IHRydWUsICJ3ZWlnaHQiOiAzfQogICAgICAgICAgICApLmFkZFRvKG1hcF9kMmEyODVlMmJjNTg0ZDA2YjEyZmZkMWM0M2QzNjYzMyk7CiAgICAgICAgCiAgICAKICAgICAgICB2YXIgcG9wdXBfODljMzY1YTE3OWE5NGU2ZmFmYmE1YmZmMDJhNDkwYTYgPSBMLnBvcHVwKHsibWF4V2lkdGgiOiAiMTAwJSJ9KTsKCiAgICAgICAgCiAgICAgICAgICAgIHZhciBodG1sX2Q3NWZlNzcwNmYyMDRiMTk5NTdhY2I5NWZhMGZmYTBmID0gJChgPGRpdiBpZD0iaHRtbF9kNzVmZTc3MDZmMjA0YjE5OTU3YWNiOTVmYTBmZmEwZiIgc3R5bGU9IndpZHRoOiAxMDAuMCU7IGhlaWdodDogMTAwLjAlOyI+VGhlIEJlYWNoZXMgQ2x1c3RlciAxPC9kaXY+YClbMF07CiAgICAgICAgICAgIHBvcHVwXzg5YzM2NWExNzlhOTRlNmZhZmJhNWJmZjAyYTQ5MGE2LnNldENvbnRlbnQoaHRtbF9kNzVmZTc3MDZmMjA0YjE5OTU3YWNiOTVmYTBmZmEwZik7CiAgICAgICAgCgogICAgICAgIGNpcmNsZV9tYXJrZXJfNzZmOWJjM2ZiNTYxNDRjYTgyYWY5M2ZmMGRhNmRjZWQuYmluZFBvcHVwKHBvcHVwXzg5YzM2NWExNzlhOTRlNmZhZmJhNWJmZjAyYTQ5MGE2KQogICAgICAgIDsKCiAgICAgICAgCiAgICAKICAgIAogICAgICAgICAgICB2YXIgY2lyY2xlX21hcmtlcl8wOWM1OGNjNzRiYjI0MzA4ODU4N2QxNGJhNGNmMDRjNyA9IEwuY2lyY2xlTWFya2VyKAogICAgICAgICAgICAgICAgWzQzLjY3OTU1NzEsIC03OS4zNTIxODhdLAogICAgICAgICAgICAgICAgeyJidWJibGluZ01vdXNlRXZlbnRzIjogdHJ1ZSwgImNvbG9yIjogIiNmZjAwMjkiLCAiZGFzaEFycmF5IjogbnVsbCwgImRhc2hPZmZzZXQiOiBudWxsLCAiZmlsbCI6IHRydWUsICJmaWxsQ29sb3IiOiAiI2ZmMDAyOSIsICJmaWxsT3BhY2l0eSI6IDEuMCwgImZpbGxSdWxlIjogImV2ZW5vZGQiLCAibGluZUNhcCI6ICJyb3VuZCIsICJsaW5lSm9pbiI6ICJyb3VuZCIsICJvcGFjaXR5IjogMS4wLCAicmFkaXVzIjogNSwgInN0cm9rZSI6IHRydWUsICJ3ZWlnaHQiOiAzfQogICAgICAgICAgICApLmFkZFRvKG1hcF9kMmEyODVlMmJjNTg0ZDA2YjEyZmZkMWM0M2QzNjYzMyk7CiAgICAgICAgCiAgICAKICAgICAgICB2YXIgcG9wdXBfMjIwNWFiMzliNzFjNDM1NTgwZWQyNjk2OTk2NmUyMDAgPSBMLnBvcHVwKHsibWF4V2lkdGgiOiAiMTAwJSJ9KTsKCiAgICAgICAgCiAgICAgICAgICAgIHZhciBodG1sX2UxMjFlNmIyZjVhOTQ1MTM4NTdhOGNjMDhiZWU5MzFiID0gJChgPGRpdiBpZD0iaHRtbF9lMTIxZTZiMmY1YTk0NTEzODU3YThjYzA4YmVlOTMxYiIgc3R5bGU9IndpZHRoOiAxMDAuMCU7IGhlaWdodDogMTAwLjAlOyI+VGhlIERhbmZvcnRoIFdlc3QsIFJpdmVyZGFsZSBDbHVzdGVyIDE8L2Rpdj5gKVswXTsKICAgICAgICAgICAgcG9wdXBfMjIwNWFiMzliNzFjNDM1NTgwZWQyNjk2OTk2NmUyMDAuc2V0Q29udGVudChodG1sX2UxMjFlNmIyZjVhOTQ1MTM4NTdhOGNjMDhiZWU5MzFiKTsKICAgICAgICAKCiAgICAgICAgY2lyY2xlX21hcmtlcl8wOWM1OGNjNzRiYjI0MzA4ODU4N2QxNGJhNGNmMDRjNy5iaW5kUG9wdXAocG9wdXBfMjIwNWFiMzliNzFjNDM1NTgwZWQyNjk2OTk2NmUyMDApCiAgICAgICAgOwoKICAgICAgICAKICAgIAogICAgCiAgICAgICAgICAgIHZhciBjaXJjbGVfbWFya2VyX2E0ZjE2YmRmMTQ3ODQwZTg5Y2M1YjA0ZGYxM2YwMjAzID0gTC5jaXJjbGVNYXJrZXIoCiAgICAgICAgICAgICAgICBbNDMuNjY4OTk4NSwgLTc5LjMxNTU3MTU5OTk5OTk4XSwKICAgICAgICAgICAgICAgIHsiYnViYmxpbmdNb3VzZUV2ZW50cyI6IHRydWUsICJjb2xvciI6ICIjZmYwMDI5IiwgImRhc2hBcnJheSI6IG51bGwsICJkYXNoT2Zmc2V0IjogbnVsbCwgImZpbGwiOiB0cnVlLCAiZmlsbENvbG9yIjogIiNmZjAwMjkiLCAiZmlsbE9wYWNpdHkiOiAxLjAsICJmaWxsUnVsZSI6ICJldmVub2RkIiwgImxpbmVDYXAiOiAicm91bmQiLCAibGluZUpvaW4iOiAicm91bmQiLCAib3BhY2l0eSI6IDEuMCwgInJhZGl1cyI6IDUsICJzdHJva2UiOiB0cnVlLCAid2VpZ2h0IjogM30KICAgICAgICAgICAgKS5hZGRUbyhtYXBfZDJhMjg1ZTJiYzU4NGQwNmIxMmZmZDFjNDNkMzY2MzMpOwogICAgICAgIAogICAgCiAgICAgICAgdmFyIHBvcHVwXzc2MTczNWY0MmE1NjRjYmM4ODJjZTBlNTJlZjQ4MjU0ID0gTC5wb3B1cCh7Im1heFdpZHRoIjogIjEwMCUifSk7CgogICAgICAgIAogICAgICAgICAgICB2YXIgaHRtbF9jMGEyMTk1MDRkMjk0YWMzYTVlZjgzYjQ1Njg4ZTlkYSA9ICQoYDxkaXYgaWQ9Imh0bWxfYzBhMjE5NTA0ZDI5NGFjM2E1ZWY4M2I0NTY4OGU5ZGEiIHN0eWxlPSJ3aWR0aDogMTAwLjAlOyBoZWlnaHQ6IDEwMC4wJTsiPlRoZSBCZWFjaGVzIFdlc3QsIEluZGlhIEJhemFhciBDbHVzdGVyIDE8L2Rpdj5gKVswXTsKICAgICAgICAgICAgcG9wdXBfNzYxNzM1ZjQyYTU2NGNiYzg4MmNlMGU1MmVmNDgyNTQuc2V0Q29udGVudChodG1sX2MwYTIxOTUwNGQyOTRhYzNhNWVmODNiNDU2ODhlOWRhKTsKICAgICAgICAKCiAgICAgICAgY2lyY2xlX21hcmtlcl9hNGYxNmJkZjE0Nzg0MGU4OWNjNWIwNGRmMTNmMDIwMy5iaW5kUG9wdXAocG9wdXBfNzYxNzM1ZjQyYTU2NGNiYzg4MmNlMGU1MmVmNDgyNTQpCiAgICAgICAgOwoKICAgICAgICAKICAgIAogICAgCiAgICAgICAgICAgIHZhciBjaXJjbGVfbWFya2VyX2M5MTQ2YWYyMjMyMzRiY2JhNjY1YzRmZWI2Y2NmYjFiID0gTC5jaXJjbGVNYXJrZXIoCiAgICAgICAgICAgICAgICBbNDMuNjU5NTI1NSwgLTc5LjM0MDkyM10sCiAgICAgICAgICAgICAgICB7ImJ1YmJsaW5nTW91c2VFdmVudHMiOiB0cnVlLCAiY29sb3IiOiAiI2ZmMDAyOSIsICJkYXNoQXJyYXkiOiBudWxsLCAiZGFzaE9mZnNldCI6IG51bGwsICJmaWxsIjogdHJ1ZSwgImZpbGxDb2xvciI6ICIjZmYwMDI5IiwgImZpbGxPcGFjaXR5IjogMS4wLCAiZmlsbFJ1bGUiOiAiZXZlbm9kZCIsICJsaW5lQ2FwIjogInJvdW5kIiwgImxpbmVKb2luIjogInJvdW5kIiwgIm9wYWNpdHkiOiAxLjAsICJyYWRpdXMiOiA1LCAic3Ryb2tlIjogdHJ1ZSwgIndlaWdodCI6IDN9CiAgICAgICAgICAgICkuYWRkVG8obWFwX2QyYTI4NWUyYmM1ODRkMDZiMTJmZmQxYzQzZDM2NjMzKTsKICAgICAgICAKICAgIAogICAgICAgIHZhciBwb3B1cF8zMzc1MmYwNjIxNDU0OGQ5OGEzODA5MjBlNGJjZDVkZCA9IEwucG9wdXAoeyJtYXhXaWR0aCI6ICIxMDAlIn0pOwoKICAgICAgICAKICAgICAgICAgICAgdmFyIGh0bWxfMTM4NDA4YzRjNmQ1NDgwYmE1NmI0NzljMzdhNjEzZTEgPSAkKGA8ZGl2IGlkPSJodG1sXzEzODQwOGM0YzZkNTQ4MGJhNTZiNDc5YzM3YTYxM2UxIiBzdHlsZT0id2lkdGg6IDEwMC4wJTsgaGVpZ2h0OiAxMDAuMCU7Ij5TdHVkaW8gRGlzdHJpY3QgQ2x1c3RlciAxPC9kaXY+YClbMF07CiAgICAgICAgICAgIHBvcHVwXzMzNzUyZjA2MjE0NTQ4ZDk4YTM4MDkyMGU0YmNkNWRkLnNldENvbnRlbnQoaHRtbF8xMzg0MDhjNGM2ZDU0ODBiYTU2YjQ3OWMzN2E2MTNlMSk7CiAgICAgICAgCgogICAgICAgIGNpcmNsZV9tYXJrZXJfYzkxNDZhZjIyMzIzNGJjYmE2NjVjNGZlYjZjY2ZiMWIuYmluZFBvcHVwKHBvcHVwXzMzNzUyZjA2MjE0NTQ4ZDk4YTM4MDkyMGU0YmNkNWRkKQogICAgICAgIDsKCiAgICAgICAgCiAgICAKICAgIAogICAgICAgICAgICB2YXIgY2lyY2xlX21hcmtlcl85YmZkYjUxYmFmMTI0YTMzYmUxMWQ4NGI2ODk2ZDVjYyA9IEwuY2lyY2xlTWFya2VyKAogICAgICAgICAgICAgICAgWzQzLjcyODAyMDUsIC03OS4zODg3OTAxXSwKICAgICAgICAgICAgICAgIHsiYnViYmxpbmdNb3VzZUV2ZW50cyI6IHRydWUsICJjb2xvciI6ICIjNWNmZjAwIiwgImRhc2hBcnJheSI6IG51bGwsICJkYXNoT2Zmc2V0IjogbnVsbCwgImZpbGwiOiB0cnVlLCAiZmlsbENvbG9yIjogIiM1Y2ZmMDAiLCAiZmlsbE9wYWNpdHkiOiAxLjAsICJmaWxsUnVsZSI6ICJldmVub2RkIiwgImxpbmVDYXAiOiAicm91bmQiLCAibGluZUpvaW4iOiAicm91bmQiLCAib3BhY2l0eSI6IDEuMCwgInJhZGl1cyI6IDUsICJzdHJva2UiOiB0cnVlLCAid2VpZ2h0IjogM30KICAgICAgICAgICAgKS5hZGRUbyhtYXBfZDJhMjg1ZTJiYzU4NGQwNmIxMmZmZDFjNDNkMzY2MzMpOwogICAgICAgIAogICAgCiAgICAgICAgdmFyIHBvcHVwX2NlNzEwM2QxZmQ5MDQzNjk5NmY0ZjIwMDIzOTJjZjlkID0gTC5wb3B1cCh7Im1heFdpZHRoIjogIjEwMCUifSk7CgogICAgICAgIAogICAgICAgICAgICB2YXIgaHRtbF80N2VjNTEzYTNiMTE0ZjcxYTMwNTBiNTQ2N2ViZWYyYyA9ICQoYDxkaXYgaWQ9Imh0bWxfNDdlYzUxM2EzYjExNGY3MWEzMDUwYjU0NjdlYmVmMmMiIHN0eWxlPSJ3aWR0aDogMTAwLjAlOyBoZWlnaHQ6IDEwMC4wJTsiPkxhd3JlbmNlIFBhcmsgQ2x1c3RlciAyPC9kaXY+YClbMF07CiAgICAgICAgICAgIHBvcHVwX2NlNzEwM2QxZmQ5MDQzNjk5NmY0ZjIwMDIzOTJjZjlkLnNldENvbnRlbnQoaHRtbF80N2VjNTEzYTNiMTE0ZjcxYTMwNTBiNTQ2N2ViZWYyYyk7CiAgICAgICAgCgogICAgICAgIGNpcmNsZV9tYXJrZXJfOWJmZGI1MWJhZjEyNGEzM2JlMTFkODRiNjg5NmQ1Y2MuYmluZFBvcHVwKHBvcHVwX2NlNzEwM2QxZmQ5MDQzNjk5NmY0ZjIwMDIzOTJjZjlkKQogICAgICAgIDsKCiAgICAgICAgCiAgICAKICAgIAogICAgICAgICAgICB2YXIgY2lyY2xlX21hcmtlcl8zZjBmN2ZmN2VhYzY0ZDRjYTdiMTRmYjM4ZDBjYjFmMiA9IEwuY2lyY2xlTWFya2VyKAogICAgICAgICAgICAgICAgWzQzLjcxMjc1MTEsIC03OS4zOTAxOTc1XSwKICAgICAgICAgICAgICAgIHsiYnViYmxpbmdNb3VzZUV2ZW50cyI6IHRydWUsICJjb2xvciI6ICIjNWNmZjAwIiwgImRhc2hBcnJheSI6IG51bGwsICJkYXNoT2Zmc2V0IjogbnVsbCwgImZpbGwiOiB0cnVlLCAiZmlsbENvbG9yIjogIiM1Y2ZmMDAiLCAiZmlsbE9wYWNpdHkiOiAxLjAsICJmaWxsUnVsZSI6ICJldmVub2RkIiwgImxpbmVDYXAiOiAicm91bmQiLCAibGluZUpvaW4iOiAicm91bmQiLCAib3BhY2l0eSI6IDEuMCwgInJhZGl1cyI6IDUsICJzdHJva2UiOiB0cnVlLCAid2VpZ2h0IjogM30KICAgICAgICAgICAgKS5hZGRUbyhtYXBfZDJhMjg1ZTJiYzU4NGQwNmIxMmZmZDFjNDNkMzY2MzMpOwogICAgICAgIAogICAgCiAgICAgICAgdmFyIHBvcHVwX2EwYzA2MjdkMDhhMDQ2N2I4ZGJmODU1MjUzZTgyYTYzID0gTC5wb3B1cCh7Im1heFdpZHRoIjogIjEwMCUifSk7CgogICAgICAgIAogICAgICAgICAgICB2YXIgaHRtbF9hZjllMzcyYTE5Mzg0NmYyYjg1ZWRhYTdkYjE0ZTM0MyA9ICQoYDxkaXYgaWQ9Imh0bWxfYWY5ZTM3MmExOTM4NDZmMmI4NWVkYWE3ZGIxNGUzNDMiIHN0eWxlPSJ3aWR0aDogMTAwLjAlOyBoZWlnaHQ6IDEwMC4wJTsiPkRhdmlzdmlsbGUgTm9ydGggQ2x1c3RlciAyPC9kaXY+YClbMF07CiAgICAgICAgICAgIHBvcHVwX2EwYzA2MjdkMDhhMDQ2N2I4ZGJmODU1MjUzZTgyYTYzLnNldENvbnRlbnQoaHRtbF9hZjllMzcyYTE5Mzg0NmYyYjg1ZWRhYTdkYjE0ZTM0Myk7CiAgICAgICAgCgogICAgICAgIGNpcmNsZV9tYXJrZXJfM2YwZjdmZjdlYWM2NGQ0Y2E3YjE0ZmIzOGQwY2IxZjIuYmluZFBvcHVwKHBvcHVwX2EwYzA2MjdkMDhhMDQ2N2I4ZGJmODU1MjUzZTgyYTYzKQogICAgICAgIDsKCiAgICAgICAgCiAgICAKICAgIAogICAgICAgICAgICB2YXIgY2lyY2xlX21hcmtlcl8xNDZhNzRmYjY5ZTM0ZWU5YTU3YWNhMmRmMmEzZDBjYyA9IEwuY2lyY2xlTWFya2VyKAogICAgICAgICAgICAgICAgWzQzLjcxNTM4MzQsIC03OS40MDU2Nzg0MDAwMDAwMV0sCiAgICAgICAgICAgICAgICB7ImJ1YmJsaW5nTW91c2VFdmVudHMiOiB0cnVlLCAiY29sb3IiOiAiIzVjZmYwMCIsICJkYXNoQXJyYXkiOiBudWxsLCAiZGFzaE9mZnNldCI6IG51bGwsICJmaWxsIjogdHJ1ZSwgImZpbGxDb2xvciI6ICIjNWNmZjAwIiwgImZpbGxPcGFjaXR5IjogMS4wLCAiZmlsbFJ1bGUiOiAiZXZlbm9kZCIsICJsaW5lQ2FwIjogInJvdW5kIiwgImxpbmVKb2luIjogInJvdW5kIiwgIm9wYWNpdHkiOiAxLjAsICJyYWRpdXMiOiA1LCAic3Ryb2tlIjogdHJ1ZSwgIndlaWdodCI6IDN9CiAgICAgICAgICAgICkuYWRkVG8obWFwX2QyYTI4NWUyYmM1ODRkMDZiMTJmZmQxYzQzZDM2NjMzKTsKICAgICAgICAKICAgIAogICAgICAgIHZhciBwb3B1cF8zMWViOGUxMDRlNzM0ODVhYjZjOWYyNzYzYzczMDI5NCA9IEwucG9wdXAoeyJtYXhXaWR0aCI6ICIxMDAlIn0pOwoKICAgICAgICAKICAgICAgICAgICAgdmFyIGh0bWxfZjAwODA1MGMwMDE5NDZkMmIyMjhkM2ZjNzg1ZWM3NmYgPSAkKGA8ZGl2IGlkPSJodG1sX2YwMDgwNTBjMDAxOTQ2ZDJiMjI4ZDNmYzc4NWVjNzZmIiBzdHlsZT0id2lkdGg6IDEwMC4wJTsgaGVpZ2h0OiAxMDAuMCU7Ij5Ob3J0aCBUb3JvbnRvIFdlc3QgQ2x1c3RlciAyPC9kaXY+YClbMF07CiAgICAgICAgICAgIHBvcHVwXzMxZWI4ZTEwNGU3MzQ4NWFiNmM5ZjI3NjNjNzMwMjk0LnNldENvbnRlbnQoaHRtbF9mMDA4MDUwYzAwMTk0NmQyYjIyOGQzZmM3ODVlYzc2Zik7CiAgICAgICAgCgogICAgICAgIGNpcmNsZV9tYXJrZXJfMTQ2YTc0ZmI2OWUzNGVlOWE1N2FjYTJkZjJhM2QwY2MuYmluZFBvcHVwKHBvcHVwXzMxZWI4ZTEwNGU3MzQ4NWFiNmM5ZjI3NjNjNzMwMjk0KQogICAgICAgIDsKCiAgICAgICAgCiAgICAKICAgIAogICAgICAgICAgICB2YXIgY2lyY2xlX21hcmtlcl9jOGQxYWQ2MmY1NmI0NzQ5ODA0NzdlNzNkOTBhNDQ2ZiA9IEwuY2lyY2xlTWFya2VyKAogICAgICAgICAgICAgICAgWzQzLjcwNDMyNDQsIC03OS4zODg3OTAxXSwKICAgICAgICAgICAgICAgIHsiYnViYmxpbmdNb3VzZUV2ZW50cyI6IHRydWUsICJjb2xvciI6ICIjNWNmZjAwIiwgImRhc2hBcnJheSI6IG51bGwsICJkYXNoT2Zmc2V0IjogbnVsbCwgImZpbGwiOiB0cnVlLCAiZmlsbENvbG9yIjogIiM1Y2ZmMDAiLCAiZmlsbE9wYWNpdHkiOiAxLjAsICJmaWxsUnVsZSI6ICJldmVub2RkIiwgImxpbmVDYXAiOiAicm91bmQiLCAibGluZUpvaW4iOiAicm91bmQiLCAib3BhY2l0eSI6IDEuMCwgInJhZGl1cyI6IDUsICJzdHJva2UiOiB0cnVlLCAid2VpZ2h0IjogM30KICAgICAgICAgICAgKS5hZGRUbyhtYXBfZDJhMjg1ZTJiYzU4NGQwNmIxMmZmZDFjNDNkMzY2MzMpOwogICAgICAgIAogICAgCiAgICAgICAgdmFyIHBvcHVwX2E4ZTZhMmJlZDY0ODQ3YTBiN2RkZWI3NzY0NWQzZTg2ID0gTC5wb3B1cCh7Im1heFdpZHRoIjogIjEwMCUifSk7CgogICAgICAgIAogICAgICAgICAgICB2YXIgaHRtbF9mYTVhZDZlYzBmNmU0ODgwOWZiOWY0Njg1M2M5YWJkZiA9ICQoYDxkaXYgaWQ9Imh0bWxfZmE1YWQ2ZWMwZjZlNDg4MDlmYjlmNDY4NTNjOWFiZGYiIHN0eWxlPSJ3aWR0aDogMTAwLjAlOyBoZWlnaHQ6IDEwMC4wJTsiPkRhdmlzdmlsbGUgQ2x1c3RlciAyPC9kaXY+YClbMF07CiAgICAgICAgICAgIHBvcHVwX2E4ZTZhMmJlZDY0ODQ3YTBiN2RkZWI3NzY0NWQzZTg2LnNldENvbnRlbnQoaHRtbF9mYTVhZDZlYzBmNmU0ODgwOWZiOWY0Njg1M2M5YWJkZik7CiAgICAgICAgCgogICAgICAgIGNpcmNsZV9tYXJrZXJfYzhkMWFkNjJmNTZiNDc0OTgwNDc3ZTczZDkwYTQ0NmYuYmluZFBvcHVwKHBvcHVwX2E4ZTZhMmJlZDY0ODQ3YTBiN2RkZWI3NzY0NWQzZTg2KQogICAgICAgIDsKCiAgICAgICAgCiAgICAKICAgIAogICAgICAgICAgICB2YXIgY2lyY2xlX21hcmtlcl81NTRhNTczNjM4M2I0ZTE3YTdiMTlhZTExZDQwMzU2MCA9IEwuY2lyY2xlTWFya2VyKAogICAgICAgICAgICAgICAgWzQzLjY4OTU3NDMsIC03OS4zODMxNTk5MDAwMDAwMV0sCiAgICAgICAgICAgICAgICB7ImJ1YmJsaW5nTW91c2VFdmVudHMiOiB0cnVlLCAiY29sb3IiOiAiIzVjZmYwMCIsICJkYXNoQXJyYXkiOiBudWxsLCAiZGFzaE9mZnNldCI6IG51bGwsICJmaWxsIjogdHJ1ZSwgImZpbGxDb2xvciI6ICIjNWNmZjAwIiwgImZpbGxPcGFjaXR5IjogMS4wLCAiZmlsbFJ1bGUiOiAiZXZlbm9kZCIsICJsaW5lQ2FwIjogInJvdW5kIiwgImxpbmVKb2luIjogInJvdW5kIiwgIm9wYWNpdHkiOiAxLjAsICJyYWRpdXMiOiA1LCAic3Ryb2tlIjogdHJ1ZSwgIndlaWdodCI6IDN9CiAgICAgICAgICAgICkuYWRkVG8obWFwX2QyYTI4NWUyYmM1ODRkMDZiMTJmZmQxYzQzZDM2NjMzKTsKICAgICAgICAKICAgIAogICAgICAgIHZhciBwb3B1cF9mZTdmNDRlMzhmMjk0YzNjYmE0ZDU0ODc2YTJlM2FhNiA9IEwucG9wdXAoeyJtYXhXaWR0aCI6ICIxMDAlIn0pOwoKICAgICAgICAKICAgICAgICAgICAgdmFyIGh0bWxfOTE0YmQ0NzMwZjlhNGU0MTk1ZTlkZjk3ZDA3YjQzN2EgPSAkKGA8ZGl2IGlkPSJodG1sXzkxNGJkNDczMGY5YTRlNDE5NWU5ZGY5N2QwN2I0MzdhIiBzdHlsZT0id2lkdGg6IDEwMC4wJTsgaGVpZ2h0OiAxMDAuMCU7Ij5Nb29yZSBQYXJrLCBTdW1tZXJoaWxsIEVhc3QgQ2x1c3RlciAyPC9kaXY+YClbMF07CiAgICAgICAgICAgIHBvcHVwX2ZlN2Y0NGUzOGYyOTRjM2NiYTRkNTQ4NzZhMmUzYWE2LnNldENvbnRlbnQoaHRtbF85MTRiZDQ3MzBmOWE0ZTQxOTVlOWRmOTdkMDdiNDM3YSk7CiAgICAgICAgCgogICAgICAgIGNpcmNsZV9tYXJrZXJfNTU0YTU3MzYzODNiNGUxN2E3YjE5YWUxMWQ0MDM1NjAuYmluZFBvcHVwKHBvcHVwX2ZlN2Y0NGUzOGYyOTRjM2NiYTRkNTQ4NzZhMmUzYWE2KQogICAgICAgIDsKCiAgICAgICAgCiAgICAKICAgIAogICAgICAgICAgICB2YXIgY2lyY2xlX21hcmtlcl82NTc5MjUwMTI3ZjA0YmE4ODc1MDExMzA0OTQ3YmRkMSA9IEwuY2lyY2xlTWFya2VyKAogICAgICAgICAgICAgICAgWzQzLjY4NjQxMjI5OTk5OTk5LCAtNzkuNDAwMDQ5M10sCiAgICAgICAgICAgICAgICB7ImJ1YmJsaW5nTW91c2VFdmVudHMiOiB0cnVlLCAiY29sb3IiOiAiIzVjZmYwMCIsICJkYXNoQXJyYXkiOiBudWxsLCAiZGFzaE9mZnNldCI6IG51bGwsICJmaWxsIjogdHJ1ZSwgImZpbGxDb2xvciI6ICIjNWNmZjAwIiwgImZpbGxPcGFjaXR5IjogMS4wLCAiZmlsbFJ1bGUiOiAiZXZlbm9kZCIsICJsaW5lQ2FwIjogInJvdW5kIiwgImxpbmVKb2luIjogInJvdW5kIiwgIm9wYWNpdHkiOiAxLjAsICJyYWRpdXMiOiA1LCAic3Ryb2tlIjogdHJ1ZSwgIndlaWdodCI6IDN9CiAgICAgICAgICAgICkuYWRkVG8obWFwX2QyYTI4NWUyYmM1ODRkMDZiMTJmZmQxYzQzZDM2NjMzKTsKICAgICAgICAKICAgIAogICAgICAgIHZhciBwb3B1cF85NTljZDEwYWU2NGI0NThiYjdmODRhMDAzYTA3NzNhOSA9IEwucG9wdXAoeyJtYXhXaWR0aCI6ICIxMDAlIn0pOwoKICAgICAgICAKICAgICAgICAgICAgdmFyIGh0bWxfMzlhY2VkNDNkZDhjNDhjYmE1NjhlOTVkOWViZjc5N2IgPSAkKGA8ZGl2IGlkPSJodG1sXzM5YWNlZDQzZGQ4YzQ4Y2JhNTY4ZTk1ZDllYmY3OTdiIiBzdHlsZT0id2lkdGg6IDEwMC4wJTsgaGVpZ2h0OiAxMDAuMCU7Ij5EZWVyIFBhcmssIEZvcmVzdCBIaWxsIFNFLCBSYXRobmVsbHksIFNvdXRoIEhpbGwsIFN1bW1lcmhpbGwgV2VzdCBDbHVzdGVyIDI8L2Rpdj5gKVswXTsKICAgICAgICAgICAgcG9wdXBfOTU5Y2QxMGFlNjRiNDU4YmI3Zjg0YTAwM2EwNzczYTkuc2V0Q29udGVudChodG1sXzM5YWNlZDQzZGQ4YzQ4Y2JhNTY4ZTk1ZDllYmY3OTdiKTsKICAgICAgICAKCiAgICAgICAgY2lyY2xlX21hcmtlcl82NTc5MjUwMTI3ZjA0YmE4ODc1MDExMzA0OTQ3YmRkMS5iaW5kUG9wdXAocG9wdXBfOTU5Y2QxMGFlNjRiNDU4YmI3Zjg0YTAwM2EwNzczYTkpCiAgICAgICAgOwoKICAgICAgICAKICAgIAogICAgCiAgICAgICAgICAgIHZhciBjaXJjbGVfbWFya2VyXzM3ZjUzZDFiN2FmNzQ3Mzc5MDJmZWQ3ZmE1MmU4OGJiID0gTC5jaXJjbGVNYXJrZXIoCiAgICAgICAgICAgICAgICBbNDMuNjc5NTYyNiwgLTc5LjM3NzUyOTQwMDAwMDAxXSwKICAgICAgICAgICAgICAgIHsiYnViYmxpbmdNb3VzZUV2ZW50cyI6IHRydWUsICJjb2xvciI6ICIjMDA4ZmZmIiwgImRhc2hBcnJheSI6IG51bGwsICJkYXNoT2Zmc2V0IjogbnVsbCwgImZpbGwiOiB0cnVlLCAiZmlsbENvbG9yIjogIiMwMDhmZmYiLCAiZmlsbE9wYWNpdHkiOiAxLjAsICJmaWxsUnVsZSI6ICJldmVub2RkIiwgImxpbmVDYXAiOiAicm91bmQiLCAibGluZUpvaW4iOiAicm91bmQiLCAib3BhY2l0eSI6IDEuMCwgInJhZGl1cyI6IDUsICJzdHJva2UiOiB0cnVlLCAid2VpZ2h0IjogM30KICAgICAgICAgICAgKS5hZGRUbyhtYXBfZDJhMjg1ZTJiYzU4NGQwNmIxMmZmZDFjNDNkMzY2MzMpOwogICAgICAgIAogICAgCiAgICAgICAgdmFyIHBvcHVwX2ZjZWVlOTA5ZDYzZDQyODg5NTU1YzE5OTg3Y2U2ZTFhID0gTC5wb3B1cCh7Im1heFdpZHRoIjogIjEwMCUifSk7CgogICAgICAgIAogICAgICAgICAgICB2YXIgaHRtbF82YjE1YWMzMWE0OTU0NTY3OWQ3NDFmMGRhNzMxMTU2YSA9ICQoYDxkaXYgaWQ9Imh0bWxfNmIxNWFjMzFhNDk1NDU2NzlkNzQxZjBkYTczMTE1NmEiIHN0eWxlPSJ3aWR0aDogMTAwLjAlOyBoZWlnaHQ6IDEwMC4wJTsiPlJvc2VkYWxlIENsdXN0ZXIgMzwvZGl2PmApWzBdOwogICAgICAgICAgICBwb3B1cF9mY2VlZTkwOWQ2M2Q0Mjg4OTU1NWMxOTk4N2NlNmUxYS5zZXRDb250ZW50KGh0bWxfNmIxNWFjMzFhNDk1NDU2NzlkNzQxZjBkYTczMTE1NmEpOwogICAgICAgIAoKICAgICAgICBjaXJjbGVfbWFya2VyXzM3ZjUzZDFiN2FmNzQ3Mzc5MDJmZWQ3ZmE1MmU4OGJiLmJpbmRQb3B1cChwb3B1cF9mY2VlZTkwOWQ2M2Q0Mjg4OTU1NWMxOTk4N2NlNmUxYSkKICAgICAgICA7CgogICAgICAgIAogICAgCiAgICAKICAgICAgICAgICAgdmFyIGNpcmNsZV9tYXJrZXJfYmE5N2EzMTc2MTRjNDliNWE3ZDczODVkM2ZiMjIxMzMgPSBMLmNpcmNsZU1hcmtlcigKICAgICAgICAgICAgICAgIFs0My42Njc5NjcsIC03OS4zNjc2NzUzXSwKICAgICAgICAgICAgICAgIHsiYnViYmxpbmdNb3VzZUV2ZW50cyI6IHRydWUsICJjb2xvciI6ICIjMDA4ZmZmIiwgImRhc2hBcnJheSI6IG51bGwsICJkYXNoT2Zmc2V0IjogbnVsbCwgImZpbGwiOiB0cnVlLCAiZmlsbENvbG9yIjogIiMwMDhmZmYiLCAiZmlsbE9wYWNpdHkiOiAxLjAsICJmaWxsUnVsZSI6ICJldmVub2RkIiwgImxpbmVDYXAiOiAicm91bmQiLCAibGluZUpvaW4iOiAicm91bmQiLCAib3BhY2l0eSI6IDEuMCwgInJhZGl1cyI6IDUsICJzdHJva2UiOiB0cnVlLCAid2VpZ2h0IjogM30KICAgICAgICAgICAgKS5hZGRUbyhtYXBfZDJhMjg1ZTJiYzU4NGQwNmIxMmZmZDFjNDNkMzY2MzMpOwogICAgICAgIAogICAgCiAgICAgICAgdmFyIHBvcHVwXzU0YjJlNmZkNDJhNDQyZjk5N2E4MmZkOTQ2ZDRhYzY2ID0gTC5wb3B1cCh7Im1heFdpZHRoIjogIjEwMCUifSk7CgogICAgICAgIAogICAgICAgICAgICB2YXIgaHRtbF8yZGQxMDg3MzJjM2M0NTE4YjdmNjBiZDI0NTE5OGI2YyA9ICQoYDxkaXYgaWQ9Imh0bWxfMmRkMTA4NzMyYzNjNDUxOGI3ZjYwYmQyNDUxOThiNmMiIHN0eWxlPSJ3aWR0aDogMTAwLjAlOyBoZWlnaHQ6IDEwMC4wJTsiPkNhYmJhZ2V0b3duLCBTdC4gSmFtZXMgVG93biBDbHVzdGVyIDM8L2Rpdj5gKVswXTsKICAgICAgICAgICAgcG9wdXBfNTRiMmU2ZmQ0MmE0NDJmOTk3YTgyZmQ5NDZkNGFjNjYuc2V0Q29udGVudChodG1sXzJkZDEwODczMmMzYzQ1MThiN2Y2MGJkMjQ1MTk4YjZjKTsKICAgICAgICAKCiAgICAgICAgY2lyY2xlX21hcmtlcl9iYTk3YTMxNzYxNGM0OWI1YTdkNzM4NWQzZmIyMjEzMy5iaW5kUG9wdXAocG9wdXBfNTRiMmU2ZmQ0MmE0NDJmOTk3YTgyZmQ5NDZkNGFjNjYpCiAgICAgICAgOwoKICAgICAgICAKICAgIAogICAgCiAgICAgICAgICAgIHZhciBjaXJjbGVfbWFya2VyX2U1ODVhMmQ5ZTY5MTQ2ZGU4MGM4M2E4YjBlN2RlNzYzID0gTC5jaXJjbGVNYXJrZXIoCiAgICAgICAgICAgICAgICBbNDMuNjY1ODU5OSwgLTc5LjM4MzE1OTkwMDAwMDAxXSwKICAgICAgICAgICAgICAgIHsiYnViYmxpbmdNb3VzZUV2ZW50cyI6IHRydWUsICJjb2xvciI6ICIjMDA4ZmZmIiwgImRhc2hBcnJheSI6IG51bGwsICJkYXNoT2Zmc2V0IjogbnVsbCwgImZpbGwiOiB0cnVlLCAiZmlsbENvbG9yIjogIiMwMDhmZmYiLCAiZmlsbE9wYWNpdHkiOiAxLjAsICJmaWxsUnVsZSI6ICJldmVub2RkIiwgImxpbmVDYXAiOiAicm91bmQiLCAibGluZUpvaW4iOiAicm91bmQiLCAib3BhY2l0eSI6IDEuMCwgInJhZGl1cyI6IDUsICJzdHJva2UiOiB0cnVlLCAid2VpZ2h0IjogM30KICAgICAgICAgICAgKS5hZGRUbyhtYXBfZDJhMjg1ZTJiYzU4NGQwNmIxMmZmZDFjNDNkMzY2MzMpOwogICAgICAgIAogICAgCiAgICAgICAgdmFyIHBvcHVwXzQyOGQzZjExMjk0NTRkMTY5ZGY3ZTRlMWNmOTJjMGY4ID0gTC5wb3B1cCh7Im1heFdpZHRoIjogIjEwMCUifSk7CgogICAgICAgIAogICAgICAgICAgICB2YXIgaHRtbF8xODBiNmEzY2E1ODk0NDBiYTM1ZWIxMTcwZTdjZjg4MiA9ICQoYDxkaXYgaWQ9Imh0bWxfMTgwYjZhM2NhNTg5NDQwYmEzNWViMTE3MGU3Y2Y4ODIiIHN0eWxlPSJ3aWR0aDogMTAwLjAlOyBoZWlnaHQ6IDEwMC4wJTsiPkNodXJjaCBhbmQgV2VsbGVzbGV5IENsdXN0ZXIgMzwvZGl2PmApWzBdOwogICAgICAgICAgICBwb3B1cF80MjhkM2YxMTI5NDU0ZDE2OWRmN2U0ZTFjZjkyYzBmOC5zZXRDb250ZW50KGh0bWxfMTgwYjZhM2NhNTg5NDQwYmEzNWViMTE3MGU3Y2Y4ODIpOwogICAgICAgIAoKICAgICAgICBjaXJjbGVfbWFya2VyX2U1ODVhMmQ5ZTY5MTQ2ZGU4MGM4M2E4YjBlN2RlNzYzLmJpbmRQb3B1cChwb3B1cF80MjhkM2YxMTI5NDU0ZDE2OWRmN2U0ZTFjZjkyYzBmOCkKICAgICAgICA7CgogICAgICAgIAogICAgCiAgICAKICAgICAgICAgICAgdmFyIGNpcmNsZV9tYXJrZXJfYjc1OWVmNWFmNDNhNGIyN2EyYzYzMzdkNWNiZGJlNTUgPSBMLmNpcmNsZU1hcmtlcigKICAgICAgICAgICAgICAgIFs0My42NTQyNTk5LCAtNzkuMzYwNjM1OV0sCiAgICAgICAgICAgICAgICB7ImJ1YmJsaW5nTW91c2VFdmVudHMiOiB0cnVlLCAiY29sb3IiOiAiIzAwOGZmZiIsICJkYXNoQXJyYXkiOiBudWxsLCAiZGFzaE9mZnNldCI6IG51bGwsICJmaWxsIjogdHJ1ZSwgImZpbGxDb2xvciI6ICIjMDA4ZmZmIiwgImZpbGxPcGFjaXR5IjogMS4wLCAiZmlsbFJ1bGUiOiAiZXZlbm9kZCIsICJsaW5lQ2FwIjogInJvdW5kIiwgImxpbmVKb2luIjogInJvdW5kIiwgIm9wYWNpdHkiOiAxLjAsICJyYWRpdXMiOiA1LCAic3Ryb2tlIjogdHJ1ZSwgIndlaWdodCI6IDN9CiAgICAgICAgICAgICkuYWRkVG8obWFwX2QyYTI4NWUyYmM1ODRkMDZiMTJmZmQxYzQzZDM2NjMzKTsKICAgICAgICAKICAgIAogICAgICAgIHZhciBwb3B1cF9lMjZjMTUyNTgxODY0ZTA3YWQwZTAxMjVmNDhhZDYxZSA9IEwucG9wdXAoeyJtYXhXaWR0aCI6ICIxMDAlIn0pOwoKICAgICAgICAKICAgICAgICAgICAgdmFyIGh0bWxfODc2NzA5OWFjODliNGMyY2E4OTZkYzUzYmIxNGE3MTcgPSAkKGA8ZGl2IGlkPSJodG1sXzg3NjcwOTlhYzg5YjRjMmNhODk2ZGM1M2JiMTRhNzE3IiBzdHlsZT0id2lkdGg6IDEwMC4wJTsgaGVpZ2h0OiAxMDAuMCU7Ij5IYXJib3VyZnJvbnQgQ2x1c3RlciAzPC9kaXY+YClbMF07CiAgICAgICAgICAgIHBvcHVwX2UyNmMxNTI1ODE4NjRlMDdhZDBlMDEyNWY0OGFkNjFlLnNldENvbnRlbnQoaHRtbF84NzY3MDk5YWM4OWI0YzJjYTg5NmRjNTNiYjE0YTcxNyk7CiAgICAgICAgCgogICAgICAgIGNpcmNsZV9tYXJrZXJfYjc1OWVmNWFmNDNhNGIyN2EyYzYzMzdkNWNiZGJlNTUuYmluZFBvcHVwKHBvcHVwX2UyNmMxNTI1ODE4NjRlMDdhZDBlMDEyNWY0OGFkNjFlKQogICAgICAgIDsKCiAgICAgICAgCiAgICAKICAgIAogICAgICAgICAgICB2YXIgY2lyY2xlX21hcmtlcl85ZDY5YmM3YTUyYWU0YTJkOGQ1NzI4YWEyZGEzZWY1ZiA9IEwuY2lyY2xlTWFya2VyKAogICAgICAgICAgICAgICAgWzQzLjY1NzE2MTgsIC03OS4zNzg5MzcwOTk5OTk5OV0sCiAgICAgICAgICAgICAgICB7ImJ1YmJsaW5nTW91c2VFdmVudHMiOiB0cnVlLCAiY29sb3IiOiAiIzAwOGZmZiIsICJkYXNoQXJyYXkiOiBudWxsLCAiZGFzaE9mZnNldCI6IG51bGwsICJmaWxsIjogdHJ1ZSwgImZpbGxDb2xvciI6ICIjMDA4ZmZmIiwgImZpbGxPcGFjaXR5IjogMS4wLCAiZmlsbFJ1bGUiOiAiZXZlbm9kZCIsICJsaW5lQ2FwIjogInJvdW5kIiwgImxpbmVKb2luIjogInJvdW5kIiwgIm9wYWNpdHkiOiAxLjAsICJyYWRpdXMiOiA1LCAic3Ryb2tlIjogdHJ1ZSwgIndlaWdodCI6IDN9CiAgICAgICAgICAgICkuYWRkVG8obWFwX2QyYTI4NWUyYmM1ODRkMDZiMTJmZmQxYzQzZDM2NjMzKTsKICAgICAgICAKICAgIAogICAgICAgIHZhciBwb3B1cF8wNGNjMTZiYjk4YWY0YWQ3YWYyMmRmY2Q2ZTVmYjEzZSA9IEwucG9wdXAoeyJtYXhXaWR0aCI6ICIxMDAlIn0pOwoKICAgICAgICAKICAgICAgICAgICAgdmFyIGh0bWxfYjc4ZjI0ZjYyNmM5NDc3Mzg0YmY4ZWFiODg3YjI2NmYgPSAkKGA8ZGl2IGlkPSJodG1sX2I3OGYyNGY2MjZjOTQ3NzM4NGJmOGVhYjg4N2IyNjZmIiBzdHlsZT0id2lkdGg6IDEwMC4wJTsgaGVpZ2h0OiAxMDAuMCU7Ij5SeWVyc29uLCBHYXJkZW4gRGlzdHJpY3QgQ2x1c3RlciAzPC9kaXY+YClbMF07CiAgICAgICAgICAgIHBvcHVwXzA0Y2MxNmJiOThhZjRhZDdhZjIyZGZjZDZlNWZiMTNlLnNldENvbnRlbnQoaHRtbF9iNzhmMjRmNjI2Yzk0NzczODRiZjhlYWI4ODdiMjY2Zik7CiAgICAgICAgCgogICAgICAgIGNpcmNsZV9tYXJrZXJfOWQ2OWJjN2E1MmFlNGEyZDhkNTcyOGFhMmRhM2VmNWYuYmluZFBvcHVwKHBvcHVwXzA0Y2MxNmJiOThhZjRhZDdhZjIyZGZjZDZlNWZiMTNlKQogICAgICAgIDsKCiAgICAgICAgCiAgICAKICAgIAogICAgICAgICAgICB2YXIgY2lyY2xlX21hcmtlcl81MzIzODYzMTExNjQ0YWUxODRjMTY1NTJkOTEyNGE5MCA9IEwuY2lyY2xlTWFya2VyKAogICAgICAgICAgICAgICAgWzQzLjY1MTQ5MzksIC03OS4zNzU0MTc5XSwKICAgICAgICAgICAgICAgIHsiYnViYmxpbmdNb3VzZUV2ZW50cyI6IHRydWUsICJjb2xvciI6ICIjMDA4ZmZmIiwgImRhc2hBcnJheSI6IG51bGwsICJkYXNoT2Zmc2V0IjogbnVsbCwgImZpbGwiOiB0cnVlLCAiZmlsbENvbG9yIjogIiMwMDhmZmYiLCAiZmlsbE9wYWNpdHkiOiAxLjAsICJmaWxsUnVsZSI6ICJldmVub2RkIiwgImxpbmVDYXAiOiAicm91bmQiLCAibGluZUpvaW4iOiAicm91bmQiLCAib3BhY2l0eSI6IDEuMCwgInJhZGl1cyI6IDUsICJzdHJva2UiOiB0cnVlLCAid2VpZ2h0IjogM30KICAgICAgICAgICAgKS5hZGRUbyhtYXBfZDJhMjg1ZTJiYzU4NGQwNmIxMmZmZDFjNDNkMzY2MzMpOwogICAgICAgIAogICAgCiAgICAgICAgdmFyIHBvcHVwX2Y3Y2FmYTMyZDI2MTQzMTM5NTdlZGRjNDllYzBhMzY3ID0gTC5wb3B1cCh7Im1heFdpZHRoIjogIjEwMCUifSk7CgogICAgICAgIAogICAgICAgICAgICB2YXIgaHRtbF8wNWYzMzYzMjFlNjA0YmMxYTE0MzQxZjk4YTc5OWVlNSA9ICQoYDxkaXYgaWQ9Imh0bWxfMDVmMzM2MzIxZTYwNGJjMWExNDM0MWY5OGE3OTllZTUiIHN0eWxlPSJ3aWR0aDogMTAwLjAlOyBoZWlnaHQ6IDEwMC4wJTsiPlN0LiBKYW1lcyBUb3duIENsdXN0ZXIgMzwvZGl2PmApWzBdOwogICAgICAgICAgICBwb3B1cF9mN2NhZmEzMmQyNjE0MzEzOTU3ZWRkYzQ5ZWMwYTM2Ny5zZXRDb250ZW50KGh0bWxfMDVmMzM2MzIxZTYwNGJjMWExNDM0MWY5OGE3OTllZTUpOwogICAgICAgIAoKICAgICAgICBjaXJjbGVfbWFya2VyXzUzMjM4NjMxMTE2NDRhZTE4NGMxNjU1MmQ5MTI0YTkwLmJpbmRQb3B1cChwb3B1cF9mN2NhZmEzMmQyNjE0MzEzOTU3ZWRkYzQ5ZWMwYTM2NykKICAgICAgICA7CgogICAgICAgIAogICAgCiAgICAKICAgICAgICAgICAgdmFyIGNpcmNsZV9tYXJrZXJfYmRjZDRkYjAwZDJhNDI5YjlhY2JjOGE3NjZhYmUxMDEgPSBMLmNpcmNsZU1hcmtlcigKICAgICAgICAgICAgICAgIFs0My42NDQ3NzA3OTk5OTk5OTYsIC03OS4zNzMzMDY0XSwKICAgICAgICAgICAgICAgIHsiYnViYmxpbmdNb3VzZUV2ZW50cyI6IHRydWUsICJjb2xvciI6ICIjMDA4ZmZmIiwgImRhc2hBcnJheSI6IG51bGwsICJkYXNoT2Zmc2V0IjogbnVsbCwgImZpbGwiOiB0cnVlLCAiZmlsbENvbG9yIjogIiMwMDhmZmYiLCAiZmlsbE9wYWNpdHkiOiAxLjAsICJmaWxsUnVsZSI6ICJldmVub2RkIiwgImxpbmVDYXAiOiAicm91bmQiLCAibGluZUpvaW4iOiAicm91bmQiLCAib3BhY2l0eSI6IDEuMCwgInJhZGl1cyI6IDUsICJzdHJva2UiOiB0cnVlLCAid2VpZ2h0IjogM30KICAgICAgICAgICAgKS5hZGRUbyhtYXBfZDJhMjg1ZTJiYzU4NGQwNmIxMmZmZDFjNDNkMzY2MzMpOwogICAgICAgIAogICAgCiAgICAgICAgdmFyIHBvcHVwXzhkMjBjZTU3NDllZTRjNjE5YWFlMGZmNDMxNzkwODg4ID0gTC5wb3B1cCh7Im1heFdpZHRoIjogIjEwMCUifSk7CgogICAgICAgIAogICAgICAgICAgICB2YXIgaHRtbF8zNjM4YzhlZTY1MDE0ZWRmYWY3MjE2NzZmMGFiYzc0ZCA9ICQoYDxkaXYgaWQ9Imh0bWxfMzYzOGM4ZWU2NTAxNGVkZmFmNzIxNjc2ZjBhYmM3NGQiIHN0eWxlPSJ3aWR0aDogMTAwLjAlOyBoZWlnaHQ6IDEwMC4wJTsiPkJlcmN6eSBQYXJrIENsdXN0ZXIgMzwvZGl2PmApWzBdOwogICAgICAgICAgICBwb3B1cF84ZDIwY2U1NzQ5ZWU0YzYxOWFhZTBmZjQzMTc5MDg4OC5zZXRDb250ZW50KGh0bWxfMzYzOGM4ZWU2NTAxNGVkZmFmNzIxNjc2ZjBhYmM3NGQpOwogICAgICAgIAoKICAgICAgICBjaXJjbGVfbWFya2VyX2JkY2Q0ZGIwMGQyYTQyOWI5YWNiYzhhNzY2YWJlMTAxLmJpbmRQb3B1cChwb3B1cF84ZDIwY2U1NzQ5ZWU0YzYxOWFhZTBmZjQzMTc5MDg4OCkKICAgICAgICA7CgogICAgICAgIAogICAgCiAgICAKICAgICAgICAgICAgdmFyIGNpcmNsZV9tYXJrZXJfMzM1ODNhODRhODgyNGMxMzg2ZWEyYTU2M2I1OTUyNDUgPSBMLmNpcmNsZU1hcmtlcigKICAgICAgICAgICAgICAgIFs0My42NTc5NTI0LCAtNzkuMzg3MzgyNl0sCiAgICAgICAgICAgICAgICB7ImJ1YmJsaW5nTW91c2VFdmVudHMiOiB0cnVlLCAiY29sb3IiOiAiIzAwOGZmZiIsICJkYXNoQXJyYXkiOiBudWxsLCAiZGFzaE9mZnNldCI6IG51bGwsICJmaWxsIjogdHJ1ZSwgImZpbGxDb2xvciI6ICIjMDA4ZmZmIiwgImZpbGxPcGFjaXR5IjogMS4wLCAiZmlsbFJ1bGUiOiAiZXZlbm9kZCIsICJsaW5lQ2FwIjogInJvdW5kIiwgImxpbmVKb2luIjogInJvdW5kIiwgIm9wYWNpdHkiOiAxLjAsICJyYWRpdXMiOiA1LCAic3Ryb2tlIjogdHJ1ZSwgIndlaWdodCI6IDN9CiAgICAgICAgICAgICkuYWRkVG8obWFwX2QyYTI4NWUyYmM1ODRkMDZiMTJmZmQxYzQzZDM2NjMzKTsKICAgICAgICAKICAgIAogICAgICAgIHZhciBwb3B1cF9hYzRlMzU5ODhiMmE0ZDIyYTE2Nzg3Zjg0ZDFiZTdmYyA9IEwucG9wdXAoeyJtYXhXaWR0aCI6ICIxMDAlIn0pOwoKICAgICAgICAKICAgICAgICAgICAgdmFyIGh0bWxfM2MyZDdjN2U2YTYxNDUyNmEzMjQwMWY3ZTc4ZjViNmEgPSAkKGA8ZGl2IGlkPSJodG1sXzNjMmQ3YzdlNmE2MTQ1MjZhMzI0MDFmN2U3OGY1YjZhIiBzdHlsZT0id2lkdGg6IDEwMC4wJTsgaGVpZ2h0OiAxMDAuMCU7Ij5DZW50cmFsIEJheSBTdHJlZXQgQ2x1c3RlciAzPC9kaXY+YClbMF07CiAgICAgICAgICAgIHBvcHVwX2FjNGUzNTk4OGIyYTRkMjJhMTY3ODdmODRkMWJlN2ZjLnNldENvbnRlbnQoaHRtbF8zYzJkN2M3ZTZhNjE0NTI2YTMyNDAxZjdlNzhmNWI2YSk7CiAgICAgICAgCgogICAgICAgIGNpcmNsZV9tYXJrZXJfMzM1ODNhODRhODgyNGMxMzg2ZWEyYTU2M2I1OTUyNDUuYmluZFBvcHVwKHBvcHVwX2FjNGUzNTk4OGIyYTRkMjJhMTY3ODdmODRkMWJlN2ZjKQogICAgICAgIDsKCiAgICAgICAgCiAgICAKICAgIAogICAgICAgICAgICB2YXIgY2lyY2xlX21hcmtlcl9jZjI0MTE0MmU4YTg0MGQ4OGMwMWYzMmUyMTU1NmU4NyA9IEwuY2lyY2xlTWFya2VyKAogICAgICAgICAgICAgICAgWzQzLjY1MDU3MTIwMDAwMDAxLCAtNzkuMzg0NTY3NV0sCiAgICAgICAgICAgICAgICB7ImJ1YmJsaW5nTW91c2VFdmVudHMiOiB0cnVlLCAiY29sb3IiOiAiIzAwOGZmZiIsICJkYXNoQXJyYXkiOiBudWxsLCAiZGFzaE9mZnNldCI6IG51bGwsICJmaWxsIjogdHJ1ZSwgImZpbGxDb2xvciI6ICIjMDA4ZmZmIiwgImZpbGxPcGFjaXR5IjogMS4wLCAiZmlsbFJ1bGUiOiAiZXZlbm9kZCIsICJsaW5lQ2FwIjogInJvdW5kIiwgImxpbmVKb2luIjogInJvdW5kIiwgIm9wYWNpdHkiOiAxLjAsICJyYWRpdXMiOiA1LCAic3Ryb2tlIjogdHJ1ZSwgIndlaWdodCI6IDN9CiAgICAgICAgICAgICkuYWRkVG8obWFwX2QyYTI4NWUyYmM1ODRkMDZiMTJmZmQxYzQzZDM2NjMzKTsKICAgICAgICAKICAgIAogICAgICAgIHZhciBwb3B1cF9lYmYzOTEwNGU3NWY0YTRlYjc3MDk0MzZjZWJlZGQxZCA9IEwucG9wdXAoeyJtYXhXaWR0aCI6ICIxMDAlIn0pOwoKICAgICAgICAKICAgICAgICAgICAgdmFyIGh0bWxfNTA5Y2ZmYjQ3YmNhNGJmODg5MGEwYTk4YmYzYmNmMGEgPSAkKGA8ZGl2IGlkPSJodG1sXzUwOWNmZmI0N2JjYTRiZjg4OTBhMGE5OGJmM2JjZjBhIiBzdHlsZT0id2lkdGg6IDEwMC4wJTsgaGVpZ2h0OiAxMDAuMCU7Ij5BZGVsYWlkZSwgS2luZywgUmljaG1vbmQgQ2x1c3RlciAzPC9kaXY+YClbMF07CiAgICAgICAgICAgIHBvcHVwX2ViZjM5MTA0ZTc1ZjRhNGViNzcwOTQzNmNlYmVkZDFkLnNldENvbnRlbnQoaHRtbF81MDljZmZiNDdiY2E0YmY4ODkwYTBhOThiZjNiY2YwYSk7CiAgICAgICAgCgogICAgICAgIGNpcmNsZV9tYXJrZXJfY2YyNDExNDJlOGE4NDBkODhjMDFmMzJlMjE1NTZlODcuYmluZFBvcHVwKHBvcHVwX2ViZjM5MTA0ZTc1ZjRhNGViNzcwOTQzNmNlYmVkZDFkKQogICAgICAgIDsKCiAgICAgICAgCiAgICAKICAgIAogICAgICAgICAgICB2YXIgY2lyY2xlX21hcmtlcl84Mzg0ZWY0MzE1ZmU0YjNmODVlMjFhNTM5MTlmZTM0NyA9IEwuY2lyY2xlTWFya2VyKAogICAgICAgICAgICAgICAgWzQzLjY0MDgxNTcsIC03OS4zODE3NTIyOTk5OTk5OV0sCiAgICAgICAgICAgICAgICB7ImJ1YmJsaW5nTW91c2VFdmVudHMiOiB0cnVlLCAiY29sb3IiOiAiIzAwOGZmZiIsICJkYXNoQXJyYXkiOiBudWxsLCAiZGFzaE9mZnNldCI6IG51bGwsICJmaWxsIjogdHJ1ZSwgImZpbGxDb2xvciI6ICIjMDA4ZmZmIiwgImZpbGxPcGFjaXR5IjogMS4wLCAiZmlsbFJ1bGUiOiAiZXZlbm9kZCIsICJsaW5lQ2FwIjogInJvdW5kIiwgImxpbmVKb2luIjogInJvdW5kIiwgIm9wYWNpdHkiOiAxLjAsICJyYWRpdXMiOiA1LCAic3Ryb2tlIjogdHJ1ZSwgIndlaWdodCI6IDN9CiAgICAgICAgICAgICkuYWRkVG8obWFwX2QyYTI4NWUyYmM1ODRkMDZiMTJmZmQxYzQzZDM2NjMzKTsKICAgICAgICAKICAgIAogICAgICAgIHZhciBwb3B1cF9iODJmZTA3MWQ4MDg0YjYxOTRiMTQ2ZDQ0MDYzMGFmMyA9IEwucG9wdXAoeyJtYXhXaWR0aCI6ICIxMDAlIn0pOwoKICAgICAgICAKICAgICAgICAgICAgdmFyIGh0bWxfY2IwOGFiMTNhZjAzNDMzYjk0YmI4MjM3MzY5ZGE5OTIgPSAkKGA8ZGl2IGlkPSJodG1sX2NiMDhhYjEzYWYwMzQzM2I5NGJiODIzNzM2OWRhOTkyIiBzdHlsZT0id2lkdGg6IDEwMC4wJTsgaGVpZ2h0OiAxMDAuMCU7Ij5IYXJib3VyZnJvbnQgRWFzdCwgVG9yb250byBJc2xhbmRzLCBVbmlvbiBTdGF0aW9uIENsdXN0ZXIgMzwvZGl2PmApWzBdOwogICAgICAgICAgICBwb3B1cF9iODJmZTA3MWQ4MDg0YjYxOTRiMTQ2ZDQ0MDYzMGFmMy5zZXRDb250ZW50KGh0bWxfY2IwOGFiMTNhZjAzNDMzYjk0YmI4MjM3MzY5ZGE5OTIpOwogICAgICAgIAoKICAgICAgICBjaXJjbGVfbWFya2VyXzgzODRlZjQzMTVmZTRiM2Y4NWUyMWE1MzkxOWZlMzQ3LmJpbmRQb3B1cChwb3B1cF9iODJmZTA3MWQ4MDg0YjYxOTRiMTQ2ZDQ0MDYzMGFmMykKICAgICAgICA7CgogICAgICAgIAogICAgCiAgICAKICAgICAgICAgICAgdmFyIGNpcmNsZV9tYXJrZXJfYjUwMTZhYjU2ZWVjNGZjZWIyZGMxODQ0ZjFiMTUxMmYgPSBMLmNpcmNsZU1hcmtlcigKICAgICAgICAgICAgICAgIFs0My42NDcxNzY4LCAtNzkuMzgxNTc2NDAwMDAwMDFdLAogICAgICAgICAgICAgICAgeyJidWJibGluZ01vdXNlRXZlbnRzIjogdHJ1ZSwgImNvbG9yIjogIiMwMDhmZmYiLCAiZGFzaEFycmF5IjogbnVsbCwgImRhc2hPZmZzZXQiOiBudWxsLCAiZmlsbCI6IHRydWUsICJmaWxsQ29sb3IiOiAiIzAwOGZmZiIsICJmaWxsT3BhY2l0eSI6IDEuMCwgImZpbGxSdWxlIjogImV2ZW5vZGQiLCAibGluZUNhcCI6ICJyb3VuZCIsICJsaW5lSm9pbiI6ICJyb3VuZCIsICJvcGFjaXR5IjogMS4wLCAicmFkaXVzIjogNSwgInN0cm9rZSI6IHRydWUsICJ3ZWlnaHQiOiAzfQogICAgICAgICAgICApLmFkZFRvKG1hcF9kMmEyODVlMmJjNTg0ZDA2YjEyZmZkMWM0M2QzNjYzMyk7CiAgICAgICAgCiAgICAKICAgICAgICB2YXIgcG9wdXBfOWUzNGNiZmFiY2QxNDY0N2I4OTYyZWNlYTQzMzQ3ODggPSBMLnBvcHVwKHsibWF4V2lkdGgiOiAiMTAwJSJ9KTsKCiAgICAgICAgCiAgICAgICAgICAgIHZhciBodG1sXzFlNTJmZjBlYTkzODQwOTk4OTRiOWI1NmRjZDBmMzg2ID0gJChgPGRpdiBpZD0iaHRtbF8xZTUyZmYwZWE5Mzg0MDk5ODk0YjliNTZkY2QwZjM4NiIgc3R5bGU9IndpZHRoOiAxMDAuMCU7IGhlaWdodDogMTAwLjAlOyI+RGVzaWduIEV4Y2hhbmdlLCBUb3JvbnRvIERvbWluaW9uIENlbnRyZSBDbHVzdGVyIDM8L2Rpdj5gKVswXTsKICAgICAgICAgICAgcG9wdXBfOWUzNGNiZmFiY2QxNDY0N2I4OTYyZWNlYTQzMzQ3ODguc2V0Q29udGVudChodG1sXzFlNTJmZjBlYTkzODQwOTk4OTRiOWI1NmRjZDBmMzg2KTsKICAgICAgICAKCiAgICAgICAgY2lyY2xlX21hcmtlcl9iNTAxNmFiNTZlZWM0ZmNlYjJkYzE4NDRmMWIxNTEyZi5iaW5kUG9wdXAocG9wdXBfOWUzNGNiZmFiY2QxNDY0N2I4OTYyZWNlYTQzMzQ3ODgpCiAgICAgICAgOwoKICAgICAgICAKICAgIAogICAgCiAgICAgICAgICAgIHZhciBjaXJjbGVfbWFya2VyX2VkNDZlYWFkMTU0NTQ0Nzc4YzM3OWY1NzAxMTdhNGZhID0gTC5jaXJjbGVNYXJrZXIoCiAgICAgICAgICAgICAgICBbNDMuNjQ4MTk4NSwgLTc5LjM3OTgxNjkwMDAwMDAxXSwKICAgICAgICAgICAgICAgIHsiYnViYmxpbmdNb3VzZUV2ZW50cyI6IHRydWUsICJjb2xvciI6ICIjMDA4ZmZmIiwgImRhc2hBcnJheSI6IG51bGwsICJkYXNoT2Zmc2V0IjogbnVsbCwgImZpbGwiOiB0cnVlLCAiZmlsbENvbG9yIjogIiMwMDhmZmYiLCAiZmlsbE9wYWNpdHkiOiAxLjAsICJmaWxsUnVsZSI6ICJldmVub2RkIiwgImxpbmVDYXAiOiAicm91bmQiLCAibGluZUpvaW4iOiAicm91bmQiLCAib3BhY2l0eSI6IDEuMCwgInJhZGl1cyI6IDUsICJzdHJva2UiOiB0cnVlLCAid2VpZ2h0IjogM30KICAgICAgICAgICAgKS5hZGRUbyhtYXBfZDJhMjg1ZTJiYzU4NGQwNmIxMmZmZDFjNDNkMzY2MzMpOwogICAgICAgIAogICAgCiAgICAgICAgdmFyIHBvcHVwXzNlNWZmM2ZkMWU5MTQzMmRiMzFlMTRmOTg3ZjQ1ZjFlID0gTC5wb3B1cCh7Im1heFdpZHRoIjogIjEwMCUifSk7CgogICAgICAgIAogICAgICAgICAgICB2YXIgaHRtbF8wZGU3Njk0NjExZTA0MGQ4OWU5N2UyMTNkYjhkOTU2MyA9ICQoYDxkaXYgaWQ9Imh0bWxfMGRlNzY5NDYxMWUwNDBkODllOTdlMjEzZGI4ZDk1NjMiIHN0eWxlPSJ3aWR0aDogMTAwLjAlOyBoZWlnaHQ6IDEwMC4wJTsiPkNvbW1lcmNlIENvdXJ0LCBWaWN0b3JpYSBIb3RlbCBDbHVzdGVyIDM8L2Rpdj5gKVswXTsKICAgICAgICAgICAgcG9wdXBfM2U1ZmYzZmQxZTkxNDMyZGIzMWUxNGY5ODdmNDVmMWUuc2V0Q29udGVudChodG1sXzBkZTc2OTQ2MTFlMDQwZDg5ZTk3ZTIxM2RiOGQ5NTYzKTsKICAgICAgICAKCiAgICAgICAgY2lyY2xlX21hcmtlcl9lZDQ2ZWFhZDE1NDU0NDc3OGMzNzlmNTcwMTE3YTRmYS5iaW5kUG9wdXAocG9wdXBfM2U1ZmYzZmQxZTkxNDMyZGIzMWUxNGY5ODdmNDVmMWUpCiAgICAgICAgOwoKICAgICAgICAKICAgIAogICAgCiAgICAgICAgICAgIHZhciBjaXJjbGVfbWFya2VyXzQ1MjM3MWZiNWUxNzQyYTJhZDRlMzAwMWQ2NzFmYTMxID0gTC5jaXJjbGVNYXJrZXIoCiAgICAgICAgICAgICAgICBbNDMuNzExNjk0OCwgLTc5LjQxNjkzNTU5OTk5OTk5XSwKICAgICAgICAgICAgICAgIHsiYnViYmxpbmdNb3VzZUV2ZW50cyI6IHRydWUsICJjb2xvciI6ICIjNWNmZjAwIiwgImRhc2hBcnJheSI6IG51bGwsICJkYXNoT2Zmc2V0IjogbnVsbCwgImZpbGwiOiB0cnVlLCAiZmlsbENvbG9yIjogIiM1Y2ZmMDAiLCAiZmlsbE9wYWNpdHkiOiAxLjAsICJmaWxsUnVsZSI6ICJldmVub2RkIiwgImxpbmVDYXAiOiAicm91bmQiLCAibGluZUpvaW4iOiAicm91bmQiLCAib3BhY2l0eSI6IDEuMCwgInJhZGl1cyI6IDUsICJzdHJva2UiOiB0cnVlLCAid2VpZ2h0IjogM30KICAgICAgICAgICAgKS5hZGRUbyhtYXBfZDJhMjg1ZTJiYzU4NGQwNmIxMmZmZDFjNDNkMzY2MzMpOwogICAgICAgIAogICAgCiAgICAgICAgdmFyIHBvcHVwX2I4MzcxZGZlNzRkYzRlNzVhZjI2NDc1Zjc1NTUyYzNmID0gTC5wb3B1cCh7Im1heFdpZHRoIjogIjEwMCUifSk7CgogICAgICAgIAogICAgICAgICAgICB2YXIgaHRtbF83MDIwNTlkYTNkM2Q0M2EwODJmNDcyMGI2NGIyMDAwNyA9ICQoYDxkaXYgaWQ9Imh0bWxfNzAyMDU5ZGEzZDNkNDNhMDgyZjQ3MjBiNjRiMjAwMDciIHN0eWxlPSJ3aWR0aDogMTAwLjAlOyBoZWlnaHQ6IDEwMC4wJTsiPlJvc2VsYXduIENsdXN0ZXIgMjwvZGl2PmApWzBdOwogICAgICAgICAgICBwb3B1cF9iODM3MWRmZTc0ZGM0ZTc1YWYyNjQ3NWY3NTU1MmMzZi5zZXRDb250ZW50KGh0bWxfNzAyMDU5ZGEzZDNkNDNhMDgyZjQ3MjBiNjRiMjAwMDcpOwogICAgICAgIAoKICAgICAgICBjaXJjbGVfbWFya2VyXzQ1MjM3MWZiNWUxNzQyYTJhZDRlMzAwMWQ2NzFmYTMxLmJpbmRQb3B1cChwb3B1cF9iODM3MWRmZTc0ZGM0ZTc1YWYyNjQ3NWY3NTU1MmMzZikKICAgICAgICA7CgogICAgICAgIAogICAgCiAgICAKICAgICAgICAgICAgdmFyIGNpcmNsZV9tYXJrZXJfZTc3NTJiYjcwNmRiNDJmNGI3MzY4MmQxYjkxYjQwZTMgPSBMLmNpcmNsZU1hcmtlcigKICAgICAgICAgICAgICAgIFs0My42OTY5NDc2LCAtNzkuNDExMzA3MjAwMDAwMDFdLAogICAgICAgICAgICAgICAgeyJidWJibGluZ01vdXNlRXZlbnRzIjogdHJ1ZSwgImNvbG9yIjogIiM1Y2ZmMDAiLCAiZGFzaEFycmF5IjogbnVsbCwgImRhc2hPZmZzZXQiOiBudWxsLCAiZmlsbCI6IHRydWUsICJmaWxsQ29sb3IiOiAiIzVjZmYwMCIsICJmaWxsT3BhY2l0eSI6IDEuMCwgImZpbGxSdWxlIjogImV2ZW5vZGQiLCAibGluZUNhcCI6ICJyb3VuZCIsICJsaW5lSm9pbiI6ICJyb3VuZCIsICJvcGFjaXR5IjogMS4wLCAicmFkaXVzIjogNSwgInN0cm9rZSI6IHRydWUsICJ3ZWlnaHQiOiAzfQogICAgICAgICAgICApLmFkZFRvKG1hcF9kMmEyODVlMmJjNTg0ZDA2YjEyZmZkMWM0M2QzNjYzMyk7CiAgICAgICAgCiAgICAKICAgICAgICB2YXIgcG9wdXBfN2UyZTc4Y2U3Y2M5NDc1NjhiM2NhZGUzYzZmNzMxMzQgPSBMLnBvcHVwKHsibWF4V2lkdGgiOiAiMTAwJSJ9KTsKCiAgICAgICAgCiAgICAgICAgICAgIHZhciBodG1sX2Q2YmUxYzNlNzBmNjRjYjJiZmYyZTQ0OGRhZWViYmI2ID0gJChgPGRpdiBpZD0iaHRtbF9kNmJlMWMzZTcwZjY0Y2IyYmZmMmU0NDhkYWVlYmJiNiIgc3R5bGU9IndpZHRoOiAxMDAuMCU7IGhlaWdodDogMTAwLjAlOyI+Rm9yZXN0IEhpbGwgTm9ydGgsIEZvcmVzdCBIaWxsIFdlc3QgQ2x1c3RlciAyPC9kaXY+YClbMF07CiAgICAgICAgICAgIHBvcHVwXzdlMmU3OGNlN2NjOTQ3NTY4YjNjYWRlM2M2ZjczMTM0LnNldENvbnRlbnQoaHRtbF9kNmJlMWMzZTcwZjY0Y2IyYmZmMmU0NDhkYWVlYmJiNik7CiAgICAgICAgCgogICAgICAgIGNpcmNsZV9tYXJrZXJfZTc3NTJiYjcwNmRiNDJmNGI3MzY4MmQxYjkxYjQwZTMuYmluZFBvcHVwKHBvcHVwXzdlMmU3OGNlN2NjOTQ3NTY4YjNjYWRlM2M2ZjczMTM0KQogICAgICAgIDsKCiAgICAgICAgCiAgICAKICAgIAogICAgICAgICAgICB2YXIgY2lyY2xlX21hcmtlcl82MDM5NGExYjViNDM0NjJhYjYzNDk2NjQ0M2ZkYTgzNCA9IEwuY2lyY2xlTWFya2VyKAogICAgICAgICAgICAgICAgWzQzLjY3MjcwOTcsIC03OS40MDU2Nzg0MDAwMDAwMV0sCiAgICAgICAgICAgICAgICB7ImJ1YmJsaW5nTW91c2VFdmVudHMiOiB0cnVlLCAiY29sb3IiOiAiIzAwOGZmZiIsICJkYXNoQXJyYXkiOiBudWxsLCAiZGFzaE9mZnNldCI6IG51bGwsICJmaWxsIjogdHJ1ZSwgImZpbGxDb2xvciI6ICIjMDA4ZmZmIiwgImZpbGxPcGFjaXR5IjogMS4wLCAiZmlsbFJ1bGUiOiAiZXZlbm9kZCIsICJsaW5lQ2FwIjogInJvdW5kIiwgImxpbmVKb2luIjogInJvdW5kIiwgIm9wYWNpdHkiOiAxLjAsICJyYWRpdXMiOiA1LCAic3Ryb2tlIjogdHJ1ZSwgIndlaWdodCI6IDN9CiAgICAgICAgICAgICkuYWRkVG8obWFwX2QyYTI4NWUyYmM1ODRkMDZiMTJmZmQxYzQzZDM2NjMzKTsKICAgICAgICAKICAgIAogICAgICAgIHZhciBwb3B1cF85Yjg4YTk3NTExOTY0NmVhODdkZmVjNjUyMmNjOGQ2MiA9IEwucG9wdXAoeyJtYXhXaWR0aCI6ICIxMDAlIn0pOwoKICAgICAgICAKICAgICAgICAgICAgdmFyIGh0bWxfMDJmMjQ4ZDM0OTI3NDI3MzgwMzYzMjJkMjZmYWNhNWYgPSAkKGA8ZGl2IGlkPSJodG1sXzAyZjI0OGQzNDkyNzQyNzM4MDM2MzIyZDI2ZmFjYTVmIiBzdHlsZT0id2lkdGg6IDEwMC4wJTsgaGVpZ2h0OiAxMDAuMCU7Ij5UaGUgQW5uZXgsIE5vcnRoIE1pZHRvd24sIFlvcmt2aWxsZSBDbHVzdGVyIDM8L2Rpdj5gKVswXTsKICAgICAgICAgICAgcG9wdXBfOWI4OGE5NzUxMTk2NDZlYTg3ZGZlYzY1MjJjYzhkNjIuc2V0Q29udGVudChodG1sXzAyZjI0OGQzNDkyNzQyNzM4MDM2MzIyZDI2ZmFjYTVmKTsKICAgICAgICAKCiAgICAgICAgY2lyY2xlX21hcmtlcl82MDM5NGExYjViNDM0NjJhYjYzNDk2NjQ0M2ZkYTgzNC5iaW5kUG9wdXAocG9wdXBfOWI4OGE5NzUxMTk2NDZlYTg3ZGZlYzY1MjJjYzhkNjIpCiAgICAgICAgOwoKICAgICAgICAKICAgIAogICAgCiAgICAgICAgICAgIHZhciBjaXJjbGVfbWFya2VyXzg4NzQ4NDBiYWUyZTQyOTQ4NWY4OWU1YmYwMWI1NmM4ID0gTC5jaXJjbGVNYXJrZXIoCiAgICAgICAgICAgICAgICBbNDMuNjYyNjk1NiwgLTc5LjQwMDA0OTNdLAogICAgICAgICAgICAgICAgeyJidWJibGluZ01vdXNlRXZlbnRzIjogdHJ1ZSwgImNvbG9yIjogIiMwMDhmZmYiLCAiZGFzaEFycmF5IjogbnVsbCwgImRhc2hPZmZzZXQiOiBudWxsLCAiZmlsbCI6IHRydWUsICJmaWxsQ29sb3IiOiAiIzAwOGZmZiIsICJmaWxsT3BhY2l0eSI6IDEuMCwgImZpbGxSdWxlIjogImV2ZW5vZGQiLCAibGluZUNhcCI6ICJyb3VuZCIsICJsaW5lSm9pbiI6ICJyb3VuZCIsICJvcGFjaXR5IjogMS4wLCAicmFkaXVzIjogNSwgInN0cm9rZSI6IHRydWUsICJ3ZWlnaHQiOiAzfQogICAgICAgICAgICApLmFkZFRvKG1hcF9kMmEyODVlMmJjNTg0ZDA2YjEyZmZkMWM0M2QzNjYzMyk7CiAgICAgICAgCiAgICAKICAgICAgICB2YXIgcG9wdXBfMTY4MjQyODU2ZDdmNGFiNWE5ZDEwMTk3NzVhMjUyN2IgPSBMLnBvcHVwKHsibWF4V2lkdGgiOiAiMTAwJSJ9KTsKCiAgICAgICAgCiAgICAgICAgICAgIHZhciBodG1sX2ViNDVmZWU2ODI5YjQwM2E4YWZlODg1MTczNmNkYjM0ID0gJChgPGRpdiBpZD0iaHRtbF9lYjQ1ZmVlNjgyOWI0MDNhOGFmZTg4NTE3MzZjZGIzNCIgc3R5bGU9IndpZHRoOiAxMDAuMCU7IGhlaWdodDogMTAwLjAlOyI+SGFyYm9yZCwgVW5pdmVyc2l0eSBvZiBUb3JvbnRvIENsdXN0ZXIgMzwvZGl2PmApWzBdOwogICAgICAgICAgICBwb3B1cF8xNjgyNDI4NTZkN2Y0YWI1YTlkMTAxOTc3NWEyNTI3Yi5zZXRDb250ZW50KGh0bWxfZWI0NWZlZTY4MjliNDAzYThhZmU4ODUxNzM2Y2RiMzQpOwogICAgICAgIAoKICAgICAgICBjaXJjbGVfbWFya2VyXzg4NzQ4NDBiYWUyZTQyOTQ4NWY4OWU1YmYwMWI1NmM4LmJpbmRQb3B1cChwb3B1cF8xNjgyNDI4NTZkN2Y0YWI1YTlkMTAxOTc3NWEyNTI3YikKICAgICAgICA7CgogICAgICAgIAogICAgCiAgICAKICAgICAgICAgICAgdmFyIGNpcmNsZV9tYXJrZXJfZmRlMTE5MzQzZTY5NDA3ZGJjNmQxYWVhM2MxMzM1YTUgPSBMLmNpcmNsZU1hcmtlcigKICAgICAgICAgICAgICAgIFs0My42NTMyMDU3LCAtNzkuNDAwMDQ5M10sCiAgICAgICAgICAgICAgICB7ImJ1YmJsaW5nTW91c2VFdmVudHMiOiB0cnVlLCAiY29sb3IiOiAiIzAwOGZmZiIsICJkYXNoQXJyYXkiOiBudWxsLCAiZGFzaE9mZnNldCI6IG51bGwsICJmaWxsIjogdHJ1ZSwgImZpbGxDb2xvciI6ICIjMDA4ZmZmIiwgImZpbGxPcGFjaXR5IjogMS4wLCAiZmlsbFJ1bGUiOiAiZXZlbm9kZCIsICJsaW5lQ2FwIjogInJvdW5kIiwgImxpbmVKb2luIjogInJvdW5kIiwgIm9wYWNpdHkiOiAxLjAsICJyYWRpdXMiOiA1LCAic3Ryb2tlIjogdHJ1ZSwgIndlaWdodCI6IDN9CiAgICAgICAgICAgICkuYWRkVG8obWFwX2QyYTI4NWUyYmM1ODRkMDZiMTJmZmQxYzQzZDM2NjMzKTsKICAgICAgICAKICAgIAogICAgICAgIHZhciBwb3B1cF83NWIxMjJiNGVhYzU0Y2Q4OTc2MWY4MDUzODBjNGVhMCA9IEwucG9wdXAoeyJtYXhXaWR0aCI6ICIxMDAlIn0pOwoKICAgICAgICAKICAgICAgICAgICAgdmFyIGh0bWxfOGU1MDIzZWRmMmQ1NDAzNThhODNlYTY1ODI1ZWNmYWEgPSAkKGA8ZGl2IGlkPSJodG1sXzhlNTAyM2VkZjJkNTQwMzU4YTgzZWE2NTgyNWVjZmFhIiBzdHlsZT0id2lkdGg6IDEwMC4wJTsgaGVpZ2h0OiAxMDAuMCU7Ij5DaGluYXRvd24sIEdyYW5nZSBQYXJrLCBLZW5zaW5ndG9uIE1hcmtldCBDbHVzdGVyIDM8L2Rpdj5gKVswXTsKICAgICAgICAgICAgcG9wdXBfNzViMTIyYjRlYWM1NGNkODk3NjFmODA1MzgwYzRlYTAuc2V0Q29udGVudChodG1sXzhlNTAyM2VkZjJkNTQwMzU4YTgzZWE2NTgyNWVjZmFhKTsKICAgICAgICAKCiAgICAgICAgY2lyY2xlX21hcmtlcl9mZGUxMTkzNDNlNjk0MDdkYmM2ZDFhZWEzYzEzMzVhNS5iaW5kUG9wdXAocG9wdXBfNzViMTIyYjRlYWM1NGNkODk3NjFmODA1MzgwYzRlYTApCiAgICAgICAgOwoKICAgICAgICAKICAgIAogICAgCiAgICAgICAgICAgIHZhciBjaXJjbGVfbWFya2VyXzFkZTJiYzE2ZTMzNTQ5MjFhZTA0MmY1NTEwZDAyZGRmID0gTC5jaXJjbGVNYXJrZXIoCiAgICAgICAgICAgICAgICBbNDMuNjI4OTQ2NywgLTc5LjM5NDQxOTldLAogICAgICAgICAgICAgICAgeyJidWJibGluZ01vdXNlRXZlbnRzIjogdHJ1ZSwgImNvbG9yIjogIiMwMDhmZmYiLCAiZGFzaEFycmF5IjogbnVsbCwgImRhc2hPZmZzZXQiOiBudWxsLCAiZmlsbCI6IHRydWUsICJmaWxsQ29sb3IiOiAiIzAwOGZmZiIsICJmaWxsT3BhY2l0eSI6IDEuMCwgImZpbGxSdWxlIjogImV2ZW5vZGQiLCAibGluZUNhcCI6ICJyb3VuZCIsICJsaW5lSm9pbiI6ICJyb3VuZCIsICJvcGFjaXR5IjogMS4wLCAicmFkaXVzIjogNSwgInN0cm9rZSI6IHRydWUsICJ3ZWlnaHQiOiAzfQogICAgICAgICAgICApLmFkZFRvKG1hcF9kMmEyODVlMmJjNTg0ZDA2YjEyZmZkMWM0M2QzNjYzMyk7CiAgICAgICAgCiAgICAKICAgICAgICB2YXIgcG9wdXBfZDY1YTliMjM5NTBiNDFhMGJjNGM5NTM3ZDg4YmZmNDIgPSBMLnBvcHVwKHsibWF4V2lkdGgiOiAiMTAwJSJ9KTsKCiAgICAgICAgCiAgICAgICAgICAgIHZhciBodG1sXzY3ODZiZjM3NWE4OTRjMDhiOTQ0MGIxYWY4YTcxMjY4ID0gJChgPGRpdiBpZD0iaHRtbF82Nzg2YmYzNzVhODk0YzA4Yjk0NDBiMWFmOGE3MTI2OCIgc3R5bGU9IndpZHRoOiAxMDAuMCU7IGhlaWdodDogMTAwLjAlOyI+Q04gVG93ZXIsIEJhdGh1cnN0IFF1YXksIElzbGFuZCBhaXJwb3J0LCBIYXJib3VyZnJvbnQgV2VzdCwgS2luZyBhbmQgU3BhZGluYSwgUmFpbHdheSBMYW5kcywgU291dGggTmlhZ2FyYSBDbHVzdGVyIDM8L2Rpdj5gKVswXTsKICAgICAgICAgICAgcG9wdXBfZDY1YTliMjM5NTBiNDFhMGJjNGM5NTM3ZDg4YmZmNDIuc2V0Q29udGVudChodG1sXzY3ODZiZjM3NWE4OTRjMDhiOTQ0MGIxYWY4YTcxMjY4KTsKICAgICAgICAKCiAgICAgICAgY2lyY2xlX21hcmtlcl8xZGUyYmMxNmUzMzU0OTIxYWUwNDJmNTUxMGQwMmRkZi5iaW5kUG9wdXAocG9wdXBfZDY1YTliMjM5NTBiNDFhMGJjNGM5NTM3ZDg4YmZmNDIpCiAgICAgICAgOwoKICAgICAgICAKICAgIAogICAgCiAgICAgICAgICAgIHZhciBjaXJjbGVfbWFya2VyXzdiOGYxOGEwOWNmMjQ2MGY4N2JkZmM5MzQ2M2ZiMWU1ID0gTC5jaXJjbGVNYXJrZXIoCiAgICAgICAgICAgICAgICBbNDMuNjQ2NDM1MiwgLTc5LjM3NDg0NTk5OTk5OTk5XSwKICAgICAgICAgICAgICAgIHsiYnViYmxpbmdNb3VzZUV2ZW50cyI6IHRydWUsICJjb2xvciI6ICIjMDA4ZmZmIiwgImRhc2hBcnJheSI6IG51bGwsICJkYXNoT2Zmc2V0IjogbnVsbCwgImZpbGwiOiB0cnVlLCAiZmlsbENvbG9yIjogIiMwMDhmZmYiLCAiZmlsbE9wYWNpdHkiOiAxLjAsICJmaWxsUnVsZSI6ICJldmVub2RkIiwgImxpbmVDYXAiOiAicm91bmQiLCAibGluZUpvaW4iOiAicm91bmQiLCAib3BhY2l0eSI6IDEuMCwgInJhZGl1cyI6IDUsICJzdHJva2UiOiB0cnVlLCAid2VpZ2h0IjogM30KICAgICAgICAgICAgKS5hZGRUbyhtYXBfZDJhMjg1ZTJiYzU4NGQwNmIxMmZmZDFjNDNkMzY2MzMpOwogICAgICAgIAogICAgCiAgICAgICAgdmFyIHBvcHVwXzJlNjlmZWU4ZDI4NDQ3YWQ4ZGFhNTIzOGM4NGM0ZTg1ID0gTC5wb3B1cCh7Im1heFdpZHRoIjogIjEwMCUifSk7CgogICAgICAgIAogICAgICAgICAgICB2YXIgaHRtbF9iOWI0ODdlMTBkMGU0NjI0YjEyOTE3NDk2ZDYwMzNjMSA9ICQoYDxkaXYgaWQ9Imh0bWxfYjliNDg3ZTEwZDBlNDYyNGIxMjkxNzQ5NmQ2MDMzYzEiIHN0eWxlPSJ3aWR0aDogMTAwLjAlOyBoZWlnaHQ6IDEwMC4wJTsiPlN0biBBIFBPIEJveGVzIDI1IFRoZSBFc3BsYW5hZGUgQ2x1c3RlciAzPC9kaXY+YClbMF07CiAgICAgICAgICAgIHBvcHVwXzJlNjlmZWU4ZDI4NDQ3YWQ4ZGFhNTIzOGM4NGM0ZTg1LnNldENvbnRlbnQoaHRtbF9iOWI0ODdlMTBkMGU0NjI0YjEyOTE3NDk2ZDYwMzNjMSk7CiAgICAgICAgCgogICAgICAgIGNpcmNsZV9tYXJrZXJfN2I4ZjE4YTA5Y2YyNDYwZjg3YmRmYzkzNDYzZmIxZTUuYmluZFBvcHVwKHBvcHVwXzJlNjlmZWU4ZDI4NDQ3YWQ4ZGFhNTIzOGM4NGM0ZTg1KQogICAgICAgIDsKCiAgICAgICAgCiAgICAKICAgIAogICAgICAgICAgICB2YXIgY2lyY2xlX21hcmtlcl8zYjIwYjNhMWUzMzM0NTdhYjhlYWI3NzhkZmZjYzY3NyA9IEwuY2lyY2xlTWFya2VyKAogICAgICAgICAgICAgICAgWzQzLjY0ODQyOTIsIC03OS4zODIyODAyXSwKICAgICAgICAgICAgICAgIHsiYnViYmxpbmdNb3VzZUV2ZW50cyI6IHRydWUsICJjb2xvciI6ICIjMDA4ZmZmIiwgImRhc2hBcnJheSI6IG51bGwsICJkYXNoT2Zmc2V0IjogbnVsbCwgImZpbGwiOiB0cnVlLCAiZmlsbENvbG9yIjogIiMwMDhmZmYiLCAiZmlsbE9wYWNpdHkiOiAxLjAsICJmaWxsUnVsZSI6ICJldmVub2RkIiwgImxpbmVDYXAiOiAicm91bmQiLCAibGluZUpvaW4iOiAicm91bmQiLCAib3BhY2l0eSI6IDEuMCwgInJhZGl1cyI6IDUsICJzdHJva2UiOiB0cnVlLCAid2VpZ2h0IjogM30KICAgICAgICAgICAgKS5hZGRUbyhtYXBfZDJhMjg1ZTJiYzU4NGQwNmIxMmZmZDFjNDNkMzY2MzMpOwogICAgICAgIAogICAgCiAgICAgICAgdmFyIHBvcHVwXzM1MGJkOWI0OWJlNTRkNDM5ODcxOTc5ZjFiNGUzMmI4ID0gTC5wb3B1cCh7Im1heFdpZHRoIjogIjEwMCUifSk7CgogICAgICAgIAogICAgICAgICAgICB2YXIgaHRtbF9mOTYzMTQyZTNlYjI0NTBkYmQ3NjgwNDFlOWVhZDA0MCA9ICQoYDxkaXYgaWQ9Imh0bWxfZjk2MzE0MmUzZWIyNDUwZGJkNzY4MDQxZTllYWQwNDAiIHN0eWxlPSJ3aWR0aDogMTAwLjAlOyBoZWlnaHQ6IDEwMC4wJTsiPkZpcnN0IENhbmFkaWFuIFBsYWNlLCBVbmRlcmdyb3VuZCBjaXR5IENsdXN0ZXIgMzwvZGl2PmApWzBdOwogICAgICAgICAgICBwb3B1cF8zNTBiZDliNDliZTU0ZDQzOTg3MTk3OWYxYjRlMzJiOC5zZXRDb250ZW50KGh0bWxfZjk2MzE0MmUzZWIyNDUwZGJkNzY4MDQxZTllYWQwNDApOwogICAgICAgIAoKICAgICAgICBjaXJjbGVfbWFya2VyXzNiMjBiM2ExZTMzMzQ1N2FiOGVhYjc3OGRmZmNjNjc3LmJpbmRQb3B1cChwb3B1cF8zNTBiZDliNDliZTU0ZDQzOTg3MTk3OWYxYjRlMzJiOCkKICAgICAgICA7CgogICAgICAgIAogICAgCiAgICAKICAgICAgICAgICAgdmFyIGNpcmNsZV9tYXJrZXJfNjBmNzkwNDZlMmY1NDcyNjhkMDc2NWYxZGU4MTg2MmMgPSBMLmNpcmNsZU1hcmtlcigKICAgICAgICAgICAgICAgIFs0My42Njk1NDIsIC03OS40MjI1NjM3XSwKICAgICAgICAgICAgICAgIHsiYnViYmxpbmdNb3VzZUV2ZW50cyI6IHRydWUsICJjb2xvciI6ICIjZmYwMGJmIiwgImRhc2hBcnJheSI6IG51bGwsICJkYXNoT2Zmc2V0IjogbnVsbCwgImZpbGwiOiB0cnVlLCAiZmlsbENvbG9yIjogIiNmZjAwYmYiLCAiZmlsbE9wYWNpdHkiOiAxLjAsICJmaWxsUnVsZSI6ICJldmVub2RkIiwgImxpbmVDYXAiOiAicm91bmQiLCAibGluZUpvaW4iOiAicm91bmQiLCAib3BhY2l0eSI6IDEuMCwgInJhZGl1cyI6IDUsICJzdHJva2UiOiB0cnVlLCAid2VpZ2h0IjogM30KICAgICAgICAgICAgKS5hZGRUbyhtYXBfZDJhMjg1ZTJiYzU4NGQwNmIxMmZmZDFjNDNkMzY2MzMpOwogICAgICAgIAogICAgCiAgICAgICAgdmFyIHBvcHVwXzQyYjM4NTFkODY0MDQyNzVhYTc1MjQ0YzQwODM3NWU3ID0gTC5wb3B1cCh7Im1heFdpZHRoIjogIjEwMCUifSk7CgogICAgICAgIAogICAgICAgICAgICB2YXIgaHRtbF85OTVkMzM5MmU5OWE0MTdmODc2MTdkNDJiYzQ2YWViNSA9ICQoYDxkaXYgaWQ9Imh0bWxfOTk1ZDMzOTJlOTlhNDE3Zjg3NjE3ZDQyYmM0NmFlYjUiIHN0eWxlPSJ3aWR0aDogMTAwLjAlOyBoZWlnaHQ6IDEwMC4wJTsiPkNocmlzdGllIENsdXN0ZXIgMDwvZGl2PmApWzBdOwogICAgICAgICAgICBwb3B1cF80MmIzODUxZDg2NDA0Mjc1YWE3NTI0NGM0MDgzNzVlNy5zZXRDb250ZW50KGh0bWxfOTk1ZDMzOTJlOTlhNDE3Zjg3NjE3ZDQyYmM0NmFlYjUpOwogICAgICAgIAoKICAgICAgICBjaXJjbGVfbWFya2VyXzYwZjc5MDQ2ZTJmNTQ3MjY4ZDA3NjVmMWRlODE4NjJjLmJpbmRQb3B1cChwb3B1cF80MmIzODUxZDg2NDA0Mjc1YWE3NTI0NGM0MDgzNzVlNykKICAgICAgICA7CgogICAgICAgIAogICAgCiAgICAKICAgICAgICAgICAgdmFyIGNpcmNsZV9tYXJrZXJfMjdmMGU2NmUwM2EwNDhjNjhlMmIxMjZiMjg3Y2RlMzggPSBMLmNpcmNsZU1hcmtlcigKICAgICAgICAgICAgICAgIFs0My42NjkwMDUxMDAwMDAwMSwgLTc5LjQ0MjI1OTNdLAogICAgICAgICAgICAgICAgeyJidWJibGluZ01vdXNlRXZlbnRzIjogdHJ1ZSwgImNvbG9yIjogIiNmZjAwYmYiLCAiZGFzaEFycmF5IjogbnVsbCwgImRhc2hPZmZzZXQiOiBudWxsLCAiZmlsbCI6IHRydWUsICJmaWxsQ29sb3IiOiAiI2ZmMDBiZiIsICJmaWxsT3BhY2l0eSI6IDEuMCwgImZpbGxSdWxlIjogImV2ZW5vZGQiLCAibGluZUNhcCI6ICJyb3VuZCIsICJsaW5lSm9pbiI6ICJyb3VuZCIsICJvcGFjaXR5IjogMS4wLCAicmFkaXVzIjogNSwgInN0cm9rZSI6IHRydWUsICJ3ZWlnaHQiOiAzfQogICAgICAgICAgICApLmFkZFRvKG1hcF9kMmEyODVlMmJjNTg0ZDA2YjEyZmZkMWM0M2QzNjYzMyk7CiAgICAgICAgCiAgICAKICAgICAgICB2YXIgcG9wdXBfYjNjZGQ0ODM4N2FiNGMxMjgyYzk1YWJmMWU0ODJkMTggPSBMLnBvcHVwKHsibWF4V2lkdGgiOiAiMTAwJSJ9KTsKCiAgICAgICAgCiAgICAgICAgICAgIHZhciBodG1sX2E1N2RlMWI3ZTg1OTRlZThiZjUwMWE5ODYxNjU0MGE5ID0gJChgPGRpdiBpZD0iaHRtbF9hNTdkZTFiN2U4NTk0ZWU4YmY1MDFhOTg2MTY1NDBhOSIgc3R5bGU9IndpZHRoOiAxMDAuMCU7IGhlaWdodDogMTAwLjAlOyI+RG92ZXJjb3VydCBWaWxsYWdlLCBEdWZmZXJpbiBDbHVzdGVyIDA8L2Rpdj5gKVswXTsKICAgICAgICAgICAgcG9wdXBfYjNjZGQ0ODM4N2FiNGMxMjgyYzk1YWJmMWU0ODJkMTguc2V0Q29udGVudChodG1sX2E1N2RlMWI3ZTg1OTRlZThiZjUwMWE5ODYxNjU0MGE5KTsKICAgICAgICAKCiAgICAgICAgY2lyY2xlX21hcmtlcl8yN2YwZTY2ZTAzYTA0OGM2OGUyYjEyNmIyODdjZGUzOC5iaW5kUG9wdXAocG9wdXBfYjNjZGQ0ODM4N2FiNGMxMjgyYzk1YWJmMWU0ODJkMTgpCiAgICAgICAgOwoKICAgICAgICAKICAgIAogICAgCiAgICAgICAgICAgIHZhciBjaXJjbGVfbWFya2VyX2UwNTVkZWI3YmIwMzQ0ZWVhNDdhZTFhZDYxZWMzYTQ5ID0gTC5jaXJjbGVNYXJrZXIoCiAgICAgICAgICAgICAgICBbNDMuNjQ3OTI2NzAwMDAwMDA2LCAtNzkuNDE5NzQ5N10sCiAgICAgICAgICAgICAgICB7ImJ1YmJsaW5nTW91c2VFdmVudHMiOiB0cnVlLCAiY29sb3IiOiAiI2ZmMDBiZiIsICJkYXNoQXJyYXkiOiBudWxsLCAiZGFzaE9mZnNldCI6IG51bGwsICJmaWxsIjogdHJ1ZSwgImZpbGxDb2xvciI6ICIjZmYwMGJmIiwgImZpbGxPcGFjaXR5IjogMS4wLCAiZmlsbFJ1bGUiOiAiZXZlbm9kZCIsICJsaW5lQ2FwIjogInJvdW5kIiwgImxpbmVKb2luIjogInJvdW5kIiwgIm9wYWNpdHkiOiAxLjAsICJyYWRpdXMiOiA1LCAic3Ryb2tlIjogdHJ1ZSwgIndlaWdodCI6IDN9CiAgICAgICAgICAgICkuYWRkVG8obWFwX2QyYTI4NWUyYmM1ODRkMDZiMTJmZmQxYzQzZDM2NjMzKTsKICAgICAgICAKICAgIAogICAgICAgIHZhciBwb3B1cF85N2E1ZjdiNTg5NTc0ZmY1OTViZWUzNDljMTI2MWVkNyA9IEwucG9wdXAoeyJtYXhXaWR0aCI6ICIxMDAlIn0pOwoKICAgICAgICAKICAgICAgICAgICAgdmFyIGh0bWxfMjdmOGUzZTA0ZGQ1NGQ5Mjg0ZDU4ZTIwZTNlZmI1NjcgPSAkKGA8ZGl2IGlkPSJodG1sXzI3ZjhlM2UwNGRkNTRkOTI4NGQ1OGUyMGUzZWZiNTY3IiBzdHlsZT0id2lkdGg6IDEwMC4wJTsgaGVpZ2h0OiAxMDAuMCU7Ij5MaXR0bGUgUG9ydHVnYWwsIFRyaW5pdHkgQ2x1c3RlciAwPC9kaXY+YClbMF07CiAgICAgICAgICAgIHBvcHVwXzk3YTVmN2I1ODk1NzRmZjU5NWJlZTM0OWMxMjYxZWQ3LnNldENvbnRlbnQoaHRtbF8yN2Y4ZTNlMDRkZDU0ZDkyODRkNThlMjBlM2VmYjU2Nyk7CiAgICAgICAgCgogICAgICAgIGNpcmNsZV9tYXJrZXJfZTA1NWRlYjdiYjAzNDRlZWE0N2FlMWFkNjFlYzNhNDkuYmluZFBvcHVwKHBvcHVwXzk3YTVmN2I1ODk1NzRmZjU5NWJlZTM0OWMxMjYxZWQ3KQogICAgICAgIDsKCiAgICAgICAgCiAgICAKICAgIAogICAgICAgICAgICB2YXIgY2lyY2xlX21hcmtlcl8xMmU3MWIwNmIwNmM0MzU4OWI3MjBlN2QzYmMxOWI4ZCA9IEwuY2lyY2xlTWFya2VyKAogICAgICAgICAgICAgICAgWzQzLjYzNjg0NzIsIC03OS40MjgxOTE0MDAwMDAwMl0sCiAgICAgICAgICAgICAgICB7ImJ1YmJsaW5nTW91c2VFdmVudHMiOiB0cnVlLCAiY29sb3IiOiAiI2ZmMDBiZiIsICJkYXNoQXJyYXkiOiBudWxsLCAiZGFzaE9mZnNldCI6IG51bGwsICJmaWxsIjogdHJ1ZSwgImZpbGxDb2xvciI6ICIjZmYwMGJmIiwgImZpbGxPcGFjaXR5IjogMS4wLCAiZmlsbFJ1bGUiOiAiZXZlbm9kZCIsICJsaW5lQ2FwIjogInJvdW5kIiwgImxpbmVKb2luIjogInJvdW5kIiwgIm9wYWNpdHkiOiAxLjAsICJyYWRpdXMiOiA1LCAic3Ryb2tlIjogdHJ1ZSwgIndlaWdodCI6IDN9CiAgICAgICAgICAgICkuYWRkVG8obWFwX2QyYTI4NWUyYmM1ODRkMDZiMTJmZmQxYzQzZDM2NjMzKTsKICAgICAgICAKICAgIAogICAgICAgIHZhciBwb3B1cF83MjFmZGFlYjA1NDk0ZTA3YWMwYTM5M2JiNzM5YzNiOCA9IEwucG9wdXAoeyJtYXhXaWR0aCI6ICIxMDAlIn0pOwoKICAgICAgICAKICAgICAgICAgICAgdmFyIGh0bWxfYWU3Y2IzODJmMmMzNDczMjhjZWYzMzA0NTk5NjdkNTYgPSAkKGA8ZGl2IGlkPSJodG1sX2FlN2NiMzgyZjJjMzQ3MzI4Y2VmMzMwNDU5OTY3ZDU2IiBzdHlsZT0id2lkdGg6IDEwMC4wJTsgaGVpZ2h0OiAxMDAuMCU7Ij5Ccm9ja3RvbiwgRXhoaWJpdGlvbiBQbGFjZSwgUGFya2RhbGUgVmlsbGFnZSBDbHVzdGVyIDA8L2Rpdj5gKVswXTsKICAgICAgICAgICAgcG9wdXBfNzIxZmRhZWIwNTQ5NGUwN2FjMGEzOTNiYjczOWMzYjguc2V0Q29udGVudChodG1sX2FlN2NiMzgyZjJjMzQ3MzI4Y2VmMzMwNDU5OTY3ZDU2KTsKICAgICAgICAKCiAgICAgICAgY2lyY2xlX21hcmtlcl8xMmU3MWIwNmIwNmM0MzU4OWI3MjBlN2QzYmMxOWI4ZC5iaW5kUG9wdXAocG9wdXBfNzIxZmRhZWIwNTQ5NGUwN2FjMGEzOTNiYjczOWMzYjgpCiAgICAgICAgOwoKICAgICAgICAKICAgIAogICAgCiAgICAgICAgICAgIHZhciBjaXJjbGVfbWFya2VyX2Q2YjU4NTk5YzY2MjRkZTM4YTc0NmU5ZjkzNjU0YmZhID0gTC5jaXJjbGVNYXJrZXIoCiAgICAgICAgICAgICAgICBbNDMuNjYxNjA4MywgLTc5LjQ2NDc2MzI5OTk5OTk5XSwKICAgICAgICAgICAgICAgIHsiYnViYmxpbmdNb3VzZUV2ZW50cyI6IHRydWUsICJjb2xvciI6ICIjZmYwMGJmIiwgImRhc2hBcnJheSI6IG51bGwsICJkYXNoT2Zmc2V0IjogbnVsbCwgImZpbGwiOiB0cnVlLCAiZmlsbENvbG9yIjogIiNmZjAwYmYiLCAiZmlsbE9wYWNpdHkiOiAxLjAsICJmaWxsUnVsZSI6ICJldmVub2RkIiwgImxpbmVDYXAiOiAicm91bmQiLCAibGluZUpvaW4iOiAicm91bmQiLCAib3BhY2l0eSI6IDEuMCwgInJhZGl1cyI6IDUsICJzdHJva2UiOiB0cnVlLCAid2VpZ2h0IjogM30KICAgICAgICAgICAgKS5hZGRUbyhtYXBfZDJhMjg1ZTJiYzU4NGQwNmIxMmZmZDFjNDNkMzY2MzMpOwogICAgICAgIAogICAgCiAgICAgICAgdmFyIHBvcHVwX2EwNGMzYTljMTBlYzRlZTU4YTZlZWM1OGZlZTI4NDU3ID0gTC5wb3B1cCh7Im1heFdpZHRoIjogIjEwMCUifSk7CgogICAgICAgIAogICAgICAgICAgICB2YXIgaHRtbF8xNzQ5ZWMwZTcxNmE0MjM0ODUyYjhlZDM1YzdkZjJhYiA9ICQoYDxkaXYgaWQ9Imh0bWxfMTc0OWVjMGU3MTZhNDIzNDg1MmI4ZWQzNWM3ZGYyYWIiIHN0eWxlPSJ3aWR0aDogMTAwLjAlOyBoZWlnaHQ6IDEwMC4wJTsiPkhpZ2ggUGFyaywgVGhlIEp1bmN0aW9uIFNvdXRoIENsdXN0ZXIgMDwvZGl2PmApWzBdOwogICAgICAgICAgICBwb3B1cF9hMDRjM2E5YzEwZWM0ZWU1OGE2ZWVjNThmZWUyODQ1Ny5zZXRDb250ZW50KGh0bWxfMTc0OWVjMGU3MTZhNDIzNDg1MmI4ZWQzNWM3ZGYyYWIpOwogICAgICAgIAoKICAgICAgICBjaXJjbGVfbWFya2VyX2Q2YjU4NTk5YzY2MjRkZTM4YTc0NmU5ZjkzNjU0YmZhLmJpbmRQb3B1cChwb3B1cF9hMDRjM2E5YzEwZWM0ZWU1OGE2ZWVjNThmZWUyODQ1NykKICAgICAgICA7CgogICAgICAgIAogICAgCiAgICAKICAgICAgICAgICAgdmFyIGNpcmNsZV9tYXJrZXJfOTQ1ZTkxNjE2OGY5NGUzNzg3ZDYxZDAxYzMyNGQ0YWMgPSBMLmNpcmNsZU1hcmtlcigKICAgICAgICAgICAgICAgIFs0My42NDg5NTk3LCAtNzkuNDU2MzI1XSwKICAgICAgICAgICAgICAgIHsiYnViYmxpbmdNb3VzZUV2ZW50cyI6IHRydWUsICJjb2xvciI6ICIjZmYwMGJmIiwgImRhc2hBcnJheSI6IG51bGwsICJkYXNoT2Zmc2V0IjogbnVsbCwgImZpbGwiOiB0cnVlLCAiZmlsbENvbG9yIjogIiNmZjAwYmYiLCAiZmlsbE9wYWNpdHkiOiAxLjAsICJmaWxsUnVsZSI6ICJldmVub2RkIiwgImxpbmVDYXAiOiAicm91bmQiLCAibGluZUpvaW4iOiAicm91bmQiLCAib3BhY2l0eSI6IDEuMCwgInJhZGl1cyI6IDUsICJzdHJva2UiOiB0cnVlLCAid2VpZ2h0IjogM30KICAgICAgICAgICAgKS5hZGRUbyhtYXBfZDJhMjg1ZTJiYzU4NGQwNmIxMmZmZDFjNDNkMzY2MzMpOwogICAgICAgIAogICAgCiAgICAgICAgdmFyIHBvcHVwXzc4NWYxN2YzYTNkZDRlMTg5MGFmMDIzMDg1Y2E1Mjg0ID0gTC5wb3B1cCh7Im1heFdpZHRoIjogIjEwMCUifSk7CgogICAgICAgIAogICAgICAgICAgICB2YXIgaHRtbF9hZTk0M2MwZmM0NGU0MzY2YjZlZDMxNTQxZWY4ZDAyYyA9ICQoYDxkaXYgaWQ9Imh0bWxfYWU5NDNjMGZjNDRlNDM2NmI2ZWQzMTU0MWVmOGQwMmMiIHN0eWxlPSJ3aWR0aDogMTAwLjAlOyBoZWlnaHQ6IDEwMC4wJTsiPlBhcmtkYWxlLCBSb25jZXN2YWxsZXMgQ2x1c3RlciAwPC9kaXY+YClbMF07CiAgICAgICAgICAgIHBvcHVwXzc4NWYxN2YzYTNkZDRlMTg5MGFmMDIzMDg1Y2E1Mjg0LnNldENvbnRlbnQoaHRtbF9hZTk0M2MwZmM0NGU0MzY2YjZlZDMxNTQxZWY4ZDAyYyk7CiAgICAgICAgCgogICAgICAgIGNpcmNsZV9tYXJrZXJfOTQ1ZTkxNjE2OGY5NGUzNzg3ZDYxZDAxYzMyNGQ0YWMuYmluZFBvcHVwKHBvcHVwXzc4NWYxN2YzYTNkZDRlMTg5MGFmMDIzMDg1Y2E1Mjg0KQogICAgICAgIDsKCiAgICAgICAgCiAgICAKICAgIAogICAgICAgICAgICB2YXIgY2lyY2xlX21hcmtlcl9hNDM0ZWQzOWQxYTQ0NmNhYmQ1NzI4ZjNiZTJlMWE5MiA9IEwuY2lyY2xlTWFya2VyKAogICAgICAgICAgICAgICAgWzQzLjY1MTU3MDYsIC03OS40ODQ0NDk5XSwKICAgICAgICAgICAgICAgIHsiYnViYmxpbmdNb3VzZUV2ZW50cyI6IHRydWUsICJjb2xvciI6ICIjZmYwMGJmIiwgImRhc2hBcnJheSI6IG51bGwsICJkYXNoT2Zmc2V0IjogbnVsbCwgImZpbGwiOiB0cnVlLCAiZmlsbENvbG9yIjogIiNmZjAwYmYiLCAiZmlsbE9wYWNpdHkiOiAxLjAsICJmaWxsUnVsZSI6ICJldmVub2RkIiwgImxpbmVDYXAiOiAicm91bmQiLCAibGluZUpvaW4iOiAicm91bmQiLCAib3BhY2l0eSI6IDEuMCwgInJhZGl1cyI6IDUsICJzdHJva2UiOiB0cnVlLCAid2VpZ2h0IjogM30KICAgICAgICAgICAgKS5hZGRUbyhtYXBfZDJhMjg1ZTJiYzU4NGQwNmIxMmZmZDFjNDNkMzY2MzMpOwogICAgICAgIAogICAgCiAgICAgICAgdmFyIHBvcHVwX2MwN2Q0YWYyZmI0MDRiMmNhMTg5OWZkYTQ2Y2I1Y2JhID0gTC5wb3B1cCh7Im1heFdpZHRoIjogIjEwMCUifSk7CgogICAgICAgIAogICAgICAgICAgICB2YXIgaHRtbF8wZDEzM2M1NDBjYWQ0YTYyOTljM2ZjOWU2ZTc1Nzk4MyA9ICQoYDxkaXYgaWQ9Imh0bWxfMGQxMzNjNTQwY2FkNGE2Mjk5YzNmYzllNmU3NTc5ODMiIHN0eWxlPSJ3aWR0aDogMTAwLjAlOyBoZWlnaHQ6IDEwMC4wJTsiPlJ1bm55bWVkZSwgU3dhbnNlYSBDbHVzdGVyIDA8L2Rpdj5gKVswXTsKICAgICAgICAgICAgcG9wdXBfYzA3ZDRhZjJmYjQwNGIyY2ExODk5ZmRhNDZjYjVjYmEuc2V0Q29udGVudChodG1sXzBkMTMzYzU0MGNhZDRhNjI5OWMzZmM5ZTZlNzU3OTgzKTsKICAgICAgICAKCiAgICAgICAgY2lyY2xlX21hcmtlcl9hNDM0ZWQzOWQxYTQ0NmNhYmQ1NzI4ZjNiZTJlMWE5Mi5iaW5kUG9wdXAocG9wdXBfYzA3ZDRhZjJmYjQwNGIyY2ExODk5ZmRhNDZjYjVjYmEpCiAgICAgICAgOwoKICAgICAgICAKICAgIAogICAgCiAgICAgICAgICAgIHZhciBjaXJjbGVfbWFya2VyXzNhM2M3ZmQ0ODY2MTRiZDE4Mzg0NjI0NDM4YzFhYTY1ID0gTC5jaXJjbGVNYXJrZXIoCiAgICAgICAgICAgICAgICBbNDMuNjYyMzAxNSwgLTc5LjM4OTQ5MzhdLAogICAgICAgICAgICAgICAgeyJidWJibGluZ01vdXNlRXZlbnRzIjogdHJ1ZSwgImNvbG9yIjogIiMwMDhmZmYiLCAiZGFzaEFycmF5IjogbnVsbCwgImRhc2hPZmZzZXQiOiBudWxsLCAiZmlsbCI6IHRydWUsICJmaWxsQ29sb3IiOiAiIzAwOGZmZiIsICJmaWxsT3BhY2l0eSI6IDEuMCwgImZpbGxSdWxlIjogImV2ZW5vZGQiLCAibGluZUNhcCI6ICJyb3VuZCIsICJsaW5lSm9pbiI6ICJyb3VuZCIsICJvcGFjaXR5IjogMS4wLCAicmFkaXVzIjogNSwgInN0cm9rZSI6IHRydWUsICJ3ZWlnaHQiOiAzfQogICAgICAgICAgICApLmFkZFRvKG1hcF9kMmEyODVlMmJjNTg0ZDA2YjEyZmZkMWM0M2QzNjYzMyk7CiAgICAgICAgCiAgICAKICAgICAgICB2YXIgcG9wdXBfODdjYzA3MjgwMTY3NDE2YTk1ZGQyMWY5YmQxNGE3MWEgPSBMLnBvcHVwKHsibWF4V2lkdGgiOiAiMTAwJSJ9KTsKCiAgICAgICAgCiAgICAgICAgICAgIHZhciBodG1sXzkyMTAxZDlhMDk3ZTQyOTY5OTY5MTE4OWQ5MWQwOWYxID0gJChgPGRpdiBpZD0iaHRtbF85MjEwMWQ5YTA5N2U0Mjk2OTk2OTExODlkOTFkMDlmMSIgc3R5bGU9IndpZHRoOiAxMDAuMCU7IGhlaWdodDogMTAwLjAlOyI+UXVlZW4mIzM5O3MgUGFyayBDbHVzdGVyIDM8L2Rpdj5gKVswXTsKICAgICAgICAgICAgcG9wdXBfODdjYzA3MjgwMTY3NDE2YTk1ZGQyMWY5YmQxNGE3MWEuc2V0Q29udGVudChodG1sXzkyMTAxZDlhMDk3ZTQyOTY5OTY5MTE4OWQ5MWQwOWYxKTsKICAgICAgICAKCiAgICAgICAgY2lyY2xlX21hcmtlcl8zYTNjN2ZkNDg2NjE0YmQxODM4NDYyNDQzOGMxYWE2NS5iaW5kUG9wdXAocG9wdXBfODdjYzA3MjgwMTY3NDE2YTk1ZGQyMWY5YmQxNGE3MWEpCiAgICAgICAgOwoKICAgICAgICAKICAgIAogICAgCiAgICAgICAgICAgIHZhciBjaXJjbGVfbWFya2VyX2U1YTZhZjA2NDFlMDRjZDBhNWViZTdmNDg2MmE5YWI1ID0gTC5jaXJjbGVNYXJrZXIoCiAgICAgICAgICAgICAgICBbNDMuNjYyNzQzOSwgLTc5LjMyMTU1OF0sCiAgICAgICAgICAgICAgICB7ImJ1YmJsaW5nTW91c2VFdmVudHMiOiB0cnVlLCAiY29sb3IiOiAiI2ZmMDAyOSIsICJkYXNoQXJyYXkiOiBudWxsLCAiZGFzaE9mZnNldCI6IG51bGwsICJmaWxsIjogdHJ1ZSwgImZpbGxDb2xvciI6ICIjZmYwMDI5IiwgImZpbGxPcGFjaXR5IjogMS4wLCAiZmlsbFJ1bGUiOiAiZXZlbm9kZCIsICJsaW5lQ2FwIjogInJvdW5kIiwgImxpbmVKb2luIjogInJvdW5kIiwgIm9wYWNpdHkiOiAxLjAsICJyYWRpdXMiOiA1LCAic3Ryb2tlIjogdHJ1ZSwgIndlaWdodCI6IDN9CiAgICAgICAgICAgICkuYWRkVG8obWFwX2QyYTI4NWUyYmM1ODRkMDZiMTJmZmQxYzQzZDM2NjMzKTsKICAgICAgICAKICAgIAogICAgICAgIHZhciBwb3B1cF8wMGYxNTBiZWMwNWU0YmNlOWYwZTYzOWI3ZjhkYmUyYyA9IEwucG9wdXAoeyJtYXhXaWR0aCI6ICIxMDAlIn0pOwoKICAgICAgICAKICAgICAgICAgICAgdmFyIGh0bWxfMDQ3ZjE4YmY2ZWE2NGMwZmE1MjJjNDU0ODIxMzUzMzkgPSAkKGA8ZGl2IGlkPSJodG1sXzA0N2YxOGJmNmVhNjRjMGZhNTIyYzQ1NDgyMTM1MzM5IiBzdHlsZT0id2lkdGg6IDEwMC4wJTsgaGVpZ2h0OiAxMDAuMCU7Ij5CdXNpbmVzcyBSZXBseSBNYWlsIFByb2Nlc3NpbmcgQ2VudHJlIDk2OSBFYXN0ZXJuIENsdXN0ZXIgMTwvZGl2PmApWzBdOwogICAgICAgICAgICBwb3B1cF8wMGYxNTBiZWMwNWU0YmNlOWYwZTYzOWI3ZjhkYmUyYy5zZXRDb250ZW50KGh0bWxfMDQ3ZjE4YmY2ZWE2NGMwZmE1MjJjNDU0ODIxMzUzMzkpOwogICAgICAgIAoKICAgICAgICBjaXJjbGVfbWFya2VyX2U1YTZhZjA2NDFlMDRjZDBhNWViZTdmNDg2MmE5YWI1LmJpbmRQb3B1cChwb3B1cF8wMGYxNTBiZWMwNWU0YmNlOWYwZTYzOWI3ZjhkYmUyYykKICAgICAgICA7CgogICAgICAgIAogICAgCjwvc2NyaXB0Pg==\" style=\"position:absolute;width:100%;height:100%;left:0;top:0;border:none !important;\" allowfullscreen webkitallowfullscreen mozallowfullscreen></iframe></div></div>"
      ],
      "text/plain": [
       "<folium.folium.Map at 0x1fd067d3470>"
      ]
     },
     "execution_count": 38,
     "metadata": {},
     "output_type": "execute_result"
    }
   ],
   "source": [
    "# create map of Toronto using latitude and longitude values\n",
    "map_Toronto_cluster = folium.Map(location=[Toronto_lat, Toronto_long], zoom_start=12)\n",
    "\n",
    "# set color scheme for the clusters\n",
    "x = np.arange(kclusters)\n",
    "ys = [i + x + (i*x)**2 for i in range(kclusters)]\n",
    "colors_array = cm.gist_rainbow(np.linspace(0, 1, len(ys)))\n",
    "gist_rainbow = [colors.rgb2hex(i) for i in colors_array]\n",
    "\n",
    "# add markers to the map\n",
    "markers_colors = []\n",
    "for lat, lon, poi, cluster in zip(Toronto_clustered['Latitude'], Toronto_clustered['Longitude'], Toronto_clustered['Neighbourhood'], Toronto_clustered['Cluster Labels']):\n",
    "    label = folium.Popup(str(poi) + ' Cluster ' + str(cluster), parse_html=True)\n",
    "    folium.CircleMarker(\n",
    "        [lat, lon],\n",
    "        radius=5,\n",
    "        popup=label,\n",
    "        color=gist_rainbow[cluster-1],\n",
    "        fill=True,\n",
    "        fill_color=gist_rainbow[cluster-1],\n",
    "        fill_opacity=1.0).add_to(map_Toronto_cluster)\n",
    "    \n",
    "# \n",
    "legend_html =   '''\n",
    "                <div style=\"position: fixed; \n",
    "                            bottom: 100px; right: 50px; width: 300px; height: 150px; \n",
    "                            border:2px solid grey; z-index:9999; font-size:14px;\n",
    "                            \">&nbsp; Boroughs <br>\n",
    "                              <br>\n",
    "                              &nbsp; Cluster 0 : West Toronto (6/7)&nbsp; <i class=\"fa fa-circle fa-1x\" style=\"color:#ff00bf\"></i><br>\n",
    "                              &nbsp; Cluster 1 : East Toronto (5/5) &nbsp; <i class=\"fa fa-circle fa-1x\" style=\"color:#ff0029\"></i><br>\n",
    "                              &nbsp; Cluster 2 : Central Toronto (8/8) &nbsp; <i class=\"fa fa-circle fa-1x\" style=\"color:#5cff00\"></i><br>\n",
    "                              &nbsp; Cluster 3 : Downtown Toronto (18/19) &nbsp; <i class=\"fa fa-circle fa-1x\" style=\"color:#008fff\"></i>\n",
    "                              \n",
    "                              \n",
    "                </div>\n",
    "                ''' \n",
    "map_Toronto_cluster.get_root().html.add_child(folium.Element(legend_html))\n",
    "       \n",
    "map_Toronto_cluster\n"
   ]
  },
  {
   "cell_type": "markdown",
   "metadata": {},
   "source": [
    "<hr>"
   ]
  },
  {
   "cell_type": "markdown",
   "metadata": {},
   "source": [
    "The model gave almost perfect result. "
   ]
  },
  {
   "cell_type": "markdown",
   "metadata": {},
   "source": [
    "<hr>"
   ]
  }
 ],
 "metadata": {
  "kernelspec": {
   "display_name": "Python 3",
   "language": "python",
   "name": "python3"
  },
  "language_info": {
   "codemirror_mode": {
    "name": "ipython",
    "version": 3
   },
   "file_extension": ".py",
   "mimetype": "text/x-python",
   "name": "python",
   "nbconvert_exporter": "python",
   "pygments_lexer": "ipython3",
   "version": "3.6.10"
  }
 },
 "nbformat": 4,
 "nbformat_minor": 4
}
