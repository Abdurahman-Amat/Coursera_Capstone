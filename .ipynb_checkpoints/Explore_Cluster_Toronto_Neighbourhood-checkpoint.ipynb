{
 "cells": [
  {
   "cell_type": "markdown",
   "metadata": {},
   "source": [
    "# Exploration and clustering of Totonto neighbourhoods  \n",
    "\n",
    "<h1>Table of contents</h1>\n",
    "\n",
    "<div class=\"alert alert-block alert-info\" style=\"margin-top: 20px\">\n",
    "    <ol>\n",
    "        <li><a href=\"#ref1\">Data Collection</a></li>\n",
    "        <li><a href=\"#ref2\">Data Exploration</a></li>\n",
    "        <li><a href=\"#ref3\">Clustering</a></li>\n",
    "    </ol>\n",
    "</div>\n",
    "<br>\n",
    "<hr>  \n",
    "\n",
    "<h2>\n",
    "<div class=\"alert alert-danger\"\" style=\"margin-top: 20px\">\n",
    "          If the map could NOT be opened, Please view the notebook via Jupyter nbviewer by <br> <a href=\"https://nbviewer.jupyter.org/github/Abdurahman-Amat/Coursera_Capstone/blob/master/Explore_Cluster_Toronto_Neighbourhood.ipynb\" target=\"_blank\">clicking here </a>, thank you!!!.\n",
    "</div>\n",
    "</h2>\n"
   ]
  },
  {
   "cell_type": "markdown",
   "metadata": {},
   "source": [
    "<hr>"
   ]
  },
  {
   "cell_type": "markdown",
   "metadata": {},
   "source": [
    "<a id=\"ref1\"></a>\n",
    "# Data Collection  \n",
    "\n",
    "### Important necessary libraries to collect necessary dataset by doing web scraping and prepare the expected DataFrame"
   ]
  },
  {
   "cell_type": "code",
   "execution_count": 1,
   "metadata": {},
   "outputs": [
    {
     "name": "stdout",
     "output_type": "stream",
     "text": [
      "\n",
      "Libraries are imported.\n"
     ]
    }
   ],
   "source": [
    "import numpy as np\n",
    "from bs4 import BeautifulSoup\n",
    "import requests\n",
    "import pandas as pd\n",
    "import csv\n",
    "# Matplotlib and associated plotting modules\n",
    "import matplotlib.cm as cm\n",
    "import matplotlib.colors as colors\n",
    "#!pip install pgeocode\n",
    "import pgeocode\n",
    "from sty import fg, bg, ef, rs\n",
    "import folium # map rendering library\n",
    "# import k-means from clustering stage\n",
    "from sklearn.cluster import KMeans\n",
    "\n",
    "print('\\nLibraries are imported.')"
   ]
  },
  {
   "cell_type": "markdown",
   "metadata": {},
   "source": [
    "### Perform a little web scraping to get the data  \n",
    "I will use BeautifulSoup to scrape the given website,\n",
    "and save the scraped row data into a CSV file"
   ]
  },
  {
   "cell_type": "code",
   "execution_count": 2,
   "metadata": {},
   "outputs": [],
   "source": [
    "# To get source code of the website\n",
    "main_url = 'https://en.wikipedia.org/wiki/List_of_postal_codes_of_Canada:_M'\n",
    "r = requests.get(main_url)\n",
    "r.encoding = 'utf-8'\n",
    "soup = BeautifulSoup(r.text)\n",
    "# print(soup.prettify())\n",
    "# Noticed that expected information is located within 'table' tag\n",
    "# Therefore make my soup only with the table\n",
    "soup = soup.find('table')\n",
    "#\n",
    "# Open the CSV file\n",
    "csv_file = open('Toronto_Postcode_Borough_Neighbourhood.csv', 'w')\n",
    "# Create the CSV writer object to write contents into CSV file\n",
    "csv_writer = csv.writer(csv_file)\n",
    "for i, soup in enumerate(soup.find_all('tr')):\n",
    "    # print(soup.prettify())\n",
    "    soup_splitted = list(soup.stripped_strings)\n",
    "     # ignore those cells with 'Not assigned' entries for Borough\n",
    "    if soup_splitted[1]!='Not assigned':\n",
    "        # if 'Neighbourhood' is 'Not assigned', then assign the 'Borough' value to it\n",
    "        if soup_splitted[2]=='Not assigned':\n",
    "            csv_writer.writerow([soup_splitted[0], soup_splitted[1], soup_splitted[1]])\n",
    "        else:\n",
    "            csv_writer.writerow([soup_splitted[0], soup_splitted[1], soup_splitted[2]])\n",
    "    else:\n",
    "        pass\n",
    "# Close the CSV file\n",
    "csv_file.close()"
   ]
  },
  {
   "cell_type": "markdown",
   "metadata": {},
   "source": [
    "### Create the Pandas dataframe from above scraped row data"
   ]
  },
  {
   "cell_type": "code",
   "execution_count": 3,
   "metadata": {},
   "outputs": [
    {
     "data": {
      "text/html": [
       "<div>\n",
       "<style scoped>\n",
       "    .dataframe tbody tr th:only-of-type {\n",
       "        vertical-align: middle;\n",
       "    }\n",
       "\n",
       "    .dataframe tbody tr th {\n",
       "        vertical-align: top;\n",
       "    }\n",
       "\n",
       "    .dataframe thead th {\n",
       "        text-align: right;\n",
       "    }\n",
       "</style>\n",
       "<table border=\"1\" class=\"dataframe\">\n",
       "  <thead>\n",
       "    <tr style=\"text-align: right;\">\n",
       "      <th></th>\n",
       "      <th>Postcode</th>\n",
       "      <th>Borough</th>\n",
       "      <th>Neighbourhood</th>\n",
       "    </tr>\n",
       "  </thead>\n",
       "  <tbody>\n",
       "    <tr>\n",
       "      <th>0</th>\n",
       "      <td>M3A</td>\n",
       "      <td>North York</td>\n",
       "      <td>Parkwoods</td>\n",
       "    </tr>\n",
       "    <tr>\n",
       "      <th>1</th>\n",
       "      <td>M4A</td>\n",
       "      <td>North York</td>\n",
       "      <td>Victoria Village</td>\n",
       "    </tr>\n",
       "    <tr>\n",
       "      <th>2</th>\n",
       "      <td>M5A</td>\n",
       "      <td>Downtown Toronto</td>\n",
       "      <td>Harbourfront</td>\n",
       "    </tr>\n",
       "    <tr>\n",
       "      <th>3</th>\n",
       "      <td>M6A</td>\n",
       "      <td>North York</td>\n",
       "      <td>Lawrence Heights</td>\n",
       "    </tr>\n",
       "    <tr>\n",
       "      <th>4</th>\n",
       "      <td>M6A</td>\n",
       "      <td>North York</td>\n",
       "      <td>Lawrence Manor</td>\n",
       "    </tr>\n",
       "    <tr>\n",
       "      <th>5</th>\n",
       "      <td>M7A</td>\n",
       "      <td>Downtown Toronto</td>\n",
       "      <td>Queen's Park</td>\n",
       "    </tr>\n",
       "    <tr>\n",
       "      <th>6</th>\n",
       "      <td>M9A</td>\n",
       "      <td>Queen's Park</td>\n",
       "      <td>Queen's Park</td>\n",
       "    </tr>\n",
       "    <tr>\n",
       "      <th>7</th>\n",
       "      <td>M1B</td>\n",
       "      <td>Scarborough</td>\n",
       "      <td>Rouge</td>\n",
       "    </tr>\n",
       "    <tr>\n",
       "      <th>8</th>\n",
       "      <td>M1B</td>\n",
       "      <td>Scarborough</td>\n",
       "      <td>Malvern</td>\n",
       "    </tr>\n",
       "    <tr>\n",
       "      <th>9</th>\n",
       "      <td>M3B</td>\n",
       "      <td>North York</td>\n",
       "      <td>Don Mills North</td>\n",
       "    </tr>\n",
       "    <tr>\n",
       "      <th>10</th>\n",
       "      <td>M4B</td>\n",
       "      <td>East York</td>\n",
       "      <td>Woodbine Gardens</td>\n",
       "    </tr>\n",
       "    <tr>\n",
       "      <th>11</th>\n",
       "      <td>M4B</td>\n",
       "      <td>East York</td>\n",
       "      <td>Parkview Hill</td>\n",
       "    </tr>\n",
       "  </tbody>\n",
       "</table>\n",
       "</div>"
      ],
      "text/plain": [
       "   Postcode           Borough     Neighbourhood\n",
       "0       M3A        North York         Parkwoods\n",
       "1       M4A        North York  Victoria Village\n",
       "2       M5A  Downtown Toronto      Harbourfront\n",
       "3       M6A        North York  Lawrence Heights\n",
       "4       M6A        North York    Lawrence Manor\n",
       "5       M7A  Downtown Toronto      Queen's Park\n",
       "6       M9A      Queen's Park      Queen's Park\n",
       "7       M1B       Scarborough             Rouge\n",
       "8       M1B       Scarborough           Malvern\n",
       "9       M3B        North York   Don Mills North\n",
       "10      M4B         East York  Woodbine Gardens\n",
       "11      M4B         East York     Parkview Hill"
      ]
     },
     "execution_count": 3,
     "metadata": {},
     "output_type": "execute_result"
    }
   ],
   "source": [
    "# Define the dataframe from the above collected 'csv' file\n",
    "df = pd.read_csv('Toronto_Postcode_Borough_Neighbourhood.csv')\n",
    "# Look at first few entries\n",
    "df.head(12)"
   ]
  },
  {
   "cell_type": "markdown",
   "metadata": {},
   "source": [
    "Check how many entries we have"
   ]
  },
  {
   "cell_type": "code",
   "execution_count": 4,
   "metadata": {},
   "outputs": [
    {
     "data": {
      "text/plain": [
       "(210, 3)"
      ]
     },
     "execution_count": 4,
     "metadata": {},
     "output_type": "execute_result"
    }
   ],
   "source": [
    "df.shape"
   ]
  },
  {
   "cell_type": "code",
   "execution_count": 5,
   "metadata": {},
   "outputs": [
    {
     "data": {
      "text/html": [
       "<div>\n",
       "<style scoped>\n",
       "    .dataframe tbody tr th:only-of-type {\n",
       "        vertical-align: middle;\n",
       "    }\n",
       "\n",
       "    .dataframe tbody tr th {\n",
       "        vertical-align: top;\n",
       "    }\n",
       "\n",
       "    .dataframe thead th {\n",
       "        text-align: right;\n",
       "    }\n",
       "</style>\n",
       "<table border=\"1\" class=\"dataframe\">\n",
       "  <thead>\n",
       "    <tr style=\"text-align: right;\">\n",
       "      <th></th>\n",
       "      <th>Postcode</th>\n",
       "      <th>Borough</th>\n",
       "      <th>Neighbourhood</th>\n",
       "    </tr>\n",
       "  </thead>\n",
       "  <tbody>\n",
       "    <tr>\n",
       "      <th>2</th>\n",
       "      <td>M5A</td>\n",
       "      <td>Downtown Toronto</td>\n",
       "      <td>Harbourfront</td>\n",
       "    </tr>\n",
       "  </tbody>\n",
       "</table>\n",
       "</div>"
      ],
      "text/plain": [
       "  Postcode           Borough Neighbourhood\n",
       "2      M5A  Downtown Toronto  Harbourfront"
      ]
     },
     "execution_count": 5,
     "metadata": {},
     "output_type": "execute_result"
    }
   ],
   "source": [
    "df[df['Postcode']=='M5A']"
   ]
  },
  {
   "cell_type": "code",
   "execution_count": 6,
   "metadata": {},
   "outputs": [],
   "source": [
    "'''\n",
    "This function will emerge all Neighbourhoods for same Postcodes\n",
    "leav unchanged if there is no repeated Postcodes for Neighbourhoods\n",
    "'''\n",
    "def merge_Neighbourhoods(df):\n",
    "    # find repeated Postcode and number of occurances\n",
    "    unique, counts = np.unique(df.iloc[:, 0].values, return_counts=True)\n",
    "    print(f'There are {len(unique)} of unique Postcodes while {df.shape[0]} of Neighbourhoods.\\n So there are many Neighbourhoods are having the same Postcodes.')\n",
    "    # find the index of Postcodes which are occured more than once\n",
    "    repeat_index = np.argwhere(counts>1)\n",
    "    # Postcodes occured more than once\n",
    "    pc_list = unique[repeat_index][:,0]\n",
    "    Ent_list = []\n",
    "    # loop through all unique postal codes to check\n",
    "    # if there is any multiple neighbourhoods for the same postal code\n",
    "    # if so, then join them\n",
    "    for pc in unique: \n",
    "        df_pc = df[df['Postcode']==pc]\n",
    "        # If more than one neighbourhoods for same postal code\n",
    "        if pc in pc_list:\n",
    "            # Then join all neighbourhood names\n",
    "            df_pc_join = ', '.join(df_pc.iloc[:, 2].to_list())\n",
    "            entry = [df_pc.iloc[0, :3][0], df_pc.iloc[0, :3][1], df_pc_join]\n",
    "            Ent_list.append(entry)\n",
    "        # If single neighbourhood for the given postal code\n",
    "        else:\n",
    "            # Then everything is untouched\n",
    "            entry = [df_pc.iloc[0, :3][0], df_pc.iloc[0, :3][1], df_pc.iloc[0, :3][2]]\n",
    "            Ent_list.append(entry)\n",
    "    return Ent_list"
   ]
  },
  {
   "cell_type": "markdown",
   "metadata": {},
   "source": [
    "Apply above prepared function"
   ]
  },
  {
   "cell_type": "code",
   "execution_count": 7,
   "metadata": {},
   "outputs": [
    {
     "name": "stdout",
     "output_type": "stream",
     "text": [
      "There are 103 of unique Postcodes while 210 of Neighbourhoods.\n",
      " So there are many Neighbourhoods are having the same Postcodes.\n"
     ]
    }
   ],
   "source": [
    "new_data_list = merge_Neighbourhoods(df)"
   ]
  },
  {
   "cell_type": "markdown",
   "metadata": {},
   "source": [
    "Check if the function worked as expected"
   ]
  },
  {
   "cell_type": "code",
   "execution_count": 8,
   "metadata": {},
   "outputs": [
    {
     "data": {
      "text/plain": [
       "(103, 3)"
      ]
     },
     "execution_count": 8,
     "metadata": {},
     "output_type": "execute_result"
    }
   ],
   "source": [
    "np.shape(new_data_list)"
   ]
  },
  {
   "cell_type": "markdown",
   "metadata": {},
   "source": [
    "So, it seems the function has done his job  \n",
    "\n",
    "###  Now prepare wanted DataFrame"
   ]
  },
  {
   "cell_type": "code",
   "execution_count": 9,
   "metadata": {},
   "outputs": [],
   "source": [
    "new_df = pd.DataFrame(new_data_list, columns =['Postcode', 'Borough', 'Neighbourhood']) "
   ]
  },
  {
   "cell_type": "markdown",
   "metadata": {},
   "source": [
    "Check the data frame"
   ]
  },
  {
   "cell_type": "code",
   "execution_count": 10,
   "metadata": {},
   "outputs": [
    {
     "data": {
      "text/html": [
       "<div>\n",
       "<style scoped>\n",
       "    .dataframe tbody tr th:only-of-type {\n",
       "        vertical-align: middle;\n",
       "    }\n",
       "\n",
       "    .dataframe tbody tr th {\n",
       "        vertical-align: top;\n",
       "    }\n",
       "\n",
       "    .dataframe thead th {\n",
       "        text-align: right;\n",
       "    }\n",
       "</style>\n",
       "<table border=\"1\" class=\"dataframe\">\n",
       "  <thead>\n",
       "    <tr style=\"text-align: right;\">\n",
       "      <th></th>\n",
       "      <th>Postcode</th>\n",
       "      <th>Borough</th>\n",
       "      <th>Neighbourhood</th>\n",
       "    </tr>\n",
       "  </thead>\n",
       "  <tbody>\n",
       "    <tr>\n",
       "      <th>0</th>\n",
       "      <td>M1B</td>\n",
       "      <td>Scarborough</td>\n",
       "      <td>Rouge, Malvern</td>\n",
       "    </tr>\n",
       "    <tr>\n",
       "      <th>1</th>\n",
       "      <td>M1C</td>\n",
       "      <td>Scarborough</td>\n",
       "      <td>Highland Creek, Rouge Hill, Port Union</td>\n",
       "    </tr>\n",
       "    <tr>\n",
       "      <th>2</th>\n",
       "      <td>M1E</td>\n",
       "      <td>Scarborough</td>\n",
       "      <td>Guildwood, Morningside, West Hill</td>\n",
       "    </tr>\n",
       "    <tr>\n",
       "      <th>3</th>\n",
       "      <td>M1G</td>\n",
       "      <td>Scarborough</td>\n",
       "      <td>Woburn</td>\n",
       "    </tr>\n",
       "    <tr>\n",
       "      <th>4</th>\n",
       "      <td>M1H</td>\n",
       "      <td>Scarborough</td>\n",
       "      <td>Cedarbrae</td>\n",
       "    </tr>\n",
       "  </tbody>\n",
       "</table>\n",
       "</div>"
      ],
      "text/plain": [
       "  Postcode      Borough                           Neighbourhood\n",
       "0      M1B  Scarborough                          Rouge, Malvern\n",
       "1      M1C  Scarborough  Highland Creek, Rouge Hill, Port Union\n",
       "2      M1E  Scarborough       Guildwood, Morningside, West Hill\n",
       "3      M1G  Scarborough                                  Woburn\n",
       "4      M1H  Scarborough                               Cedarbrae"
      ]
     },
     "execution_count": 10,
     "metadata": {},
     "output_type": "execute_result"
    }
   ],
   "source": [
    "new_df.head()"
   ]
  },
  {
   "cell_type": "code",
   "execution_count": 11,
   "metadata": {},
   "outputs": [
    {
     "data": {
      "text/html": [
       "<div>\n",
       "<style scoped>\n",
       "    .dataframe tbody tr th:only-of-type {\n",
       "        vertical-align: middle;\n",
       "    }\n",
       "\n",
       "    .dataframe tbody tr th {\n",
       "        vertical-align: top;\n",
       "    }\n",
       "\n",
       "    .dataframe thead th {\n",
       "        text-align: right;\n",
       "    }\n",
       "</style>\n",
       "<table border=\"1\" class=\"dataframe\">\n",
       "  <thead>\n",
       "    <tr style=\"text-align: right;\">\n",
       "      <th></th>\n",
       "      <th>Postcode</th>\n",
       "      <th>Borough</th>\n",
       "      <th>Neighbourhood</th>\n",
       "    </tr>\n",
       "  </thead>\n",
       "  <tbody>\n",
       "    <tr>\n",
       "      <th>53</th>\n",
       "      <td>M5A</td>\n",
       "      <td>Downtown Toronto</td>\n",
       "      <td>Harbourfront</td>\n",
       "    </tr>\n",
       "  </tbody>\n",
       "</table>\n",
       "</div>"
      ],
      "text/plain": [
       "   Postcode           Borough Neighbourhood\n",
       "53      M5A  Downtown Toronto  Harbourfront"
      ]
     },
     "execution_count": 11,
     "metadata": {},
     "output_type": "execute_result"
    }
   ],
   "source": [
    "new_df[new_df['Postcode']=='M5A']"
   ]
  },
  {
   "cell_type": "markdown",
   "metadata": {},
   "source": [
    "### Shape of the dataset"
   ]
  },
  {
   "cell_type": "code",
   "execution_count": 12,
   "metadata": {},
   "outputs": [
    {
     "data": {
      "text/plain": [
       "(103, 3)"
      ]
     },
     "execution_count": 12,
     "metadata": {},
     "output_type": "execute_result"
    }
   ],
   "source": [
    "new_df.shape"
   ]
  },
  {
   "cell_type": "markdown",
   "metadata": {},
   "source": [
    "<hr>"
   ]
  },
  {
   "cell_type": "markdown",
   "metadata": {},
   "source": [
    "### Prepare the location dataset "
   ]
  },
  {
   "cell_type": "code",
   "execution_count": 13,
   "metadata": {},
   "outputs": [],
   "source": [
    "# #!pip install geocoder\n",
    "# import geocoder # import geocoder\n",
    "\n",
    "# # initialize your variable to None\n",
    "# lat_lng_coords = None\n",
    "\n",
    "# # loop until you get the coordinates\n",
    "# while(lat_lng_coords is None):\n",
    "#   g = geocoder.google('{}, Toronto, Ontario'.format('M1E'))\n",
    "#   lat_lng_coords = g.latlng\n",
    "\n",
    "# latitude = lat_lng_coords[0]\n",
    "# longitude = lat_lng_coords[1]\n",
    "# print(latitude, longitude)"
   ]
  },
  {
   "cell_type": "markdown",
   "metadata": {},
   "source": [
    "Above method to collect location data of Toronto Neighbourhoods didn't work even for waiting long time (few minutes).  "
   ]
  },
  {
   "cell_type": "markdown",
   "metadata": {},
   "source": [
    "### Then tried other method via the library **pgeocode**"
   ]
  },
  {
   "cell_type": "code",
   "execution_count": 14,
   "metadata": {},
   "outputs": [
    {
     "name": "stdout",
     "output_type": "stream",
     "text": [
      "Postcode is \u001b[31mM1B\u001b[39m, latitude is \u001b[31m43.81130\u001b[39m, longitude is \u001b[31m-79.19300\u001b[39m\n",
      "Postcode is \u001b[31mM1C\u001b[39m, latitude is \u001b[31m43.78780\u001b[39m, longitude is \u001b[31m-79.15640\u001b[39m\n",
      "Postcode is \u001b[31mM1E\u001b[39m, latitude is \u001b[31m43.76780\u001b[39m, longitude is \u001b[31m-79.18660\u001b[39m\n",
      "Postcode is \u001b[31mM1G\u001b[39m, latitude is \u001b[31m43.77120\u001b[39m, longitude is \u001b[31m-79.21440\u001b[39m\n",
      "Postcode is \u001b[31mM1H\u001b[39m, latitude is \u001b[31m43.76860\u001b[39m, longitude is \u001b[31m-79.23890\u001b[39m\n",
      "Postcode is \u001b[31mM1J\u001b[39m, latitude is \u001b[31m43.74640\u001b[39m, longitude is \u001b[31m-79.23230\u001b[39m\n",
      "Postcode is \u001b[31mM1K\u001b[39m, latitude is \u001b[31m43.72980\u001b[39m, longitude is \u001b[31m-79.26390\u001b[39m\n",
      "Postcode is \u001b[31mM1L\u001b[39m, latitude is \u001b[31m43.71220\u001b[39m, longitude is \u001b[31m-79.28430\u001b[39m\n",
      "Postcode is \u001b[31mM1M\u001b[39m, latitude is \u001b[31m43.72470\u001b[39m, longitude is \u001b[31m-79.23120\u001b[39m\n",
      "Postcode is \u001b[31mM1N\u001b[39m, latitude is \u001b[31m43.69520\u001b[39m, longitude is \u001b[31m-79.26460\u001b[39m\n",
      "Postcode is \u001b[31mM1P\u001b[39m, latitude is \u001b[31m43.76120\u001b[39m, longitude is \u001b[31m-79.27070\u001b[39m\n",
      "Postcode is \u001b[31mM1R\u001b[39m, latitude is \u001b[31m43.75070\u001b[39m, longitude is \u001b[31m-79.30030\u001b[39m\n",
      "Postcode is \u001b[31mM1S\u001b[39m, latitude is \u001b[31m43.79460\u001b[39m, longitude is \u001b[31m-79.26440\u001b[39m\n",
      "Postcode is \u001b[31mM1T\u001b[39m, latitude is \u001b[31m43.78120\u001b[39m, longitude is \u001b[31m-79.30360\u001b[39m\n",
      "Postcode is \u001b[31mM1V\u001b[39m, latitude is \u001b[31m43.81770\u001b[39m, longitude is \u001b[31m-79.28190\u001b[39m\n",
      "Postcode is \u001b[31mM1W\u001b[39m, latitude is \u001b[31m43.80160\u001b[39m, longitude is \u001b[31m-79.32160\u001b[39m\n",
      "Postcode is \u001b[31mM1X\u001b[39m, latitude is \u001b[31m43.83400\u001b[39m, longitude is \u001b[31m-79.20690\u001b[39m\n",
      "Postcode is \u001b[31mM2H\u001b[39m, latitude is \u001b[31m43.80150\u001b[39m, longitude is \u001b[31m-79.35770\u001b[39m\n",
      "Postcode is \u001b[31mM2J\u001b[39m, latitude is \u001b[31m43.78010\u001b[39m, longitude is \u001b[31m-79.34790\u001b[39m\n",
      "Postcode is \u001b[31mM2K\u001b[39m, latitude is \u001b[31m43.77970\u001b[39m, longitude is \u001b[31m-79.38130\u001b[39m\n",
      "Postcode is \u001b[31mM2L\u001b[39m, latitude is \u001b[31m43.75470\u001b[39m, longitude is \u001b[31m-79.37640\u001b[39m\n",
      "Postcode is \u001b[31mM2M\u001b[39m, latitude is \u001b[31m43.79150\u001b[39m, longitude is \u001b[31m-79.41030\u001b[39m\n",
      "Postcode is \u001b[31mM2N\u001b[39m, latitude is \u001b[31m43.76730\u001b[39m, longitude is \u001b[31m-79.41110\u001b[39m\n",
      "Postcode is \u001b[31mM2P\u001b[39m, latitude is \u001b[31m43.75000\u001b[39m, longitude is \u001b[31m-79.39780\u001b[39m\n",
      "Postcode is \u001b[31mM2R\u001b[39m, latitude is \u001b[31m43.77860\u001b[39m, longitude is \u001b[31m-79.44500\u001b[39m\n",
      "Postcode is \u001b[31mM3A\u001b[39m, latitude is \u001b[31m43.75450\u001b[39m, longitude is \u001b[31m-79.33000\u001b[39m\n",
      "Postcode is \u001b[31mM3B\u001b[39m, latitude is \u001b[31m43.74500\u001b[39m, longitude is \u001b[31m-79.35900\u001b[39m\n",
      "Postcode is \u001b[31mM3C\u001b[39m, latitude is \u001b[31m43.73340\u001b[39m, longitude is \u001b[31m-79.33290\u001b[39m\n",
      "Postcode is \u001b[31mM3H\u001b[39m, latitude is \u001b[31m43.75350\u001b[39m, longitude is \u001b[31m-79.44720\u001b[39m\n",
      "Postcode is \u001b[31mM3J\u001b[39m, latitude is \u001b[31m43.76940\u001b[39m, longitude is \u001b[31m-79.49210\u001b[39m\n",
      "Postcode is \u001b[31mM3K\u001b[39m, latitude is \u001b[31m43.73900\u001b[39m, longitude is \u001b[31m-79.46920\u001b[39m\n",
      "Postcode is \u001b[31mM3L\u001b[39m, latitude is \u001b[31m43.73340\u001b[39m, longitude is \u001b[31m-79.51160\u001b[39m\n",
      "Postcode is \u001b[31mM3M\u001b[39m, latitude is \u001b[31m43.73190\u001b[39m, longitude is \u001b[31m-79.49280\u001b[39m\n",
      "Postcode is \u001b[31mM3N\u001b[39m, latitude is \u001b[31m43.75680\u001b[39m, longitude is \u001b[31m-79.52100\u001b[39m\n",
      "Postcode is \u001b[31mM4A\u001b[39m, latitude is \u001b[31m43.72760\u001b[39m, longitude is \u001b[31m-79.31480\u001b[39m\n",
      "Postcode is \u001b[31mM4B\u001b[39m, latitude is \u001b[31m43.70630\u001b[39m, longitude is \u001b[31m-79.30940\u001b[39m\n",
      "Postcode is \u001b[31mM4C\u001b[39m, latitude is \u001b[31m43.69130\u001b[39m, longitude is \u001b[31m-79.31160\u001b[39m\n",
      "Postcode is \u001b[31mM4E\u001b[39m, latitude is \u001b[31m43.67840\u001b[39m, longitude is \u001b[31m-79.29410\u001b[39m\n",
      "Postcode is \u001b[31mM4G\u001b[39m, latitude is \u001b[31m43.71240\u001b[39m, longitude is \u001b[31m-79.36440\u001b[39m\n",
      "Postcode is \u001b[31mM4H\u001b[39m, latitude is \u001b[31m43.70590\u001b[39m, longitude is \u001b[31m-79.34640\u001b[39m\n",
      "Postcode is \u001b[31mM4J\u001b[39m, latitude is \u001b[31m43.68720\u001b[39m, longitude is \u001b[31m-79.33680\u001b[39m\n",
      "Postcode is \u001b[31mM4K\u001b[39m, latitude is \u001b[31m43.68030\u001b[39m, longitude is \u001b[31m-79.35380\u001b[39m\n",
      "Postcode is \u001b[31mM4L\u001b[39m, latitude is \u001b[31m43.66930\u001b[39m, longitude is \u001b[31m-79.31550\u001b[39m\n",
      "Postcode is \u001b[31mM4M\u001b[39m, latitude is \u001b[31m43.65610\u001b[39m, longitude is \u001b[31m-79.34060\u001b[39m\n",
      "Postcode is \u001b[31mM4N\u001b[39m, latitude is \u001b[31m43.73010\u001b[39m, longitude is \u001b[31m-79.39350\u001b[39m\n",
      "Postcode is \u001b[31mM4P\u001b[39m, latitude is \u001b[31m43.71350\u001b[39m, longitude is \u001b[31m-79.38870\u001b[39m\n",
      "Postcode is \u001b[31mM4R\u001b[39m, latitude is \u001b[31m43.71430\u001b[39m, longitude is \u001b[31m-79.40650\u001b[39m\n",
      "Postcode is \u001b[31mM4S\u001b[39m, latitude is \u001b[31m43.70200\u001b[39m, longitude is \u001b[31m-79.38530\u001b[39m\n",
      "Postcode is \u001b[31mM4T\u001b[39m, latitude is \u001b[31m43.68990\u001b[39m, longitude is \u001b[31m-79.38530\u001b[39m\n",
      "Postcode is \u001b[31mM4V\u001b[39m, latitude is \u001b[31m43.68610\u001b[39m, longitude is \u001b[31m-79.40250\u001b[39m\n",
      "Postcode is \u001b[31mM4W\u001b[39m, latitude is \u001b[31m43.68270\u001b[39m, longitude is \u001b[31m-79.37300\u001b[39m\n",
      "Postcode is \u001b[31mM4X\u001b[39m, latitude is \u001b[31m43.66840\u001b[39m, longitude is \u001b[31m-79.36890\u001b[39m\n",
      "Postcode is \u001b[31mM4Y\u001b[39m, latitude is \u001b[31m43.66560\u001b[39m, longitude is \u001b[31m-79.38300\u001b[39m\n",
      "Postcode is \u001b[31mM5A\u001b[39m, latitude is \u001b[31m43.65550\u001b[39m, longitude is \u001b[31m-79.36260\u001b[39m\n",
      "Postcode is \u001b[31mM5B\u001b[39m, latitude is \u001b[31m43.65720\u001b[39m, longitude is \u001b[31m-79.37830\u001b[39m\n",
      "Postcode is \u001b[31mM5C\u001b[39m, latitude is \u001b[31m43.65130\u001b[39m, longitude is \u001b[31m-79.37560\u001b[39m\n",
      "Postcode is \u001b[31mM5E\u001b[39m, latitude is \u001b[31m43.64560\u001b[39m, longitude is \u001b[31m-79.37540\u001b[39m\n",
      "Postcode is \u001b[31mM5G\u001b[39m, latitude is \u001b[31m43.65640\u001b[39m, longitude is \u001b[31m-79.38600\u001b[39m\n",
      "Postcode is \u001b[31mM5H\u001b[39m, latitude is \u001b[31m43.64960\u001b[39m, longitude is \u001b[31m-79.38330\u001b[39m\n",
      "Postcode is \u001b[31mM5J\u001b[39m, latitude is \u001b[31m43.62300\u001b[39m, longitude is \u001b[31m-79.39360\u001b[39m\n",
      "Postcode is \u001b[31mM5K\u001b[39m, latitude is \u001b[31m43.64690\u001b[39m, longitude is \u001b[31m-79.38230\u001b[39m\n",
      "Postcode is \u001b[31mM5L\u001b[39m, latitude is \u001b[31m43.64920\u001b[39m, longitude is \u001b[31m-79.38230\u001b[39m\n",
      "Postcode is \u001b[31mM5M\u001b[39m, latitude is \u001b[31m43.73350\u001b[39m, longitude is \u001b[31m-79.41770\u001b[39m\n",
      "Postcode is \u001b[31mM5N\u001b[39m, latitude is \u001b[31m43.71130\u001b[39m, longitude is \u001b[31m-79.41950\u001b[39m\n",
      "Postcode is \u001b[31mM5P\u001b[39m, latitude is \u001b[31m43.69660\u001b[39m, longitude is \u001b[31m-79.41200\u001b[39m\n",
      "Postcode is \u001b[31mM5R\u001b[39m, latitude is \u001b[31m43.67360\u001b[39m, longitude is \u001b[31m-79.40350\u001b[39m\n",
      "Postcode is \u001b[31mM5S\u001b[39m, latitude is \u001b[31m43.66290\u001b[39m, longitude is \u001b[31m-79.39870\u001b[39m\n",
      "Postcode is \u001b[31mM5T\u001b[39m, latitude is \u001b[31m43.65410\u001b[39m, longitude is \u001b[31m-79.39780\u001b[39m\n",
      "Postcode is \u001b[31mM5V\u001b[39m, latitude is \u001b[31m43.64040\u001b[39m, longitude is \u001b[31m-79.39950\u001b[39m\n",
      "Postcode is \u001b[31mM5W\u001b[39m, latitude is \u001b[31m43.64370\u001b[39m, longitude is \u001b[31m-79.37870\u001b[39m\n",
      "Postcode is \u001b[31mM5X\u001b[39m, latitude is \u001b[31m43.64920\u001b[39m, longitude is \u001b[31m-79.38230\u001b[39m\n",
      "Postcode is \u001b[31mM6A\u001b[39m, latitude is \u001b[31m43.72230\u001b[39m, longitude is \u001b[31m-79.45040\u001b[39m\n",
      "Postcode is \u001b[31mM6B\u001b[39m, latitude is \u001b[31m43.70810\u001b[39m, longitude is \u001b[31m-79.44790\u001b[39m\n",
      "Postcode is \u001b[31mM6C\u001b[39m, latitude is \u001b[31m43.69150\u001b[39m, longitude is \u001b[31m-79.43070\u001b[39m\n",
      "Postcode is \u001b[31mM6E\u001b[39m, latitude is \u001b[31m43.68890\u001b[39m, longitude is \u001b[31m-79.45070\u001b[39m\n",
      "Postcode is \u001b[31mM6G\u001b[39m, latitude is \u001b[31m43.66830\u001b[39m, longitude is \u001b[31m-79.42050\u001b[39m\n",
      "Postcode is \u001b[31mM6H\u001b[39m, latitude is \u001b[31m43.66550\u001b[39m, longitude is \u001b[31m-79.43780\u001b[39m\n",
      "Postcode is \u001b[31mM6J\u001b[39m, latitude is \u001b[31m43.64800\u001b[39m, longitude is \u001b[31m-79.41770\u001b[39m\n",
      "Postcode is \u001b[31mM6K\u001b[39m, latitude is \u001b[31m43.63830\u001b[39m, longitude is \u001b[31m-79.43010\u001b[39m\n",
      "Postcode is \u001b[31mM6L\u001b[39m, latitude is \u001b[31m43.71370\u001b[39m, longitude is \u001b[31m-79.48690\u001b[39m\n",
      "Postcode is \u001b[31mM6M\u001b[39m, latitude is \u001b[31m43.69340\u001b[39m, longitude is \u001b[31m-79.48570\u001b[39m\n",
      "Postcode is \u001b[31mM6N\u001b[39m, latitude is \u001b[31m43.67480\u001b[39m, longitude is \u001b[31m-79.48390\u001b[39m\n",
      "Postcode is \u001b[31mM6P\u001b[39m, latitude is \u001b[31m43.66050\u001b[39m, longitude is \u001b[31m-79.46330\u001b[39m\n",
      "Postcode is \u001b[31mM6R\u001b[39m, latitude is \u001b[31m43.64690\u001b[39m, longitude is \u001b[31m-79.45210\u001b[39m\n",
      "Postcode is \u001b[31mM6S\u001b[39m, latitude is \u001b[31m43.65120\u001b[39m, longitude is \u001b[31m-79.48280\u001b[39m\n",
      "Postcode is \u001b[31mM7A\u001b[39m, latitude is \u001b[31m43.66410\u001b[39m, longitude is \u001b[31m-79.38890\u001b[39m\n",
      "Postcode is \u001b[31mM7R\u001b[39m, latitude is \u001b[31mnan\u001b[39m, longitude is \u001b[31mnan\u001b[39m\n",
      "Postcode is \u001b[31mM7Y\u001b[39m, latitude is \u001b[31m43.78040\u001b[39m, longitude is \u001b[31m-79.25050\u001b[39m\n",
      "Postcode is \u001b[31mM8V\u001b[39m, latitude is \u001b[31m43.60750\u001b[39m, longitude is \u001b[31m-79.50130\u001b[39m\n",
      "Postcode is \u001b[31mM8W\u001b[39m, latitude is \u001b[31m43.60210\u001b[39m, longitude is \u001b[31m-79.54020\u001b[39m\n",
      "Postcode is \u001b[31mM8X\u001b[39m, latitude is \u001b[31m43.65180\u001b[39m, longitude is \u001b[31m-79.50760\u001b[39m\n",
      "Postcode is \u001b[31mM8Y\u001b[39m, latitude is \u001b[31m43.63250\u001b[39m, longitude is \u001b[31m-79.49390\u001b[39m\n",
      "Postcode is \u001b[31mM8Z\u001b[39m, latitude is \u001b[31m43.62560\u001b[39m, longitude is \u001b[31m-79.52310\u001b[39m\n",
      "Postcode is \u001b[31mM9A\u001b[39m, latitude is \u001b[31m43.66620\u001b[39m, longitude is \u001b[31m-79.52820\u001b[39m\n",
      "Postcode is \u001b[31mM9B\u001b[39m, latitude is \u001b[31m43.65050\u001b[39m, longitude is \u001b[31m-79.55170\u001b[39m\n",
      "Postcode is \u001b[31mM9C\u001b[39m, latitude is \u001b[31m43.64370\u001b[39m, longitude is \u001b[31m-79.57670\u001b[39m\n",
      "Postcode is \u001b[31mM9L\u001b[39m, latitude is \u001b[31m43.75980\u001b[39m, longitude is \u001b[31m-79.55650\u001b[39m\n",
      "Postcode is \u001b[31mM9M\u001b[39m, latitude is \u001b[31m43.73660\u001b[39m, longitude is \u001b[31m-79.54010\u001b[39m\n",
      "Postcode is \u001b[31mM9N\u001b[39m, latitude is \u001b[31m43.70680\u001b[39m, longitude is \u001b[31m-79.51700\u001b[39m\n",
      "Postcode is \u001b[31mM9P\u001b[39m, latitude is \u001b[31m43.69490\u001b[39m, longitude is \u001b[31m-79.53230\u001b[39m\n",
      "Postcode is \u001b[31mM9R\u001b[39m, latitude is \u001b[31m43.68980\u001b[39m, longitude is \u001b[31m-79.55820\u001b[39m\n",
      "Postcode is \u001b[31mM9V\u001b[39m, latitude is \u001b[31m43.74320\u001b[39m, longitude is \u001b[31m-79.58760\u001b[39m\n",
      "Postcode is \u001b[31mM9W\u001b[39m, latitude is \u001b[31m43.71440\u001b[39m, longitude is \u001b[31m-79.59090\u001b[39m\n"
     ]
    }
   ],
   "source": [
    "nomi = pgeocode.Nominatim('ca') # 'ca' for Canada\n",
    "for p_code in new_df['Postcode']: # for all Neighbourhoods by their postal codes\n",
    "    locinfo = nomi.query_postal_code(p_code)\n",
    "    #!pip install sty # umcomment when sty is not already installed\n",
    "    print(f'Postcode is '+fg.red + f'{p_code}' + fg.rs+', latitude is '+fg.red + f'{locinfo[9]:.5f}' + fg.rs+', longitude is '+fg.red + f'{locinfo[10]:.5f}' + fg.rs)"
   ]
  },
  {
   "cell_type": "markdown",
   "metadata": {},
   "source": [
    "It is very fast and correct as given in the additional location data 'Geospatial_Coordinates.csv',  \n",
    "However, it could not found latitude and longitude for the neighbourhood with postcode 'M7R'. In addition to this,  \n",
    "the location data has different precisions, e.g , both latitude and longitude in provided location data table have upto six digit of precision while the queried data via **pgeocode** have only upto 4 digits and most of the location data were different after the first or second digits.  *Therefore I wanna use the provided location table.*"
   ]
  },
  {
   "cell_type": "markdown",
   "metadata": {},
   "source": [
    "### Load the provided location data and read it into Pandas DataFrame"
   ]
  },
  {
   "cell_type": "code",
   "execution_count": 15,
   "metadata": {},
   "outputs": [
    {
     "data": {
      "text/html": [
       "<div>\n",
       "<style scoped>\n",
       "    .dataframe tbody tr th:only-of-type {\n",
       "        vertical-align: middle;\n",
       "    }\n",
       "\n",
       "    .dataframe tbody tr th {\n",
       "        vertical-align: top;\n",
       "    }\n",
       "\n",
       "    .dataframe thead th {\n",
       "        text-align: right;\n",
       "    }\n",
       "</style>\n",
       "<table border=\"1\" class=\"dataframe\">\n",
       "  <thead>\n",
       "    <tr style=\"text-align: right;\">\n",
       "      <th></th>\n",
       "      <th>Postal Code</th>\n",
       "      <th>Latitude</th>\n",
       "      <th>Longitude</th>\n",
       "    </tr>\n",
       "  </thead>\n",
       "  <tbody>\n",
       "    <tr>\n",
       "      <th>0</th>\n",
       "      <td>M1B</td>\n",
       "      <td>43.806686</td>\n",
       "      <td>-79.194353</td>\n",
       "    </tr>\n",
       "    <tr>\n",
       "      <th>1</th>\n",
       "      <td>M1C</td>\n",
       "      <td>43.784535</td>\n",
       "      <td>-79.160497</td>\n",
       "    </tr>\n",
       "    <tr>\n",
       "      <th>2</th>\n",
       "      <td>M1E</td>\n",
       "      <td>43.763573</td>\n",
       "      <td>-79.188711</td>\n",
       "    </tr>\n",
       "    <tr>\n",
       "      <th>3</th>\n",
       "      <td>M1G</td>\n",
       "      <td>43.770992</td>\n",
       "      <td>-79.216917</td>\n",
       "    </tr>\n",
       "    <tr>\n",
       "      <th>4</th>\n",
       "      <td>M1H</td>\n",
       "      <td>43.773136</td>\n",
       "      <td>-79.239476</td>\n",
       "    </tr>\n",
       "  </tbody>\n",
       "</table>\n",
       "</div>"
      ],
      "text/plain": [
       "  Postal Code   Latitude  Longitude\n",
       "0         M1B  43.806686 -79.194353\n",
       "1         M1C  43.784535 -79.160497\n",
       "2         M1E  43.763573 -79.188711\n",
       "3         M1G  43.770992 -79.216917\n",
       "4         M1H  43.773136 -79.239476"
      ]
     },
     "execution_count": 15,
     "metadata": {},
     "output_type": "execute_result"
    }
   ],
   "source": [
    "loc_df = pd.read_csv(r'C:\\pythonwork\\data\\Geospatial_Coordinates.csv')\n",
    "loc_df.head()"
   ]
  },
  {
   "cell_type": "code",
   "execution_count": 16,
   "metadata": {},
   "outputs": [
    {
     "data": {
      "text/plain": [
       "(103, 3)"
      ]
     },
     "execution_count": 16,
     "metadata": {},
     "output_type": "execute_result"
    }
   ],
   "source": [
    "# check if we have the full location info\n",
    "loc_df.shape "
   ]
  },
  {
   "cell_type": "code",
   "execution_count": 17,
   "metadata": {},
   "outputs": [
    {
     "data": {
      "text/plain": [
       "Postal Code    0\n",
       "Latitude       0\n",
       "Longitude      0\n",
       "dtype: int64"
      ]
     },
     "execution_count": 17,
     "metadata": {},
     "output_type": "execute_result"
    }
   ],
   "source": [
    "# just to quick ckeck to make sure there is no missing values which may couse errors\n",
    "# in upcomming procedures of this project\n",
    "loc_df.isna().sum()"
   ]
  },
  {
   "cell_type": "markdown",
   "metadata": {},
   "source": [
    "There is no missing values, that is good."
   ]
  },
  {
   "cell_type": "code",
   "execution_count": 18,
   "metadata": {},
   "outputs": [],
   "source": [
    "# Rename the column to make it easier to merge this location data with above neighbourhood data\n",
    "loc_df.rename(columns={\"Postal Code\":\"Postcode\"}, inplace=True)"
   ]
  },
  {
   "cell_type": "code",
   "execution_count": 19,
   "metadata": {},
   "outputs": [
    {
     "data": {
      "text/html": [
       "<div>\n",
       "<style scoped>\n",
       "    .dataframe tbody tr th:only-of-type {\n",
       "        vertical-align: middle;\n",
       "    }\n",
       "\n",
       "    .dataframe tbody tr th {\n",
       "        vertical-align: top;\n",
       "    }\n",
       "\n",
       "    .dataframe thead th {\n",
       "        text-align: right;\n",
       "    }\n",
       "</style>\n",
       "<table border=\"1\" class=\"dataframe\">\n",
       "  <thead>\n",
       "    <tr style=\"text-align: right;\">\n",
       "      <th></th>\n",
       "      <th>Postcode</th>\n",
       "      <th>Latitude</th>\n",
       "      <th>Longitude</th>\n",
       "    </tr>\n",
       "  </thead>\n",
       "  <tbody>\n",
       "    <tr>\n",
       "      <th>0</th>\n",
       "      <td>M1B</td>\n",
       "      <td>43.806686</td>\n",
       "      <td>-79.194353</td>\n",
       "    </tr>\n",
       "    <tr>\n",
       "      <th>1</th>\n",
       "      <td>M1C</td>\n",
       "      <td>43.784535</td>\n",
       "      <td>-79.160497</td>\n",
       "    </tr>\n",
       "    <tr>\n",
       "      <th>2</th>\n",
       "      <td>M1E</td>\n",
       "      <td>43.763573</td>\n",
       "      <td>-79.188711</td>\n",
       "    </tr>\n",
       "    <tr>\n",
       "      <th>3</th>\n",
       "      <td>M1G</td>\n",
       "      <td>43.770992</td>\n",
       "      <td>-79.216917</td>\n",
       "    </tr>\n",
       "    <tr>\n",
       "      <th>4</th>\n",
       "      <td>M1H</td>\n",
       "      <td>43.773136</td>\n",
       "      <td>-79.239476</td>\n",
       "    </tr>\n",
       "  </tbody>\n",
       "</table>\n",
       "</div>"
      ],
      "text/plain": [
       "  Postcode   Latitude  Longitude\n",
       "0      M1B  43.806686 -79.194353\n",
       "1      M1C  43.784535 -79.160497\n",
       "2      M1E  43.763573 -79.188711\n",
       "3      M1G  43.770992 -79.216917\n",
       "4      M1H  43.773136 -79.239476"
      ]
     },
     "execution_count": 19,
     "metadata": {},
     "output_type": "execute_result"
    }
   ],
   "source": [
    "loc_df.head()"
   ]
  },
  {
   "cell_type": "markdown",
   "metadata": {},
   "source": [
    " Merge above two datasets to get expected dataset"
   ]
  },
  {
   "cell_type": "code",
   "execution_count": 20,
   "metadata": {},
   "outputs": [
    {
     "data": {
      "text/html": [
       "<div>\n",
       "<style scoped>\n",
       "    .dataframe tbody tr th:only-of-type {\n",
       "        vertical-align: middle;\n",
       "    }\n",
       "\n",
       "    .dataframe tbody tr th {\n",
       "        vertical-align: top;\n",
       "    }\n",
       "\n",
       "    .dataframe thead th {\n",
       "        text-align: right;\n",
       "    }\n",
       "</style>\n",
       "<table border=\"1\" class=\"dataframe\">\n",
       "  <thead>\n",
       "    <tr style=\"text-align: right;\">\n",
       "      <th></th>\n",
       "      <th>Postcode</th>\n",
       "      <th>Borough</th>\n",
       "      <th>Neighbourhood</th>\n",
       "      <th>Latitude</th>\n",
       "      <th>Longitude</th>\n",
       "    </tr>\n",
       "  </thead>\n",
       "  <tbody>\n",
       "    <tr>\n",
       "      <th>0</th>\n",
       "      <td>M1B</td>\n",
       "      <td>Scarborough</td>\n",
       "      <td>Rouge, Malvern</td>\n",
       "      <td>43.806686</td>\n",
       "      <td>-79.194353</td>\n",
       "    </tr>\n",
       "    <tr>\n",
       "      <th>1</th>\n",
       "      <td>M1C</td>\n",
       "      <td>Scarborough</td>\n",
       "      <td>Highland Creek, Rouge Hill, Port Union</td>\n",
       "      <td>43.784535</td>\n",
       "      <td>-79.160497</td>\n",
       "    </tr>\n",
       "    <tr>\n",
       "      <th>2</th>\n",
       "      <td>M1E</td>\n",
       "      <td>Scarborough</td>\n",
       "      <td>Guildwood, Morningside, West Hill</td>\n",
       "      <td>43.763573</td>\n",
       "      <td>-79.188711</td>\n",
       "    </tr>\n",
       "    <tr>\n",
       "      <th>3</th>\n",
       "      <td>M1G</td>\n",
       "      <td>Scarborough</td>\n",
       "      <td>Woburn</td>\n",
       "      <td>43.770992</td>\n",
       "      <td>-79.216917</td>\n",
       "    </tr>\n",
       "    <tr>\n",
       "      <th>4</th>\n",
       "      <td>M1H</td>\n",
       "      <td>Scarborough</td>\n",
       "      <td>Cedarbrae</td>\n",
       "      <td>43.773136</td>\n",
       "      <td>-79.239476</td>\n",
       "    </tr>\n",
       "    <tr>\n",
       "      <th>5</th>\n",
       "      <td>M1J</td>\n",
       "      <td>Scarborough</td>\n",
       "      <td>Scarborough Village</td>\n",
       "      <td>43.744734</td>\n",
       "      <td>-79.239476</td>\n",
       "    </tr>\n",
       "    <tr>\n",
       "      <th>6</th>\n",
       "      <td>M1K</td>\n",
       "      <td>Scarborough</td>\n",
       "      <td>East Birchmount Park, Ionview, Kennedy Park</td>\n",
       "      <td>43.727929</td>\n",
       "      <td>-79.262029</td>\n",
       "    </tr>\n",
       "    <tr>\n",
       "      <th>7</th>\n",
       "      <td>M1L</td>\n",
       "      <td>Scarborough</td>\n",
       "      <td>Clairlea, Golden Mile, Oakridge</td>\n",
       "      <td>43.711112</td>\n",
       "      <td>-79.284577</td>\n",
       "    </tr>\n",
       "    <tr>\n",
       "      <th>8</th>\n",
       "      <td>M1M</td>\n",
       "      <td>Scarborough</td>\n",
       "      <td>Cliffcrest, Cliffside, Scarborough Village West</td>\n",
       "      <td>43.716316</td>\n",
       "      <td>-79.239476</td>\n",
       "    </tr>\n",
       "    <tr>\n",
       "      <th>9</th>\n",
       "      <td>M1N</td>\n",
       "      <td>Scarborough</td>\n",
       "      <td>Birch Cliff, Cliffside West</td>\n",
       "      <td>43.692657</td>\n",
       "      <td>-79.264848</td>\n",
       "    </tr>\n",
       "  </tbody>\n",
       "</table>\n",
       "</div>"
      ],
      "text/plain": [
       "  Postcode      Borough                                    Neighbourhood  \\\n",
       "0      M1B  Scarborough                                   Rouge, Malvern   \n",
       "1      M1C  Scarborough           Highland Creek, Rouge Hill, Port Union   \n",
       "2      M1E  Scarborough                Guildwood, Morningside, West Hill   \n",
       "3      M1G  Scarborough                                           Woburn   \n",
       "4      M1H  Scarborough                                        Cedarbrae   \n",
       "5      M1J  Scarborough                              Scarborough Village   \n",
       "6      M1K  Scarborough      East Birchmount Park, Ionview, Kennedy Park   \n",
       "7      M1L  Scarborough                  Clairlea, Golden Mile, Oakridge   \n",
       "8      M1M  Scarborough  Cliffcrest, Cliffside, Scarborough Village West   \n",
       "9      M1N  Scarborough                      Birch Cliff, Cliffside West   \n",
       "\n",
       "    Latitude  Longitude  \n",
       "0  43.806686 -79.194353  \n",
       "1  43.784535 -79.160497  \n",
       "2  43.763573 -79.188711  \n",
       "3  43.770992 -79.216917  \n",
       "4  43.773136 -79.239476  \n",
       "5  43.744734 -79.239476  \n",
       "6  43.727929 -79.262029  \n",
       "7  43.711112 -79.284577  \n",
       "8  43.716316 -79.239476  \n",
       "9  43.692657 -79.264848  "
      ]
     },
     "execution_count": 20,
     "metadata": {},
     "output_type": "execute_result"
    }
   ],
   "source": [
    "neigh_loc_df = pd.merge(new_df, loc_df, on='Postcode')\n",
    "neigh_loc_df.head(10)"
   ]
  },
  {
   "cell_type": "markdown",
   "metadata": {},
   "source": [
    "Check the dataset again to make sure the merging is done correctly as expected."
   ]
  },
  {
   "cell_type": "code",
   "execution_count": 21,
   "metadata": {},
   "outputs": [
    {
     "data": {
      "text/plain": [
       "(103, 5)"
      ]
     },
     "execution_count": 21,
     "metadata": {},
     "output_type": "execute_result"
    }
   ],
   "source": [
    "neigh_loc_df.shape"
   ]
  },
  {
   "cell_type": "markdown",
   "metadata": {},
   "source": [
    "### So, it seems everything went well."
   ]
  },
  {
   "cell_type": "markdown",
   "metadata": {},
   "source": [
    "<hr>  \n",
    "\n",
    "<a id=\"ref2\"></a>\n",
    "# Data Exploration  "
   ]
  },
  {
   "cell_type": "markdown",
   "metadata": {},
   "source": [
    "Look at how many Boroughs in the dataset"
   ]
  },
  {
   "cell_type": "code",
   "execution_count": 22,
   "metadata": {},
   "outputs": [
    {
     "name": "stdout",
     "output_type": "stream",
     "text": [
      "The dataframe has 11 boroughs and 103 neighborhoods.\n"
     ]
    }
   ],
   "source": [
    "print('The dataframe has {} boroughs and {} neighborhoods.'.format(\n",
    "        len(neigh_loc_df['Borough'].unique()),\n",
    "        neigh_loc_df.shape[0]\n",
    "    )\n",
    ")"
   ]
  },
  {
   "cell_type": "markdown",
   "metadata": {},
   "source": [
    "Check look at Borough column and filter those which has the word Toronto in Borough names. "
   ]
  },
  {
   "cell_type": "code",
   "execution_count": 23,
   "metadata": {},
   "outputs": [
    {
     "name": "stdout",
     "output_type": "stream",
     "text": [
      "['Scarborough' 'North York' 'East York' 'East Toronto' 'Central Toronto'\n",
      " 'Downtown Toronto' 'York' 'West Toronto' 'Mississauga' 'Etobicoke'\n",
      " \"Queen's Park\"]\n"
     ]
    }
   ],
   "source": [
    "unique_boroughs = neigh_loc_df['Borough'].unique()\n",
    "# unique Boroughs are\n",
    "print(unique_boroughs)"
   ]
  },
  {
   "cell_type": "code",
   "execution_count": 24,
   "metadata": {},
   "outputs": [
    {
     "name": "stdout",
     "output_type": "stream",
     "text": [
      "Boroughs with the word Toronto are : ['East Toronto', 'Central Toronto', 'Downtown Toronto', 'West Toronto']\n"
     ]
    }
   ],
   "source": [
    "b_Toronto = []\n",
    "for b in unique_boroughs:\n",
    "    if len(b.split(' '))>1:\n",
    "        if 'Toronto' in b.split(' '):\n",
    "            b_Toronto.append(b)\n",
    "        else:\n",
    "            pass\n",
    "    else:\n",
    "        pass\n",
    "print(f'Boroughs with the word Toronto are : {b_Toronto}')"
   ]
  },
  {
   "cell_type": "code",
   "execution_count": 25,
   "metadata": {},
   "outputs": [],
   "source": [
    "filter_Toronto = neigh_loc_df['Borough'].isin(b_Toronto)"
   ]
  },
  {
   "cell_type": "code",
   "execution_count": 26,
   "metadata": {},
   "outputs": [
    {
     "data": {
      "text/html": [
       "<div>\n",
       "<style scoped>\n",
       "    .dataframe tbody tr th:only-of-type {\n",
       "        vertical-align: middle;\n",
       "    }\n",
       "\n",
       "    .dataframe tbody tr th {\n",
       "        vertical-align: top;\n",
       "    }\n",
       "\n",
       "    .dataframe thead th {\n",
       "        text-align: right;\n",
       "    }\n",
       "</style>\n",
       "<table border=\"1\" class=\"dataframe\">\n",
       "  <thead>\n",
       "    <tr style=\"text-align: right;\">\n",
       "      <th></th>\n",
       "      <th>Postcode</th>\n",
       "      <th>Borough</th>\n",
       "      <th>Neighbourhood</th>\n",
       "      <th>Latitude</th>\n",
       "      <th>Longitude</th>\n",
       "    </tr>\n",
       "  </thead>\n",
       "  <tbody>\n",
       "    <tr>\n",
       "      <th>0</th>\n",
       "      <td>M4E</td>\n",
       "      <td>East Toronto</td>\n",
       "      <td>The Beaches</td>\n",
       "      <td>43.676357</td>\n",
       "      <td>-79.293031</td>\n",
       "    </tr>\n",
       "    <tr>\n",
       "      <th>1</th>\n",
       "      <td>M4K</td>\n",
       "      <td>East Toronto</td>\n",
       "      <td>The Danforth West, Riverdale</td>\n",
       "      <td>43.679557</td>\n",
       "      <td>-79.352188</td>\n",
       "    </tr>\n",
       "    <tr>\n",
       "      <th>2</th>\n",
       "      <td>M4L</td>\n",
       "      <td>East Toronto</td>\n",
       "      <td>The Beaches West, India Bazaar</td>\n",
       "      <td>43.668999</td>\n",
       "      <td>-79.315572</td>\n",
       "    </tr>\n",
       "    <tr>\n",
       "      <th>3</th>\n",
       "      <td>M4M</td>\n",
       "      <td>East Toronto</td>\n",
       "      <td>Studio District</td>\n",
       "      <td>43.659526</td>\n",
       "      <td>-79.340923</td>\n",
       "    </tr>\n",
       "    <tr>\n",
       "      <th>4</th>\n",
       "      <td>M4N</td>\n",
       "      <td>Central Toronto</td>\n",
       "      <td>Lawrence Park</td>\n",
       "      <td>43.728020</td>\n",
       "      <td>-79.388790</td>\n",
       "    </tr>\n",
       "  </tbody>\n",
       "</table>\n",
       "</div>"
      ],
      "text/plain": [
       "  Postcode          Borough                   Neighbourhood   Latitude  \\\n",
       "0      M4E     East Toronto                     The Beaches  43.676357   \n",
       "1      M4K     East Toronto    The Danforth West, Riverdale  43.679557   \n",
       "2      M4L     East Toronto  The Beaches West, India Bazaar  43.668999   \n",
       "3      M4M     East Toronto                 Studio District  43.659526   \n",
       "4      M4N  Central Toronto                   Lawrence Park  43.728020   \n",
       "\n",
       "   Longitude  \n",
       "0 -79.293031  \n",
       "1 -79.352188  \n",
       "2 -79.315572  \n",
       "3 -79.340923  \n",
       "4 -79.388790  "
      ]
     },
     "execution_count": 26,
     "metadata": {},
     "output_type": "execute_result"
    }
   ],
   "source": [
    "Toronto_df = neigh_loc_df[filter_Toronto].reset_index(drop=True)\n",
    "Toronto_df.head()"
   ]
  },
  {
   "cell_type": "code",
   "execution_count": 27,
   "metadata": {},
   "outputs": [
    {
     "data": {
      "text/plain": [
       "(39, 5)"
      ]
     },
     "execution_count": 27,
     "metadata": {},
     "output_type": "execute_result"
    }
   ],
   "source": [
    "Toronto_df.shape"
   ]
  },
  {
   "cell_type": "code",
   "execution_count": 28,
   "metadata": {},
   "outputs": [],
   "source": [
    "# Geolocation of Toronto\n",
    "Toronto_lat, Toronto_long = 43.651070, -79.347015"
   ]
  },
  {
   "cell_type": "markdown",
   "metadata": {},
   "source": [
    "Plot the map of Toronto with those marked Boroughs which have the name with the word Toronto"
   ]
  },
  {
   "cell_type": "code",
   "execution_count": 29,
   "metadata": {},
   "outputs": [
    {
     "data": {
      "text/html": [
       "<div style=\"width:100%;\"><div style=\"position:relative;width:100%;height:0;padding-bottom:60%;\"><iframe src=\"data:text/html;charset=utf-8;base64,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\" style=\"position:absolute;width:100%;height:100%;left:0;top:0;border:none !important;\" allowfullscreen webkitallowfullscreen mozallowfullscreen></iframe></div></div>"
      ],
      "text/plain": [
       "<folium.folium.Map at 0x1e380774a90>"
      ]
     },
     "execution_count": 29,
     "metadata": {},
     "output_type": "execute_result"
    }
   ],
   "source": [
    "# create map of toronto using latitude and longitude values\n",
    "map_Toronto = folium.Map(location=[Toronto_lat, Toronto_long], zoom_start=12)\n",
    "\n",
    "# add markers to map\n",
    "for lat, lng, borough, neighborhood in zip(Toronto_df['Latitude'], Toronto_df['Longitude'], Toronto_df['Borough'], Toronto_df['Neighbourhood']):\n",
    "    label = '{}, {}'.format(neighborhood, borough)\n",
    "    label = folium.Popup(label, parse_html=True)\n",
    "    folium.CircleMarker(\n",
    "        [lat, lng],\n",
    "        radius=5,\n",
    "        popup=label,\n",
    "        color='blue',\n",
    "        fill=True,\n",
    "        fill_color='#3186cc',\n",
    "        fill_opacity=0.7,\n",
    "        parse_html=False).add_to(map_Toronto)  \n",
    "    \n",
    "map_Toronto"
   ]
  },
  {
   "cell_type": "markdown",
   "metadata": {},
   "source": [
    "<hr>"
   ]
  },
  {
   "cell_type": "markdown",
   "metadata": {},
   "source": [
    "<a id=\"ref3\"></a>\n",
    "# Clastering  "
   ]
  },
  {
   "cell_type": "code",
   "execution_count": 30,
   "metadata": {},
   "outputs": [
    {
     "data": {
      "text/plain": [
       "39"
      ]
     },
     "execution_count": 30,
     "metadata": {},
     "output_type": "execute_result"
    }
   ],
   "source": [
    "# set number of clusters, since there are four Boroughs with the names including the word Toronto\n",
    "kclusters = 4\n",
    "# K-means clustering does not work well with categorical features, so drop them\n",
    "Toronto_clustering = Toronto_df.drop(['Postcode', 'Borough', 'Neighbourhood'], axis=1)\n",
    "# run k-means clustering\n",
    "kmeans = KMeans(n_clusters=kclusters, random_state=0).fit(Toronto_clustering)\n",
    "\n",
    "# check cluster labels generated for each row in the dataframe\n",
    "len(kmeans.labels_)#[0:10] "
   ]
  },
  {
   "cell_type": "markdown",
   "metadata": {},
   "source": [
    "Add claster labels"
   ]
  },
  {
   "cell_type": "code",
   "execution_count": 31,
   "metadata": {},
   "outputs": [
    {
     "data": {
      "text/html": [
       "<div>\n",
       "<style scoped>\n",
       "    .dataframe tbody tr th:only-of-type {\n",
       "        vertical-align: middle;\n",
       "    }\n",
       "\n",
       "    .dataframe tbody tr th {\n",
       "        vertical-align: top;\n",
       "    }\n",
       "\n",
       "    .dataframe thead th {\n",
       "        text-align: right;\n",
       "    }\n",
       "</style>\n",
       "<table border=\"1\" class=\"dataframe\">\n",
       "  <thead>\n",
       "    <tr style=\"text-align: right;\">\n",
       "      <th></th>\n",
       "      <th>Cluster Labels</th>\n",
       "      <th>Latitude</th>\n",
       "      <th>Longitude</th>\n",
       "    </tr>\n",
       "  </thead>\n",
       "  <tbody>\n",
       "    <tr>\n",
       "      <th>0</th>\n",
       "      <td>1</td>\n",
       "      <td>43.676357</td>\n",
       "      <td>-79.293031</td>\n",
       "    </tr>\n",
       "    <tr>\n",
       "      <th>1</th>\n",
       "      <td>1</td>\n",
       "      <td>43.679557</td>\n",
       "      <td>-79.352188</td>\n",
       "    </tr>\n",
       "    <tr>\n",
       "      <th>2</th>\n",
       "      <td>1</td>\n",
       "      <td>43.668999</td>\n",
       "      <td>-79.315572</td>\n",
       "    </tr>\n",
       "    <tr>\n",
       "      <th>3</th>\n",
       "      <td>1</td>\n",
       "      <td>43.659526</td>\n",
       "      <td>-79.340923</td>\n",
       "    </tr>\n",
       "    <tr>\n",
       "      <th>4</th>\n",
       "      <td>2</td>\n",
       "      <td>43.728020</td>\n",
       "      <td>-79.388790</td>\n",
       "    </tr>\n",
       "  </tbody>\n",
       "</table>\n",
       "</div>"
      ],
      "text/plain": [
       "   Cluster Labels   Latitude  Longitude\n",
       "0               1  43.676357 -79.293031\n",
       "1               1  43.679557 -79.352188\n",
       "2               1  43.668999 -79.315572\n",
       "3               1  43.659526 -79.340923\n",
       "4               2  43.728020 -79.388790"
      ]
     },
     "execution_count": 31,
     "metadata": {},
     "output_type": "execute_result"
    }
   ],
   "source": [
    "Toronto_clustering.insert(0, 'Cluster Labels', kmeans.labels_)\n",
    "Toronto_clustering.head()"
   ]
  },
  {
   "cell_type": "code",
   "execution_count": 32,
   "metadata": {},
   "outputs": [
    {
     "data": {
      "text/html": [
       "<div>\n",
       "<style scoped>\n",
       "    .dataframe tbody tr th:only-of-type {\n",
       "        vertical-align: middle;\n",
       "    }\n",
       "\n",
       "    .dataframe tbody tr th {\n",
       "        vertical-align: top;\n",
       "    }\n",
       "\n",
       "    .dataframe thead th {\n",
       "        text-align: right;\n",
       "    }\n",
       "</style>\n",
       "<table border=\"1\" class=\"dataframe\">\n",
       "  <thead>\n",
       "    <tr style=\"text-align: right;\">\n",
       "      <th></th>\n",
       "      <th>Postcode</th>\n",
       "      <th>Borough</th>\n",
       "      <th>Neighbourhood</th>\n",
       "      <th>Latitude</th>\n",
       "      <th>Longitude</th>\n",
       "      <th>Cluster Labels</th>\n",
       "    </tr>\n",
       "  </thead>\n",
       "  <tbody>\n",
       "    <tr>\n",
       "      <th>0</th>\n",
       "      <td>M4E</td>\n",
       "      <td>East Toronto</td>\n",
       "      <td>The Beaches</td>\n",
       "      <td>43.676357</td>\n",
       "      <td>-79.293031</td>\n",
       "      <td>1</td>\n",
       "    </tr>\n",
       "    <tr>\n",
       "      <th>1</th>\n",
       "      <td>M4K</td>\n",
       "      <td>East Toronto</td>\n",
       "      <td>The Danforth West, Riverdale</td>\n",
       "      <td>43.679557</td>\n",
       "      <td>-79.352188</td>\n",
       "      <td>1</td>\n",
       "    </tr>\n",
       "    <tr>\n",
       "      <th>2</th>\n",
       "      <td>M4L</td>\n",
       "      <td>East Toronto</td>\n",
       "      <td>The Beaches West, India Bazaar</td>\n",
       "      <td>43.668999</td>\n",
       "      <td>-79.315572</td>\n",
       "      <td>1</td>\n",
       "    </tr>\n",
       "    <tr>\n",
       "      <th>3</th>\n",
       "      <td>M4M</td>\n",
       "      <td>East Toronto</td>\n",
       "      <td>Studio District</td>\n",
       "      <td>43.659526</td>\n",
       "      <td>-79.340923</td>\n",
       "      <td>1</td>\n",
       "    </tr>\n",
       "    <tr>\n",
       "      <th>4</th>\n",
       "      <td>M4N</td>\n",
       "      <td>Central Toronto</td>\n",
       "      <td>Lawrence Park</td>\n",
       "      <td>43.728020</td>\n",
       "      <td>-79.388790</td>\n",
       "      <td>2</td>\n",
       "    </tr>\n",
       "    <tr>\n",
       "      <th>5</th>\n",
       "      <td>M4P</td>\n",
       "      <td>Central Toronto</td>\n",
       "      <td>Davisville North</td>\n",
       "      <td>43.712751</td>\n",
       "      <td>-79.390197</td>\n",
       "      <td>2</td>\n",
       "    </tr>\n",
       "    <tr>\n",
       "      <th>6</th>\n",
       "      <td>M4R</td>\n",
       "      <td>Central Toronto</td>\n",
       "      <td>North Toronto West</td>\n",
       "      <td>43.715383</td>\n",
       "      <td>-79.405678</td>\n",
       "      <td>2</td>\n",
       "    </tr>\n",
       "    <tr>\n",
       "      <th>7</th>\n",
       "      <td>M4S</td>\n",
       "      <td>Central Toronto</td>\n",
       "      <td>Davisville</td>\n",
       "      <td>43.704324</td>\n",
       "      <td>-79.388790</td>\n",
       "      <td>2</td>\n",
       "    </tr>\n",
       "    <tr>\n",
       "      <th>8</th>\n",
       "      <td>M4T</td>\n",
       "      <td>Central Toronto</td>\n",
       "      <td>Moore Park, Summerhill East</td>\n",
       "      <td>43.689574</td>\n",
       "      <td>-79.383160</td>\n",
       "      <td>2</td>\n",
       "    </tr>\n",
       "    <tr>\n",
       "      <th>9</th>\n",
       "      <td>M4V</td>\n",
       "      <td>Central Toronto</td>\n",
       "      <td>Deer Park, Forest Hill SE, Rathnelly, South Hi...</td>\n",
       "      <td>43.686412</td>\n",
       "      <td>-79.400049</td>\n",
       "      <td>2</td>\n",
       "    </tr>\n",
       "  </tbody>\n",
       "</table>\n",
       "</div>"
      ],
      "text/plain": [
       "  Postcode          Borough  \\\n",
       "0      M4E     East Toronto   \n",
       "1      M4K     East Toronto   \n",
       "2      M4L     East Toronto   \n",
       "3      M4M     East Toronto   \n",
       "4      M4N  Central Toronto   \n",
       "5      M4P  Central Toronto   \n",
       "6      M4R  Central Toronto   \n",
       "7      M4S  Central Toronto   \n",
       "8      M4T  Central Toronto   \n",
       "9      M4V  Central Toronto   \n",
       "\n",
       "                                       Neighbourhood   Latitude  Longitude  \\\n",
       "0                                        The Beaches  43.676357 -79.293031   \n",
       "1                       The Danforth West, Riverdale  43.679557 -79.352188   \n",
       "2                     The Beaches West, India Bazaar  43.668999 -79.315572   \n",
       "3                                    Studio District  43.659526 -79.340923   \n",
       "4                                      Lawrence Park  43.728020 -79.388790   \n",
       "5                                   Davisville North  43.712751 -79.390197   \n",
       "6                                 North Toronto West  43.715383 -79.405678   \n",
       "7                                         Davisville  43.704324 -79.388790   \n",
       "8                        Moore Park, Summerhill East  43.689574 -79.383160   \n",
       "9  Deer Park, Forest Hill SE, Rathnelly, South Hi...  43.686412 -79.400049   \n",
       "\n",
       "   Cluster Labels  \n",
       "0               1  \n",
       "1               1  \n",
       "2               1  \n",
       "3               1  \n",
       "4               2  \n",
       "5               2  \n",
       "6               2  \n",
       "7               2  \n",
       "8               2  \n",
       "9               2  "
      ]
     },
     "execution_count": 32,
     "metadata": {},
     "output_type": "execute_result"
    }
   ],
   "source": [
    "# Merge Toronto_claustering and Toronto_df  \n",
    "Toronto_clustered = pd.merge(Toronto_df, Toronto_clustering, left_on=[\"Latitude\", \"Longitude\"], right_on=[\"Latitude\", \"Longitude\"])\n",
    "Toronto_clustered.head(10)"
   ]
  },
  {
   "cell_type": "code",
   "execution_count": 33,
   "metadata": {},
   "outputs": [
    {
     "data": {
      "text/plain": [
       "(39, 6)"
      ]
     },
     "execution_count": 33,
     "metadata": {},
     "output_type": "execute_result"
    }
   ],
   "source": [
    "Toronto_clustered.shape"
   ]
  },
  {
   "cell_type": "code",
   "execution_count": null,
   "metadata": {},
   "outputs": [],
   "source": []
  },
  {
   "cell_type": "markdown",
   "metadata": {},
   "source": [
    "### Look at each cluster and classified Boroughs to them by the model"
   ]
  },
  {
   "cell_type": "code",
   "execution_count": 34,
   "metadata": {},
   "outputs": [
    {
     "data": {
      "text/html": [
       "<div>\n",
       "<style scoped>\n",
       "    .dataframe tbody tr th:only-of-type {\n",
       "        vertical-align: middle;\n",
       "    }\n",
       "\n",
       "    .dataframe tbody tr th {\n",
       "        vertical-align: top;\n",
       "    }\n",
       "\n",
       "    .dataframe thead th {\n",
       "        text-align: right;\n",
       "    }\n",
       "</style>\n",
       "<table border=\"1\" class=\"dataframe\">\n",
       "  <thead>\n",
       "    <tr style=\"text-align: right;\">\n",
       "      <th></th>\n",
       "      <th>Postcode</th>\n",
       "      <th>Borough</th>\n",
       "      <th>Neighbourhood</th>\n",
       "      <th>Latitude</th>\n",
       "      <th>Longitude</th>\n",
       "      <th>Cluster Labels</th>\n",
       "    </tr>\n",
       "  </thead>\n",
       "  <tbody>\n",
       "    <tr>\n",
       "      <th>30</th>\n",
       "      <td>M6G</td>\n",
       "      <td>Downtown Toronto</td>\n",
       "      <td>Christie</td>\n",
       "      <td>43.669542</td>\n",
       "      <td>-79.422564</td>\n",
       "      <td>0</td>\n",
       "    </tr>\n",
       "    <tr>\n",
       "      <th>31</th>\n",
       "      <td>M6H</td>\n",
       "      <td>West Toronto</td>\n",
       "      <td>Dovercourt Village, Dufferin</td>\n",
       "      <td>43.669005</td>\n",
       "      <td>-79.442259</td>\n",
       "      <td>0</td>\n",
       "    </tr>\n",
       "    <tr>\n",
       "      <th>32</th>\n",
       "      <td>M6J</td>\n",
       "      <td>West Toronto</td>\n",
       "      <td>Little Portugal, Trinity</td>\n",
       "      <td>43.647927</td>\n",
       "      <td>-79.419750</td>\n",
       "      <td>0</td>\n",
       "    </tr>\n",
       "    <tr>\n",
       "      <th>33</th>\n",
       "      <td>M6K</td>\n",
       "      <td>West Toronto</td>\n",
       "      <td>Brockton, Exhibition Place, Parkdale Village</td>\n",
       "      <td>43.636847</td>\n",
       "      <td>-79.428191</td>\n",
       "      <td>0</td>\n",
       "    </tr>\n",
       "    <tr>\n",
       "      <th>34</th>\n",
       "      <td>M6P</td>\n",
       "      <td>West Toronto</td>\n",
       "      <td>High Park, The Junction South</td>\n",
       "      <td>43.661608</td>\n",
       "      <td>-79.464763</td>\n",
       "      <td>0</td>\n",
       "    </tr>\n",
       "    <tr>\n",
       "      <th>35</th>\n",
       "      <td>M6R</td>\n",
       "      <td>West Toronto</td>\n",
       "      <td>Parkdale, Roncesvalles</td>\n",
       "      <td>43.648960</td>\n",
       "      <td>-79.456325</td>\n",
       "      <td>0</td>\n",
       "    </tr>\n",
       "    <tr>\n",
       "      <th>36</th>\n",
       "      <td>M6S</td>\n",
       "      <td>West Toronto</td>\n",
       "      <td>Runnymede, Swansea</td>\n",
       "      <td>43.651571</td>\n",
       "      <td>-79.484450</td>\n",
       "      <td>0</td>\n",
       "    </tr>\n",
       "  </tbody>\n",
       "</table>\n",
       "</div>"
      ],
      "text/plain": [
       "   Postcode           Borough                                 Neighbourhood  \\\n",
       "30      M6G  Downtown Toronto                                      Christie   \n",
       "31      M6H      West Toronto                  Dovercourt Village, Dufferin   \n",
       "32      M6J      West Toronto                      Little Portugal, Trinity   \n",
       "33      M6K      West Toronto  Brockton, Exhibition Place, Parkdale Village   \n",
       "34      M6P      West Toronto                 High Park, The Junction South   \n",
       "35      M6R      West Toronto                        Parkdale, Roncesvalles   \n",
       "36      M6S      West Toronto                            Runnymede, Swansea   \n",
       "\n",
       "     Latitude  Longitude  Cluster Labels  \n",
       "30  43.669542 -79.422564               0  \n",
       "31  43.669005 -79.442259               0  \n",
       "32  43.647927 -79.419750               0  \n",
       "33  43.636847 -79.428191               0  \n",
       "34  43.661608 -79.464763               0  \n",
       "35  43.648960 -79.456325               0  \n",
       "36  43.651571 -79.484450               0  "
      ]
     },
     "execution_count": 34,
     "metadata": {},
     "output_type": "execute_result"
    }
   ],
   "source": [
    "# cluster label: 0\n",
    "Toronto_clustered[Toronto_clustered['Cluster Labels']==0]"
   ]
  },
  {
   "cell_type": "code",
   "execution_count": 35,
   "metadata": {},
   "outputs": [
    {
     "data": {
      "text/html": [
       "<div>\n",
       "<style scoped>\n",
       "    .dataframe tbody tr th:only-of-type {\n",
       "        vertical-align: middle;\n",
       "    }\n",
       "\n",
       "    .dataframe tbody tr th {\n",
       "        vertical-align: top;\n",
       "    }\n",
       "\n",
       "    .dataframe thead th {\n",
       "        text-align: right;\n",
       "    }\n",
       "</style>\n",
       "<table border=\"1\" class=\"dataframe\">\n",
       "  <thead>\n",
       "    <tr style=\"text-align: right;\">\n",
       "      <th></th>\n",
       "      <th>Postcode</th>\n",
       "      <th>Borough</th>\n",
       "      <th>Neighbourhood</th>\n",
       "      <th>Latitude</th>\n",
       "      <th>Longitude</th>\n",
       "      <th>Cluster Labels</th>\n",
       "    </tr>\n",
       "  </thead>\n",
       "  <tbody>\n",
       "    <tr>\n",
       "      <th>0</th>\n",
       "      <td>M4E</td>\n",
       "      <td>East Toronto</td>\n",
       "      <td>The Beaches</td>\n",
       "      <td>43.676357</td>\n",
       "      <td>-79.293031</td>\n",
       "      <td>1</td>\n",
       "    </tr>\n",
       "    <tr>\n",
       "      <th>1</th>\n",
       "      <td>M4K</td>\n",
       "      <td>East Toronto</td>\n",
       "      <td>The Danforth West, Riverdale</td>\n",
       "      <td>43.679557</td>\n",
       "      <td>-79.352188</td>\n",
       "      <td>1</td>\n",
       "    </tr>\n",
       "    <tr>\n",
       "      <th>2</th>\n",
       "      <td>M4L</td>\n",
       "      <td>East Toronto</td>\n",
       "      <td>The Beaches West, India Bazaar</td>\n",
       "      <td>43.668999</td>\n",
       "      <td>-79.315572</td>\n",
       "      <td>1</td>\n",
       "    </tr>\n",
       "    <tr>\n",
       "      <th>3</th>\n",
       "      <td>M4M</td>\n",
       "      <td>East Toronto</td>\n",
       "      <td>Studio District</td>\n",
       "      <td>43.659526</td>\n",
       "      <td>-79.340923</td>\n",
       "      <td>1</td>\n",
       "    </tr>\n",
       "    <tr>\n",
       "      <th>38</th>\n",
       "      <td>M7Y</td>\n",
       "      <td>East Toronto</td>\n",
       "      <td>Business Reply Mail Processing Centre 969 Eastern</td>\n",
       "      <td>43.662744</td>\n",
       "      <td>-79.321558</td>\n",
       "      <td>1</td>\n",
       "    </tr>\n",
       "  </tbody>\n",
       "</table>\n",
       "</div>"
      ],
      "text/plain": [
       "   Postcode       Borough                                      Neighbourhood  \\\n",
       "0       M4E  East Toronto                                        The Beaches   \n",
       "1       M4K  East Toronto                       The Danforth West, Riverdale   \n",
       "2       M4L  East Toronto                     The Beaches West, India Bazaar   \n",
       "3       M4M  East Toronto                                    Studio District   \n",
       "38      M7Y  East Toronto  Business Reply Mail Processing Centre 969 Eastern   \n",
       "\n",
       "     Latitude  Longitude  Cluster Labels  \n",
       "0   43.676357 -79.293031               1  \n",
       "1   43.679557 -79.352188               1  \n",
       "2   43.668999 -79.315572               1  \n",
       "3   43.659526 -79.340923               1  \n",
       "38  43.662744 -79.321558               1  "
      ]
     },
     "execution_count": 35,
     "metadata": {},
     "output_type": "execute_result"
    }
   ],
   "source": [
    "# cluster label: 1\n",
    "Toronto_clustered[Toronto_clustered['Cluster Labels']==1]"
   ]
  },
  {
   "cell_type": "code",
   "execution_count": 36,
   "metadata": {},
   "outputs": [
    {
     "data": {
      "text/html": [
       "<div>\n",
       "<style scoped>\n",
       "    .dataframe tbody tr th:only-of-type {\n",
       "        vertical-align: middle;\n",
       "    }\n",
       "\n",
       "    .dataframe tbody tr th {\n",
       "        vertical-align: top;\n",
       "    }\n",
       "\n",
       "    .dataframe thead th {\n",
       "        text-align: right;\n",
       "    }\n",
       "</style>\n",
       "<table border=\"1\" class=\"dataframe\">\n",
       "  <thead>\n",
       "    <tr style=\"text-align: right;\">\n",
       "      <th></th>\n",
       "      <th>Postcode</th>\n",
       "      <th>Borough</th>\n",
       "      <th>Neighbourhood</th>\n",
       "      <th>Latitude</th>\n",
       "      <th>Longitude</th>\n",
       "      <th>Cluster Labels</th>\n",
       "    </tr>\n",
       "  </thead>\n",
       "  <tbody>\n",
       "    <tr>\n",
       "      <th>4</th>\n",
       "      <td>M4N</td>\n",
       "      <td>Central Toronto</td>\n",
       "      <td>Lawrence Park</td>\n",
       "      <td>43.728020</td>\n",
       "      <td>-79.388790</td>\n",
       "      <td>2</td>\n",
       "    </tr>\n",
       "    <tr>\n",
       "      <th>5</th>\n",
       "      <td>M4P</td>\n",
       "      <td>Central Toronto</td>\n",
       "      <td>Davisville North</td>\n",
       "      <td>43.712751</td>\n",
       "      <td>-79.390197</td>\n",
       "      <td>2</td>\n",
       "    </tr>\n",
       "    <tr>\n",
       "      <th>6</th>\n",
       "      <td>M4R</td>\n",
       "      <td>Central Toronto</td>\n",
       "      <td>North Toronto West</td>\n",
       "      <td>43.715383</td>\n",
       "      <td>-79.405678</td>\n",
       "      <td>2</td>\n",
       "    </tr>\n",
       "    <tr>\n",
       "      <th>7</th>\n",
       "      <td>M4S</td>\n",
       "      <td>Central Toronto</td>\n",
       "      <td>Davisville</td>\n",
       "      <td>43.704324</td>\n",
       "      <td>-79.388790</td>\n",
       "      <td>2</td>\n",
       "    </tr>\n",
       "    <tr>\n",
       "      <th>8</th>\n",
       "      <td>M4T</td>\n",
       "      <td>Central Toronto</td>\n",
       "      <td>Moore Park, Summerhill East</td>\n",
       "      <td>43.689574</td>\n",
       "      <td>-79.383160</td>\n",
       "      <td>2</td>\n",
       "    </tr>\n",
       "    <tr>\n",
       "      <th>9</th>\n",
       "      <td>M4V</td>\n",
       "      <td>Central Toronto</td>\n",
       "      <td>Deer Park, Forest Hill SE, Rathnelly, South Hi...</td>\n",
       "      <td>43.686412</td>\n",
       "      <td>-79.400049</td>\n",
       "      <td>2</td>\n",
       "    </tr>\n",
       "    <tr>\n",
       "      <th>22</th>\n",
       "      <td>M5N</td>\n",
       "      <td>Central Toronto</td>\n",
       "      <td>Roselawn</td>\n",
       "      <td>43.711695</td>\n",
       "      <td>-79.416936</td>\n",
       "      <td>2</td>\n",
       "    </tr>\n",
       "    <tr>\n",
       "      <th>23</th>\n",
       "      <td>M5P</td>\n",
       "      <td>Central Toronto</td>\n",
       "      <td>Forest Hill North, Forest Hill West</td>\n",
       "      <td>43.696948</td>\n",
       "      <td>-79.411307</td>\n",
       "      <td>2</td>\n",
       "    </tr>\n",
       "  </tbody>\n",
       "</table>\n",
       "</div>"
      ],
      "text/plain": [
       "   Postcode          Borough  \\\n",
       "4       M4N  Central Toronto   \n",
       "5       M4P  Central Toronto   \n",
       "6       M4R  Central Toronto   \n",
       "7       M4S  Central Toronto   \n",
       "8       M4T  Central Toronto   \n",
       "9       M4V  Central Toronto   \n",
       "22      M5N  Central Toronto   \n",
       "23      M5P  Central Toronto   \n",
       "\n",
       "                                        Neighbourhood   Latitude  Longitude  \\\n",
       "4                                       Lawrence Park  43.728020 -79.388790   \n",
       "5                                    Davisville North  43.712751 -79.390197   \n",
       "6                                  North Toronto West  43.715383 -79.405678   \n",
       "7                                          Davisville  43.704324 -79.388790   \n",
       "8                         Moore Park, Summerhill East  43.689574 -79.383160   \n",
       "9   Deer Park, Forest Hill SE, Rathnelly, South Hi...  43.686412 -79.400049   \n",
       "22                                           Roselawn  43.711695 -79.416936   \n",
       "23                Forest Hill North, Forest Hill West  43.696948 -79.411307   \n",
       "\n",
       "    Cluster Labels  \n",
       "4                2  \n",
       "5                2  \n",
       "6                2  \n",
       "7                2  \n",
       "8                2  \n",
       "9                2  \n",
       "22               2  \n",
       "23               2  "
      ]
     },
     "execution_count": 36,
     "metadata": {},
     "output_type": "execute_result"
    }
   ],
   "source": [
    "# cluster label: 2\n",
    "Toronto_clustered[Toronto_clustered['Cluster Labels']==2]"
   ]
  },
  {
   "cell_type": "code",
   "execution_count": 37,
   "metadata": {},
   "outputs": [
    {
     "data": {
      "text/html": [
       "<div>\n",
       "<style scoped>\n",
       "    .dataframe tbody tr th:only-of-type {\n",
       "        vertical-align: middle;\n",
       "    }\n",
       "\n",
       "    .dataframe tbody tr th {\n",
       "        vertical-align: top;\n",
       "    }\n",
       "\n",
       "    .dataframe thead th {\n",
       "        text-align: right;\n",
       "    }\n",
       "</style>\n",
       "<table border=\"1\" class=\"dataframe\">\n",
       "  <thead>\n",
       "    <tr style=\"text-align: right;\">\n",
       "      <th></th>\n",
       "      <th>Postcode</th>\n",
       "      <th>Borough</th>\n",
       "      <th>Neighbourhood</th>\n",
       "      <th>Latitude</th>\n",
       "      <th>Longitude</th>\n",
       "      <th>Cluster Labels</th>\n",
       "    </tr>\n",
       "  </thead>\n",
       "  <tbody>\n",
       "    <tr>\n",
       "      <th>10</th>\n",
       "      <td>M4W</td>\n",
       "      <td>Downtown Toronto</td>\n",
       "      <td>Rosedale</td>\n",
       "      <td>43.679563</td>\n",
       "      <td>-79.377529</td>\n",
       "      <td>3</td>\n",
       "    </tr>\n",
       "    <tr>\n",
       "      <th>11</th>\n",
       "      <td>M4X</td>\n",
       "      <td>Downtown Toronto</td>\n",
       "      <td>Cabbagetown, St. James Town</td>\n",
       "      <td>43.667967</td>\n",
       "      <td>-79.367675</td>\n",
       "      <td>3</td>\n",
       "    </tr>\n",
       "    <tr>\n",
       "      <th>12</th>\n",
       "      <td>M4Y</td>\n",
       "      <td>Downtown Toronto</td>\n",
       "      <td>Church and Wellesley</td>\n",
       "      <td>43.665860</td>\n",
       "      <td>-79.383160</td>\n",
       "      <td>3</td>\n",
       "    </tr>\n",
       "    <tr>\n",
       "      <th>13</th>\n",
       "      <td>M5A</td>\n",
       "      <td>Downtown Toronto</td>\n",
       "      <td>Harbourfront</td>\n",
       "      <td>43.654260</td>\n",
       "      <td>-79.360636</td>\n",
       "      <td>3</td>\n",
       "    </tr>\n",
       "    <tr>\n",
       "      <th>14</th>\n",
       "      <td>M5B</td>\n",
       "      <td>Downtown Toronto</td>\n",
       "      <td>Ryerson, Garden District</td>\n",
       "      <td>43.657162</td>\n",
       "      <td>-79.378937</td>\n",
       "      <td>3</td>\n",
       "    </tr>\n",
       "    <tr>\n",
       "      <th>15</th>\n",
       "      <td>M5C</td>\n",
       "      <td>Downtown Toronto</td>\n",
       "      <td>St. James Town</td>\n",
       "      <td>43.651494</td>\n",
       "      <td>-79.375418</td>\n",
       "      <td>3</td>\n",
       "    </tr>\n",
       "    <tr>\n",
       "      <th>16</th>\n",
       "      <td>M5E</td>\n",
       "      <td>Downtown Toronto</td>\n",
       "      <td>Berczy Park</td>\n",
       "      <td>43.644771</td>\n",
       "      <td>-79.373306</td>\n",
       "      <td>3</td>\n",
       "    </tr>\n",
       "    <tr>\n",
       "      <th>17</th>\n",
       "      <td>M5G</td>\n",
       "      <td>Downtown Toronto</td>\n",
       "      <td>Central Bay Street</td>\n",
       "      <td>43.657952</td>\n",
       "      <td>-79.387383</td>\n",
       "      <td>3</td>\n",
       "    </tr>\n",
       "    <tr>\n",
       "      <th>18</th>\n",
       "      <td>M5H</td>\n",
       "      <td>Downtown Toronto</td>\n",
       "      <td>Adelaide, King, Richmond</td>\n",
       "      <td>43.650571</td>\n",
       "      <td>-79.384568</td>\n",
       "      <td>3</td>\n",
       "    </tr>\n",
       "    <tr>\n",
       "      <th>19</th>\n",
       "      <td>M5J</td>\n",
       "      <td>Downtown Toronto</td>\n",
       "      <td>Harbourfront East, Toronto Islands, Union Station</td>\n",
       "      <td>43.640816</td>\n",
       "      <td>-79.381752</td>\n",
       "      <td>3</td>\n",
       "    </tr>\n",
       "    <tr>\n",
       "      <th>20</th>\n",
       "      <td>M5K</td>\n",
       "      <td>Downtown Toronto</td>\n",
       "      <td>Design Exchange, Toronto Dominion Centre</td>\n",
       "      <td>43.647177</td>\n",
       "      <td>-79.381576</td>\n",
       "      <td>3</td>\n",
       "    </tr>\n",
       "    <tr>\n",
       "      <th>21</th>\n",
       "      <td>M5L</td>\n",
       "      <td>Downtown Toronto</td>\n",
       "      <td>Commerce Court, Victoria Hotel</td>\n",
       "      <td>43.648198</td>\n",
       "      <td>-79.379817</td>\n",
       "      <td>3</td>\n",
       "    </tr>\n",
       "    <tr>\n",
       "      <th>24</th>\n",
       "      <td>M5R</td>\n",
       "      <td>Central Toronto</td>\n",
       "      <td>The Annex, North Midtown, Yorkville</td>\n",
       "      <td>43.672710</td>\n",
       "      <td>-79.405678</td>\n",
       "      <td>3</td>\n",
       "    </tr>\n",
       "    <tr>\n",
       "      <th>25</th>\n",
       "      <td>M5S</td>\n",
       "      <td>Downtown Toronto</td>\n",
       "      <td>Harbord, University of Toronto</td>\n",
       "      <td>43.662696</td>\n",
       "      <td>-79.400049</td>\n",
       "      <td>3</td>\n",
       "    </tr>\n",
       "    <tr>\n",
       "      <th>26</th>\n",
       "      <td>M5T</td>\n",
       "      <td>Downtown Toronto</td>\n",
       "      <td>Chinatown, Grange Park, Kensington Market</td>\n",
       "      <td>43.653206</td>\n",
       "      <td>-79.400049</td>\n",
       "      <td>3</td>\n",
       "    </tr>\n",
       "    <tr>\n",
       "      <th>27</th>\n",
       "      <td>M5V</td>\n",
       "      <td>Downtown Toronto</td>\n",
       "      <td>CN Tower, Bathurst Quay, Island airport, Harbo...</td>\n",
       "      <td>43.628947</td>\n",
       "      <td>-79.394420</td>\n",
       "      <td>3</td>\n",
       "    </tr>\n",
       "    <tr>\n",
       "      <th>28</th>\n",
       "      <td>M5W</td>\n",
       "      <td>Downtown Toronto</td>\n",
       "      <td>Stn A PO Boxes 25 The Esplanade</td>\n",
       "      <td>43.646435</td>\n",
       "      <td>-79.374846</td>\n",
       "      <td>3</td>\n",
       "    </tr>\n",
       "    <tr>\n",
       "      <th>29</th>\n",
       "      <td>M5X</td>\n",
       "      <td>Downtown Toronto</td>\n",
       "      <td>First Canadian Place, Underground city</td>\n",
       "      <td>43.648429</td>\n",
       "      <td>-79.382280</td>\n",
       "      <td>3</td>\n",
       "    </tr>\n",
       "    <tr>\n",
       "      <th>37</th>\n",
       "      <td>M7A</td>\n",
       "      <td>Downtown Toronto</td>\n",
       "      <td>Queen's Park</td>\n",
       "      <td>43.662301</td>\n",
       "      <td>-79.389494</td>\n",
       "      <td>3</td>\n",
       "    </tr>\n",
       "  </tbody>\n",
       "</table>\n",
       "</div>"
      ],
      "text/plain": [
       "   Postcode           Borough  \\\n",
       "10      M4W  Downtown Toronto   \n",
       "11      M4X  Downtown Toronto   \n",
       "12      M4Y  Downtown Toronto   \n",
       "13      M5A  Downtown Toronto   \n",
       "14      M5B  Downtown Toronto   \n",
       "15      M5C  Downtown Toronto   \n",
       "16      M5E  Downtown Toronto   \n",
       "17      M5G  Downtown Toronto   \n",
       "18      M5H  Downtown Toronto   \n",
       "19      M5J  Downtown Toronto   \n",
       "20      M5K  Downtown Toronto   \n",
       "21      M5L  Downtown Toronto   \n",
       "24      M5R   Central Toronto   \n",
       "25      M5S  Downtown Toronto   \n",
       "26      M5T  Downtown Toronto   \n",
       "27      M5V  Downtown Toronto   \n",
       "28      M5W  Downtown Toronto   \n",
       "29      M5X  Downtown Toronto   \n",
       "37      M7A  Downtown Toronto   \n",
       "\n",
       "                                        Neighbourhood   Latitude  Longitude  \\\n",
       "10                                           Rosedale  43.679563 -79.377529   \n",
       "11                        Cabbagetown, St. James Town  43.667967 -79.367675   \n",
       "12                               Church and Wellesley  43.665860 -79.383160   \n",
       "13                                       Harbourfront  43.654260 -79.360636   \n",
       "14                           Ryerson, Garden District  43.657162 -79.378937   \n",
       "15                                     St. James Town  43.651494 -79.375418   \n",
       "16                                        Berczy Park  43.644771 -79.373306   \n",
       "17                                 Central Bay Street  43.657952 -79.387383   \n",
       "18                           Adelaide, King, Richmond  43.650571 -79.384568   \n",
       "19  Harbourfront East, Toronto Islands, Union Station  43.640816 -79.381752   \n",
       "20           Design Exchange, Toronto Dominion Centre  43.647177 -79.381576   \n",
       "21                     Commerce Court, Victoria Hotel  43.648198 -79.379817   \n",
       "24                The Annex, North Midtown, Yorkville  43.672710 -79.405678   \n",
       "25                     Harbord, University of Toronto  43.662696 -79.400049   \n",
       "26          Chinatown, Grange Park, Kensington Market  43.653206 -79.400049   \n",
       "27  CN Tower, Bathurst Quay, Island airport, Harbo...  43.628947 -79.394420   \n",
       "28                    Stn A PO Boxes 25 The Esplanade  43.646435 -79.374846   \n",
       "29             First Canadian Place, Underground city  43.648429 -79.382280   \n",
       "37                                       Queen's Park  43.662301 -79.389494   \n",
       "\n",
       "    Cluster Labels  \n",
       "10               3  \n",
       "11               3  \n",
       "12               3  \n",
       "13               3  \n",
       "14               3  \n",
       "15               3  \n",
       "16               3  \n",
       "17               3  \n",
       "18               3  \n",
       "19               3  \n",
       "20               3  \n",
       "21               3  \n",
       "24               3  \n",
       "25               3  \n",
       "26               3  \n",
       "27               3  \n",
       "28               3  \n",
       "29               3  \n",
       "37               3  "
      ]
     },
     "execution_count": 37,
     "metadata": {},
     "output_type": "execute_result"
    }
   ],
   "source": [
    "# cluster label: 3\n",
    "Toronto_clustered[Toronto_clustered['Cluster Labels']==3]"
   ]
  },
  {
   "cell_type": "markdown",
   "metadata": {},
   "source": [
    "### Plot the clastering result on the map of Toronto"
   ]
  },
  {
   "cell_type": "code",
   "execution_count": 38,
   "metadata": {},
   "outputs": [
    {
     "data": {
      "text/html": [
       "<div style=\"width:100%;\"><div style=\"position:relative;width:100%;height:0;padding-bottom:60%;\"><iframe src=\"data:text/html;charset=utf-8;base64,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\" style=\"position:absolute;width:100%;height:100%;left:0;top:0;border:none !important;\" allowfullscreen webkitallowfullscreen mozallowfullscreen></iframe></div></div>"
      ],
      "text/plain": [
       "<folium.folium.Map at 0x1e380a37400>"
      ]
     },
     "execution_count": 38,
     "metadata": {},
     "output_type": "execute_result"
    }
   ],
   "source": [
    "# create map of Toronto using latitude and longitude values\n",
    "map_Toronto_cluster = folium.Map(location=[Toronto_lat, Toronto_long], zoom_start=12)\n",
    "\n",
    "# set color scheme for the clusters\n",
    "x = np.arange(kclusters)\n",
    "ys = [i + x + (i*x)**2 for i in range(kclusters)]\n",
    "colors_array = cm.gist_rainbow(np.linspace(0, 1, len(ys)))\n",
    "gist_rainbow = [colors.rgb2hex(i) for i in colors_array]\n",
    "\n",
    "# add markers to the map\n",
    "markers_colors = []\n",
    "for lat, lon, poi, cluster in zip(Toronto_clustered['Latitude'], Toronto_clustered['Longitude'], Toronto_clustered['Neighbourhood'], Toronto_clustered['Cluster Labels']):\n",
    "    label = folium.Popup(str(poi) + ' Cluster ' + str(cluster), parse_html=True)\n",
    "    folium.CircleMarker(\n",
    "        [lat, lon],\n",
    "        radius=5,\n",
    "        popup=label,\n",
    "        color=gist_rainbow[cluster-1],\n",
    "        fill=True,\n",
    "        fill_color=gist_rainbow[cluster-1],\n",
    "        fill_opacity=1.0).add_to(map_Toronto_cluster)\n",
    "    \n",
    "# \n",
    "legend_html =   '''\n",
    "                <div style=\"position: fixed; \n",
    "                            bottom: 100px; right: 50px; width: 300px; height: 150px; \n",
    "                            border:2px solid grey; z-index:9999; font-size:14px;\n",
    "                            \">&nbsp; Boroughs <br>\n",
    "                              <br>\n",
    "                              &nbsp; Cluster 0 : West Toronto (6/7)&nbsp; <i class=\"fa fa-circle fa-1x\" style=\"color:#ff00bf\"></i><br>\n",
    "                              &nbsp; Cluster 1 : East Toronto (5/5) &nbsp; <i class=\"fa fa-circle fa-1x\" style=\"color:#ff0029\"></i><br>\n",
    "                              &nbsp; Cluster 2 : Central Toronto (8/8) &nbsp; <i class=\"fa fa-circle fa-1x\" style=\"color:#5cff00\"></i><br>\n",
    "                              &nbsp; Cluster 3 : Downtown Toronto (18/19) &nbsp; <i class=\"fa fa-circle fa-1x\" style=\"color:#008fff\"></i>\n",
    "                              \n",
    "                              \n",
    "                </div>\n",
    "                ''' \n",
    "map_Toronto_cluster.get_root().html.add_child(folium.Element(legend_html))\n",
    "       \n",
    "map_Toronto_cluster\n"
   ]
  },
  {
   "cell_type": "markdown",
   "metadata": {},
   "source": [
    "<hr>"
   ]
  },
  {
   "cell_type": "markdown",
   "metadata": {},
   "source": [
    "The model gave almost perfect result. "
   ]
  },
  {
   "cell_type": "markdown",
   "metadata": {},
   "source": [
    "<hr>"
   ]
  }
 ],
 "metadata": {
  "kernelspec": {
   "display_name": "Python 3",
   "language": "python",
   "name": "python3"
  },
  "language_info": {
   "codemirror_mode": {
    "name": "ipython",
    "version": 3
   },
   "file_extension": ".py",
   "mimetype": "text/x-python",
   "name": "python",
   "nbconvert_exporter": "python",
   "pygments_lexer": "ipython3",
   "version": "3.6.10"
  }
 },
 "nbformat": 4,
 "nbformat_minor": 4
}
